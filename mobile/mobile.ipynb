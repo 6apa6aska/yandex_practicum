{
 "cells": [
  {
   "cell_type": "markdown",
   "metadata": {},
   "source": [
    "<h1>Изменение шрифта в мобильном приложении</h1>"
   ]
  },
  {
   "cell_type": "markdown",
   "metadata": {},
   "source": [
    "Изучить воронку продаж. Провести А/А/Б-тест (246, 247, 248 группы соответственно). Эксперимент - пользователям поменяли шрифт в мобильном приложении. "
   ]
  },
  {
   "cell_type": "markdown",
   "metadata": {},
   "source": [
    "### Открытие и изучение данных"
   ]
  },
  {
   "cell_type": "code",
   "execution_count": 33,
   "metadata": {},
   "outputs": [],
   "source": [
    "import pandas as pd\n",
    "import datetime\n",
    "import matplotlib.pyplot as plt\n",
    "from scipy import stats as st\n",
    "import numpy as np\n",
    "import math as mth\n",
    "from plotly import graph_objects as go"
   ]
  },
  {
   "cell_type": "code",
   "execution_count": 34,
   "metadata": {},
   "outputs": [
    {
     "data": {
      "text/html": [
       "<div>\n",
       "<style scoped>\n",
       "    .dataframe tbody tr th:only-of-type {\n",
       "        vertical-align: middle;\n",
       "    }\n",
       "\n",
       "    .dataframe tbody tr th {\n",
       "        vertical-align: top;\n",
       "    }\n",
       "\n",
       "    .dataframe thead th {\n",
       "        text-align: right;\n",
       "    }\n",
       "</style>\n",
       "<table border=\"1\" class=\"dataframe\">\n",
       "  <thead>\n",
       "    <tr style=\"text-align: right;\">\n",
       "      <th></th>\n",
       "      <th>EventName</th>\n",
       "      <th>DeviceIDHash</th>\n",
       "      <th>EventTimestamp</th>\n",
       "      <th>ExpId</th>\n",
       "    </tr>\n",
       "  </thead>\n",
       "  <tbody>\n",
       "    <tr>\n",
       "      <td>0</td>\n",
       "      <td>MainScreenAppear</td>\n",
       "      <td>4575588528974610257</td>\n",
       "      <td>1564029816</td>\n",
       "      <td>246</td>\n",
       "    </tr>\n",
       "    <tr>\n",
       "      <td>1</td>\n",
       "      <td>MainScreenAppear</td>\n",
       "      <td>7416695313311560658</td>\n",
       "      <td>1564053102</td>\n",
       "      <td>246</td>\n",
       "    </tr>\n",
       "    <tr>\n",
       "      <td>2</td>\n",
       "      <td>PaymentScreenSuccessful</td>\n",
       "      <td>3518123091307005509</td>\n",
       "      <td>1564054127</td>\n",
       "      <td>248</td>\n",
       "    </tr>\n",
       "    <tr>\n",
       "      <td>3</td>\n",
       "      <td>CartScreenAppear</td>\n",
       "      <td>3518123091307005509</td>\n",
       "      <td>1564054127</td>\n",
       "      <td>248</td>\n",
       "    </tr>\n",
       "    <tr>\n",
       "      <td>4</td>\n",
       "      <td>PaymentScreenSuccessful</td>\n",
       "      <td>6217807653094995999</td>\n",
       "      <td>1564055322</td>\n",
       "      <td>248</td>\n",
       "    </tr>\n",
       "    <tr>\n",
       "      <td>...</td>\n",
       "      <td>...</td>\n",
       "      <td>...</td>\n",
       "      <td>...</td>\n",
       "      <td>...</td>\n",
       "    </tr>\n",
       "    <tr>\n",
       "      <td>244121</td>\n",
       "      <td>MainScreenAppear</td>\n",
       "      <td>4599628364049201812</td>\n",
       "      <td>1565212345</td>\n",
       "      <td>247</td>\n",
       "    </tr>\n",
       "    <tr>\n",
       "      <td>244122</td>\n",
       "      <td>MainScreenAppear</td>\n",
       "      <td>5849806612437486590</td>\n",
       "      <td>1565212439</td>\n",
       "      <td>246</td>\n",
       "    </tr>\n",
       "    <tr>\n",
       "      <td>244123</td>\n",
       "      <td>MainScreenAppear</td>\n",
       "      <td>5746969938801999050</td>\n",
       "      <td>1565212483</td>\n",
       "      <td>246</td>\n",
       "    </tr>\n",
       "    <tr>\n",
       "      <td>244124</td>\n",
       "      <td>MainScreenAppear</td>\n",
       "      <td>5746969938801999050</td>\n",
       "      <td>1565212498</td>\n",
       "      <td>246</td>\n",
       "    </tr>\n",
       "    <tr>\n",
       "      <td>244125</td>\n",
       "      <td>OffersScreenAppear</td>\n",
       "      <td>5746969938801999050</td>\n",
       "      <td>1565212517</td>\n",
       "      <td>246</td>\n",
       "    </tr>\n",
       "  </tbody>\n",
       "</table>\n",
       "<p>244126 rows × 4 columns</p>\n",
       "</div>"
      ],
      "text/plain": [
       "                      EventName         DeviceIDHash  EventTimestamp  ExpId\n",
       "0              MainScreenAppear  4575588528974610257      1564029816    246\n",
       "1              MainScreenAppear  7416695313311560658      1564053102    246\n",
       "2       PaymentScreenSuccessful  3518123091307005509      1564054127    248\n",
       "3              CartScreenAppear  3518123091307005509      1564054127    248\n",
       "4       PaymentScreenSuccessful  6217807653094995999      1564055322    248\n",
       "...                         ...                  ...             ...    ...\n",
       "244121         MainScreenAppear  4599628364049201812      1565212345    247\n",
       "244122         MainScreenAppear  5849806612437486590      1565212439    246\n",
       "244123         MainScreenAppear  5746969938801999050      1565212483    246\n",
       "244124         MainScreenAppear  5746969938801999050      1565212498    246\n",
       "244125       OffersScreenAppear  5746969938801999050      1565212517    246\n",
       "\n",
       "[244126 rows x 4 columns]"
      ]
     },
     "execution_count": 34,
     "metadata": {},
     "output_type": "execute_result"
    }
   ],
   "source": [
    "data = pd.read_csv('/datasets/logs_exp.csv', sep='\\t')\n",
    "data"
   ]
  },
  {
   "cell_type": "code",
   "execution_count": 35,
   "metadata": {},
   "outputs": [
    {
     "name": "stdout",
     "output_type": "stream",
     "text": [
      "<class 'pandas.core.frame.DataFrame'>\n",
      "RangeIndex: 244126 entries, 0 to 244125\n",
      "Data columns (total 4 columns):\n",
      "EventName         244126 non-null object\n",
      "DeviceIDHash      244126 non-null int64\n",
      "EventTimestamp    244126 non-null int64\n",
      "ExpId             244126 non-null int64\n",
      "dtypes: int64(3), object(1)\n",
      "memory usage: 7.5+ MB\n"
     ]
    }
   ],
   "source": [
    "data.info()"
   ]
  },
  {
   "cell_type": "code",
   "execution_count": 36,
   "metadata": {},
   "outputs": [
    {
     "data": {
      "text/plain": [
       "413"
      ]
     },
     "execution_count": 36,
     "metadata": {},
     "output_type": "execute_result"
    }
   ],
   "source": [
    "data.duplicated().sum()"
   ]
  },
  {
   "cell_type": "code",
   "execution_count": 37,
   "metadata": {},
   "outputs": [
    {
     "data": {
      "text/plain": [
       "EventName         0\n",
       "DeviceIDHash      0\n",
       "EventTimestamp    0\n",
       "ExpId             0\n",
       "dtype: int64"
      ]
     },
     "execution_count": 37,
     "metadata": {},
     "output_type": "execute_result"
    }
   ],
   "source": [
    "data.isna().sum()"
   ]
  },
  {
   "cell_type": "code",
   "execution_count": 38,
   "metadata": {},
   "outputs": [
    {
     "data": {
      "text/plain": [
       "248    85747\n",
       "246    80304\n",
       "247    78075\n",
       "Name: ExpId, dtype: int64"
      ]
     },
     "execution_count": 38,
     "metadata": {},
     "output_type": "execute_result"
    }
   ],
   "source": [
    "data['ExpId'].value_counts()"
   ]
  },
  {
   "cell_type": "code",
   "execution_count": 39,
   "metadata": {},
   "outputs": [
    {
     "data": {
      "text/plain": [
       "MainScreenAppear           119205\n",
       "OffersScreenAppear          46825\n",
       "CartScreenAppear            42731\n",
       "PaymentScreenSuccessful     34313\n",
       "Tutorial                     1052\n",
       "Name: EventName, dtype: int64"
      ]
     },
     "execution_count": 39,
     "metadata": {},
     "output_type": "execute_result"
    }
   ],
   "source": [
    "data['EventName'].value_counts()"
   ]
  },
  {
   "cell_type": "markdown",
   "metadata": {},
   "source": [
    "1. Необходимо поменять названия столбцов \n",
    "2. Типы данных менять не надо, столбец с датой тоже менять не буду, создам новый столбец с более удобным форматом для понимания\n",
    "3. Удалить дубликаты"
   ]
  },
  {
   "cell_type": "markdown",
   "metadata": {},
   "source": [
    "### Подготовка данных"
   ]
  },
  {
   "cell_type": "code",
   "execution_count": 40,
   "metadata": {},
   "outputs": [],
   "source": [
    "# удаление дубликатов\n",
    "data.drop_duplicates(inplace=True)"
   ]
  },
  {
   "cell_type": "code",
   "execution_count": 41,
   "metadata": {},
   "outputs": [
    {
     "data": {
      "text/html": [
       "<div>\n",
       "<style scoped>\n",
       "    .dataframe tbody tr th:only-of-type {\n",
       "        vertical-align: middle;\n",
       "    }\n",
       "\n",
       "    .dataframe tbody tr th {\n",
       "        vertical-align: top;\n",
       "    }\n",
       "\n",
       "    .dataframe thead th {\n",
       "        text-align: right;\n",
       "    }\n",
       "</style>\n",
       "<table border=\"1\" class=\"dataframe\">\n",
       "  <thead>\n",
       "    <tr style=\"text-align: right;\">\n",
       "      <th></th>\n",
       "      <th>event_name</th>\n",
       "      <th>device_id</th>\n",
       "      <th>event_timestamp</th>\n",
       "      <th>exp_id</th>\n",
       "    </tr>\n",
       "  </thead>\n",
       "  <tbody>\n",
       "    <tr>\n",
       "      <td>0</td>\n",
       "      <td>MainScreenAppear</td>\n",
       "      <td>4575588528974610257</td>\n",
       "      <td>1564029816</td>\n",
       "      <td>246</td>\n",
       "    </tr>\n",
       "    <tr>\n",
       "      <td>1</td>\n",
       "      <td>MainScreenAppear</td>\n",
       "      <td>7416695313311560658</td>\n",
       "      <td>1564053102</td>\n",
       "      <td>246</td>\n",
       "    </tr>\n",
       "    <tr>\n",
       "      <td>2</td>\n",
       "      <td>PaymentScreenSuccessful</td>\n",
       "      <td>3518123091307005509</td>\n",
       "      <td>1564054127</td>\n",
       "      <td>248</td>\n",
       "    </tr>\n",
       "    <tr>\n",
       "      <td>3</td>\n",
       "      <td>CartScreenAppear</td>\n",
       "      <td>3518123091307005509</td>\n",
       "      <td>1564054127</td>\n",
       "      <td>248</td>\n",
       "    </tr>\n",
       "    <tr>\n",
       "      <td>4</td>\n",
       "      <td>PaymentScreenSuccessful</td>\n",
       "      <td>6217807653094995999</td>\n",
       "      <td>1564055322</td>\n",
       "      <td>248</td>\n",
       "    </tr>\n",
       "    <tr>\n",
       "      <td>...</td>\n",
       "      <td>...</td>\n",
       "      <td>...</td>\n",
       "      <td>...</td>\n",
       "      <td>...</td>\n",
       "    </tr>\n",
       "    <tr>\n",
       "      <td>244121</td>\n",
       "      <td>MainScreenAppear</td>\n",
       "      <td>4599628364049201812</td>\n",
       "      <td>1565212345</td>\n",
       "      <td>247</td>\n",
       "    </tr>\n",
       "    <tr>\n",
       "      <td>244122</td>\n",
       "      <td>MainScreenAppear</td>\n",
       "      <td>5849806612437486590</td>\n",
       "      <td>1565212439</td>\n",
       "      <td>246</td>\n",
       "    </tr>\n",
       "    <tr>\n",
       "      <td>244123</td>\n",
       "      <td>MainScreenAppear</td>\n",
       "      <td>5746969938801999050</td>\n",
       "      <td>1565212483</td>\n",
       "      <td>246</td>\n",
       "    </tr>\n",
       "    <tr>\n",
       "      <td>244124</td>\n",
       "      <td>MainScreenAppear</td>\n",
       "      <td>5746969938801999050</td>\n",
       "      <td>1565212498</td>\n",
       "      <td>246</td>\n",
       "    </tr>\n",
       "    <tr>\n",
       "      <td>244125</td>\n",
       "      <td>OffersScreenAppear</td>\n",
       "      <td>5746969938801999050</td>\n",
       "      <td>1565212517</td>\n",
       "      <td>246</td>\n",
       "    </tr>\n",
       "  </tbody>\n",
       "</table>\n",
       "<p>243713 rows × 4 columns</p>\n",
       "</div>"
      ],
      "text/plain": [
       "                     event_name            device_id  event_timestamp  exp_id\n",
       "0              MainScreenAppear  4575588528974610257       1564029816     246\n",
       "1              MainScreenAppear  7416695313311560658       1564053102     246\n",
       "2       PaymentScreenSuccessful  3518123091307005509       1564054127     248\n",
       "3              CartScreenAppear  3518123091307005509       1564054127     248\n",
       "4       PaymentScreenSuccessful  6217807653094995999       1564055322     248\n",
       "...                         ...                  ...              ...     ...\n",
       "244121         MainScreenAppear  4599628364049201812       1565212345     247\n",
       "244122         MainScreenAppear  5849806612437486590       1565212439     246\n",
       "244123         MainScreenAppear  5746969938801999050       1565212483     246\n",
       "244124         MainScreenAppear  5746969938801999050       1565212498     246\n",
       "244125       OffersScreenAppear  5746969938801999050       1565212517     246\n",
       "\n",
       "[243713 rows x 4 columns]"
      ]
     },
     "execution_count": 41,
     "metadata": {},
     "output_type": "execute_result"
    }
   ],
   "source": [
    "# переименование столбцов\n",
    "data.columns = ['event_name', 'device_id', 'event_timestamp', 'exp_id']\n",
    "data"
   ]
  },
  {
   "cell_type": "code",
   "execution_count": 42,
   "metadata": {},
   "outputs": [
    {
     "data": {
      "text/html": [
       "<div>\n",
       "<style scoped>\n",
       "    .dataframe tbody tr th:only-of-type {\n",
       "        vertical-align: middle;\n",
       "    }\n",
       "\n",
       "    .dataframe tbody tr th {\n",
       "        vertical-align: top;\n",
       "    }\n",
       "\n",
       "    .dataframe thead th {\n",
       "        text-align: right;\n",
       "    }\n",
       "</style>\n",
       "<table border=\"1\" class=\"dataframe\">\n",
       "  <thead>\n",
       "    <tr style=\"text-align: right;\">\n",
       "      <th></th>\n",
       "      <th>event_name</th>\n",
       "      <th>device_id</th>\n",
       "      <th>event_timestamp</th>\n",
       "      <th>exp_id</th>\n",
       "      <th>datetime</th>\n",
       "      <th>date</th>\n",
       "    </tr>\n",
       "  </thead>\n",
       "  <tbody>\n",
       "    <tr>\n",
       "      <td>0</td>\n",
       "      <td>MainScreenAppear</td>\n",
       "      <td>4575588528974610257</td>\n",
       "      <td>1564029816</td>\n",
       "      <td>246</td>\n",
       "      <td>2019-07-25 04:43:36</td>\n",
       "      <td>2019-07-25</td>\n",
       "    </tr>\n",
       "    <tr>\n",
       "      <td>1</td>\n",
       "      <td>MainScreenAppear</td>\n",
       "      <td>7416695313311560658</td>\n",
       "      <td>1564053102</td>\n",
       "      <td>246</td>\n",
       "      <td>2019-07-25 11:11:42</td>\n",
       "      <td>2019-07-25</td>\n",
       "    </tr>\n",
       "    <tr>\n",
       "      <td>2</td>\n",
       "      <td>PaymentScreenSuccessful</td>\n",
       "      <td>3518123091307005509</td>\n",
       "      <td>1564054127</td>\n",
       "      <td>248</td>\n",
       "      <td>2019-07-25 11:28:47</td>\n",
       "      <td>2019-07-25</td>\n",
       "    </tr>\n",
       "    <tr>\n",
       "      <td>3</td>\n",
       "      <td>CartScreenAppear</td>\n",
       "      <td>3518123091307005509</td>\n",
       "      <td>1564054127</td>\n",
       "      <td>248</td>\n",
       "      <td>2019-07-25 11:28:47</td>\n",
       "      <td>2019-07-25</td>\n",
       "    </tr>\n",
       "    <tr>\n",
       "      <td>4</td>\n",
       "      <td>PaymentScreenSuccessful</td>\n",
       "      <td>6217807653094995999</td>\n",
       "      <td>1564055322</td>\n",
       "      <td>248</td>\n",
       "      <td>2019-07-25 11:48:42</td>\n",
       "      <td>2019-07-25</td>\n",
       "    </tr>\n",
       "    <tr>\n",
       "      <td>...</td>\n",
       "      <td>...</td>\n",
       "      <td>...</td>\n",
       "      <td>...</td>\n",
       "      <td>...</td>\n",
       "      <td>...</td>\n",
       "      <td>...</td>\n",
       "    </tr>\n",
       "    <tr>\n",
       "      <td>244121</td>\n",
       "      <td>MainScreenAppear</td>\n",
       "      <td>4599628364049201812</td>\n",
       "      <td>1565212345</td>\n",
       "      <td>247</td>\n",
       "      <td>2019-08-07 21:12:25</td>\n",
       "      <td>2019-08-07</td>\n",
       "    </tr>\n",
       "    <tr>\n",
       "      <td>244122</td>\n",
       "      <td>MainScreenAppear</td>\n",
       "      <td>5849806612437486590</td>\n",
       "      <td>1565212439</td>\n",
       "      <td>246</td>\n",
       "      <td>2019-08-07 21:13:59</td>\n",
       "      <td>2019-08-07</td>\n",
       "    </tr>\n",
       "    <tr>\n",
       "      <td>244123</td>\n",
       "      <td>MainScreenAppear</td>\n",
       "      <td>5746969938801999050</td>\n",
       "      <td>1565212483</td>\n",
       "      <td>246</td>\n",
       "      <td>2019-08-07 21:14:43</td>\n",
       "      <td>2019-08-07</td>\n",
       "    </tr>\n",
       "    <tr>\n",
       "      <td>244124</td>\n",
       "      <td>MainScreenAppear</td>\n",
       "      <td>5746969938801999050</td>\n",
       "      <td>1565212498</td>\n",
       "      <td>246</td>\n",
       "      <td>2019-08-07 21:14:58</td>\n",
       "      <td>2019-08-07</td>\n",
       "    </tr>\n",
       "    <tr>\n",
       "      <td>244125</td>\n",
       "      <td>OffersScreenAppear</td>\n",
       "      <td>5746969938801999050</td>\n",
       "      <td>1565212517</td>\n",
       "      <td>246</td>\n",
       "      <td>2019-08-07 21:15:17</td>\n",
       "      <td>2019-08-07</td>\n",
       "    </tr>\n",
       "  </tbody>\n",
       "</table>\n",
       "<p>243713 rows × 6 columns</p>\n",
       "</div>"
      ],
      "text/plain": [
       "                     event_name            device_id  event_timestamp  exp_id  \\\n",
       "0              MainScreenAppear  4575588528974610257       1564029816     246   \n",
       "1              MainScreenAppear  7416695313311560658       1564053102     246   \n",
       "2       PaymentScreenSuccessful  3518123091307005509       1564054127     248   \n",
       "3              CartScreenAppear  3518123091307005509       1564054127     248   \n",
       "4       PaymentScreenSuccessful  6217807653094995999       1564055322     248   \n",
       "...                         ...                  ...              ...     ...   \n",
       "244121         MainScreenAppear  4599628364049201812       1565212345     247   \n",
       "244122         MainScreenAppear  5849806612437486590       1565212439     246   \n",
       "244123         MainScreenAppear  5746969938801999050       1565212483     246   \n",
       "244124         MainScreenAppear  5746969938801999050       1565212498     246   \n",
       "244125       OffersScreenAppear  5746969938801999050       1565212517     246   \n",
       "\n",
       "                  datetime        date  \n",
       "0      2019-07-25 04:43:36  2019-07-25  \n",
       "1      2019-07-25 11:11:42  2019-07-25  \n",
       "2      2019-07-25 11:28:47  2019-07-25  \n",
       "3      2019-07-25 11:28:47  2019-07-25  \n",
       "4      2019-07-25 11:48:42  2019-07-25  \n",
       "...                    ...         ...  \n",
       "244121 2019-08-07 21:12:25  2019-08-07  \n",
       "244122 2019-08-07 21:13:59  2019-08-07  \n",
       "244123 2019-08-07 21:14:43  2019-08-07  \n",
       "244124 2019-08-07 21:14:58  2019-08-07  \n",
       "244125 2019-08-07 21:15:17  2019-08-07  \n",
       "\n",
       "[243713 rows x 6 columns]"
      ]
     },
     "execution_count": 42,
     "metadata": {},
     "output_type": "execute_result"
    }
   ],
   "source": [
    "# добавление столбцов с датой в понятном формате\n",
    "data['datetime'] = pd.to_datetime(data['event_timestamp'], unit = 's')\n",
    "data['date'] = pd.to_datetime(data['datetime']).dt.date\n",
    "data"
   ]
  },
  {
   "cell_type": "markdown",
   "metadata": {},
   "source": [
    "Данные готовы"
   ]
  },
  {
   "cell_type": "markdown",
   "metadata": {},
   "source": [
    "### Изучение и проверка данных"
   ]
  },
  {
   "cell_type": "code",
   "execution_count": 43,
   "metadata": {},
   "outputs": [
    {
     "data": {
      "text/plain": [
       "243713"
      ]
     },
     "execution_count": 43,
     "metadata": {},
     "output_type": "execute_result"
    }
   ],
   "source": [
    "# всего событий\n",
    "data.shape[0]"
   ]
  },
  {
   "cell_type": "code",
   "execution_count": 44,
   "metadata": {},
   "outputs": [
    {
     "data": {
      "text/plain": [
       "7551"
      ]
     },
     "execution_count": 44,
     "metadata": {},
     "output_type": "execute_result"
    }
   ],
   "source": [
    "# всего пользователей\n",
    "len(data['device_id'].unique())"
   ]
  },
  {
   "cell_type": "code",
   "execution_count": 45,
   "metadata": {},
   "outputs": [
    {
     "data": {
      "text/plain": [
       "32.27559263673685"
      ]
     },
     "execution_count": 45,
     "metadata": {},
     "output_type": "execute_result"
    }
   ],
   "source": [
    "# среднее количество событий на пользователя\n",
    "data.shape[0] / len(data['device_id'].unique())"
   ]
  },
  {
   "cell_type": "code",
   "execution_count": 46,
   "metadata": {},
   "outputs": [
    {
     "name": "stdout",
     "output_type": "stream",
     "text": [
      "2019-07-25 04:43:36 2019-08-07 21:15:17\n"
     ]
    }
   ],
   "source": [
    "# период событий\n",
    "max = data['datetime'].max()\n",
    "min = data['datetime'].min()\n",
    "print(min, max)"
   ]
  },
  {
   "cell_type": "code",
   "execution_count": 47,
   "metadata": {},
   "outputs": [
    {
     "data": {
      "text/plain": [
       "Text(0, 0.5, 'Количество событий')"
      ]
     },
     "execution_count": 47,
     "metadata": {},
     "output_type": "execute_result"
    },
    {
     "data": {
      "image/png": "[encoded data removed]",
      "text/plain": [
       "<Figure size 432x288 with 1 Axes>"
      ]
     },
     "metadata": {
      "needs_background": "light"
     },
     "output_type": "display_data"
    }
   ],
   "source": [
    "data['datetime'].hist(bins=50)\n",
    "plt.xticks(rotation=40)\n",
    "plt.title('Распределение событий по датам')\n",
    "plt.xlabel('Дата события')\n",
    "plt.ylabel('Количество событий')"
   ]
  },
  {
   "cell_type": "markdown",
   "metadata": {},
   "source": [
    "Хотя данные предоставленны с 25.07.2019, событий до 01.08.2019 практически не было, поэтому стоит исключить из анализа события ранее 01.08.2019"
   ]
  },
  {
   "cell_type": "code",
   "execution_count": 48,
   "metadata": {},
   "outputs": [
    {
     "data": {
      "text/html": [
       "<div>\n",
       "<style scoped>\n",
       "    .dataframe tbody tr th:only-of-type {\n",
       "        vertical-align: middle;\n",
       "    }\n",
       "\n",
       "    .dataframe tbody tr th {\n",
       "        vertical-align: top;\n",
       "    }\n",
       "\n",
       "    .dataframe thead th {\n",
       "        text-align: right;\n",
       "    }\n",
       "</style>\n",
       "<table border=\"1\" class=\"dataframe\">\n",
       "  <thead>\n",
       "    <tr style=\"text-align: right;\">\n",
       "      <th></th>\n",
       "      <th>event_name</th>\n",
       "      <th>device_id</th>\n",
       "      <th>event_timestamp</th>\n",
       "      <th>exp_id</th>\n",
       "      <th>datetime</th>\n",
       "      <th>date</th>\n",
       "    </tr>\n",
       "  </thead>\n",
       "  <tbody>\n",
       "    <tr>\n",
       "      <td>0</td>\n",
       "      <td>MainScreenAppear</td>\n",
       "      <td>4575588528974610257</td>\n",
       "      <td>1564029816</td>\n",
       "      <td>246</td>\n",
       "      <td>2019-07-25 04:43:36</td>\n",
       "      <td>2019-07-25</td>\n",
       "    </tr>\n",
       "    <tr>\n",
       "      <td>1</td>\n",
       "      <td>MainScreenAppear</td>\n",
       "      <td>7416695313311560658</td>\n",
       "      <td>1564053102</td>\n",
       "      <td>246</td>\n",
       "      <td>2019-07-25 11:11:42</td>\n",
       "      <td>2019-07-25</td>\n",
       "    </tr>\n",
       "    <tr>\n",
       "      <td>2</td>\n",
       "      <td>PaymentScreenSuccessful</td>\n",
       "      <td>3518123091307005509</td>\n",
       "      <td>1564054127</td>\n",
       "      <td>248</td>\n",
       "      <td>2019-07-25 11:28:47</td>\n",
       "      <td>2019-07-25</td>\n",
       "    </tr>\n",
       "    <tr>\n",
       "      <td>3</td>\n",
       "      <td>CartScreenAppear</td>\n",
       "      <td>3518123091307005509</td>\n",
       "      <td>1564054127</td>\n",
       "      <td>248</td>\n",
       "      <td>2019-07-25 11:28:47</td>\n",
       "      <td>2019-07-25</td>\n",
       "    </tr>\n",
       "    <tr>\n",
       "      <td>4</td>\n",
       "      <td>PaymentScreenSuccessful</td>\n",
       "      <td>6217807653094995999</td>\n",
       "      <td>1564055322</td>\n",
       "      <td>248</td>\n",
       "      <td>2019-07-25 11:48:42</td>\n",
       "      <td>2019-07-25</td>\n",
       "    </tr>\n",
       "    <tr>\n",
       "      <td>...</td>\n",
       "      <td>...</td>\n",
       "      <td>...</td>\n",
       "      <td>...</td>\n",
       "      <td>...</td>\n",
       "      <td>...</td>\n",
       "      <td>...</td>\n",
       "    </tr>\n",
       "    <tr>\n",
       "      <td>2823</td>\n",
       "      <td>OffersScreenAppear</td>\n",
       "      <td>2413191300976302222</td>\n",
       "      <td>1564617295</td>\n",
       "      <td>247</td>\n",
       "      <td>2019-07-31 23:54:55</td>\n",
       "      <td>2019-07-31</td>\n",
       "    </tr>\n",
       "    <tr>\n",
       "      <td>2824</td>\n",
       "      <td>MainScreenAppear</td>\n",
       "      <td>5505110279185484837</td>\n",
       "      <td>1564617450</td>\n",
       "      <td>247</td>\n",
       "      <td>2019-07-31 23:57:30</td>\n",
       "      <td>2019-07-31</td>\n",
       "    </tr>\n",
       "    <tr>\n",
       "      <td>2825</td>\n",
       "      <td>MainScreenAppear</td>\n",
       "      <td>5505110279185484837</td>\n",
       "      <td>1564617462</td>\n",
       "      <td>247</td>\n",
       "      <td>2019-07-31 23:57:42</td>\n",
       "      <td>2019-07-31</td>\n",
       "    </tr>\n",
       "    <tr>\n",
       "      <td>2826</td>\n",
       "      <td>MainScreenAppear</td>\n",
       "      <td>5505110279185484837</td>\n",
       "      <td>1564617472</td>\n",
       "      <td>247</td>\n",
       "      <td>2019-07-31 23:57:52</td>\n",
       "      <td>2019-07-31</td>\n",
       "    </tr>\n",
       "    <tr>\n",
       "      <td>2827</td>\n",
       "      <td>MainScreenAppear</td>\n",
       "      <td>2413191300976302222</td>\n",
       "      <td>1564617599</td>\n",
       "      <td>247</td>\n",
       "      <td>2019-07-31 23:59:59</td>\n",
       "      <td>2019-07-31</td>\n",
       "    </tr>\n",
       "  </tbody>\n",
       "</table>\n",
       "<p>2826 rows × 6 columns</p>\n",
       "</div>"
      ],
      "text/plain": [
       "                   event_name            device_id  event_timestamp  exp_id  \\\n",
       "0            MainScreenAppear  4575588528974610257       1564029816     246   \n",
       "1            MainScreenAppear  7416695313311560658       1564053102     246   \n",
       "2     PaymentScreenSuccessful  3518123091307005509       1564054127     248   \n",
       "3            CartScreenAppear  3518123091307005509       1564054127     248   \n",
       "4     PaymentScreenSuccessful  6217807653094995999       1564055322     248   \n",
       "...                       ...                  ...              ...     ...   \n",
       "2823       OffersScreenAppear  2413191300976302222       1564617295     247   \n",
       "2824         MainScreenAppear  5505110279185484837       1564617450     247   \n",
       "2825         MainScreenAppear  5505110279185484837       1564617462     247   \n",
       "2826         MainScreenAppear  5505110279185484837       1564617472     247   \n",
       "2827         MainScreenAppear  2413191300976302222       1564617599     247   \n",
       "\n",
       "                datetime        date  \n",
       "0    2019-07-25 04:43:36  2019-07-25  \n",
       "1    2019-07-25 11:11:42  2019-07-25  \n",
       "2    2019-07-25 11:28:47  2019-07-25  \n",
       "3    2019-07-25 11:28:47  2019-07-25  \n",
       "4    2019-07-25 11:48:42  2019-07-25  \n",
       "...                  ...         ...  \n",
       "2823 2019-07-31 23:54:55  2019-07-31  \n",
       "2824 2019-07-31 23:57:30  2019-07-31  \n",
       "2825 2019-07-31 23:57:42  2019-07-31  \n",
       "2826 2019-07-31 23:57:52  2019-07-31  \n",
       "2827 2019-07-31 23:59:59  2019-07-31  \n",
       "\n",
       "[2826 rows x 6 columns]"
      ]
     },
     "execution_count": 48,
     "metadata": {},
     "output_type": "execute_result"
    }
   ],
   "source": [
    "# выясняю, сколько событий надо убрать\n",
    "data[data['date'] < pd.to_datetime('2019-08-01')]"
   ]
  },
  {
   "cell_type": "markdown",
   "metadata": {},
   "source": [
    "событий ранее 01.08.2019: 2826 - это примерно 1,2% от всех событий"
   ]
  },
  {
   "cell_type": "code",
   "execution_count": 49,
   "metadata": {},
   "outputs": [
    {
     "data": {
      "text/html": [
       "<div>\n",
       "<style scoped>\n",
       "    .dataframe tbody tr th:only-of-type {\n",
       "        vertical-align: middle;\n",
       "    }\n",
       "\n",
       "    .dataframe tbody tr th {\n",
       "        vertical-align: top;\n",
       "    }\n",
       "\n",
       "    .dataframe thead th {\n",
       "        text-align: right;\n",
       "    }\n",
       "</style>\n",
       "<table border=\"1\" class=\"dataframe\">\n",
       "  <thead>\n",
       "    <tr style=\"text-align: right;\">\n",
       "      <th></th>\n",
       "      <th>event_name</th>\n",
       "      <th>device_id</th>\n",
       "      <th>event_timestamp</th>\n",
       "      <th>exp_id</th>\n",
       "      <th>datetime</th>\n",
       "      <th>date</th>\n",
       "    </tr>\n",
       "  </thead>\n",
       "  <tbody>\n",
       "    <tr>\n",
       "      <td>2828</td>\n",
       "      <td>Tutorial</td>\n",
       "      <td>3737462046622621720</td>\n",
       "      <td>1564618048</td>\n",
       "      <td>246</td>\n",
       "      <td>2019-08-01 00:07:28</td>\n",
       "      <td>2019-08-01</td>\n",
       "    </tr>\n",
       "    <tr>\n",
       "      <td>2829</td>\n",
       "      <td>MainScreenAppear</td>\n",
       "      <td>3737462046622621720</td>\n",
       "      <td>1564618080</td>\n",
       "      <td>246</td>\n",
       "      <td>2019-08-01 00:08:00</td>\n",
       "      <td>2019-08-01</td>\n",
       "    </tr>\n",
       "    <tr>\n",
       "      <td>2830</td>\n",
       "      <td>MainScreenAppear</td>\n",
       "      <td>3737462046622621720</td>\n",
       "      <td>1564618135</td>\n",
       "      <td>246</td>\n",
       "      <td>2019-08-01 00:08:55</td>\n",
       "      <td>2019-08-01</td>\n",
       "    </tr>\n",
       "    <tr>\n",
       "      <td>2831</td>\n",
       "      <td>OffersScreenAppear</td>\n",
       "      <td>3737462046622621720</td>\n",
       "      <td>1564618138</td>\n",
       "      <td>246</td>\n",
       "      <td>2019-08-01 00:08:58</td>\n",
       "      <td>2019-08-01</td>\n",
       "    </tr>\n",
       "    <tr>\n",
       "      <td>2832</td>\n",
       "      <td>MainScreenAppear</td>\n",
       "      <td>1433840883824088890</td>\n",
       "      <td>1564618139</td>\n",
       "      <td>247</td>\n",
       "      <td>2019-08-01 00:08:59</td>\n",
       "      <td>2019-08-01</td>\n",
       "    </tr>\n",
       "    <tr>\n",
       "      <td>...</td>\n",
       "      <td>...</td>\n",
       "      <td>...</td>\n",
       "      <td>...</td>\n",
       "      <td>...</td>\n",
       "      <td>...</td>\n",
       "      <td>...</td>\n",
       "    </tr>\n",
       "    <tr>\n",
       "      <td>244121</td>\n",
       "      <td>MainScreenAppear</td>\n",
       "      <td>4599628364049201812</td>\n",
       "      <td>1565212345</td>\n",
       "      <td>247</td>\n",
       "      <td>2019-08-07 21:12:25</td>\n",
       "      <td>2019-08-07</td>\n",
       "    </tr>\n",
       "    <tr>\n",
       "      <td>244122</td>\n",
       "      <td>MainScreenAppear</td>\n",
       "      <td>5849806612437486590</td>\n",
       "      <td>1565212439</td>\n",
       "      <td>246</td>\n",
       "      <td>2019-08-07 21:13:59</td>\n",
       "      <td>2019-08-07</td>\n",
       "    </tr>\n",
       "    <tr>\n",
       "      <td>244123</td>\n",
       "      <td>MainScreenAppear</td>\n",
       "      <td>5746969938801999050</td>\n",
       "      <td>1565212483</td>\n",
       "      <td>246</td>\n",
       "      <td>2019-08-07 21:14:43</td>\n",
       "      <td>2019-08-07</td>\n",
       "    </tr>\n",
       "    <tr>\n",
       "      <td>244124</td>\n",
       "      <td>MainScreenAppear</td>\n",
       "      <td>5746969938801999050</td>\n",
       "      <td>1565212498</td>\n",
       "      <td>246</td>\n",
       "      <td>2019-08-07 21:14:58</td>\n",
       "      <td>2019-08-07</td>\n",
       "    </tr>\n",
       "    <tr>\n",
       "      <td>244125</td>\n",
       "      <td>OffersScreenAppear</td>\n",
       "      <td>5746969938801999050</td>\n",
       "      <td>1565212517</td>\n",
       "      <td>246</td>\n",
       "      <td>2019-08-07 21:15:17</td>\n",
       "      <td>2019-08-07</td>\n",
       "    </tr>\n",
       "  </tbody>\n",
       "</table>\n",
       "<p>240887 rows × 6 columns</p>\n",
       "</div>"
      ],
      "text/plain": [
       "                event_name            device_id  event_timestamp  exp_id  \\\n",
       "2828              Tutorial  3737462046622621720       1564618048     246   \n",
       "2829      MainScreenAppear  3737462046622621720       1564618080     246   \n",
       "2830      MainScreenAppear  3737462046622621720       1564618135     246   \n",
       "2831    OffersScreenAppear  3737462046622621720       1564618138     246   \n",
       "2832      MainScreenAppear  1433840883824088890       1564618139     247   \n",
       "...                    ...                  ...              ...     ...   \n",
       "244121    MainScreenAppear  4599628364049201812       1565212345     247   \n",
       "244122    MainScreenAppear  5849806612437486590       1565212439     246   \n",
       "244123    MainScreenAppear  5746969938801999050       1565212483     246   \n",
       "244124    MainScreenAppear  5746969938801999050       1565212498     246   \n",
       "244125  OffersScreenAppear  5746969938801999050       1565212517     246   \n",
       "\n",
       "                  datetime        date  \n",
       "2828   2019-08-01 00:07:28  2019-08-01  \n",
       "2829   2019-08-01 00:08:00  2019-08-01  \n",
       "2830   2019-08-01 00:08:55  2019-08-01  \n",
       "2831   2019-08-01 00:08:58  2019-08-01  \n",
       "2832   2019-08-01 00:08:59  2019-08-01  \n",
       "...                    ...         ...  \n",
       "244121 2019-08-07 21:12:25  2019-08-07  \n",
       "244122 2019-08-07 21:13:59  2019-08-07  \n",
       "244123 2019-08-07 21:14:43  2019-08-07  \n",
       "244124 2019-08-07 21:14:58  2019-08-07  \n",
       "244125 2019-08-07 21:15:17  2019-08-07  \n",
       "\n",
       "[240887 rows x 6 columns]"
      ]
     },
     "execution_count": 49,
     "metadata": {},
     "output_type": "execute_result"
    }
   ],
   "source": [
    "# убираю ненужные данные\n",
    "data = data.query('date >= @pd.to_datetime(\"2019-08-01\")')\n",
    "data"
   ]
  },
  {
   "cell_type": "code",
   "execution_count": 50,
   "metadata": {},
   "outputs": [
    {
     "data": {
      "text/plain": [
       "248    84563\n",
       "246    79302\n",
       "247    77022\n",
       "Name: exp_id, dtype: int64"
      ]
     },
     "execution_count": 50,
     "metadata": {},
     "output_type": "execute_result"
    }
   ],
   "source": [
    "data['exp_id'].value_counts()"
   ]
  },
  {
   "cell_type": "markdown",
   "metadata": {},
   "source": [
    "Пользователи из всех 3х экспериментальных групп остались, перекоса сильного не появилось."
   ]
  },
  {
   "cell_type": "markdown",
   "metadata": {},
   "source": [
    "### Воронка событий"
   ]
  },
  {
   "cell_type": "code",
   "execution_count": 51,
   "metadata": {},
   "outputs": [
    {
     "data": {
      "text/plain": [
       "MainScreenAppear           117328\n",
       "OffersScreenAppear          46333\n",
       "CartScreenAppear            42303\n",
       "PaymentScreenSuccessful     33918\n",
       "Tutorial                     1005\n",
       "Name: event_name, dtype: int64"
      ]
     },
     "execution_count": 51,
     "metadata": {},
     "output_type": "execute_result"
    }
   ],
   "source": [
    "# количество событий по шагам\n",
    "data['event_name'].value_counts()"
   ]
  },
  {
   "cell_type": "code",
   "execution_count": 52,
   "metadata": {},
   "outputs": [
    {
     "data": {
      "text/html": [
       "<div>\n",
       "<style scoped>\n",
       "    .dataframe tbody tr th:only-of-type {\n",
       "        vertical-align: middle;\n",
       "    }\n",
       "\n",
       "    .dataframe tbody tr th {\n",
       "        vertical-align: top;\n",
       "    }\n",
       "\n",
       "    .dataframe thead th {\n",
       "        text-align: right;\n",
       "    }\n",
       "</style>\n",
       "<table border=\"1\" class=\"dataframe\">\n",
       "  <thead>\n",
       "    <tr style=\"text-align: right;\">\n",
       "      <th></th>\n",
       "      <th>event_name</th>\n",
       "      <th>count_device</th>\n",
       "      <th>all_device</th>\n",
       "      <th>%_device</th>\n",
       "    </tr>\n",
       "  </thead>\n",
       "  <tbody>\n",
       "    <tr>\n",
       "      <td>0</td>\n",
       "      <td>MainScreenAppear</td>\n",
       "      <td>7419</td>\n",
       "      <td>117328</td>\n",
       "      <td>98.0</td>\n",
       "    </tr>\n",
       "    <tr>\n",
       "      <td>1</td>\n",
       "      <td>OffersScreenAppear</td>\n",
       "      <td>4593</td>\n",
       "      <td>46333</td>\n",
       "      <td>61.0</td>\n",
       "    </tr>\n",
       "    <tr>\n",
       "      <td>2</td>\n",
       "      <td>CartScreenAppear</td>\n",
       "      <td>3734</td>\n",
       "      <td>42303</td>\n",
       "      <td>50.0</td>\n",
       "    </tr>\n",
       "    <tr>\n",
       "      <td>3</td>\n",
       "      <td>PaymentScreenSuccessful</td>\n",
       "      <td>3539</td>\n",
       "      <td>33918</td>\n",
       "      <td>47.0</td>\n",
       "    </tr>\n",
       "    <tr>\n",
       "      <td>4</td>\n",
       "      <td>Tutorial</td>\n",
       "      <td>840</td>\n",
       "      <td>1005</td>\n",
       "      <td>11.0</td>\n",
       "    </tr>\n",
       "  </tbody>\n",
       "</table>\n",
       "</div>"
      ],
      "text/plain": [
       "                event_name  count_device  all_device  %_device\n",
       "0         MainScreenAppear          7419      117328      98.0\n",
       "1       OffersScreenAppear          4593       46333      61.0\n",
       "2         CartScreenAppear          3734       42303      50.0\n",
       "3  PaymentScreenSuccessful          3539       33918      47.0\n",
       "4                 Tutorial           840        1005      11.0"
      ]
     },
     "execution_count": 52,
     "metadata": {},
     "output_type": "execute_result"
    }
   ],
   "source": [
    "# % уникальных пользователей\n",
    "data_event = data.groupby('event_name').agg(count_device=('device_id','nunique'), all_device=('device_id','count')).sort_values('count_device', ascending=False).reset_index()\n",
    "data_event['%_device'] = round(data_event['count_device'] / len(data['device_id'].unique()) * 100)\n",
    "data_event"
   ]
  },
  {
   "cell_type": "markdown",
   "metadata": {},
   "source": [
    "Порядок событий:\n",
    "1. MainScreenAppear\n",
    "2. OffersScreenAppear\n",
    "3. CartScreenAppear\n",
    "4. PaymentScreenSuccessful\n",
    "5. событие Tutorial не входит в цепочку последовательных действий, скорее это по желанию пользователя, поэтому исключим это событие из воронки"
   ]
  },
  {
   "cell_type": "code",
   "execution_count": 53,
   "metadata": {},
   "outputs": [
    {
     "data": {
      "text/html": [
       "<div>\n",
       "<style scoped>\n",
       "    .dataframe tbody tr th:only-of-type {\n",
       "        vertical-align: middle;\n",
       "    }\n",
       "\n",
       "    .dataframe tbody tr th {\n",
       "        vertical-align: top;\n",
       "    }\n",
       "\n",
       "    .dataframe thead th {\n",
       "        text-align: right;\n",
       "    }\n",
       "</style>\n",
       "<table border=\"1\" class=\"dataframe\">\n",
       "  <thead>\n",
       "    <tr style=\"text-align: right;\">\n",
       "      <th></th>\n",
       "      <th>event_name</th>\n",
       "      <th>count_device</th>\n",
       "      <th>all_device</th>\n",
       "      <th>%_device</th>\n",
       "      <th>%_funnel</th>\n",
       "      <th>%_funnel_to_the_first</th>\n",
       "    </tr>\n",
       "  </thead>\n",
       "  <tbody>\n",
       "    <tr>\n",
       "      <td>0</td>\n",
       "      <td>MainScreenAppear</td>\n",
       "      <td>7419</td>\n",
       "      <td>117328</td>\n",
       "      <td>98.0</td>\n",
       "      <td>100.0</td>\n",
       "      <td>100.0</td>\n",
       "    </tr>\n",
       "    <tr>\n",
       "      <td>1</td>\n",
       "      <td>OffersScreenAppear</td>\n",
       "      <td>4593</td>\n",
       "      <td>46333</td>\n",
       "      <td>61.0</td>\n",
       "      <td>61.0</td>\n",
       "      <td>61.0</td>\n",
       "    </tr>\n",
       "    <tr>\n",
       "      <td>2</td>\n",
       "      <td>CartScreenAppear</td>\n",
       "      <td>3734</td>\n",
       "      <td>42303</td>\n",
       "      <td>50.0</td>\n",
       "      <td>81.0</td>\n",
       "      <td>50.0</td>\n",
       "    </tr>\n",
       "    <tr>\n",
       "      <td>3</td>\n",
       "      <td>PaymentScreenSuccessful</td>\n",
       "      <td>3539</td>\n",
       "      <td>33918</td>\n",
       "      <td>47.0</td>\n",
       "      <td>94.0</td>\n",
       "      <td>47.0</td>\n",
       "    </tr>\n",
       "  </tbody>\n",
       "</table>\n",
       "</div>"
      ],
      "text/plain": [
       "                event_name  count_device  all_device  %_device  %_funnel  \\\n",
       "0         MainScreenAppear          7419      117328      98.0     100.0   \n",
       "1       OffersScreenAppear          4593       46333      61.0      61.0   \n",
       "2         CartScreenAppear          3734       42303      50.0      81.0   \n",
       "3  PaymentScreenSuccessful          3539       33918      47.0      94.0   \n",
       "\n",
       "   %_funnel_to_the_first  \n",
       "0                  100.0  \n",
       "1                   61.0  \n",
       "2                   50.0  \n",
       "3                   47.0  "
      ]
     },
     "execution_count": 53,
     "metadata": {},
     "output_type": "execute_result"
    }
   ],
   "source": [
    "# воронка событий \n",
    "# %_funnel - % пользователей, перешедших на следующий шаг\n",
    "# %_funnel_to_the_first - процент пользователей с первого события, которые перешли на этот шаг\n",
    "data_event = data_event.query('event_name != \"Tutorial\"').copy()\n",
    "data_event.loc[0, '%_funnel'] = 100\n",
    "data_event.loc[0, '%_funnel_to_the_first'] = 100\n",
    "for i in range(1, 4):\n",
    "    data_event.loc[i, '%_funnel'] = int(data_event.loc[i, 'count_device'] / data_event.loc[i-1, 'count_device'] * 100)\n",
    "    data_event.loc[i, '%_funnel_to_the_first'] = int(data_event.loc[i, 'count_device'] / data_event.loc[0, 'count_device'] * 100)\n",
    "    \n",
    "data_event"
   ]
  },
  {
   "cell_type": "code",
   "execution_count": 54,
   "metadata": {},
   "outputs": [
    {
     "data": {
      "application/vnd.plotly.v1+json": {
       "config": {
        "plotlyServerURL": "https://plot.ly"
       },
       "data": [
        {
         "marker": {
          "color": "teal"
         },
         "textinfo": "value+percent initial",
         "type": "funnel",
         "x": [
          7419,
          4593,
          3734,
          3539
         ],
         "y": [
          "MainScreenAppear",
          "OffersScreenAppear",
          "CartScreenAppear",
          "PaymentScreenSuccessful"
         ]
        }
       ],
       "layout": {
        "template": {
         "data": {
          "bar": [
           {
            "error_x": {
             "color": "#2a3f5f"
            },
            "error_y": {
             "color": "#2a3f5f"
            },
            "marker": {
             "line": {
              "color": "#E5ECF6",
              "width": 0.5
             }
            },
            "type": "bar"
           }
          ],
          "barpolar": [
           {
            "marker": {
             "line": {
              "color": "#E5ECF6",
              "width": 0.5
             }
            },
            "type": "barpolar"
           }
          ],
          "carpet": [
           {
            "aaxis": {
             "endlinecolor": "#2a3f5f",
             "gridcolor": "white",
             "linecolor": "white",
             "minorgridcolor": "white",
             "startlinecolor": "#2a3f5f"
            },
            "baxis": {
             "endlinecolor": "#2a3f5f",
             "gridcolor": "white",
             "linecolor": "white",
             "minorgridcolor": "white",
             "startlinecolor": "#2a3f5f"
            },
            "type": "carpet"
           }
          ],
          "choropleth": [
           {
            "colorbar": {
             "outlinewidth": 0,
             "ticks": ""
            },
            "type": "choropleth"
           }
          ],
          "contour": [
           {
            "colorbar": {
             "outlinewidth": 0,
             "ticks": ""
            },
            "colorscale": [
             [
              0,
              "#0d0887"
             ],
             [
              0.1111111111,
              "#46039f"
             ],
             [
              0.2222222222,
              "#7201a8"
             ],
             [
              0.3333333333,
              "#9c179e"
             ],
             [
              0.4444444444,
              "#bd3786"
             ],
             [
              0.5555555556,
              "#d8576b"
             ],
             [
              0.6666666667,
              "#ed7953"
             ],
             [
              0.7777777778,
              "#fb9f3a"
             ],
             [
              0.8888888889,
              "#fdca26"
             ],
             [
              1,
              "#f0f921"
             ]
            ],
            "type": "contour"
           }
          ],
          "contourcarpet": [
           {
            "colorbar": {
             "outlinewidth": 0,
             "ticks": ""
            },
            "type": "contourcarpet"
           }
          ],
          "heatmap": [
           {
            "colorbar": {
             "outlinewidth": 0,
             "ticks": ""
            },
            "colorscale": [
             [
              0,
              "#0d0887"
             ],
             [
              0.1111111111,
              "#46039f"
             ],
             [
              0.2222222222,
              "#7201a8"
             ],
             [
              0.3333333333,
              "#9c179e"
             ],
             [
              0.4444444444,
              "#bd3786"
             ],
             [
              0.5555555556,
              "#d8576b"
             ],
             [
              0.6666666667,
              "#ed7953"
             ],
             [
              0.7777777778,
              "#fb9f3a"
             ],
             [
              0.8888888889,
              "#fdca26"
             ],
             [
              1,
              "#f0f921"
             ]
            ],
            "type": "heatmap"
           }
          ],
          "heatmapgl": [
           {
            "colorbar": {
             "outlinewidth": 0,
             "ticks": ""
            },
            "colorscale": [
             [
              0,
              "#0d0887"
             ],
             [
              0.1111111111,
              "#46039f"
             ],
             [
              0.2222222222,
              "#7201a8"
             ],
             [
              0.3333333333,
              "#9c179e"
             ],
             [
              0.4444444444,
              "#bd3786"
             ],
             [
              0.5555555556,
              "#d8576b"
             ],
             [
              0.6666666667,
              "#ed7953"
             ],
             [
              0.7777777778,
              "#fb9f3a"
             ],
             [
              0.8888888889,
              "#fdca26"
             ],
             [
              1,
              "#f0f921"
             ]
            ],
            "type": "heatmapgl"
           }
          ],
          "histogram": [
           {
            "marker": {
             "colorbar": {
              "outlinewidth": 0,
              "ticks": ""
             }
            },
            "type": "histogram"
           }
          ],
          "histogram2d": [
           {
            "colorbar": {
             "outlinewidth": 0,
             "ticks": ""
            },
            "colorscale": [
             [
              0,
              "#0d0887"
             ],
             [
              0.1111111111,
              "#46039f"
             ],
             [
              0.2222222222,
              "#7201a8"
             ],
             [
              0.3333333333,
              "#9c179e"
             ],
             [
              0.4444444444,
              "#bd3786"
             ],
             [
              0.5555555556,
              "#d8576b"
             ],
             [
              0.6666666667,
              "#ed7953"
             ],
             [
              0.7777777778,
              "#fb9f3a"
             ],
             [
              0.8888888889,
              "#fdca26"
             ],
             [
              1,
              "#f0f921"
             ]
            ],
            "type": "histogram2d"
           }
          ],
          "histogram2dcontour": [
           {
            "colorbar": {
             "outlinewidth": 0,
             "ticks": ""
            },
            "colorscale": [
             [
              0,
              "#0d0887"
             ],
             [
              0.1111111111,
              "#46039f"
             ],
             [
              0.2222222222,
              "#7201a8"
             ],
             [
              0.3333333333,
              "#9c179e"
             ],
             [
              0.4444444444,
              "#bd3786"
             ],
             [
              0.5555555556,
              "#d8576b"
             ],
             [
              0.6666666667,
              "#ed7953"
             ],
             [
              0.7777777778,
              "#fb9f3a"
             ],
             [
              0.8888888889,
              "#fdca26"
             ],
             [
              1,
              "#f0f921"
             ]
            ],
            "type": "histogram2dcontour"
           }
          ],
          "mesh3d": [
           {
            "colorbar": {
             "outlinewidth": 0,
             "ticks": ""
            },
            "type": "mesh3d"
           }
          ],
          "parcoords": [
           {
            "line": {
             "colorbar": {
              "outlinewidth": 0,
              "ticks": ""
             }
            },
            "type": "parcoords"
           }
          ],
          "scatter": [
           {
            "marker": {
             "colorbar": {
              "outlinewidth": 0,
              "ticks": ""
             }
            },
            "type": "scatter"
           }
          ],
          "scatter3d": [
           {
            "line": {
             "colorbar": {
              "outlinewidth": 0,
              "ticks": ""
             }
            },
            "marker": {
             "colorbar": {
              "outlinewidth": 0,
              "ticks": ""
             }
            },
            "type": "scatter3d"
           }
          ],
          "scattercarpet": [
           {
            "marker": {
             "colorbar": {
              "outlinewidth": 0,
              "ticks": ""
             }
            },
            "type": "scattercarpet"
           }
          ],
          "scattergeo": [
           {
            "marker": {
             "colorbar": {
              "outlinewidth": 0,
              "ticks": ""
             }
            },
            "type": "scattergeo"
           }
          ],
          "scattergl": [
           {
            "marker": {
             "colorbar": {
              "outlinewidth": 0,
              "ticks": ""
             }
            },
            "type": "scattergl"
           }
          ],
          "scattermapbox": [
           {
            "marker": {
             "colorbar": {
              "outlinewidth": 0,
              "ticks": ""
             }
            },
            "type": "scattermapbox"
           }
          ],
          "scatterpolar": [
           {
            "marker": {
             "colorbar": {
              "outlinewidth": 0,
              "ticks": ""
             }
            },
            "type": "scatterpolar"
           }
          ],
          "scatterpolargl": [
           {
            "marker": {
             "colorbar": {
              "outlinewidth": 0,
              "ticks": ""
             }
            },
            "type": "scatterpolargl"
           }
          ],
          "scatterternary": [
           {
            "marker": {
             "colorbar": {
              "outlinewidth": 0,
              "ticks": ""
             }
            },
            "type": "scatterternary"
           }
          ],
          "surface": [
           {
            "colorbar": {
             "outlinewidth": 0,
             "ticks": ""
            },
            "colorscale": [
             [
              0,
              "#0d0887"
             ],
             [
              0.1111111111,
              "#46039f"
             ],
             [
              0.2222222222,
              "#7201a8"
             ],
             [
              0.3333333333,
              "#9c179e"
             ],
             [
              0.4444444444,
              "#bd3786"
             ],
             [
              0.5555555556,
              "#d8576b"
             ],
             [
              0.6666666667,
              "#ed7953"
             ],
             [
              0.7777777778,
              "#fb9f3a"
             ],
             [
              0.8888888889,
              "#fdca26"
             ],
             [
              1,
              "#f0f921"
             ]
            ],
            "type": "surface"
           }
          ],
          "table": [
           {
            "cells": {
             "fill": {
              "color": "#EBF0F8"
             },
             "line": {
              "color": "white"
             }
            },
            "header": {
             "fill": {
              "color": "#C8D4E3"
             },
             "line": {
              "color": "white"
             }
            },
            "type": "table"
           }
          ]
         },
         "layout": {
          "annotationdefaults": {
           "arrowcolor": "#2a3f5f",
           "arrowhead": 0,
           "arrowwidth": 1
          },
          "colorscale": {
           "diverging": [
            [
             0,
             "#8e0152"
            ],
            [
             0.1,
             "#c51b7d"
            ],
            [
             0.2,
             "#de77ae"
            ],
            [
             0.3,
             "#f1b6da"
            ],
            [
             0.4,
             "#fde0ef"
            ],
            [
             0.5,
             "#f7f7f7"
            ],
            [
             0.6,
             "#e6f5d0"
            ],
            [
             0.7,
             "#b8e186"
            ],
            [
             0.8,
             "#7fbc41"
            ],
            [
             0.9,
             "#4d9221"
            ],
            [
             1,
             "#276419"
            ]
           ],
           "sequential": [
            [
             0,
             "#0d0887"
            ],
            [
             0.1111111111,
             "#46039f"
            ],
            [
             0.2222222222,
             "#7201a8"
            ],
            [
             0.3333333333,
             "#9c179e"
            ],
            [
             0.4444444444,
             "#bd3786"
            ],
            [
             0.5555555556,
             "#d8576b"
            ],
            [
             0.6666666667,
             "#ed7953"
            ],
            [
             0.7777777778,
             "#fb9f3a"
            ],
            [
             0.8888888889,
             "#fdca26"
            ],
            [
             1,
             "#f0f921"
            ]
           ],
           "sequentialminus": [
            [
             0,
             "#0d0887"
            ],
            [
             0.1111111111,
             "#46039f"
            ],
            [
             0.2222222222,
             "#7201a8"
            ],
            [
             0.3333333333,
             "#9c179e"
            ],
            [
             0.4444444444,
             "#bd3786"
            ],
            [
             0.5555555556,
             "#d8576b"
            ],
            [
             0.6666666667,
             "#ed7953"
            ],
            [
             0.7777777778,
             "#fb9f3a"
            ],
            [
             0.8888888889,
             "#fdca26"
            ],
            [
             1,
             "#f0f921"
            ]
           ]
          },
          "colorway": [
           "#636efa",
           "#EF553B",
           "#00cc96",
           "#ab63fa",
           "#FFA15A",
           "#19d3f3",
           "#FF6692",
           "#B6E880",
           "#FF97FF",
           "#FECB52"
          ],
          "font": {
           "color": "#2a3f5f"
          },
          "geo": {
           "bgcolor": "white",
           "lakecolor": "white",
           "landcolor": "#E5ECF6",
           "showlakes": true,
           "showland": true,
           "subunitcolor": "white"
          },
          "hoverlabel": {
           "align": "left"
          },
          "hovermode": "closest",
          "mapbox": {
           "style": "light"
          },
          "paper_bgcolor": "white",
          "plot_bgcolor": "#E5ECF6",
          "polar": {
           "angularaxis": {
            "gridcolor": "white",
            "linecolor": "white",
            "ticks": ""
           },
           "bgcolor": "#E5ECF6",
           "radialaxis": {
            "gridcolor": "white",
            "linecolor": "white",
            "ticks": ""
           }
          },
          "scene": {
           "xaxis": {
            "backgroundcolor": "#E5ECF6",
            "gridcolor": "white",
            "gridwidth": 2,
            "linecolor": "white",
            "showbackground": true,
            "ticks": "",
            "zerolinecolor": "white"
           },
           "yaxis": {
            "backgroundcolor": "#E5ECF6",
            "gridcolor": "white",
            "gridwidth": 2,
            "linecolor": "white",
            "showbackground": true,
            "ticks": "",
            "zerolinecolor": "white"
           },
           "zaxis": {
            "backgroundcolor": "#E5ECF6",
            "gridcolor": "white",
            "gridwidth": 2,
            "linecolor": "white",
            "showbackground": true,
            "ticks": "",
            "zerolinecolor": "white"
           }
          },
          "shapedefaults": {
           "line": {
            "color": "#2a3f5f"
           }
          },
          "ternary": {
           "aaxis": {
            "gridcolor": "white",
            "linecolor": "white",
            "ticks": ""
           },
           "baxis": {
            "gridcolor": "white",
            "linecolor": "white",
            "ticks": ""
           },
           "bgcolor": "#E5ECF6",
           "caxis": {
            "gridcolor": "white",
            "linecolor": "white",
            "ticks": ""
           }
          },
          "title": {
           "x": 0.05
          },
          "xaxis": {
           "automargin": true,
           "gridcolor": "white",
           "linecolor": "white",
           "ticks": "",
           "zerolinecolor": "white",
           "zerolinewidth": 2
          },
          "yaxis": {
           "automargin": true,
           "gridcolor": "white",
           "linecolor": "white",
           "ticks": "",
           "zerolinecolor": "white",
           "zerolinewidth": 2
          }
         }
        }
       }
      },
      "text/html": [
       "<div>\n",
       "        \n",
       "        \n",
       "            <div id=\"5258617b-3805-4fb2-910c-2518aa9d08b0\" class=\"plotly-graph-div\" style=\"height:525px; width:100%;\"></div>\n",
       "            <script type=\"text/javascript\">\n",
       "                require([\"plotly\"], function(Plotly) {\n",
       "                    window.PLOTLYENV=window.PLOTLYENV || {};\n",
       "                    \n",
       "                if (document.getElementById(\"5258617b-3805-4fb2-910c-2518aa9d08b0\")) {\n",
       "                    Plotly.newPlot(\n",
       "                        '5258617b-3805-4fb2-910c-2518aa9d08b0',\n",
       "                        [{\"marker\": {\"color\": \"teal\"}, \"textinfo\": \"value+percent initial\", \"type\": \"funnel\", \"x\": [7419, 4593, 3734, 3539], \"y\": [\"MainScreenAppear\", \"OffersScreenAppear\", \"CartScreenAppear\", \"PaymentScreenSuccessful\"]}],\n",
       "                        {\"template\": {\"data\": {\"bar\": [{\"error_x\": {\"color\": \"#2a3f5f\"}, \"error_y\": {\"color\": \"#2a3f5f\"}, \"marker\": {\"line\": {\"color\": \"#E5ECF6\", \"width\": 0.5}}, \"type\": \"bar\"}], \"barpolar\": [{\"marker\": {\"line\": {\"color\": \"#E5ECF6\", \"width\": 0.5}}, \"type\": \"barpolar\"}], \"carpet\": [{\"aaxis\": {\"endlinecolor\": \"#2a3f5f\", \"gridcolor\": \"white\", \"linecolor\": \"white\", \"minorgridcolor\": \"white\", \"startlinecolor\": \"#2a3f5f\"}, \"baxis\": {\"endlinecolor\": \"#2a3f5f\", \"gridcolor\": \"white\", \"linecolor\": \"white\", \"minorgridcolor\": \"white\", \"startlinecolor\": \"#2a3f5f\"}, \"type\": \"carpet\"}], \"choropleth\": [{\"colorbar\": {\"outlinewidth\": 0, \"ticks\": \"\"}, \"type\": \"choropleth\"}], \"contour\": [{\"colorbar\": {\"outlinewidth\": 0, \"ticks\": \"\"}, \"colorscale\": [[0.0, \"#0d0887\"], [0.1111111111111111, \"#46039f\"], [0.2222222222222222, \"#7201a8\"], [0.3333333333333333, \"#9c179e\"], [0.4444444444444444, \"#bd3786\"], [0.5555555555555556, \"#d8576b\"], [0.6666666666666666, \"#ed7953\"], [0.7777777777777778, \"#fb9f3a\"], [0.8888888888888888, \"#fdca26\"], [1.0, \"#f0f921\"]], \"type\": \"contour\"}], \"contourcarpet\": [{\"colorbar\": {\"outlinewidth\": 0, \"ticks\": \"\"}, \"type\": \"contourcarpet\"}], \"heatmap\": [{\"colorbar\": {\"outlinewidth\": 0, \"ticks\": \"\"}, \"colorscale\": [[0.0, \"#0d0887\"], [0.1111111111111111, \"#46039f\"], [0.2222222222222222, \"#7201a8\"], [0.3333333333333333, \"#9c179e\"], [0.4444444444444444, \"#bd3786\"], [0.5555555555555556, \"#d8576b\"], [0.6666666666666666, \"#ed7953\"], [0.7777777777777778, \"#fb9f3a\"], [0.8888888888888888, \"#fdca26\"], [1.0, \"#f0f921\"]], \"type\": \"heatmap\"}], \"heatmapgl\": [{\"colorbar\": {\"outlinewidth\": 0, \"ticks\": \"\"}, \"colorscale\": [[0.0, \"#0d0887\"], [0.1111111111111111, \"#46039f\"], [0.2222222222222222, \"#7201a8\"], [0.3333333333333333, \"#9c179e\"], [0.4444444444444444, \"#bd3786\"], [0.5555555555555556, \"#d8576b\"], [0.6666666666666666, \"#ed7953\"], [0.7777777777777778, \"#fb9f3a\"], [0.8888888888888888, \"#fdca26\"], [1.0, \"#f0f921\"]], \"type\": \"heatmapgl\"}], \"histogram\": [{\"marker\": {\"colorbar\": {\"outlinewidth\": 0, \"ticks\": \"\"}}, \"type\": \"histogram\"}], \"histogram2d\": [{\"colorbar\": {\"outlinewidth\": 0, \"ticks\": \"\"}, \"colorscale\": [[0.0, \"#0d0887\"], [0.1111111111111111, \"#46039f\"], [0.2222222222222222, \"#7201a8\"], [0.3333333333333333, \"#9c179e\"], [0.4444444444444444, \"#bd3786\"], [0.5555555555555556, \"#d8576b\"], [0.6666666666666666, \"#ed7953\"], [0.7777777777777778, \"#fb9f3a\"], [0.8888888888888888, \"#fdca26\"], [1.0, \"#f0f921\"]], \"type\": \"histogram2d\"}], \"histogram2dcontour\": [{\"colorbar\": {\"outlinewidth\": 0, \"ticks\": \"\"}, \"colorscale\": [[0.0, \"#0d0887\"], [0.1111111111111111, \"#46039f\"], [0.2222222222222222, \"#7201a8\"], [0.3333333333333333, \"#9c179e\"], [0.4444444444444444, \"#bd3786\"], [0.5555555555555556, \"#d8576b\"], [0.6666666666666666, \"#ed7953\"], [0.7777777777777778, \"#fb9f3a\"], [0.8888888888888888, \"#fdca26\"], [1.0, \"#f0f921\"]], \"type\": \"histogram2dcontour\"}], \"mesh3d\": [{\"colorbar\": {\"outlinewidth\": 0, \"ticks\": \"\"}, \"type\": \"mesh3d\"}], \"parcoords\": [{\"line\": {\"colorbar\": {\"outlinewidth\": 0, \"ticks\": \"\"}}, \"type\": \"parcoords\"}], \"scatter\": [{\"marker\": {\"colorbar\": {\"outlinewidth\": 0, \"ticks\": \"\"}}, \"type\": \"scatter\"}], \"scatter3d\": [{\"line\": {\"colorbar\": {\"outlinewidth\": 0, \"ticks\": \"\"}}, \"marker\": {\"colorbar\": {\"outlinewidth\": 0, \"ticks\": \"\"}}, \"type\": \"scatter3d\"}], \"scattercarpet\": [{\"marker\": {\"colorbar\": {\"outlinewidth\": 0, \"ticks\": \"\"}}, \"type\": \"scattercarpet\"}], \"scattergeo\": [{\"marker\": {\"colorbar\": {\"outlinewidth\": 0, \"ticks\": \"\"}}, \"type\": \"scattergeo\"}], \"scattergl\": [{\"marker\": {\"colorbar\": {\"outlinewidth\": 0, \"ticks\": \"\"}}, \"type\": \"scattergl\"}], \"scattermapbox\": [{\"marker\": {\"colorbar\": {\"outlinewidth\": 0, \"ticks\": \"\"}}, \"type\": \"scattermapbox\"}], \"scatterpolar\": [{\"marker\": {\"colorbar\": {\"outlinewidth\": 0, \"ticks\": \"\"}}, \"type\": \"scatterpolar\"}], \"scatterpolargl\": [{\"marker\": {\"colorbar\": {\"outlinewidth\": 0, \"ticks\": \"\"}}, \"type\": \"scatterpolargl\"}], \"scatterternary\": [{\"marker\": {\"colorbar\": {\"outlinewidth\": 0, \"ticks\": \"\"}}, \"type\": \"scatterternary\"}], \"surface\": [{\"colorbar\": {\"outlinewidth\": 0, \"ticks\": \"\"}, \"colorscale\": [[0.0, \"#0d0887\"], [0.1111111111111111, \"#46039f\"], [0.2222222222222222, \"#7201a8\"], [0.3333333333333333, \"#9c179e\"], [0.4444444444444444, \"#bd3786\"], [0.5555555555555556, \"#d8576b\"], [0.6666666666666666, \"#ed7953\"], [0.7777777777777778, \"#fb9f3a\"], [0.8888888888888888, \"#fdca26\"], [1.0, \"#f0f921\"]], \"type\": \"surface\"}], \"table\": [{\"cells\": {\"fill\": {\"color\": \"#EBF0F8\"}, \"line\": {\"color\": \"white\"}}, \"header\": {\"fill\": {\"color\": \"#C8D4E3\"}, \"line\": {\"color\": \"white\"}}, \"type\": \"table\"}]}, \"layout\": {\"annotationdefaults\": {\"arrowcolor\": \"#2a3f5f\", \"arrowhead\": 0, \"arrowwidth\": 1}, \"colorscale\": {\"diverging\": [[0, \"#8e0152\"], [0.1, \"#c51b7d\"], [0.2, \"#de77ae\"], [0.3, \"#f1b6da\"], [0.4, \"#fde0ef\"], [0.5, \"#f7f7f7\"], [0.6, \"#e6f5d0\"], [0.7, \"#b8e186\"], [0.8, \"#7fbc41\"], [0.9, \"#4d9221\"], [1, \"#276419\"]], \"sequential\": [[0.0, \"#0d0887\"], [0.1111111111111111, \"#46039f\"], [0.2222222222222222, \"#7201a8\"], [0.3333333333333333, \"#9c179e\"], [0.4444444444444444, \"#bd3786\"], [0.5555555555555556, \"#d8576b\"], [0.6666666666666666, \"#ed7953\"], [0.7777777777777778, \"#fb9f3a\"], [0.8888888888888888, \"#fdca26\"], [1.0, \"#f0f921\"]], \"sequentialminus\": [[0.0, \"#0d0887\"], [0.1111111111111111, \"#46039f\"], [0.2222222222222222, \"#7201a8\"], [0.3333333333333333, \"#9c179e\"], [0.4444444444444444, \"#bd3786\"], [0.5555555555555556, \"#d8576b\"], [0.6666666666666666, \"#ed7953\"], [0.7777777777777778, \"#fb9f3a\"], [0.8888888888888888, \"#fdca26\"], [1.0, \"#f0f921\"]]}, \"colorway\": [\"#636efa\", \"#EF553B\", \"#00cc96\", \"#ab63fa\", \"#FFA15A\", \"#19d3f3\", \"#FF6692\", \"#B6E880\", \"#FF97FF\", \"#FECB52\"], \"font\": {\"color\": \"#2a3f5f\"}, \"geo\": {\"bgcolor\": \"white\", \"lakecolor\": \"white\", \"landcolor\": \"#E5ECF6\", \"showlakes\": true, \"showland\": true, \"subunitcolor\": \"white\"}, \"hoverlabel\": {\"align\": \"left\"}, \"hovermode\": \"closest\", \"mapbox\": {\"style\": \"light\"}, \"paper_bgcolor\": \"white\", \"plot_bgcolor\": \"#E5ECF6\", \"polar\": {\"angularaxis\": {\"gridcolor\": \"white\", \"linecolor\": \"white\", \"ticks\": \"\"}, \"bgcolor\": \"#E5ECF6\", \"radialaxis\": {\"gridcolor\": \"white\", \"linecolor\": \"white\", \"ticks\": \"\"}}, \"scene\": {\"xaxis\": {\"backgroundcolor\": \"#E5ECF6\", \"gridcolor\": \"white\", \"gridwidth\": 2, \"linecolor\": \"white\", \"showbackground\": true, \"ticks\": \"\", \"zerolinecolor\": \"white\"}, \"yaxis\": {\"backgroundcolor\": \"#E5ECF6\", \"gridcolor\": \"white\", \"gridwidth\": 2, \"linecolor\": \"white\", \"showbackground\": true, \"ticks\": \"\", \"zerolinecolor\": \"white\"}, \"zaxis\": {\"backgroundcolor\": \"#E5ECF6\", \"gridcolor\": \"white\", \"gridwidth\": 2, \"linecolor\": \"white\", \"showbackground\": true, \"ticks\": \"\", \"zerolinecolor\": \"white\"}}, \"shapedefaults\": {\"line\": {\"color\": \"#2a3f5f\"}}, \"ternary\": {\"aaxis\": {\"gridcolor\": \"white\", \"linecolor\": \"white\", \"ticks\": \"\"}, \"baxis\": {\"gridcolor\": \"white\", \"linecolor\": \"white\", \"ticks\": \"\"}, \"bgcolor\": \"#E5ECF6\", \"caxis\": {\"gridcolor\": \"white\", \"linecolor\": \"white\", \"ticks\": \"\"}}, \"title\": {\"x\": 0.05}, \"xaxis\": {\"automargin\": true, \"gridcolor\": \"white\", \"linecolor\": \"white\", \"ticks\": \"\", \"zerolinecolor\": \"white\", \"zerolinewidth\": 2}, \"yaxis\": {\"automargin\": true, \"gridcolor\": \"white\", \"linecolor\": \"white\", \"ticks\": \"\", \"zerolinecolor\": \"white\", \"zerolinewidth\": 2}}}},\n",
       "                        {\"responsive\": true}\n",
       "                    ).then(function(){\n",
       "                            \n",
       "var gd = document.getElementById('5258617b-3805-4fb2-910c-2518aa9d08b0');\n",
       "var x = new MutationObserver(function (mutations, observer) {{\n",
       "        var display = window.getComputedStyle(gd).display;\n",
       "        if (!display || display === 'none') {{\n",
       "            console.log([gd, 'removed!']);\n",
       "            Plotly.purge(gd);\n",
       "            observer.disconnect();\n",
       "        }}\n",
       "}});\n",
       "\n",
       "// Listen for the removal of the full notebook cells\n",
       "var notebookContainer = gd.closest('#notebook-container');\n",
       "if (notebookContainer) {{\n",
       "    x.observe(notebookContainer, {childList: true});\n",
       "}}\n",
       "\n",
       "// Listen for the clearing of the current output cell\n",
       "var outputEl = gd.closest('.output');\n",
       "if (outputEl) {{\n",
       "    x.observe(outputEl, {childList: true});\n",
       "}}\n",
       "\n",
       "                        })\n",
       "                };\n",
       "                });\n",
       "            </script>\n",
       "        </div>"
      ]
     },
     "metadata": {},
     "output_type": "display_data"
    }
   ],
   "source": [
    "# график воронка продаж\n",
    "fig = go.Figure(go.Funnel(\n",
    "    x=data_event['count_device'], \n",
    "    y=data_event['event_name'],\n",
    "    marker={'color':'teal'}, \n",
    "    textinfo = \"value+percent initial\"))\n",
    "fig.show()"
   ]
  },
  {
   "cell_type": "markdown",
   "metadata": {},
   "source": [
    "Самая большая потеря пользователей при переходе с 1го шага MainScreenAppear на 2й шаг OffersScreenAppear.\n",
    "Возможные причины: нет необходимого товара, сложный поиск товара, сайт слишком долго грузится.\n",
    "\n",
    "До шага с оплатой доходит только 47% пользователей."
   ]
  },
  {
   "cell_type": "markdown",
   "metadata": {},
   "source": [
    "### Результаты эксперимента"
   ]
  },
  {
   "cell_type": "markdown",
   "metadata": {},
   "source": [
    "#### Подготовка данных к эксперименту"
   ]
  },
  {
   "cell_type": "code",
   "execution_count": 55,
   "metadata": {},
   "outputs": [
    {
     "data": {
      "text/html": [
       "<div>\n",
       "<style scoped>\n",
       "    .dataframe tbody tr th:only-of-type {\n",
       "        vertical-align: middle;\n",
       "    }\n",
       "\n",
       "    .dataframe tbody tr th {\n",
       "        vertical-align: top;\n",
       "    }\n",
       "\n",
       "    .dataframe thead th {\n",
       "        text-align: right;\n",
       "    }\n",
       "</style>\n",
       "<table border=\"1\" class=\"dataframe\">\n",
       "  <thead>\n",
       "    <tr style=\"text-align: right;\">\n",
       "      <th></th>\n",
       "      <th>count_device</th>\n",
       "    </tr>\n",
       "    <tr>\n",
       "      <th>exp_id</th>\n",
       "      <th></th>\n",
       "    </tr>\n",
       "  </thead>\n",
       "  <tbody>\n",
       "    <tr>\n",
       "      <td>246</td>\n",
       "      <td>2484</td>\n",
       "    </tr>\n",
       "    <tr>\n",
       "      <td>247</td>\n",
       "      <td>2513</td>\n",
       "    </tr>\n",
       "    <tr>\n",
       "      <td>248</td>\n",
       "      <td>2537</td>\n",
       "    </tr>\n",
       "  </tbody>\n",
       "</table>\n",
       "</div>"
      ],
      "text/plain": [
       "        count_device\n",
       "exp_id              \n",
       "246             2484\n",
       "247             2513\n",
       "248             2537"
      ]
     },
     "execution_count": 55,
     "metadata": {},
     "output_type": "execute_result"
    }
   ],
   "source": [
    "# количество уникальных пользователей в экспериментальных группах\n",
    "data.groupby('exp_id').agg(count_device=('device_id','nunique'))"
   ]
  },
  {
   "cell_type": "code",
   "execution_count": 56,
   "metadata": {},
   "outputs": [],
   "source": [
    "# функция для сравнения долей\n",
    "def comparison(event, group_1, group_2, group_3=None):\n",
    "    \n",
    "    df_1 = data.query('exp_id == @group_1')\n",
    "    \n",
    "    if group_3 == None:    \n",
    "        df_2 = data.query('exp_id == @group_2')\n",
    "    else:\n",
    "        df_2 = data.query('exp_id == @group_2 or exp_id == @group_3')\n",
    "        \n",
    "    all_1 = len(df_1['device_id'].unique())\n",
    "    all_2 = len(df_2['device_id'].unique())\n",
    "    \n",
    "    alpha = 0.01\n",
    "    exp_group_1 = len(df_1.query('event_name == @event')['device_id'].unique())\n",
    "    exp_group_2 = len(df_2.query('event_name == @event')['device_id'].unique())\n",
    "    p_1 =  exp_group_1 / all_1\n",
    "    p_2 = exp_group_2 / all_2\n",
    "    p_combined = (exp_group_1 + exp_group_2) / (all_1 + all_2)\n",
    "    difference = p_1 - p_2\n",
    "    z_value = difference / mth.sqrt(p_combined * (1 - p_combined) * (1/all_1 + 1/all_2))\n",
    "    distr = st.norm(0, 1)\n",
    "    p_value = (1 - distr.cdf(abs(z_value))) * 2\n",
    "\n",
    "    if p_value < alpha:\n",
    "        result = 'p-значение: ', p_value,'Отвергаем нулевую гипотезу: между долями есть значимая разница'\n",
    "    else:\n",
    "        result = 'p-значение: ', p_value, 'Не получилось отвергнуть нулевую гипотезу, нет оснований считать доли разными' \n",
    "\n",
    "    return result"
   ]
  },
  {
   "cell_type": "code",
   "execution_count": 57,
   "metadata": {},
   "outputs": [],
   "source": [
    "events = data_event['event_name'].to_list()"
   ]
  },
  {
   "cell_type": "markdown",
   "metadata": {},
   "source": [
    "#### А/А-тест (246 и 247 группы)"
   ]
  },
  {
   "cell_type": "markdown",
   "metadata": {},
   "source": [
    "Провожу А/А-тест. Нулевая гипотеза: Статистически значимых различий между группами А(246) и А(247) нет.\n",
    "Альтернативная гипотеза: Статистически значимые различия между группами А(246) и А(247) есть"
   ]
  },
  {
   "cell_type": "code",
   "execution_count": 58,
   "metadata": {},
   "outputs": [
    {
     "name": "stdout",
     "output_type": "stream",
     "text": [
      "MainScreenAppear : ('p-значение: ', 0.7570597232046099, 'Не получилось отвергнуть нулевую гипотезу, нет оснований считать доли разными')\n",
      " \n",
      "OffersScreenAppear : ('p-значение: ', 0.2480954578522181, 'Не получилось отвергнуть нулевую гипотезу, нет оснований считать доли разными')\n",
      " \n",
      "CartScreenAppear : ('p-значение: ', 0.22883372237997213, 'Не получилось отвергнуть нулевую гипотезу, нет оснований считать доли разными')\n",
      " \n",
      "PaymentScreenSuccessful : ('p-значение: ', 0.11456679313141849, 'Не получилось отвергнуть нулевую гипотезу, нет оснований считать доли разными')\n",
      " \n"
     ]
    }
   ],
   "source": [
    "for event in events:\n",
    "    print(event, ':', comparison(event, 246, 247))\n",
    "    print(\" \")"
   ]
  },
  {
   "cell_type": "markdown",
   "metadata": {},
   "source": [
    "Вывод:\n",
    "Т.к. не получилось отвергнуть нулевую гипотезу ни с одной из групп, считаю, что статистически значимых различий между группами 246 и 247 нет. Значит можно проводить А/Б-тест."
   ]
  },
  {
   "cell_type": "markdown",
   "metadata": {},
   "source": [
    "#### А/Б-тест (246 и 248 группы)"
   ]
  },
  {
   "cell_type": "markdown",
   "metadata": {},
   "source": [
    "Провожу А/Б-тест. Нулевая гипотеза: Статистически значимых различий между группами А(246) и Б(248) нет.\n",
    "Альтернативная гипотеза: Статистически значимые различия между группами А(246) и А(248) есть."
   ]
  },
  {
   "cell_type": "code",
   "execution_count": 59,
   "metadata": {},
   "outputs": [
    {
     "name": "stdout",
     "output_type": "stream",
     "text": [
      "MainScreenAppear : ('p-значение: ', 0.2949721933554552, 'Не получилось отвергнуть нулевую гипотезу, нет оснований считать доли разными')\n",
      " \n",
      "OffersScreenAppear : ('p-значение: ', 0.20836205402738917, 'Не получилось отвергнуть нулевую гипотезу, нет оснований считать доли разными')\n",
      " \n",
      "CartScreenAppear : ('p-значение: ', 0.07842923237520116, 'Не получилось отвергнуть нулевую гипотезу, нет оснований считать доли разными')\n",
      " \n",
      "PaymentScreenSuccessful : ('p-значение: ', 0.2122553275697796, 'Не получилось отвергнуть нулевую гипотезу, нет оснований считать доли разными')\n",
      " \n"
     ]
    }
   ],
   "source": [
    "for event in events:\n",
    "    print(event, ':',  comparison(event, 246, 248))\n",
    "    print(\" \")"
   ]
  },
  {
   "cell_type": "markdown",
   "metadata": {},
   "source": [
    "Вывод:\n",
    "Т.к. не получилось отвергнуть нулевую гипотезу ни с одной из групп, считаю, что статистически значимых различий между группами 246 и 248 нет."
   ]
  },
  {
   "cell_type": "markdown",
   "metadata": {},
   "source": [
    "#### А/Б-тест (247 и 248 группы)"
   ]
  },
  {
   "cell_type": "markdown",
   "metadata": {},
   "source": [
    "Провожу А/Б-тест. Нулевая гипотеза: Статистически значимых различий между группами А(247) и Б(248) нет.\n",
    "Альтернативная гипотеза: Статистически значимые различия между группами А(247) и А(248) есть."
   ]
  },
  {
   "cell_type": "code",
   "execution_count": 60,
   "metadata": {},
   "outputs": [
    {
     "name": "stdout",
     "output_type": "stream",
     "text": [
      "MainScreenAppear : ('p-значение: ', 0.4587053616621515, 'Не получилось отвергнуть нулевую гипотезу, нет оснований считать доли разными')\n",
      " \n",
      "OffersScreenAppear : ('p-значение: ', 0.9197817830592261, 'Не получилось отвергнуть нулевую гипотезу, нет оснований считать доли разными')\n",
      " \n",
      "CartScreenAppear : ('p-значение: ', 0.5786197879539783, 'Не получилось отвергнуть нулевую гипотезу, нет оснований считать доли разными')\n",
      " \n",
      "PaymentScreenSuccessful : ('p-значение: ', 0.7373415053803964, 'Не получилось отвергнуть нулевую гипотезу, нет оснований считать доли разными')\n",
      " \n"
     ]
    }
   ],
   "source": [
    "for event in events:\n",
    "    print(event, ':',  comparison(event, 247, 248))\n",
    "    print(\" \")"
   ]
  },
  {
   "cell_type": "markdown",
   "metadata": {},
   "source": [
    "Вывод:\n",
    "Т.к. не получилось отвергнуть нулевую гипотезу ни с одной из групп, считаю, что статистически значимых различий между группами 247 и 248 нет."
   ]
  },
  {
   "cell_type": "markdown",
   "metadata": {},
   "source": [
    "#### А/Б-тест (объединенная группа 246 + 247  и 248 группа)"
   ]
  },
  {
   "cell_type": "markdown",
   "metadata": {},
   "source": [
    "Провожу А/Б-тест. Нулевая гипотеза: Статистически значимых различий между группами А(246+247) и Б(248) нет.\n",
    "Альтернативная гипотеза: Статистически значимые различия между группами А(246+247) и А(248) есть."
   ]
  },
  {
   "cell_type": "code",
   "execution_count": 61,
   "metadata": {},
   "outputs": [
    {
     "name": "stdout",
     "output_type": "stream",
     "text": [
      "MainScreenAppear : ('p-значение: ', 0.29424526837179577, 'Не получилось отвергнуть нулевую гипотезу, нет оснований считать доли разными')\n",
      " \n",
      "OffersScreenAppear : ('p-значение: ', 0.43425549655188256, 'Не получилось отвергнуть нулевую гипотезу, нет оснований считать доли разными')\n",
      " \n",
      "CartScreenAppear : ('p-значение: ', 0.18175875284404386, 'Не получилось отвергнуть нулевую гипотезу, нет оснований считать доли разными')\n",
      " \n",
      "PaymentScreenSuccessful : ('p-значение: ', 0.6004294282308704, 'Не получилось отвергнуть нулевую гипотезу, нет оснований считать доли разными')\n",
      " \n"
     ]
    }
   ],
   "source": [
    "for event in events:\n",
    "    print(event, ':',  comparison(event, 248, 247, 246))\n",
    "    print(\" \")"
   ]
  },
  {
   "cell_type": "markdown",
   "metadata": {},
   "source": [
    "Вывод:\n",
    "Т.к. не получилось отвергнуть нулевую гипотезу ни с одной из групп, считаю, что статистически значимых различий между объединенной группой 246 + 247 и группой 248 нет."
   ]
  },
  {
   "cell_type": "markdown",
   "metadata": {},
   "source": [
    "#### Вывод"
   ]
  },
  {
   "cell_type": "markdown",
   "metadata": {},
   "source": [
    "При проверке гипотез ни разу не удалось отвергнуть нулевую гипотезу, следовательно, новый шрифт никак не влияет на поведение пользователей."
   ]
  },
  {
   "cell_type": "markdown",
   "metadata": {},
   "source": [
    "### Вывод"
   ]
  },
  {
   "cell_type": "markdown",
   "metadata": {},
   "source": [
    "1. Самая большая потеря пользователей при переходе с 1го шага MainScreenAppear на 2й шаг OffersScreenAppear. Возможные причины: нет необходимого товара, сложный поиск товара, сайт слишком долго грузится.\n",
    "2. До шага с оплатой доходит только 47% пользователей.\n",
    "3. Новый шрифт никак не влияет на поведение пользователей."
   ]
  }
 ],
 "metadata": {
  "ExecuteTimeLog": [
   {
    "duration": 585,
    "start_time": "2022-01-17T11:53:31.943Z"
   },
   {
    "duration": 451,
    "start_time": "2022-01-17T11:53:50.322Z"
   },
   {
    "duration": 15,
    "start_time": "2022-01-17T11:53:53.940Z"
   },
   {
    "duration": 61,
    "start_time": "2022-01-17T11:54:06.772Z"
   },
   {
    "duration": 85,
    "start_time": "2022-01-17T11:54:21.872Z"
   },
   {
    "duration": 626,
    "start_time": "2022-01-17T11:54:27.923Z"
   },
   {
    "duration": 8,
    "start_time": "2022-01-17T11:54:32.549Z"
   },
   {
    "duration": 60,
    "start_time": "2022-01-17T11:54:36.335Z"
   },
   {
    "duration": 10,
    "start_time": "2022-01-17T11:54:38.108Z"
   },
   {
    "duration": 130,
    "start_time": "2022-01-17T11:54:44.906Z"
   },
   {
    "duration": 11,
    "start_time": "2022-01-17T11:54:47.277Z"
   },
   {
    "duration": 2,
    "start_time": "2022-01-17T11:58:31.983Z"
   },
   {
    "duration": 136,
    "start_time": "2022-01-17T11:58:31.987Z"
   },
   {
    "duration": 9,
    "start_time": "2022-01-17T11:58:32.125Z"
   },
   {
    "duration": 121,
    "start_time": "2022-01-17T11:58:52.805Z"
   },
   {
    "duration": 51,
    "start_time": "2022-01-17T12:00:31.920Z"
   },
   {
    "duration": 59,
    "start_time": "2022-01-17T12:01:37.862Z"
   },
   {
    "duration": 52,
    "start_time": "2022-01-17T12:01:43.451Z"
   },
   {
    "duration": 16,
    "start_time": "2022-01-17T12:02:38.764Z"
   },
   {
    "duration": 35,
    "start_time": "2022-01-17T12:03:07.812Z"
   },
   {
    "duration": 7,
    "start_time": "2022-01-17T12:04:00.868Z"
   },
   {
    "duration": 26,
    "start_time": "2022-01-17T12:07:08.429Z"
   },
   {
    "duration": 10,
    "start_time": "2022-01-17T12:12:02.326Z"
   },
   {
    "duration": 38,
    "start_time": "2022-01-17T12:13:28.688Z"
   },
   {
    "duration": 233,
    "start_time": "2022-01-17T12:16:55.037Z"
   },
   {
    "duration": 184,
    "start_time": "2022-01-17T12:17:34.461Z"
   },
   {
    "duration": 2,
    "start_time": "2022-01-17T12:17:57.247Z"
   },
   {
    "duration": 165,
    "start_time": "2022-01-17T12:18:01.485Z"
   },
   {
    "duration": 171,
    "start_time": "2022-01-17T12:18:08.337Z"
   },
   {
    "duration": 167,
    "start_time": "2022-01-17T12:18:13.237Z"
   },
   {
    "duration": 1303,
    "start_time": "2022-01-17T12:19:58.993Z"
   },
   {
    "duration": 249,
    "start_time": "2022-01-17T12:20:38.177Z"
   },
   {
    "duration": 3,
    "start_time": "2022-01-17T12:20:51.965Z"
   },
   {
    "duration": 162,
    "start_time": "2022-01-17T12:20:56.332Z"
   },
   {
    "duration": 15,
    "start_time": "2022-01-17T12:28:50.889Z"
   },
   {
    "duration": 21,
    "start_time": "2022-01-17T12:30:05.256Z"
   },
   {
    "duration": 17,
    "start_time": "2022-01-17T12:30:09.896Z"
   },
   {
    "duration": 19,
    "start_time": "2022-01-17T12:30:32.058Z"
   },
   {
    "duration": 224,
    "start_time": "2022-01-17T12:31:01.973Z"
   },
   {
    "duration": 3,
    "start_time": "2022-01-17T12:31:29.143Z"
   },
   {
    "duration": 117,
    "start_time": "2022-01-17T12:31:29.150Z"
   },
   {
    "duration": 24,
    "start_time": "2022-01-17T12:31:29.269Z"
   },
   {
    "duration": 44,
    "start_time": "2022-01-17T12:31:29.295Z"
   },
   {
    "duration": 16,
    "start_time": "2022-01-17T12:31:29.341Z"
   },
   {
    "duration": 36,
    "start_time": "2022-01-17T12:31:29.359Z"
   },
   {
    "duration": 26,
    "start_time": "2022-01-17T12:31:29.397Z"
   },
   {
    "duration": 18,
    "start_time": "2022-01-17T12:31:29.425Z"
   },
   {
    "duration": 192,
    "start_time": "2022-01-17T12:31:29.445Z"
   },
   {
    "duration": 174,
    "start_time": "2022-01-17T12:32:03.821Z"
   },
   {
    "duration": 174,
    "start_time": "2022-01-17T12:32:20.320Z"
   },
   {
    "duration": 15,
    "start_time": "2022-01-17T12:32:25.021Z"
   },
   {
    "duration": 166,
    "start_time": "2022-01-17T12:33:20.089Z"
   },
   {
    "duration": 191,
    "start_time": "2022-01-17T12:33:47.040Z"
   },
   {
    "duration": 174,
    "start_time": "2022-01-17T12:33:50.544Z"
   },
   {
    "duration": 176,
    "start_time": "2022-01-17T12:34:58.775Z"
   },
   {
    "duration": 15,
    "start_time": "2022-01-17T12:38:49.740Z"
   },
   {
    "duration": 21,
    "start_time": "2022-01-17T12:39:01.578Z"
   },
   {
    "duration": 19,
    "start_time": "2022-01-17T12:39:17.429Z"
   },
   {
    "duration": 3,
    "start_time": "2022-01-17T12:39:47.574Z"
   },
   {
    "duration": 150,
    "start_time": "2022-01-17T12:39:47.579Z"
   },
   {
    "duration": 17,
    "start_time": "2022-01-17T12:39:47.730Z"
   },
   {
    "duration": 58,
    "start_time": "2022-01-17T12:39:47.749Z"
   },
   {
    "duration": 16,
    "start_time": "2022-01-17T12:39:47.809Z"
   },
   {
    "duration": 7,
    "start_time": "2022-01-17T12:39:47.827Z"
   },
   {
    "duration": 23,
    "start_time": "2022-01-17T12:39:47.836Z"
   },
   {
    "duration": 36,
    "start_time": "2022-01-17T12:39:47.861Z"
   },
   {
    "duration": 19,
    "start_time": "2022-01-17T12:39:47.899Z"
   },
   {
    "duration": 19,
    "start_time": "2022-01-17T12:42:26.783Z"
   },
   {
    "duration": 237,
    "start_time": "2022-01-17T12:43:50.114Z"
   },
   {
    "duration": 255,
    "start_time": "2022-01-17T12:44:10.245Z"
   },
   {
    "duration": 19,
    "start_time": "2022-01-17T12:44:17.447Z"
   },
   {
    "duration": 97,
    "start_time": "2022-01-17T12:45:02.995Z"
   },
   {
    "duration": 3724,
    "start_time": "2022-01-17T12:49:44.417Z"
   },
   {
    "duration": 74,
    "start_time": "2022-01-17T12:50:17.631Z"
   },
   {
    "duration": 10,
    "start_time": "2022-01-17T12:50:45.622Z"
   },
   {
    "duration": 72,
    "start_time": "2022-01-17T12:51:02.925Z"
   },
   {
    "duration": 92,
    "start_time": "2022-01-17T12:51:34.985Z"
   },
   {
    "duration": 646,
    "start_time": "2022-01-17T12:52:04.810Z"
   },
   {
    "duration": 2,
    "start_time": "2022-01-17T12:52:20.607Z"
   },
   {
    "duration": 130,
    "start_time": "2022-01-17T12:52:20.613Z"
   },
   {
    "duration": 16,
    "start_time": "2022-01-17T12:52:20.745Z"
   },
   {
    "duration": 52,
    "start_time": "2022-01-17T12:52:20.763Z"
   },
   {
    "duration": 14,
    "start_time": "2022-01-17T12:52:20.817Z"
   },
   {
    "duration": 21,
    "start_time": "2022-01-17T12:52:20.833Z"
   },
   {
    "duration": 28,
    "start_time": "2022-01-17T12:52:20.856Z"
   },
   {
    "duration": 68,
    "start_time": "2022-01-17T12:52:20.892Z"
   },
   {
    "duration": 10,
    "start_time": "2022-01-17T12:52:20.962Z"
   },
   {
    "duration": 102,
    "start_time": "2022-01-17T12:52:20.974Z"
   },
   {
    "duration": 4,
    "start_time": "2022-01-17T12:53:53.765Z"
   },
   {
    "duration": 7,
    "start_time": "2022-01-17T12:54:56.728Z"
   },
   {
    "duration": 178,
    "start_time": "2022-01-17T12:55:04.711Z"
   },
   {
    "duration": 7,
    "start_time": "2022-01-17T12:55:11.028Z"
   },
   {
    "duration": 171,
    "start_time": "2022-01-17T12:55:26.307Z"
   },
   {
    "duration": 8,
    "start_time": "2022-01-17T12:55:36.171Z"
   },
   {
    "duration": 35,
    "start_time": "2022-01-17T12:56:35.252Z"
   },
   {
    "duration": 32,
    "start_time": "2022-01-17T12:56:42.969Z"
   },
   {
    "duration": 6,
    "start_time": "2022-01-17T12:59:02.416Z"
   },
   {
    "duration": 20,
    "start_time": "2022-01-17T13:00:31.931Z"
   },
   {
    "duration": 34,
    "start_time": "2022-01-17T13:01:00.384Z"
   },
   {
    "duration": 33,
    "start_time": "2022-01-17T13:01:05.204Z"
   },
   {
    "duration": 34,
    "start_time": "2022-01-17T13:01:33.015Z"
   },
   {
    "duration": 32,
    "start_time": "2022-01-17T13:01:41.899Z"
   },
   {
    "duration": 37,
    "start_time": "2022-01-17T13:01:49.281Z"
   },
   {
    "duration": 6,
    "start_time": "2022-01-17T13:02:21.365Z"
   },
   {
    "duration": 289,
    "start_time": "2022-01-17T13:02:36.012Z"
   },
   {
    "duration": 266,
    "start_time": "2022-01-17T13:02:44.792Z"
   },
   {
    "duration": 232,
    "start_time": "2022-01-17T13:02:51.487Z"
   },
   {
    "duration": 286,
    "start_time": "2022-01-17T13:03:02.369Z"
   },
   {
    "duration": 488,
    "start_time": "2022-01-17T13:04:14.693Z"
   },
   {
    "duration": 2,
    "start_time": "2022-01-17T13:04:38.547Z"
   },
   {
    "duration": 444,
    "start_time": "2022-01-17T13:04:44.152Z"
   },
   {
    "duration": 443,
    "start_time": "2022-01-17T13:04:53.273Z"
   },
   {
    "duration": 3,
    "start_time": "2022-01-17T13:05:46.132Z"
   },
   {
    "duration": 454,
    "start_time": "2022-01-17T13:05:50.537Z"
   },
   {
    "duration": 276,
    "start_time": "2022-01-17T13:05:56.264Z"
   },
   {
    "duration": 358,
    "start_time": "2022-01-17T13:07:41.764Z"
   },
   {
    "duration": 280,
    "start_time": "2022-01-17T13:07:59.731Z"
   },
   {
    "duration": 636,
    "start_time": "2022-01-17T13:09:07.234Z"
   },
   {
    "duration": 681,
    "start_time": "2022-01-17T13:09:39.499Z"
   },
   {
    "duration": 19,
    "start_time": "2022-01-17T13:10:05.937Z"
   },
   {
    "duration": 19,
    "start_time": "2022-01-17T13:10:13.864Z"
   },
   {
    "duration": 21,
    "start_time": "2022-01-17T13:14:04.667Z"
   },
   {
    "duration": 20,
    "start_time": "2022-01-17T13:14:18.180Z"
   },
   {
    "duration": 15,
    "start_time": "2022-01-17T13:14:53.201Z"
   },
   {
    "duration": 6,
    "start_time": "2022-01-17T13:15:13.112Z"
   },
   {
    "duration": 33,
    "start_time": "2022-01-17T13:15:36.563Z"
   },
   {
    "duration": 5,
    "start_time": "2022-01-17T13:15:58.971Z"
   },
   {
    "duration": 168,
    "start_time": "2022-01-17T13:17:52.332Z"
   },
   {
    "duration": 166,
    "start_time": "2022-01-17T13:20:11.963Z"
   },
   {
    "duration": 167,
    "start_time": "2022-01-17T13:20:40.458Z"
   },
   {
    "duration": 685,
    "start_time": "2022-01-17T13:20:56.488Z"
   },
   {
    "duration": 79,
    "start_time": "2022-01-17T13:21:20.602Z"
   },
   {
    "duration": 711,
    "start_time": "2022-01-17T13:23:52.048Z"
   },
   {
    "duration": 259,
    "start_time": "2022-01-17T13:24:14.193Z"
   },
   {
    "duration": 78,
    "start_time": "2022-01-17T13:24:22.477Z"
   },
   {
    "duration": 10,
    "start_time": "2022-01-17T13:24:32.197Z"
   },
   {
    "duration": 10,
    "start_time": "2022-01-17T13:24:38.868Z"
   },
   {
    "duration": 3,
    "start_time": "2022-01-17T13:24:44.079Z"
   },
   {
    "duration": 133,
    "start_time": "2022-01-17T13:24:44.087Z"
   },
   {
    "duration": 14,
    "start_time": "2022-01-17T13:24:44.222Z"
   },
   {
    "duration": 62,
    "start_time": "2022-01-17T13:24:44.238Z"
   },
   {
    "duration": 16,
    "start_time": "2022-01-17T13:24:44.302Z"
   },
   {
    "duration": 6,
    "start_time": "2022-01-17T13:24:44.320Z"
   },
   {
    "duration": 27,
    "start_time": "2022-01-17T13:24:44.328Z"
   },
   {
    "duration": 75,
    "start_time": "2022-01-17T13:24:44.357Z"
   },
   {
    "duration": 9,
    "start_time": "2022-01-17T13:24:44.434Z"
   },
   {
    "duration": 110,
    "start_time": "2022-01-17T13:24:44.445Z"
   },
   {
    "duration": 3,
    "start_time": "2022-01-17T13:24:44.557Z"
   },
   {
    "duration": 6,
    "start_time": "2022-01-17T13:24:44.562Z"
   },
   {
    "duration": 22,
    "start_time": "2022-01-17T13:24:44.570Z"
   },
   {
    "duration": 6,
    "start_time": "2022-01-17T13:24:44.594Z"
   },
   {
    "duration": 311,
    "start_time": "2022-01-17T13:24:44.602Z"
   },
   {
    "duration": 88,
    "start_time": "2022-01-17T13:24:44.915Z"
   },
   {
    "duration": 100,
    "start_time": "2022-01-17T13:24:45.005Z"
   },
   {
    "duration": 10,
    "start_time": "2022-01-17T13:25:28.006Z"
   },
   {
    "duration": 24,
    "start_time": "2022-01-17T13:42:02.479Z"
   },
   {
    "duration": 60,
    "start_time": "2022-01-17T13:43:57.117Z"
   },
   {
    "duration": 52,
    "start_time": "2022-01-17T13:45:13.507Z"
   },
   {
    "duration": 474,
    "start_time": "2022-01-17T13:45:40.096Z"
   },
   {
    "duration": 53,
    "start_time": "2022-01-17T13:45:48.190Z"
   },
   {
    "duration": 55,
    "start_time": "2022-01-17T13:48:03.540Z"
   },
   {
    "duration": 57,
    "start_time": "2022-01-17T13:48:13.767Z"
   },
   {
    "duration": 55,
    "start_time": "2022-01-17T13:49:06.777Z"
   },
   {
    "duration": 59,
    "start_time": "2022-01-17T13:49:30.763Z"
   },
   {
    "duration": 56,
    "start_time": "2022-01-17T13:53:24.374Z"
   },
   {
    "duration": 5024,
    "start_time": "2022-01-17T13:59:43.638Z"
   },
   {
    "duration": 57,
    "start_time": "2022-01-17T14:00:20.569Z"
   },
   {
    "duration": 5,
    "start_time": "2022-01-17T14:00:23.772Z"
   },
   {
    "duration": 4,
    "start_time": "2022-01-17T14:00:35.161Z"
   },
   {
    "duration": 4430,
    "start_time": "2022-01-17T14:54:15.100Z"
   },
   {
    "duration": 4380,
    "start_time": "2022-01-17T14:54:30.445Z"
   },
   {
    "duration": 4,
    "start_time": "2022-01-17T14:55:43.135Z"
   },
   {
    "duration": 204,
    "start_time": "2022-01-17T14:56:59.075Z"
   },
   {
    "duration": 12,
    "start_time": "2022-01-17T14:57:04.703Z"
   },
   {
    "duration": 54,
    "start_time": "2022-01-17T14:57:15.453Z"
   },
   {
    "duration": 10,
    "start_time": "2022-01-17T14:57:18.407Z"
   },
   {
    "duration": 58,
    "start_time": "2022-01-17T14:57:40.121Z"
   },
   {
    "duration": 58,
    "start_time": "2022-01-17T14:57:49.942Z"
   },
   {
    "duration": 168,
    "start_time": "2022-01-17T14:57:53.837Z"
   },
   {
    "duration": 166,
    "start_time": "2022-01-17T14:58:08.777Z"
   },
   {
    "duration": 53,
    "start_time": "2022-01-17T14:58:33.152Z"
   },
   {
    "duration": 54,
    "start_time": "2022-01-17T14:59:13.789Z"
   },
   {
    "duration": 11,
    "start_time": "2022-01-17T14:59:18.313Z"
   },
   {
    "duration": 165,
    "start_time": "2022-01-17T15:03:06.343Z"
   },
   {
    "duration": 10,
    "start_time": "2022-01-17T15:03:19.112Z"
   },
   {
    "duration": 56,
    "start_time": "2022-01-17T15:03:53.912Z"
   },
   {
    "duration": 13,
    "start_time": "2022-01-17T15:04:00.121Z"
   },
   {
    "duration": 10,
    "start_time": "2022-01-17T15:05:06.386Z"
   },
   {
    "duration": 11,
    "start_time": "2022-01-17T15:05:37.100Z"
   },
   {
    "duration": 11,
    "start_time": "2022-01-17T15:05:42.290Z"
   },
   {
    "duration": 11,
    "start_time": "2022-01-17T15:05:56.043Z"
   },
   {
    "duration": 214,
    "start_time": "2022-01-17T15:06:10.111Z"
   },
   {
    "duration": 54,
    "start_time": "2022-01-17T15:06:16.564Z"
   },
   {
    "duration": 161,
    "start_time": "2022-01-17T15:07:45.742Z"
   },
   {
    "duration": 4845,
    "start_time": "2022-01-17T15:14:58.623Z"
   },
   {
    "duration": 276,
    "start_time": "2022-01-17T15:19:11.962Z"
   },
   {
    "duration": 54,
    "start_time": "2022-01-17T15:19:33.125Z"
   },
   {
    "duration": 175,
    "start_time": "2022-01-17T15:20:51.587Z"
   },
   {
    "duration": 4,
    "start_time": "2022-01-17T15:22:23.271Z"
   },
   {
    "duration": 6,
    "start_time": "2022-01-17T15:23:59.714Z"
   },
   {
    "duration": 168,
    "start_time": "2022-01-17T15:24:28.419Z"
   },
   {
    "duration": 5,
    "start_time": "2022-01-17T15:24:34.533Z"
   },
   {
    "duration": 6,
    "start_time": "2022-01-17T15:24:39.234Z"
   },
   {
    "duration": 7,
    "start_time": "2022-01-17T15:25:32.930Z"
   },
   {
    "duration": 4,
    "start_time": "2022-01-17T15:25:44.414Z"
   },
   {
    "duration": 162,
    "start_time": "2022-01-17T15:26:03.285Z"
   },
   {
    "duration": 163,
    "start_time": "2022-01-17T15:26:10.425Z"
   },
   {
    "duration": 166,
    "start_time": "2022-01-17T15:26:17.959Z"
   },
   {
    "duration": 165,
    "start_time": "2022-01-17T15:26:26.175Z"
   },
   {
    "duration": 10,
    "start_time": "2022-01-17T15:26:52.412Z"
   },
   {
    "duration": 11,
    "start_time": "2022-01-17T15:27:39.203Z"
   },
   {
    "duration": 183,
    "start_time": "2022-01-17T15:28:14.134Z"
   },
   {
    "duration": 11,
    "start_time": "2022-01-17T15:28:28.348Z"
   },
   {
    "duration": 10,
    "start_time": "2022-01-17T15:28:33.373Z"
   },
   {
    "duration": 10,
    "start_time": "2022-01-17T15:28:38.211Z"
   },
   {
    "duration": 11,
    "start_time": "2022-01-17T15:29:38.757Z"
   },
   {
    "duration": 13,
    "start_time": "2022-01-17T15:30:03.817Z"
   },
   {
    "duration": 10,
    "start_time": "2022-01-17T15:30:41.739Z"
   },
   {
    "duration": 10,
    "start_time": "2022-01-17T15:30:44.944Z"
   },
   {
    "duration": 164,
    "start_time": "2022-01-17T15:39:52.344Z"
   },
   {
    "duration": 10,
    "start_time": "2022-01-17T15:40:02.482Z"
   },
   {
    "duration": 12,
    "start_time": "2022-01-17T15:45:41.520Z"
   },
   {
    "duration": 39,
    "start_time": "2022-01-17T15:47:01.728Z"
   },
   {
    "duration": 23,
    "start_time": "2022-01-17T15:49:42.985Z"
   },
   {
    "duration": 107,
    "start_time": "2022-01-17T15:50:53.042Z"
   },
   {
    "duration": 104,
    "start_time": "2022-01-17T15:51:09.811Z"
   },
   {
    "duration": 193,
    "start_time": "2022-01-17T15:51:31.343Z"
   },
   {
    "duration": 101,
    "start_time": "2022-01-17T15:51:45.813Z"
   },
   {
    "duration": 28,
    "start_time": "2022-01-17T15:53:27.664Z"
   },
   {
    "duration": 31,
    "start_time": "2022-01-17T15:54:02.003Z"
   },
   {
    "duration": 19,
    "start_time": "2022-01-17T15:54:21.087Z"
   },
   {
    "duration": 291,
    "start_time": "2022-01-17T15:55:01.542Z"
   },
   {
    "duration": 277,
    "start_time": "2022-01-17T15:55:38.322Z"
   },
   {
    "duration": 289,
    "start_time": "2022-01-17T15:56:11.541Z"
   },
   {
    "duration": 667,
    "start_time": "2022-01-18T14:00:50.611Z"
   },
   {
    "duration": 648,
    "start_time": "2022-01-18T14:00:51.280Z"
   },
   {
    "duration": 14,
    "start_time": "2022-01-18T14:00:51.931Z"
   },
   {
    "duration": 57,
    "start_time": "2022-01-18T14:00:51.947Z"
   },
   {
    "duration": 13,
    "start_time": "2022-01-18T14:00:52.006Z"
   },
   {
    "duration": 22,
    "start_time": "2022-01-18T14:00:52.020Z"
   },
   {
    "duration": 22,
    "start_time": "2022-01-18T14:00:52.043Z"
   },
   {
    "duration": 78,
    "start_time": "2022-01-18T14:00:52.067Z"
   },
   {
    "duration": 10,
    "start_time": "2022-01-18T14:00:52.147Z"
   },
   {
    "duration": 107,
    "start_time": "2022-01-18T14:00:52.158Z"
   },
   {
    "duration": 3,
    "start_time": "2022-01-18T14:00:52.266Z"
   },
   {
    "duration": 11,
    "start_time": "2022-01-18T14:00:52.271Z"
   },
   {
    "duration": 5,
    "start_time": "2022-01-18T14:00:52.283Z"
   },
   {
    "duration": 5,
    "start_time": "2022-01-18T14:00:52.290Z"
   },
   {
    "duration": 304,
    "start_time": "2022-01-18T14:00:52.297Z"
   },
   {
    "duration": 86,
    "start_time": "2022-01-18T14:00:52.602Z"
   },
   {
    "duration": 93,
    "start_time": "2022-01-18T14:00:52.690Z"
   },
   {
    "duration": 6,
    "start_time": "2022-01-18T14:00:52.785Z"
   },
   {
    "duration": 22,
    "start_time": "2022-01-18T14:00:52.792Z"
   },
   {
    "duration": 93,
    "start_time": "2022-01-18T14:00:52.815Z"
   },
   {
    "duration": 332,
    "start_time": "2022-01-18T14:00:52.909Z"
   },
   {
    "duration": 625,
    "start_time": "2022-01-18T14:00:52.618Z"
   },
   {
    "duration": 620,
    "start_time": "2022-01-18T14:00:52.624Z"
   },
   {
    "duration": 273,
    "start_time": "2022-01-18T14:01:16.987Z"
   },
   {
    "duration": 12,
    "start_time": "2022-01-18T14:01:26.271Z"
   },
   {
    "duration": 11,
    "start_time": "2022-01-18T14:01:54.122Z"
   },
   {
    "duration": 12,
    "start_time": "2022-01-18T14:02:16.060Z"
   },
   {
    "duration": 11,
    "start_time": "2022-01-18T14:04:08.309Z"
   },
   {
    "duration": 10,
    "start_time": "2022-01-18T14:04:12.655Z"
   },
   {
    "duration": 13,
    "start_time": "2022-01-18T14:04:26.449Z"
   },
   {
    "duration": 14,
    "start_time": "2022-01-18T14:05:24.251Z"
   },
   {
    "duration": 17,
    "start_time": "2022-01-18T14:05:32.455Z"
   },
   {
    "duration": 13,
    "start_time": "2022-01-18T14:06:59.625Z"
   },
   {
    "duration": 117,
    "start_time": "2022-01-18T14:11:20.671Z"
   },
   {
    "duration": 7188,
    "start_time": "2022-01-18T14:11:33.431Z"
   },
   {
    "duration": 7415,
    "start_time": "2022-01-18T14:11:57.690Z"
   },
   {
    "duration": 5929,
    "start_time": "2022-01-18T14:12:09.207Z"
   },
   {
    "duration": 6305,
    "start_time": "2022-01-18T14:12:30.204Z"
   },
   {
    "duration": 15,
    "start_time": "2022-01-18T14:12:47.805Z"
   },
   {
    "duration": 6697,
    "start_time": "2022-01-18T14:13:32.096Z"
   },
   {
    "duration": 6320,
    "start_time": "2022-01-18T14:13:47.231Z"
   },
   {
    "duration": 15,
    "start_time": "2022-01-18T14:13:57.742Z"
   },
   {
    "duration": 19,
    "start_time": "2022-01-18T14:14:32.056Z"
   },
   {
    "duration": 16,
    "start_time": "2022-01-18T14:15:16.060Z"
   },
   {
    "duration": 18,
    "start_time": "2022-01-18T14:15:33.778Z"
   },
   {
    "duration": 14,
    "start_time": "2022-01-18T14:15:39.948Z"
   },
   {
    "duration": 3,
    "start_time": "2022-01-18T14:16:22.590Z"
   },
   {
    "duration": 143,
    "start_time": "2022-01-18T14:16:22.598Z"
   },
   {
    "duration": 15,
    "start_time": "2022-01-18T14:16:22.743Z"
   },
   {
    "duration": 51,
    "start_time": "2022-01-18T14:16:22.760Z"
   },
   {
    "duration": 35,
    "start_time": "2022-01-18T14:16:22.813Z"
   },
   {
    "duration": 6,
    "start_time": "2022-01-18T14:16:22.850Z"
   },
   {
    "duration": 25,
    "start_time": "2022-01-18T14:16:22.857Z"
   },
   {
    "duration": 87,
    "start_time": "2022-01-18T14:16:22.883Z"
   },
   {
    "duration": 13,
    "start_time": "2022-01-18T14:16:22.974Z"
   },
   {
    "duration": 111,
    "start_time": "2022-01-18T14:16:22.990Z"
   },
   {
    "duration": 4,
    "start_time": "2022-01-18T14:16:23.103Z"
   },
   {
    "duration": 9,
    "start_time": "2022-01-18T14:16:23.109Z"
   },
   {
    "duration": 6,
    "start_time": "2022-01-18T14:16:23.120Z"
   },
   {
    "duration": 6,
    "start_time": "2022-01-18T14:16:23.141Z"
   },
   {
    "duration": 292,
    "start_time": "2022-01-18T14:16:23.149Z"
   },
   {
    "duration": 80,
    "start_time": "2022-01-18T14:16:23.443Z"
   },
   {
    "duration": 98,
    "start_time": "2022-01-18T14:16:23.525Z"
   },
   {
    "duration": 20,
    "start_time": "2022-01-18T14:16:23.625Z"
   },
   {
    "duration": 24,
    "start_time": "2022-01-18T14:16:23.646Z"
   },
   {
    "duration": 87,
    "start_time": "2022-01-18T14:16:23.672Z"
   },
   {
    "duration": 70,
    "start_time": "2022-01-18T14:16:23.760Z"
   },
   {
    "duration": 44,
    "start_time": "2022-01-18T14:16:23.831Z"
   },
   {
    "duration": 19,
    "start_time": "2022-01-18T14:16:23.876Z"
   },
   {
    "duration": 14,
    "start_time": "2022-01-18T14:16:39.977Z"
   },
   {
    "duration": 17,
    "start_time": "2022-01-18T14:16:44.934Z"
   },
   {
    "duration": 18,
    "start_time": "2022-01-18T14:16:49.929Z"
   },
   {
    "duration": 3,
    "start_time": "2022-01-18T14:18:09.777Z"
   },
   {
    "duration": 132,
    "start_time": "2022-01-18T14:18:09.785Z"
   },
   {
    "duration": 28,
    "start_time": "2022-01-18T14:18:09.919Z"
   },
   {
    "duration": 54,
    "start_time": "2022-01-18T14:18:09.949Z"
   },
   {
    "duration": 36,
    "start_time": "2022-01-18T14:18:10.005Z"
   },
   {
    "duration": 9,
    "start_time": "2022-01-18T14:18:10.044Z"
   },
   {
    "duration": 32,
    "start_time": "2022-01-18T14:18:10.055Z"
   },
   {
    "duration": 66,
    "start_time": "2022-01-18T14:18:10.089Z"
   },
   {
    "duration": 10,
    "start_time": "2022-01-18T14:18:10.158Z"
   },
   {
    "duration": 111,
    "start_time": "2022-01-18T14:18:10.171Z"
   },
   {
    "duration": 4,
    "start_time": "2022-01-18T14:18:10.284Z"
   },
   {
    "duration": 30,
    "start_time": "2022-01-18T14:18:10.289Z"
   },
   {
    "duration": 36,
    "start_time": "2022-01-18T14:18:10.320Z"
   },
   {
    "duration": 41,
    "start_time": "2022-01-18T14:18:10.357Z"
   },
   {
    "duration": 307,
    "start_time": "2022-01-18T14:18:10.400Z"
   },
   {
    "duration": 83,
    "start_time": "2022-01-18T14:18:10.708Z"
   },
   {
    "duration": 92,
    "start_time": "2022-01-18T14:18:10.792Z"
   },
   {
    "duration": 6,
    "start_time": "2022-01-18T14:18:10.886Z"
   },
   {
    "duration": 23,
    "start_time": "2022-01-18T14:18:10.893Z"
   },
   {
    "duration": 88,
    "start_time": "2022-01-18T14:18:10.917Z"
   },
   {
    "duration": 18,
    "start_time": "2022-01-18T14:18:11.007Z"
   },
   {
    "duration": 35,
    "start_time": "2022-01-18T14:18:11.042Z"
   },
   {
    "duration": 21,
    "start_time": "2022-01-18T14:18:11.079Z"
   },
   {
    "duration": 3,
    "start_time": "2022-01-18T14:26:16.820Z"
   },
   {
    "duration": 2,
    "start_time": "2022-01-18T14:26:38.303Z"
   },
   {
    "duration": 4,
    "start_time": "2022-01-18T14:26:52.689Z"
   },
   {
    "duration": 5,
    "start_time": "2022-01-18T14:27:26.899Z"
   },
   {
    "duration": 4,
    "start_time": "2022-01-18T14:27:32.231Z"
   },
   {
    "duration": 4,
    "start_time": "2022-01-18T14:27:36.487Z"
   },
   {
    "duration": 4,
    "start_time": "2022-01-18T14:27:41.172Z"
   },
   {
    "duration": 234,
    "start_time": "2022-01-18T14:27:47.100Z"
   },
   {
    "duration": 260,
    "start_time": "2022-01-18T14:28:04.346Z"
   },
   {
    "duration": 270,
    "start_time": "2022-01-18T14:28:10.614Z"
   },
   {
    "duration": 4,
    "start_time": "2022-01-18T14:28:42.940Z"
   },
   {
    "duration": 3,
    "start_time": "2022-01-18T14:28:47.674Z"
   },
   {
    "duration": 4,
    "start_time": "2022-01-18T14:28:53.914Z"
   },
   {
    "duration": 663,
    "start_time": "2022-01-20T00:20:33.311Z"
   },
   {
    "duration": 126,
    "start_time": "2022-01-20T00:20:33.976Z"
   },
   {
    "duration": 15,
    "start_time": "2022-01-20T00:20:34.104Z"
   },
   {
    "duration": 62,
    "start_time": "2022-01-20T00:20:34.127Z"
   },
   {
    "duration": 14,
    "start_time": "2022-01-20T00:20:34.191Z"
   },
   {
    "duration": 24,
    "start_time": "2022-01-20T00:20:34.207Z"
   },
   {
    "duration": 24,
    "start_time": "2022-01-20T00:20:34.233Z"
   },
   {
    "duration": 72,
    "start_time": "2022-01-20T00:20:34.260Z"
   },
   {
    "duration": 8,
    "start_time": "2022-01-20T00:20:34.334Z"
   },
   {
    "duration": 95,
    "start_time": "2022-01-20T00:20:34.344Z"
   },
   {
    "duration": 4,
    "start_time": "2022-01-20T00:20:34.440Z"
   },
   {
    "duration": 10,
    "start_time": "2022-01-20T00:20:34.445Z"
   },
   {
    "duration": 4,
    "start_time": "2022-01-20T00:20:34.457Z"
   },
   {
    "duration": 5,
    "start_time": "2022-01-20T00:20:34.463Z"
   },
   {
    "duration": 291,
    "start_time": "2022-01-20T00:20:34.470Z"
   },
   {
    "duration": 81,
    "start_time": "2022-01-20T00:20:34.763Z"
   },
   {
    "duration": 89,
    "start_time": "2022-01-20T00:20:34.845Z"
   },
   {
    "duration": 6,
    "start_time": "2022-01-20T00:20:34.935Z"
   },
   {
    "duration": 20,
    "start_time": "2022-01-20T00:20:34.942Z"
   },
   {
    "duration": 82,
    "start_time": "2022-01-20T00:20:34.964Z"
   },
   {
    "duration": 16,
    "start_time": "2022-01-20T00:20:35.048Z"
   },
   {
    "duration": 40,
    "start_time": "2022-01-20T00:20:35.065Z"
   },
   {
    "duration": 25,
    "start_time": "2022-01-20T00:20:35.108Z"
   },
   {
    "duration": 412,
    "start_time": "2022-01-20T00:21:00.090Z"
   },
   {
    "duration": 406,
    "start_time": "2022-01-20T00:30:57.461Z"
   },
   {
    "duration": 21,
    "start_time": "2022-01-20T00:31:06.179Z"
   },
   {
    "duration": 46,
    "start_time": "2022-01-20T00:31:31.222Z"
   },
   {
    "duration": 54,
    "start_time": "2022-01-20T00:33:20.543Z"
   },
   {
    "duration": 41,
    "start_time": "2022-01-20T00:33:32.516Z"
   },
   {
    "duration": 16,
    "start_time": "2022-01-20T00:34:12.695Z"
   },
   {
    "duration": 30,
    "start_time": "2022-01-20T00:42:59.155Z"
   },
   {
    "duration": 27,
    "start_time": "2022-01-20T00:44:12.254Z"
   },
   {
    "duration": 4,
    "start_time": "2022-01-20T00:57:50.711Z"
   },
   {
    "duration": 47,
    "start_time": "2022-01-20T01:03:11.071Z"
   },
   {
    "duration": 6,
    "start_time": "2022-01-20T01:06:28.957Z"
   },
   {
    "duration": 3,
    "start_time": "2022-01-20T01:06:50.449Z"
   },
   {
    "duration": 3,
    "start_time": "2022-01-20T01:07:08.184Z"
   },
   {
    "duration": 3,
    "start_time": "2022-01-20T01:07:18.940Z"
   },
   {
    "duration": 4,
    "start_time": "2022-01-20T01:07:27.382Z"
   },
   {
    "duration": 5,
    "start_time": "2022-01-20T01:08:58.092Z"
   },
   {
    "duration": 6,
    "start_time": "2022-01-20T01:09:03.895Z"
   },
   {
    "duration": 55,
    "start_time": "2022-01-20T01:12:24.949Z"
   },
   {
    "duration": 6,
    "start_time": "2022-01-20T01:12:27.530Z"
   },
   {
    "duration": 5,
    "start_time": "2022-01-20T01:13:59.981Z"
   },
   {
    "duration": 19,
    "start_time": "2022-01-20T01:14:25.771Z"
   },
   {
    "duration": 5,
    "start_time": "2022-01-20T01:16:10.526Z"
   },
   {
    "duration": 20,
    "start_time": "2022-01-20T01:16:12.816Z"
   },
   {
    "duration": 116,
    "start_time": "2022-01-20T01:16:42.889Z"
   },
   {
    "duration": 4,
    "start_time": "2022-01-20T01:16:52.545Z"
   },
   {
    "duration": 773,
    "start_time": "2022-01-20T01:16:54.784Z"
   },
   {
    "duration": 5,
    "start_time": "2022-01-20T01:17:07.969Z"
   },
   {
    "duration": 19,
    "start_time": "2022-01-20T01:17:09.746Z"
   },
   {
    "duration": 20,
    "start_time": "2022-01-20T01:20:14.056Z"
   },
   {
    "duration": 19,
    "start_time": "2022-01-20T01:20:17.128Z"
   },
   {
    "duration": 20,
    "start_time": "2022-01-20T01:20:19.671Z"
   },
   {
    "duration": 5,
    "start_time": "2022-01-20T01:20:49.321Z"
   },
   {
    "duration": 19,
    "start_time": "2022-01-20T01:20:51.026Z"
   },
   {
    "duration": 4,
    "start_time": "2022-01-20T01:21:03.368Z"
   },
   {
    "duration": 19,
    "start_time": "2022-01-20T01:21:06.290Z"
   },
   {
    "duration": 21,
    "start_time": "2022-01-20T01:21:11.991Z"
   },
   {
    "duration": 21,
    "start_time": "2022-01-20T01:21:15.006Z"
   },
   {
    "duration": 19,
    "start_time": "2022-01-20T01:21:15.916Z"
   },
   {
    "duration": 5,
    "start_time": "2022-01-20T01:21:22.629Z"
   },
   {
    "duration": 19,
    "start_time": "2022-01-20T01:21:23.484Z"
   },
   {
    "duration": 20,
    "start_time": "2022-01-20T01:21:24.092Z"
   },
   {
    "duration": 20,
    "start_time": "2022-01-20T01:21:24.678Z"
   },
   {
    "duration": 19,
    "start_time": "2022-01-20T01:21:25.159Z"
   },
   {
    "duration": 5,
    "start_time": "2022-01-20T01:21:33.905Z"
   },
   {
    "duration": 20,
    "start_time": "2022-01-20T01:21:34.463Z"
   },
   {
    "duration": 19,
    "start_time": "2022-01-20T01:21:34.974Z"
   },
   {
    "duration": 19,
    "start_time": "2022-01-20T01:21:35.765Z"
   },
   {
    "duration": 20,
    "start_time": "2022-01-20T01:21:36.635Z"
   },
   {
    "duration": 4,
    "start_time": "2022-01-20T01:23:02.368Z"
   },
   {
    "duration": 19,
    "start_time": "2022-01-20T01:23:02.981Z"
   },
   {
    "duration": 4,
    "start_time": "2022-01-20T01:23:12.221Z"
   },
   {
    "duration": 4,
    "start_time": "2022-01-20T01:23:24.269Z"
   },
   {
    "duration": 19,
    "start_time": "2022-01-20T01:23:24.806Z"
   },
   {
    "duration": 19,
    "start_time": "2022-01-20T01:23:45.164Z"
   },
   {
    "duration": 42,
    "start_time": "2022-01-20T01:24:59.256Z"
   },
   {
    "duration": 337,
    "start_time": "2022-01-20T01:25:13.389Z"
   },
   {
    "duration": 323,
    "start_time": "2022-01-20T01:25:17.554Z"
   },
   {
    "duration": 60,
    "start_time": "2022-01-20T01:26:44.647Z"
   },
   {
    "duration": 4,
    "start_time": "2022-01-20T01:26:47.195Z"
   },
   {
    "duration": 20,
    "start_time": "2022-01-20T01:26:47.927Z"
   },
   {
    "duration": 20,
    "start_time": "2022-01-20T01:26:48.556Z"
   },
   {
    "duration": 21,
    "start_time": "2022-01-20T01:26:49.109Z"
   },
   {
    "duration": 21,
    "start_time": "2022-01-20T01:26:49.684Z"
   },
   {
    "duration": 67,
    "start_time": "2022-01-20T01:27:17.833Z"
   },
   {
    "duration": 59,
    "start_time": "2022-01-20T01:28:12.597Z"
   },
   {
    "duration": 4,
    "start_time": "2022-01-20T01:28:25.512Z"
   },
   {
    "duration": 21,
    "start_time": "2022-01-20T01:28:26.298Z"
   },
   {
    "duration": 191,
    "start_time": "2022-01-20T01:29:56.822Z"
   },
   {
    "duration": 46,
    "start_time": "2022-01-20T01:30:05.965Z"
   },
   {
    "duration": 7823,
    "start_time": "2022-01-20T01:31:08.707Z"
   },
   {
    "duration": 62,
    "start_time": "2022-01-20T01:31:49.120Z"
   },
   {
    "duration": 9784,
    "start_time": "2022-01-20T01:31:58.656Z"
   },
   {
    "duration": 53,
    "start_time": "2022-01-20T01:32:18.889Z"
   },
   {
    "duration": 61,
    "start_time": "2022-01-20T01:32:59.311Z"
   },
   {
    "duration": 58,
    "start_time": "2022-01-20T01:33:12.586Z"
   },
   {
    "duration": 57,
    "start_time": "2022-01-20T01:33:22.192Z"
   },
   {
    "duration": 58,
    "start_time": "2022-01-20T01:33:31.605Z"
   },
   {
    "duration": 60,
    "start_time": "2022-01-20T01:34:39.060Z"
   },
   {
    "duration": 6,
    "start_time": "2022-01-20T01:34:41.137Z"
   },
   {
    "duration": 22,
    "start_time": "2022-01-20T01:34:43.227Z"
   },
   {
    "duration": 57,
    "start_time": "2022-01-20T01:36:18.945Z"
   },
   {
    "duration": 5,
    "start_time": "2022-01-20T01:36:20.899Z"
   },
   {
    "duration": 22,
    "start_time": "2022-01-20T01:36:21.652Z"
   },
   {
    "duration": 22,
    "start_time": "2022-01-20T01:36:22.217Z"
   },
   {
    "duration": 20,
    "start_time": "2022-01-20T01:36:23.142Z"
   },
   {
    "duration": 21,
    "start_time": "2022-01-20T01:36:23.707Z"
   },
   {
    "duration": 88,
    "start_time": "2022-01-20T01:42:23.979Z"
   },
   {
    "duration": 4,
    "start_time": "2022-01-20T01:44:38.050Z"
   },
   {
    "duration": 4,
    "start_time": "2022-01-20T01:44:50.665Z"
   },
   {
    "duration": 4,
    "start_time": "2022-01-20T01:45:00.489Z"
   },
   {
    "duration": 4,
    "start_time": "2022-01-20T01:45:13.063Z"
   },
   {
    "duration": 5,
    "start_time": "2022-01-20T01:45:20.344Z"
   },
   {
    "duration": 109,
    "start_time": "2022-01-20T01:45:53.640Z"
   },
   {
    "duration": 88,
    "start_time": "2022-01-20T01:46:18.140Z"
   },
   {
    "duration": 93,
    "start_time": "2022-01-20T01:46:21.382Z"
   },
   {
    "duration": 90,
    "start_time": "2022-01-20T01:46:33.740Z"
   },
   {
    "duration": 4,
    "start_time": "2022-01-20T01:46:35.905Z"
   },
   {
    "duration": 5,
    "start_time": "2022-01-20T01:46:37.016Z"
   },
   {
    "duration": 4,
    "start_time": "2022-01-20T01:46:43.080Z"
   },
   {
    "duration": 5,
    "start_time": "2022-01-20T01:46:45.237Z"
   },
   {
    "duration": 5,
    "start_time": "2022-01-20T01:46:46.401Z"
   },
   {
    "duration": 4,
    "start_time": "2022-01-20T01:48:03.119Z"
   },
   {
    "duration": 5,
    "start_time": "2022-01-20T01:48:33.615Z"
   },
   {
    "duration": 5,
    "start_time": "2022-01-20T01:48:42.467Z"
   },
   {
    "duration": 5,
    "start_time": "2022-01-20T01:48:50.555Z"
   },
   {
    "duration": 5,
    "start_time": "2022-01-20T01:49:18.694Z"
   },
   {
    "duration": 5,
    "start_time": "2022-01-20T01:50:16.841Z"
   },
   {
    "duration": 4,
    "start_time": "2022-01-20T01:50:17.968Z"
   },
   {
    "duration": 5,
    "start_time": "2022-01-20T01:50:18.907Z"
   },
   {
    "duration": 136,
    "start_time": "2022-01-20T01:52:24.036Z"
   },
   {
    "duration": 137,
    "start_time": "2022-01-20T01:53:05.007Z"
   },
   {
    "duration": 5,
    "start_time": "2022-01-20T01:53:49.497Z"
   },
   {
    "duration": 4,
    "start_time": "2022-01-20T01:54:42.132Z"
   },
   {
    "duration": 4,
    "start_time": "2022-01-20T01:54:42.678Z"
   },
   {
    "duration": 4,
    "start_time": "2022-01-20T01:54:43.402Z"
   },
   {
    "duration": 4,
    "start_time": "2022-01-20T01:55:35.854Z"
   },
   {
    "duration": 5,
    "start_time": "2022-01-20T01:55:36.469Z"
   },
   {
    "duration": 4,
    "start_time": "2022-01-20T01:55:37.132Z"
   },
   {
    "duration": 4,
    "start_time": "2022-01-20T01:55:37.756Z"
   },
   {
    "duration": 5,
    "start_time": "2022-01-20T01:55:38.448Z"
   },
   {
    "duration": 5,
    "start_time": "2022-01-20T01:55:40.146Z"
   },
   {
    "duration": 4,
    "start_time": "2022-01-20T01:55:40.730Z"
   },
   {
    "duration": 5,
    "start_time": "2022-01-20T01:55:41.261Z"
   },
   {
    "duration": 4,
    "start_time": "2022-01-20T01:55:41.802Z"
   },
   {
    "duration": 5,
    "start_time": "2022-01-20T01:55:45.307Z"
   },
   {
    "duration": 5,
    "start_time": "2022-01-20T01:55:45.865Z"
   },
   {
    "duration": 4,
    "start_time": "2022-01-20T01:55:46.481Z"
   },
   {
    "duration": 5,
    "start_time": "2022-01-20T01:55:47.241Z"
   },
   {
    "duration": 4,
    "start_time": "2022-01-20T01:55:47.822Z"
   },
   {
    "duration": 4,
    "start_time": "2022-01-20T01:55:48.489Z"
   },
   {
    "duration": 6,
    "start_time": "2022-01-20T01:55:49.169Z"
   },
   {
    "duration": 5,
    "start_time": "2022-01-20T01:55:50.043Z"
   },
   {
    "duration": 4,
    "start_time": "2022-01-20T01:55:57.160Z"
   },
   {
    "duration": 4,
    "start_time": "2022-01-20T01:55:57.702Z"
   },
   {
    "duration": 4,
    "start_time": "2022-01-20T01:55:58.161Z"
   },
   {
    "duration": 5,
    "start_time": "2022-01-20T01:55:58.678Z"
   },
   {
    "duration": 5,
    "start_time": "2022-01-20T01:55:59.242Z"
   },
   {
    "duration": 5,
    "start_time": "2022-01-20T01:56:01.028Z"
   },
   {
    "duration": 4,
    "start_time": "2022-01-20T01:56:01.868Z"
   },
   {
    "duration": 5,
    "start_time": "2022-01-20T01:56:02.339Z"
   },
   {
    "duration": 5,
    "start_time": "2022-01-20T01:56:02.749Z"
   },
   {
    "duration": 4,
    "start_time": "2022-01-20T01:56:03.376Z"
   },
   {
    "duration": 5,
    "start_time": "2022-01-20T01:56:03.865Z"
   },
   {
    "duration": 4,
    "start_time": "2022-01-20T01:56:04.378Z"
   },
   {
    "duration": 5,
    "start_time": "2022-01-20T01:56:04.926Z"
   },
   {
    "duration": 4,
    "start_time": "2022-01-20T01:56:05.514Z"
   },
   {
    "duration": 5,
    "start_time": "2022-01-20T01:56:05.976Z"
   },
   {
    "duration": 4,
    "start_time": "2022-01-20T01:56:06.510Z"
   },
   {
    "duration": 4,
    "start_time": "2022-01-20T01:56:07.018Z"
   },
   {
    "duration": 2,
    "start_time": "2022-01-20T02:02:48.136Z"
   },
   {
    "duration": 123,
    "start_time": "2022-01-20T02:02:48.140Z"
   },
   {
    "duration": 13,
    "start_time": "2022-01-20T02:02:48.265Z"
   },
   {
    "duration": 58,
    "start_time": "2022-01-20T02:02:48.280Z"
   },
   {
    "duration": 13,
    "start_time": "2022-01-20T02:02:48.340Z"
   },
   {
    "duration": 6,
    "start_time": "2022-01-20T02:02:48.354Z"
   },
   {
    "duration": 20,
    "start_time": "2022-01-20T02:02:48.362Z"
   },
   {
    "duration": 80,
    "start_time": "2022-01-20T02:02:48.383Z"
   },
   {
    "duration": 9,
    "start_time": "2022-01-20T02:02:48.465Z"
   },
   {
    "duration": 92,
    "start_time": "2022-01-20T02:02:48.476Z"
   },
   {
    "duration": 3,
    "start_time": "2022-01-20T02:02:48.569Z"
   },
   {
    "duration": 7,
    "start_time": "2022-01-20T02:02:48.573Z"
   },
   {
    "duration": 5,
    "start_time": "2022-01-20T02:02:48.581Z"
   },
   {
    "duration": 6,
    "start_time": "2022-01-20T02:02:48.587Z"
   },
   {
    "duration": 273,
    "start_time": "2022-01-20T02:02:48.594Z"
   },
   {
    "duration": 81,
    "start_time": "2022-01-20T02:02:48.869Z"
   },
   {
    "duration": 86,
    "start_time": "2022-01-20T02:02:48.952Z"
   },
   {
    "duration": 6,
    "start_time": "2022-01-20T02:02:49.039Z"
   },
   {
    "duration": 22,
    "start_time": "2022-01-20T02:02:49.046Z"
   },
   {
    "duration": 84,
    "start_time": "2022-01-20T02:02:49.069Z"
   },
   {
    "duration": 17,
    "start_time": "2022-01-20T02:02:49.155Z"
   },
   {
    "duration": 35,
    "start_time": "2022-01-20T02:02:49.173Z"
   },
   {
    "duration": 149,
    "start_time": "2022-01-20T02:02:49.210Z"
   },
   {
    "duration": 4,
    "start_time": "2022-01-20T02:02:49.360Z"
   },
   {
    "duration": 8,
    "start_time": "2022-01-20T02:02:49.366Z"
   },
   {
    "duration": 5,
    "start_time": "2022-01-20T02:02:49.376Z"
   },
   {
    "duration": 4,
    "start_time": "2022-01-20T02:02:49.383Z"
   },
   {
    "duration": 4,
    "start_time": "2022-01-20T02:02:49.389Z"
   },
   {
    "duration": 6,
    "start_time": "2022-01-20T02:02:49.394Z"
   },
   {
    "duration": 4,
    "start_time": "2022-01-20T02:02:49.402Z"
   },
   {
    "duration": 22,
    "start_time": "2022-01-20T02:02:49.407Z"
   },
   {
    "duration": 4,
    "start_time": "2022-01-20T02:02:49.431Z"
   },
   {
    "duration": 5,
    "start_time": "2022-01-20T02:02:49.436Z"
   },
   {
    "duration": 6,
    "start_time": "2022-01-20T02:02:49.442Z"
   },
   {
    "duration": 5,
    "start_time": "2022-01-20T02:02:49.450Z"
   },
   {
    "duration": 5,
    "start_time": "2022-01-20T02:02:49.456Z"
   },
   {
    "duration": 5,
    "start_time": "2022-01-20T02:02:49.462Z"
   },
   {
    "duration": 7,
    "start_time": "2022-01-20T02:02:49.469Z"
   },
   {
    "duration": 5,
    "start_time": "2022-01-20T02:02:49.478Z"
   },
   {
    "duration": 44,
    "start_time": "2022-01-20T02:02:49.485Z"
   },
   {
    "duration": 4,
    "start_time": "2022-01-20T02:23:45.572Z"
   },
   {
    "duration": 4,
    "start_time": "2022-01-20T02:23:49.714Z"
   },
   {
    "duration": 5,
    "start_time": "2022-01-20T02:23:50.754Z"
   },
   {
    "duration": 5,
    "start_time": "2022-01-20T02:23:51.712Z"
   },
   {
    "duration": 5,
    "start_time": "2022-01-20T02:23:54.208Z"
   },
   {
    "duration": 5,
    "start_time": "2022-01-20T02:23:57.479Z"
   },
   {
    "duration": 5,
    "start_time": "2022-01-20T02:23:58.706Z"
   },
   {
    "duration": 6,
    "start_time": "2022-01-20T02:24:01.200Z"
   },
   {
    "duration": 5,
    "start_time": "2022-01-20T02:24:02.717Z"
   },
   {
    "duration": 5,
    "start_time": "2022-01-20T02:24:06.609Z"
   },
   {
    "duration": 4,
    "start_time": "2022-01-20T02:24:07.855Z"
   },
   {
    "duration": 5,
    "start_time": "2022-01-20T02:24:08.776Z"
   },
   {
    "duration": 4,
    "start_time": "2022-01-20T02:24:09.835Z"
   },
   {
    "duration": 4,
    "start_time": "2022-01-20T02:24:13.416Z"
   },
   {
    "duration": 5,
    "start_time": "2022-01-20T02:24:14.923Z"
   },
   {
    "duration": 5,
    "start_time": "2022-01-20T02:24:16.462Z"
   },
   {
    "duration": 5,
    "start_time": "2022-01-20T02:24:19.144Z"
   },
   {
    "duration": 4,
    "start_time": "2022-01-20T02:31:26.627Z"
   },
   {
    "duration": 125,
    "start_time": "2022-01-20T02:31:26.632Z"
   },
   {
    "duration": 14,
    "start_time": "2022-01-20T02:31:26.758Z"
   },
   {
    "duration": 61,
    "start_time": "2022-01-20T02:31:26.774Z"
   },
   {
    "duration": 13,
    "start_time": "2022-01-20T02:31:26.837Z"
   },
   {
    "duration": 7,
    "start_time": "2022-01-20T02:31:26.852Z"
   },
   {
    "duration": 22,
    "start_time": "2022-01-20T02:31:26.861Z"
   },
   {
    "duration": 79,
    "start_time": "2022-01-20T02:31:26.886Z"
   },
   {
    "duration": 10,
    "start_time": "2022-01-20T02:31:26.967Z"
   },
   {
    "duration": 94,
    "start_time": "2022-01-20T02:31:26.978Z"
   },
   {
    "duration": 3,
    "start_time": "2022-01-20T02:31:27.074Z"
   },
   {
    "duration": 6,
    "start_time": "2022-01-20T02:31:27.079Z"
   },
   {
    "duration": 5,
    "start_time": "2022-01-20T02:31:27.087Z"
   },
   {
    "duration": 6,
    "start_time": "2022-01-20T02:31:27.093Z"
   },
   {
    "duration": 369,
    "start_time": "2022-01-20T02:31:27.101Z"
   },
   {
    "duration": 78,
    "start_time": "2022-01-20T02:31:27.471Z"
   },
   {
    "duration": 91,
    "start_time": "2022-01-20T02:31:27.550Z"
   },
   {
    "duration": 6,
    "start_time": "2022-01-20T02:31:27.642Z"
   },
   {
    "duration": 27,
    "start_time": "2022-01-20T02:31:27.649Z"
   },
   {
    "duration": 88,
    "start_time": "2022-01-20T02:31:27.678Z"
   },
   {
    "duration": 17,
    "start_time": "2022-01-20T02:31:27.768Z"
   },
   {
    "duration": 45,
    "start_time": "2022-01-20T02:31:27.787Z"
   },
   {
    "duration": 144,
    "start_time": "2022-01-20T02:31:27.835Z"
   },
   {
    "duration": 4,
    "start_time": "2022-01-20T02:31:27.981Z"
   },
   {
    "duration": 14,
    "start_time": "2022-01-20T02:31:27.986Z"
   },
   {
    "duration": 14,
    "start_time": "2022-01-20T02:31:28.002Z"
   },
   {
    "duration": 8,
    "start_time": "2022-01-20T02:31:28.017Z"
   },
   {
    "duration": 6,
    "start_time": "2022-01-20T02:31:28.026Z"
   },
   {
    "duration": 7,
    "start_time": "2022-01-20T02:31:28.034Z"
   },
   {
    "duration": 5,
    "start_time": "2022-01-20T02:31:28.042Z"
   },
   {
    "duration": 7,
    "start_time": "2022-01-20T02:31:28.048Z"
   },
   {
    "duration": 5,
    "start_time": "2022-01-20T02:31:28.056Z"
   },
   {
    "duration": 6,
    "start_time": "2022-01-20T02:31:28.062Z"
   },
   {
    "duration": 7,
    "start_time": "2022-01-20T02:31:28.069Z"
   },
   {
    "duration": 9,
    "start_time": "2022-01-20T02:31:28.077Z"
   },
   {
    "duration": 9,
    "start_time": "2022-01-20T02:31:28.087Z"
   },
   {
    "duration": 30,
    "start_time": "2022-01-20T02:31:28.098Z"
   },
   {
    "duration": 3,
    "start_time": "2022-01-20T02:31:28.130Z"
   },
   {
    "duration": 8,
    "start_time": "2022-01-20T02:31:28.135Z"
   },
   {
    "duration": 6,
    "start_time": "2022-01-20T02:31:28.144Z"
   },
   {
    "duration": 3,
    "start_time": "2022-01-20T02:33:10.230Z"
   },
   {
    "duration": 125,
    "start_time": "2022-01-20T02:33:10.238Z"
   },
   {
    "duration": 13,
    "start_time": "2022-01-20T02:33:10.365Z"
   },
   {
    "duration": 69,
    "start_time": "2022-01-20T02:33:10.380Z"
   },
   {
    "duration": 13,
    "start_time": "2022-01-20T02:33:10.450Z"
   },
   {
    "duration": 6,
    "start_time": "2022-01-20T02:33:10.465Z"
   },
   {
    "duration": 21,
    "start_time": "2022-01-20T02:33:10.472Z"
   },
   {
    "duration": 69,
    "start_time": "2022-01-20T02:33:10.495Z"
   },
   {
    "duration": 9,
    "start_time": "2022-01-20T02:33:10.567Z"
   },
   {
    "duration": 94,
    "start_time": "2022-01-20T02:33:10.577Z"
   },
   {
    "duration": 3,
    "start_time": "2022-01-20T02:33:10.673Z"
   },
   {
    "duration": 6,
    "start_time": "2022-01-20T02:33:10.678Z"
   },
   {
    "duration": 5,
    "start_time": "2022-01-20T02:33:10.686Z"
   },
   {
    "duration": 6,
    "start_time": "2022-01-20T02:33:10.692Z"
   },
   {
    "duration": 280,
    "start_time": "2022-01-20T02:33:10.699Z"
   },
   {
    "duration": 81,
    "start_time": "2022-01-20T02:33:10.980Z"
   },
   {
    "duration": 96,
    "start_time": "2022-01-20T02:33:11.063Z"
   },
   {
    "duration": 8,
    "start_time": "2022-01-20T02:33:11.161Z"
   },
   {
    "duration": 23,
    "start_time": "2022-01-20T02:33:11.170Z"
   },
   {
    "duration": 82,
    "start_time": "2022-01-20T02:33:11.195Z"
   },
   {
    "duration": 73,
    "start_time": "2022-01-20T02:33:11.279Z"
   },
   {
    "duration": 31,
    "start_time": "2022-01-20T02:33:11.354Z"
   },
   {
    "duration": 154,
    "start_time": "2022-01-20T02:33:11.386Z"
   },
   {
    "duration": 4,
    "start_time": "2022-01-20T02:33:11.543Z"
   },
   {
    "duration": 19,
    "start_time": "2022-01-20T02:33:11.548Z"
   },
   {
    "duration": 18,
    "start_time": "2022-01-20T02:33:11.568Z"
   },
   {
    "duration": 22,
    "start_time": "2022-01-20T02:33:11.587Z"
   },
   {
    "duration": 15,
    "start_time": "2022-01-20T02:33:11.610Z"
   },
   {
    "duration": 12,
    "start_time": "2022-01-20T02:33:11.627Z"
   },
   {
    "duration": 18,
    "start_time": "2022-01-20T02:33:11.640Z"
   },
   {
    "duration": 14,
    "start_time": "2022-01-20T02:33:11.659Z"
   },
   {
    "duration": 19,
    "start_time": "2022-01-20T02:33:11.674Z"
   },
   {
    "duration": 19,
    "start_time": "2022-01-20T02:33:11.694Z"
   },
   {
    "duration": 12,
    "start_time": "2022-01-20T02:33:11.714Z"
   },
   {
    "duration": 17,
    "start_time": "2022-01-20T02:33:11.727Z"
   },
   {
    "duration": 6,
    "start_time": "2022-01-20T02:33:11.745Z"
   },
   {
    "duration": 6,
    "start_time": "2022-01-20T02:33:11.752Z"
   },
   {
    "duration": 5,
    "start_time": "2022-01-20T02:33:11.760Z"
   },
   {
    "duration": 8,
    "start_time": "2022-01-20T02:33:11.767Z"
   },
   {
    "duration": 10,
    "start_time": "2022-01-20T02:33:11.776Z"
   },
   {
    "duration": 3,
    "start_time": "2022-01-20T02:37:44.122Z"
   },
   {
    "duration": 133,
    "start_time": "2022-01-20T02:37:44.127Z"
   },
   {
    "duration": 15,
    "start_time": "2022-01-20T02:37:44.262Z"
   },
   {
    "duration": 66,
    "start_time": "2022-01-20T02:37:44.279Z"
   },
   {
    "duration": 14,
    "start_time": "2022-01-20T02:37:44.347Z"
   },
   {
    "duration": 7,
    "start_time": "2022-01-20T02:37:44.363Z"
   },
   {
    "duration": 21,
    "start_time": "2022-01-20T02:37:44.372Z"
   },
   {
    "duration": 77,
    "start_time": "2022-01-20T02:37:44.394Z"
   },
   {
    "duration": 9,
    "start_time": "2022-01-20T02:37:44.472Z"
   },
   {
    "duration": 93,
    "start_time": "2022-01-20T02:37:44.483Z"
   },
   {
    "duration": 4,
    "start_time": "2022-01-20T02:37:44.578Z"
   },
   {
    "duration": 6,
    "start_time": "2022-01-20T02:37:44.584Z"
   },
   {
    "duration": 5,
    "start_time": "2022-01-20T02:37:44.592Z"
   },
   {
    "duration": 31,
    "start_time": "2022-01-20T02:37:44.598Z"
   },
   {
    "duration": 254,
    "start_time": "2022-01-20T02:37:44.630Z"
   },
   {
    "duration": 82,
    "start_time": "2022-01-20T02:37:44.885Z"
   },
   {
    "duration": 93,
    "start_time": "2022-01-20T02:37:44.968Z"
   },
   {
    "duration": 7,
    "start_time": "2022-01-20T02:37:45.062Z"
   },
   {
    "duration": 19,
    "start_time": "2022-01-20T02:37:45.072Z"
   },
   {
    "duration": 76,
    "start_time": "2022-01-20T02:37:45.093Z"
   },
   {
    "duration": 16,
    "start_time": "2022-01-20T02:37:45.171Z"
   },
   {
    "duration": 46,
    "start_time": "2022-01-20T02:37:45.188Z"
   },
   {
    "duration": 137,
    "start_time": "2022-01-20T02:37:45.236Z"
   },
   {
    "duration": 4,
    "start_time": "2022-01-20T02:37:45.374Z"
   },
   {
    "duration": 7,
    "start_time": "2022-01-20T02:37:45.380Z"
   },
   {
    "duration": 4,
    "start_time": "2022-01-20T02:37:45.389Z"
   },
   {
    "duration": 4,
    "start_time": "2022-01-20T02:37:45.395Z"
   },
   {
    "duration": 4,
    "start_time": "2022-01-20T02:37:45.401Z"
   },
   {
    "duration": 4,
    "start_time": "2022-01-20T02:37:45.427Z"
   },
   {
    "duration": 5,
    "start_time": "2022-01-20T02:37:45.432Z"
   },
   {
    "duration": 5,
    "start_time": "2022-01-20T02:37:45.438Z"
   },
   {
    "duration": 6,
    "start_time": "2022-01-20T02:37:45.444Z"
   },
   {
    "duration": 6,
    "start_time": "2022-01-20T02:37:45.451Z"
   },
   {
    "duration": 5,
    "start_time": "2022-01-20T02:37:45.458Z"
   },
   {
    "duration": 5,
    "start_time": "2022-01-20T02:37:45.464Z"
   },
   {
    "duration": 5,
    "start_time": "2022-01-20T02:37:45.471Z"
   },
   {
    "duration": 5,
    "start_time": "2022-01-20T02:37:45.477Z"
   },
   {
    "duration": 44,
    "start_time": "2022-01-20T02:37:45.483Z"
   },
   {
    "duration": 4,
    "start_time": "2022-01-20T02:37:45.529Z"
   },
   {
    "duration": 7,
    "start_time": "2022-01-20T02:37:45.535Z"
   },
   {
    "duration": 3,
    "start_time": "2022-01-20T02:39:15.194Z"
   },
   {
    "duration": 131,
    "start_time": "2022-01-20T02:39:15.198Z"
   },
   {
    "duration": 14,
    "start_time": "2022-01-20T02:39:15.331Z"
   },
   {
    "duration": 46,
    "start_time": "2022-01-20T02:39:15.347Z"
   },
   {
    "duration": 43,
    "start_time": "2022-01-20T02:39:15.395Z"
   },
   {
    "duration": 8,
    "start_time": "2022-01-20T02:39:15.439Z"
   },
   {
    "duration": 20,
    "start_time": "2022-01-20T02:39:15.448Z"
   },
   {
    "duration": 64,
    "start_time": "2022-01-20T02:39:15.470Z"
   },
   {
    "duration": 8,
    "start_time": "2022-01-20T02:39:15.536Z"
   },
   {
    "duration": 89,
    "start_time": "2022-01-20T02:39:15.546Z"
   },
   {
    "duration": 3,
    "start_time": "2022-01-20T02:39:15.637Z"
   },
   {
    "duration": 11,
    "start_time": "2022-01-20T02:39:15.641Z"
   },
   {
    "duration": 4,
    "start_time": "2022-01-20T02:39:15.654Z"
   },
   {
    "duration": 5,
    "start_time": "2022-01-20T02:39:15.660Z"
   },
   {
    "duration": 271,
    "start_time": "2022-01-20T02:39:15.666Z"
   },
   {
    "duration": 76,
    "start_time": "2022-01-20T02:39:15.939Z"
   },
   {
    "duration": 79,
    "start_time": "2022-01-20T02:39:16.027Z"
   },
   {
    "duration": 6,
    "start_time": "2022-01-20T02:39:16.107Z"
   },
   {
    "duration": 29,
    "start_time": "2022-01-20T02:39:16.115Z"
   },
   {
    "duration": 83,
    "start_time": "2022-01-20T02:39:16.145Z"
   },
   {
    "duration": 16,
    "start_time": "2022-01-20T02:39:16.230Z"
   },
   {
    "duration": 31,
    "start_time": "2022-01-20T02:39:16.247Z"
   },
   {
    "duration": 160,
    "start_time": "2022-01-20T02:39:16.281Z"
   },
   {
    "duration": 4,
    "start_time": "2022-01-20T02:39:16.443Z"
   },
   {
    "duration": 11,
    "start_time": "2022-01-20T02:39:16.448Z"
   },
   {
    "duration": 6,
    "start_time": "2022-01-20T02:39:16.461Z"
   },
   {
    "duration": 5,
    "start_time": "2022-01-20T02:39:16.469Z"
   },
   {
    "duration": 5,
    "start_time": "2022-01-20T02:39:16.475Z"
   },
   {
    "duration": 6,
    "start_time": "2022-01-20T02:39:16.481Z"
   },
   {
    "duration": 6,
    "start_time": "2022-01-20T02:39:16.488Z"
   },
   {
    "duration": 5,
    "start_time": "2022-01-20T02:39:16.495Z"
   },
   {
    "duration": 28,
    "start_time": "2022-01-20T02:39:16.501Z"
   },
   {
    "duration": 5,
    "start_time": "2022-01-20T02:39:16.530Z"
   },
   {
    "duration": 7,
    "start_time": "2022-01-20T02:39:16.536Z"
   },
   {
    "duration": 7,
    "start_time": "2022-01-20T02:39:16.544Z"
   },
   {
    "duration": 6,
    "start_time": "2022-01-20T02:39:16.552Z"
   },
   {
    "duration": 6,
    "start_time": "2022-01-20T02:39:16.559Z"
   },
   {
    "duration": 5,
    "start_time": "2022-01-20T02:39:16.566Z"
   },
   {
    "duration": 5,
    "start_time": "2022-01-20T02:39:16.572Z"
   },
   {
    "duration": 7,
    "start_time": "2022-01-20T02:39:16.578Z"
   },
   {
    "duration": 3,
    "start_time": "2022-01-20T02:40:01.605Z"
   },
   {
    "duration": 137,
    "start_time": "2022-01-20T02:40:01.609Z"
   },
   {
    "duration": 14,
    "start_time": "2022-01-20T02:40:01.748Z"
   },
   {
    "duration": 48,
    "start_time": "2022-01-20T02:40:01.763Z"
   },
   {
    "duration": 23,
    "start_time": "2022-01-20T02:40:01.812Z"
   },
   {
    "duration": 11,
    "start_time": "2022-01-20T02:40:01.837Z"
   },
   {
    "duration": 26,
    "start_time": "2022-01-20T02:40:01.850Z"
   },
   {
    "duration": 67,
    "start_time": "2022-01-20T02:40:01.878Z"
   },
   {
    "duration": 10,
    "start_time": "2022-01-20T02:40:01.948Z"
   },
   {
    "duration": 91,
    "start_time": "2022-01-20T02:40:01.960Z"
   },
   {
    "duration": 4,
    "start_time": "2022-01-20T02:40:02.052Z"
   },
   {
    "duration": 14,
    "start_time": "2022-01-20T02:40:02.057Z"
   },
   {
    "duration": 5,
    "start_time": "2022-01-20T02:40:02.072Z"
   },
   {
    "duration": 9,
    "start_time": "2022-01-20T02:40:02.079Z"
   },
   {
    "duration": 371,
    "start_time": "2022-01-20T02:40:02.089Z"
   },
   {
    "duration": 83,
    "start_time": "2022-01-20T02:40:02.461Z"
   },
   {
    "duration": 88,
    "start_time": "2022-01-20T02:40:02.546Z"
   },
   {
    "duration": 5,
    "start_time": "2022-01-20T02:40:02.636Z"
   },
   {
    "duration": 20,
    "start_time": "2022-01-20T02:40:02.643Z"
   },
   {
    "duration": 84,
    "start_time": "2022-01-20T02:40:02.665Z"
   },
   {
    "duration": 16,
    "start_time": "2022-01-20T02:40:02.751Z"
   },
   {
    "duration": 29,
    "start_time": "2022-01-20T02:40:02.768Z"
   },
   {
    "duration": 150,
    "start_time": "2022-01-20T02:40:02.798Z"
   },
   {
    "duration": 4,
    "start_time": "2022-01-20T02:40:02.950Z"
   },
   {
    "duration": 8,
    "start_time": "2022-01-20T02:40:02.955Z"
   },
   {
    "duration": 10,
    "start_time": "2022-01-20T02:40:02.965Z"
   },
   {
    "duration": 7,
    "start_time": "2022-01-20T02:40:02.978Z"
   },
   {
    "duration": 5,
    "start_time": "2022-01-20T02:40:02.987Z"
   },
   {
    "duration": 6,
    "start_time": "2022-01-20T02:40:02.993Z"
   },
   {
    "duration": 6,
    "start_time": "2022-01-20T02:40:03.000Z"
   },
   {
    "duration": 22,
    "start_time": "2022-01-20T02:40:03.008Z"
   },
   {
    "duration": 9,
    "start_time": "2022-01-20T02:40:03.031Z"
   },
   {
    "duration": 7,
    "start_time": "2022-01-20T02:40:03.041Z"
   },
   {
    "duration": 6,
    "start_time": "2022-01-20T02:40:03.049Z"
   },
   {
    "duration": 6,
    "start_time": "2022-01-20T02:40:03.056Z"
   },
   {
    "duration": 6,
    "start_time": "2022-01-20T02:40:03.063Z"
   },
   {
    "duration": 6,
    "start_time": "2022-01-20T02:40:03.070Z"
   },
   {
    "duration": 9,
    "start_time": "2022-01-20T02:40:03.078Z"
   },
   {
    "duration": 9,
    "start_time": "2022-01-20T02:40:03.088Z"
   },
   {
    "duration": 9,
    "start_time": "2022-01-20T02:40:03.098Z"
   },
   {
    "duration": 3,
    "start_time": "2022-01-20T02:40:27.175Z"
   },
   {
    "duration": 123,
    "start_time": "2022-01-20T02:40:27.180Z"
   },
   {
    "duration": 13,
    "start_time": "2022-01-20T02:40:27.305Z"
   },
   {
    "duration": 44,
    "start_time": "2022-01-20T02:40:27.320Z"
   },
   {
    "duration": 13,
    "start_time": "2022-01-20T02:40:27.366Z"
   },
   {
    "duration": 5,
    "start_time": "2022-01-20T02:40:27.381Z"
   },
   {
    "duration": 40,
    "start_time": "2022-01-20T02:40:27.388Z"
   },
   {
    "duration": 52,
    "start_time": "2022-01-20T02:40:27.430Z"
   },
   {
    "duration": 10,
    "start_time": "2022-01-20T02:40:27.484Z"
   },
   {
    "duration": 99,
    "start_time": "2022-01-20T02:40:27.496Z"
   },
   {
    "duration": 3,
    "start_time": "2022-01-20T02:40:27.597Z"
   },
   {
    "duration": 7,
    "start_time": "2022-01-20T02:40:27.601Z"
   },
   {
    "duration": 17,
    "start_time": "2022-01-20T02:40:27.610Z"
   },
   {
    "duration": 5,
    "start_time": "2022-01-20T02:40:27.629Z"
   },
   {
    "duration": 269,
    "start_time": "2022-01-20T02:40:27.636Z"
   },
   {
    "duration": 86,
    "start_time": "2022-01-20T02:40:27.907Z"
   },
   {
    "duration": 88,
    "start_time": "2022-01-20T02:40:27.994Z"
   },
   {
    "duration": 6,
    "start_time": "2022-01-20T02:40:28.083Z"
   },
   {
    "duration": 20,
    "start_time": "2022-01-20T02:40:28.090Z"
   },
   {
    "duration": 76,
    "start_time": "2022-01-20T02:40:28.112Z"
   },
   {
    "duration": 17,
    "start_time": "2022-01-20T02:40:28.190Z"
   },
   {
    "duration": 48,
    "start_time": "2022-01-20T02:40:28.208Z"
   },
   {
    "duration": 145,
    "start_time": "2022-01-20T02:40:28.257Z"
   },
   {
    "duration": 4,
    "start_time": "2022-01-20T02:40:28.404Z"
   },
   {
    "duration": 17,
    "start_time": "2022-01-20T02:40:28.410Z"
   },
   {
    "duration": 4,
    "start_time": "2022-01-20T02:40:28.428Z"
   },
   {
    "duration": 5,
    "start_time": "2022-01-20T02:40:28.435Z"
   },
   {
    "duration": 6,
    "start_time": "2022-01-20T02:40:28.442Z"
   },
   {
    "duration": 7,
    "start_time": "2022-01-20T02:40:28.450Z"
   },
   {
    "duration": 5,
    "start_time": "2022-01-20T02:40:28.458Z"
   },
   {
    "duration": 4,
    "start_time": "2022-01-20T02:40:28.465Z"
   },
   {
    "duration": 5,
    "start_time": "2022-01-20T02:40:28.471Z"
   },
   {
    "duration": 5,
    "start_time": "2022-01-20T02:40:28.477Z"
   },
   {
    "duration": 5,
    "start_time": "2022-01-20T02:40:28.484Z"
   },
   {
    "duration": 40,
    "start_time": "2022-01-20T02:40:28.490Z"
   },
   {
    "duration": 6,
    "start_time": "2022-01-20T02:40:28.531Z"
   },
   {
    "duration": 6,
    "start_time": "2022-01-20T02:40:28.538Z"
   },
   {
    "duration": 6,
    "start_time": "2022-01-20T02:40:28.545Z"
   },
   {
    "duration": 6,
    "start_time": "2022-01-20T02:40:28.552Z"
   },
   {
    "duration": 13,
    "start_time": "2022-01-20T02:40:28.559Z"
   },
   {
    "duration": 909,
    "start_time": "2022-01-20T19:32:53.083Z"
   },
   {
    "duration": 124,
    "start_time": "2022-01-20T19:32:53.994Z"
   },
   {
    "duration": 17,
    "start_time": "2022-01-20T19:32:54.122Z"
   },
   {
    "duration": 51,
    "start_time": "2022-01-20T19:32:54.141Z"
   },
   {
    "duration": 34,
    "start_time": "2022-01-20T19:32:54.194Z"
   },
   {
    "duration": 7,
    "start_time": "2022-01-20T19:32:54.230Z"
   },
   {
    "duration": 22,
    "start_time": "2022-01-20T19:32:54.241Z"
   },
   {
    "duration": 79,
    "start_time": "2022-01-20T19:32:54.265Z"
   },
   {
    "duration": 10,
    "start_time": "2022-01-20T19:32:54.346Z"
   },
   {
    "duration": 95,
    "start_time": "2022-01-20T19:32:54.357Z"
   },
   {
    "duration": 4,
    "start_time": "2022-01-20T19:32:54.454Z"
   },
   {
    "duration": 9,
    "start_time": "2022-01-20T19:32:54.459Z"
   },
   {
    "duration": 5,
    "start_time": "2022-01-20T19:32:54.470Z"
   },
   {
    "duration": 9,
    "start_time": "2022-01-20T19:32:54.476Z"
   },
   {
    "duration": 289,
    "start_time": "2022-01-20T19:32:54.487Z"
   },
   {
    "duration": 83,
    "start_time": "2022-01-20T19:32:54.777Z"
   },
   {
    "duration": 91,
    "start_time": "2022-01-20T19:32:54.861Z"
   },
   {
    "duration": 5,
    "start_time": "2022-01-20T19:32:54.954Z"
   },
   {
    "duration": 45,
    "start_time": "2022-01-20T19:32:54.960Z"
   },
   {
    "duration": 75,
    "start_time": "2022-01-20T19:32:55.006Z"
   },
   {
    "duration": 17,
    "start_time": "2022-01-20T19:32:55.082Z"
   },
   {
    "duration": 49,
    "start_time": "2022-01-20T19:32:55.102Z"
   },
   {
    "duration": 150,
    "start_time": "2022-01-20T19:32:55.153Z"
   },
   {
    "duration": 6,
    "start_time": "2022-01-20T19:32:55.305Z"
   },
   {
    "duration": 16,
    "start_time": "2022-01-20T19:32:55.312Z"
   },
   {
    "duration": 4,
    "start_time": "2022-01-20T19:32:55.330Z"
   },
   {
    "duration": 8,
    "start_time": "2022-01-20T19:32:55.335Z"
   },
   {
    "duration": 5,
    "start_time": "2022-01-20T19:32:55.344Z"
   },
   {
    "duration": 5,
    "start_time": "2022-01-20T19:32:55.350Z"
   },
   {
    "duration": 6,
    "start_time": "2022-01-20T19:32:55.356Z"
   },
   {
    "duration": 6,
    "start_time": "2022-01-20T19:32:55.363Z"
   },
   {
    "duration": 6,
    "start_time": "2022-01-20T19:32:55.370Z"
   },
   {
    "duration": 5,
    "start_time": "2022-01-20T19:32:55.377Z"
   },
   {
    "duration": 10,
    "start_time": "2022-01-20T19:32:55.383Z"
   },
   {
    "duration": 36,
    "start_time": "2022-01-20T19:32:55.394Z"
   },
   {
    "duration": 15,
    "start_time": "2022-01-20T19:32:55.431Z"
   },
   {
    "duration": 7,
    "start_time": "2022-01-20T19:32:55.448Z"
   },
   {
    "duration": 11,
    "start_time": "2022-01-20T19:32:55.456Z"
   },
   {
    "duration": 5,
    "start_time": "2022-01-20T19:32:55.468Z"
   },
   {
    "duration": 9,
    "start_time": "2022-01-20T19:32:55.474Z"
   },
   {
    "duration": 1387,
    "start_time": "2022-01-20T20:26:35.959Z"
   },
   {
    "duration": 278,
    "start_time": "2022-01-20T20:26:37.349Z"
   },
   {
    "duration": 33,
    "start_time": "2022-01-20T20:26:37.630Z"
   },
   {
    "duration": 75,
    "start_time": "2022-01-20T20:26:37.666Z"
   },
   {
    "duration": 33,
    "start_time": "2022-01-20T20:26:37.743Z"
   },
   {
    "duration": 10,
    "start_time": "2022-01-20T20:26:37.778Z"
   },
   {
    "duration": 29,
    "start_time": "2022-01-20T20:26:37.790Z"
   },
   {
    "duration": 114,
    "start_time": "2022-01-20T20:26:37.822Z"
   },
   {
    "duration": 27,
    "start_time": "2022-01-20T20:26:37.940Z"
   },
   {
    "duration": 142,
    "start_time": "2022-01-20T20:26:37.970Z"
   },
   {
    "duration": 5,
    "start_time": "2022-01-20T20:26:38.114Z"
   },
   {
    "duration": 13,
    "start_time": "2022-01-20T20:26:38.122Z"
   },
   {
    "duration": 26,
    "start_time": "2022-01-20T20:26:38.138Z"
   },
   {
    "duration": 8,
    "start_time": "2022-01-20T20:26:38.166Z"
   },
   {
    "duration": 499,
    "start_time": "2022-01-20T20:26:38.177Z"
   },
   {
    "duration": 140,
    "start_time": "2022-01-20T20:26:38.678Z"
   },
   {
    "duration": 156,
    "start_time": "2022-01-20T20:26:38.820Z"
   },
   {
    "duration": 10,
    "start_time": "2022-01-20T20:26:38.979Z"
   },
   {
    "duration": 29,
    "start_time": "2022-01-20T20:26:38.991Z"
   },
   {
    "duration": 600,
    "start_time": "2022-01-20T20:26:39.023Z"
   },
   {
    "duration": -117,
    "start_time": "2022-01-20T20:26:39.743Z"
   },
   {
    "duration": -125,
    "start_time": "2022-01-20T20:26:39.753Z"
   },
   {
    "duration": -130,
    "start_time": "2022-01-20T20:26:39.759Z"
   },
   {
    "duration": -134,
    "start_time": "2022-01-20T20:26:39.765Z"
   },
   {
    "duration": -137,
    "start_time": "2022-01-20T20:26:39.769Z"
   },
   {
    "duration": -139,
    "start_time": "2022-01-20T20:26:39.772Z"
   },
   {
    "duration": -141,
    "start_time": "2022-01-20T20:26:39.776Z"
   },
   {
    "duration": -144,
    "start_time": "2022-01-20T20:26:39.780Z"
   },
   {
    "duration": -147,
    "start_time": "2022-01-20T20:26:39.784Z"
   },
   {
    "duration": -150,
    "start_time": "2022-01-20T20:26:39.788Z"
   },
   {
    "duration": -152,
    "start_time": "2022-01-20T20:26:39.792Z"
   },
   {
    "duration": -154,
    "start_time": "2022-01-20T20:26:39.795Z"
   },
   {
    "duration": -156,
    "start_time": "2022-01-20T20:26:39.798Z"
   },
   {
    "duration": -166,
    "start_time": "2022-01-20T20:26:39.809Z"
   },
   {
    "duration": -170,
    "start_time": "2022-01-20T20:26:39.815Z"
   },
   {
    "duration": -174,
    "start_time": "2022-01-20T20:26:39.820Z"
   },
   {
    "duration": -178,
    "start_time": "2022-01-20T20:26:39.825Z"
   },
   {
    "duration": -179,
    "start_time": "2022-01-20T20:26:39.828Z"
   },
   {
    "duration": -181,
    "start_time": "2022-01-20T20:26:39.831Z"
   },
   {
    "duration": -183,
    "start_time": "2022-01-20T20:26:39.834Z"
   },
   {
    "duration": 79,
    "start_time": "2022-01-20T20:26:56.423Z"
   },
   {
    "duration": 29,
    "start_time": "2022-01-20T20:29:04.419Z"
   },
   {
    "duration": 26,
    "start_time": "2022-01-20T20:29:32.296Z"
   },
   {
    "duration": 768,
    "start_time": "2022-01-20T20:43:05.333Z"
   },
   {
    "duration": 424,
    "start_time": "2022-01-20T20:44:03.070Z"
   },
   {
    "duration": 356,
    "start_time": "2022-01-20T20:57:26.714Z"
   },
   {
    "duration": 502,
    "start_time": "2022-01-20T20:57:35.098Z"
   },
   {
    "duration": 495,
    "start_time": "2022-01-20T20:58:16.610Z"
   },
   {
    "duration": 6,
    "start_time": "2022-01-20T20:58:24.058Z"
   },
   {
    "duration": 383,
    "start_time": "2022-01-20T20:58:31.762Z"
   },
   {
    "duration": 405,
    "start_time": "2022-01-20T20:58:42.565Z"
   },
   {
    "duration": 355,
    "start_time": "2022-01-20T20:59:41.583Z"
   },
   {
    "duration": 1179,
    "start_time": "2022-01-20T21:00:02.766Z"
   },
   {
    "duration": 282,
    "start_time": "2022-01-20T21:04:15.309Z"
   },
   {
    "duration": 180,
    "start_time": "2022-01-20T21:04:40.503Z"
   },
   {
    "duration": 178,
    "start_time": "2022-01-20T21:05:13.299Z"
   },
   {
    "duration": 4,
    "start_time": "2022-01-20T21:09:02.633Z"
   },
   {
    "duration": 177,
    "start_time": "2022-01-20T21:09:02.640Z"
   },
   {
    "duration": 21,
    "start_time": "2022-01-20T21:09:02.820Z"
   },
   {
    "duration": 70,
    "start_time": "2022-01-20T21:09:02.859Z"
   },
   {
    "duration": 40,
    "start_time": "2022-01-20T21:09:02.931Z"
   },
   {
    "duration": 14,
    "start_time": "2022-01-20T21:09:02.974Z"
   },
   {
    "duration": 82,
    "start_time": "2022-01-20T21:09:02.993Z"
   },
   {
    "duration": 122,
    "start_time": "2022-01-20T21:09:03.079Z"
   },
   {
    "duration": 21,
    "start_time": "2022-01-20T21:09:03.204Z"
   },
   {
    "duration": 146,
    "start_time": "2022-01-20T21:09:03.227Z"
   },
   {
    "duration": 6,
    "start_time": "2022-01-20T21:09:03.375Z"
   },
   {
    "duration": 9,
    "start_time": "2022-01-20T21:09:03.383Z"
   },
   {
    "duration": 9,
    "start_time": "2022-01-20T21:09:03.395Z"
   },
   {
    "duration": 53,
    "start_time": "2022-01-20T21:09:03.407Z"
   },
   {
    "duration": 471,
    "start_time": "2022-01-20T21:09:03.463Z"
   },
   {
    "duration": 146,
    "start_time": "2022-01-20T21:09:03.937Z"
   },
   {
    "duration": 235,
    "start_time": "2022-01-20T21:09:04.087Z"
   },
   {
    "duration": 9,
    "start_time": "2022-01-20T21:09:04.325Z"
   },
   {
    "duration": 59,
    "start_time": "2022-01-20T21:09:04.339Z"
   },
   {
    "duration": 163,
    "start_time": "2022-01-20T21:09:04.403Z"
   },
   {
    "duration": 29,
    "start_time": "2022-01-20T21:09:04.568Z"
   },
   {
    "duration": 202,
    "start_time": "2022-01-20T21:09:04.599Z"
   },
   {
    "duration": 67,
    "start_time": "2022-01-20T21:09:04.803Z"
   },
   {
    "duration": 217,
    "start_time": "2022-01-20T21:09:04.872Z"
   },
   {
    "duration": 7,
    "start_time": "2022-01-20T21:09:05.091Z"
   },
   {
    "duration": 8,
    "start_time": "2022-01-20T21:09:05.100Z"
   },
   {
    "duration": 7,
    "start_time": "2022-01-20T21:09:05.110Z"
   },
   {
    "duration": 41,
    "start_time": "2022-01-20T21:09:05.120Z"
   },
   {
    "duration": 6,
    "start_time": "2022-01-20T21:09:05.164Z"
   },
   {
    "duration": 7,
    "start_time": "2022-01-20T21:09:05.172Z"
   },
   {
    "duration": 6,
    "start_time": "2022-01-20T21:09:05.181Z"
   },
   {
    "duration": 11,
    "start_time": "2022-01-20T21:09:05.189Z"
   },
   {
    "duration": 60,
    "start_time": "2022-01-20T21:09:05.202Z"
   },
   {
    "duration": 8,
    "start_time": "2022-01-20T21:09:05.264Z"
   },
   {
    "duration": 7,
    "start_time": "2022-01-20T21:09:05.275Z"
   },
   {
    "duration": 8,
    "start_time": "2022-01-20T21:09:05.284Z"
   },
   {
    "duration": 6,
    "start_time": "2022-01-20T21:09:05.294Z"
   },
   {
    "duration": 58,
    "start_time": "2022-01-20T21:09:05.303Z"
   },
   {
    "duration": 6,
    "start_time": "2022-01-20T21:09:05.363Z"
   },
   {
    "duration": 6,
    "start_time": "2022-01-20T21:09:05.372Z"
   },
   {
    "duration": 7,
    "start_time": "2022-01-20T21:09:05.380Z"
   },
   {
    "duration": 6,
    "start_time": "2022-01-20T21:09:05.389Z"
   },
   {
    "duration": 17,
    "start_time": "2022-01-20T21:18:31.441Z"
   },
   {
    "duration": 9,
    "start_time": "2022-01-20T21:28:18.931Z"
   },
   {
    "duration": 157,
    "start_time": "2022-01-20T21:28:20.833Z"
   },
   {
    "duration": 499,
    "start_time": "2022-01-20T21:28:29.287Z"
   },
   {
    "duration": 10,
    "start_time": "2022-01-20T21:28:44.531Z"
   },
   {
    "duration": 218,
    "start_time": "2022-01-20T21:28:46.382Z"
   },
   {
    "duration": 357,
    "start_time": "2022-01-20T21:28:49.659Z"
   },
   {
    "duration": 7,
    "start_time": "2022-01-20T21:28:58.756Z"
   },
   {
    "duration": 8,
    "start_time": "2022-01-20T21:29:08.747Z"
   },
   {
    "duration": 6,
    "start_time": "2022-01-20T21:29:13.881Z"
   },
   {
    "duration": 175,
    "start_time": "2022-01-20T21:29:19.124Z"
   },
   {
    "duration": 159,
    "start_time": "2022-01-20T21:29:40.373Z"
   },
   {
    "duration": 171,
    "start_time": "2022-01-20T21:30:03.714Z"
   },
   {
    "duration": 158,
    "start_time": "2022-01-20T21:30:41.355Z"
   },
   {
    "duration": 155,
    "start_time": "2022-01-20T21:30:44.375Z"
   },
   {
    "duration": 8,
    "start_time": "2022-01-20T21:36:18.766Z"
   },
   {
    "duration": 168,
    "start_time": "2022-01-20T21:36:20.698Z"
   },
   {
    "duration": 3,
    "start_time": "2022-01-20T21:37:43.865Z"
   },
   {
    "duration": 233,
    "start_time": "2022-01-20T21:37:48.990Z"
   },
   {
    "duration": 154,
    "start_time": "2022-01-20T21:38:23.602Z"
   },
   {
    "duration": 131,
    "start_time": "2022-01-20T21:38:48.786Z"
   },
   {
    "duration": 125,
    "start_time": "2022-01-20T21:38:54.618Z"
   },
   {
    "duration": 131,
    "start_time": "2022-01-20T21:39:01.416Z"
   },
   {
    "duration": 171,
    "start_time": "2022-01-20T21:39:07.729Z"
   },
   {
    "duration": 156,
    "start_time": "2022-01-20T21:39:28.116Z"
   },
   {
    "duration": 155,
    "start_time": "2022-01-20T21:39:42.685Z"
   },
   {
    "duration": 159,
    "start_time": "2022-01-20T21:39:56.745Z"
   },
   {
    "duration": 1002,
    "start_time": "2022-01-20T21:53:44.203Z"
   },
   {
    "duration": 155,
    "start_time": "2022-01-20T21:53:58.469Z"
   },
   {
    "duration": 8,
    "start_time": "2022-01-20T21:54:25.802Z"
   },
   {
    "duration": 368,
    "start_time": "2022-01-20T21:54:29.483Z"
   },
   {
    "duration": 966,
    "start_time": "2022-01-20T21:54:44.767Z"
   },
   {
    "duration": 376,
    "start_time": "2022-01-20T21:54:48.588Z"
   },
   {
    "duration": 1082,
    "start_time": "2022-01-20T21:54:55.213Z"
   },
   {
    "duration": 8,
    "start_time": "2022-01-20T21:56:16.858Z"
   },
   {
    "duration": 187,
    "start_time": "2022-01-20T21:56:25.615Z"
   },
   {
    "duration": 8,
    "start_time": "2022-01-20T22:00:40.511Z"
   },
   {
    "duration": 798,
    "start_time": "2022-01-20T22:01:12.343Z"
   },
   {
    "duration": 9,
    "start_time": "2022-01-20T22:01:50.822Z"
   },
   {
    "duration": 234,
    "start_time": "2022-01-20T22:01:56.966Z"
   },
   {
    "duration": 9,
    "start_time": "2022-01-20T22:04:03.308Z"
   },
   {
    "duration": 168,
    "start_time": "2022-01-20T22:04:06.928Z"
   },
   {
    "duration": 221,
    "start_time": "2022-01-20T22:04:19.691Z"
   },
   {
    "duration": 156,
    "start_time": "2022-01-20T22:04:34.448Z"
   },
   {
    "duration": 227,
    "start_time": "2022-01-20T22:04:43.689Z"
   },
   {
    "duration": 2511,
    "start_time": "2022-01-20T22:10:13.407Z"
   },
   {
    "duration": 6,
    "start_time": "2022-01-20T22:10:27.253Z"
   },
   {
    "duration": 757,
    "start_time": "2022-01-20T22:10:34.758Z"
   },
   {
    "duration": 6,
    "start_time": "2022-01-20T22:10:51.268Z"
   },
   {
    "duration": 6,
    "start_time": "2022-01-20T22:19:12.442Z"
   },
   {
    "duration": 7,
    "start_time": "2022-01-20T22:19:24.382Z"
   },
   {
    "duration": 6,
    "start_time": "2022-01-20T22:19:36.042Z"
   },
   {
    "duration": 6,
    "start_time": "2022-01-20T22:19:42.804Z"
   },
   {
    "duration": 351,
    "start_time": "2022-01-20T22:20:41.495Z"
   },
   {
    "duration": 376,
    "start_time": "2022-01-20T22:21:00.244Z"
   },
   {
    "duration": 130,
    "start_time": "2022-01-20T22:21:28.415Z"
   },
   {
    "duration": 363,
    "start_time": "2022-01-20T22:21:58.234Z"
   },
   {
    "duration": 6,
    "start_time": "2022-01-20T22:22:17.241Z"
   },
   {
    "duration": 6,
    "start_time": "2022-01-20T22:24:10.043Z"
   },
   {
    "duration": 10,
    "start_time": "2022-01-20T22:25:05.864Z"
   },
   {
    "duration": 9,
    "start_time": "2022-01-20T22:25:19.129Z"
   },
   {
    "duration": 10,
    "start_time": "2022-01-20T22:25:34.021Z"
   },
   {
    "duration": 9,
    "start_time": "2022-01-20T22:25:41.851Z"
   },
   {
    "duration": 15,
    "start_time": "2022-01-20T22:25:56.881Z"
   },
   {
    "duration": 29,
    "start_time": "2022-01-20T22:26:13.318Z"
   },
   {
    "duration": 49,
    "start_time": "2022-01-20T22:26:27.606Z"
   },
   {
    "duration": 7,
    "start_time": "2022-01-20T22:27:06.855Z"
   },
   {
    "duration": 204,
    "start_time": "2022-01-20T22:27:06.864Z"
   },
   {
    "duration": 19,
    "start_time": "2022-01-20T22:27:07.071Z"
   },
   {
    "duration": 92,
    "start_time": "2022-01-20T22:27:07.093Z"
   },
   {
    "duration": 19,
    "start_time": "2022-01-20T22:27:07.187Z"
   },
   {
    "duration": 11,
    "start_time": "2022-01-20T22:27:07.208Z"
   },
   {
    "duration": 59,
    "start_time": "2022-01-20T22:27:07.222Z"
   },
   {
    "duration": 103,
    "start_time": "2022-01-20T22:27:07.285Z"
   },
   {
    "duration": 14,
    "start_time": "2022-01-20T22:27:07.391Z"
   },
   {
    "duration": 146,
    "start_time": "2022-01-20T22:27:07.408Z"
   },
   {
    "duration": 5,
    "start_time": "2022-01-20T22:27:07.559Z"
   },
   {
    "duration": 11,
    "start_time": "2022-01-20T22:27:07.567Z"
   },
   {
    "duration": 11,
    "start_time": "2022-01-20T22:27:07.581Z"
   },
   {
    "duration": 10,
    "start_time": "2022-01-20T22:27:07.595Z"
   },
   {
    "duration": 825,
    "start_time": "2022-01-20T22:27:07.608Z"
   },
   {
    "duration": 153,
    "start_time": "2022-01-20T22:27:08.435Z"
   },
   {
    "duration": 149,
    "start_time": "2022-01-20T22:27:08.591Z"
   },
   {
    "duration": 18,
    "start_time": "2022-01-20T22:27:08.742Z"
   },
   {
    "duration": 37,
    "start_time": "2022-01-20T22:27:08.765Z"
   },
   {
    "duration": 133,
    "start_time": "2022-01-20T22:27:08.805Z"
   },
   {
    "duration": 37,
    "start_time": "2022-01-20T22:27:08.941Z"
   },
   {
    "duration": 210,
    "start_time": "2022-01-20T22:27:08.981Z"
   },
   {
    "duration": 46,
    "start_time": "2022-01-20T22:27:09.193Z"
   },
   {
    "duration": 25,
    "start_time": "2022-01-20T22:27:09.241Z"
   },
   {
    "duration": 8,
    "start_time": "2022-01-20T22:27:09.268Z"
   },
   {
    "duration": 183,
    "start_time": "2022-01-20T22:27:09.279Z"
   },
   {
    "duration": 203,
    "start_time": "2022-01-20T22:27:09.465Z"
   },
   {
    "duration": 260,
    "start_time": "2022-01-20T22:27:09.671Z"
   },
   {
    "duration": 255,
    "start_time": "2022-01-20T22:27:09.934Z"
   },
   {
    "duration": 125,
    "start_time": "2022-01-20T22:28:07.323Z"
   },
   {
    "duration": 181,
    "start_time": "2022-01-20T22:29:03.525Z"
   },
   {
    "duration": 4,
    "start_time": "2022-01-20T22:31:02.765Z"
   },
   {
    "duration": 172,
    "start_time": "2022-01-20T22:31:02.775Z"
   },
   {
    "duration": 19,
    "start_time": "2022-01-20T22:31:02.960Z"
   },
   {
    "duration": 103,
    "start_time": "2022-01-20T22:31:02.983Z"
   },
   {
    "duration": 19,
    "start_time": "2022-01-20T22:31:03.088Z"
   },
   {
    "duration": 11,
    "start_time": "2022-01-20T22:31:03.109Z"
   },
   {
    "duration": 60,
    "start_time": "2022-01-20T22:31:03.122Z"
   },
   {
    "duration": 98,
    "start_time": "2022-01-20T22:31:03.185Z"
   },
   {
    "duration": 14,
    "start_time": "2022-01-20T22:31:03.289Z"
   },
   {
    "duration": 154,
    "start_time": "2022-01-20T22:31:03.308Z"
   },
   {
    "duration": 5,
    "start_time": "2022-01-20T22:31:03.464Z"
   },
   {
    "duration": 8,
    "start_time": "2022-01-20T22:31:03.472Z"
   },
   {
    "duration": 6,
    "start_time": "2022-01-20T22:31:03.483Z"
   },
   {
    "duration": 7,
    "start_time": "2022-01-20T22:31:03.492Z"
   },
   {
    "duration": 523,
    "start_time": "2022-01-20T22:31:03.502Z"
   },
   {
    "duration": 142,
    "start_time": "2022-01-20T22:31:04.028Z"
   },
   {
    "duration": 159,
    "start_time": "2022-01-20T22:31:04.173Z"
   },
   {
    "duration": 25,
    "start_time": "2022-01-20T22:31:04.334Z"
   },
   {
    "duration": 30,
    "start_time": "2022-01-20T22:31:04.361Z"
   },
   {
    "duration": 125,
    "start_time": "2022-01-20T22:31:04.394Z"
   },
   {
    "duration": 39,
    "start_time": "2022-01-20T22:31:04.522Z"
   },
   {
    "duration": 192,
    "start_time": "2022-01-20T22:31:04.563Z"
   },
   {
    "duration": 45,
    "start_time": "2022-01-20T22:31:04.759Z"
   },
   {
    "duration": 8,
    "start_time": "2022-01-20T22:31:04.809Z"
   },
   {
    "duration": 38,
    "start_time": "2022-01-20T22:31:04.820Z"
   },
   {
    "duration": 168,
    "start_time": "2022-01-20T22:31:04.861Z"
   },
   {
    "duration": 183,
    "start_time": "2022-01-20T22:31:05.031Z"
   },
   {
    "duration": 182,
    "start_time": "2022-01-20T22:31:05.217Z"
   },
   {
    "duration": 230,
    "start_time": "2022-01-20T22:31:05.402Z"
   },
   {
    "duration": 10,
    "start_time": "2022-01-20T22:43:27.350Z"
   },
   {
    "duration": 5,
    "start_time": "2022-01-20T22:47:52.853Z"
   },
   {
    "duration": 177,
    "start_time": "2022-01-20T22:47:52.860Z"
   },
   {
    "duration": 37,
    "start_time": "2022-01-20T22:47:53.041Z"
   },
   {
    "duration": 99,
    "start_time": "2022-01-20T22:47:53.081Z"
   },
   {
    "duration": 20,
    "start_time": "2022-01-20T22:47:53.183Z"
   },
   {
    "duration": 10,
    "start_time": "2022-01-20T22:47:53.206Z"
   },
   {
    "duration": 57,
    "start_time": "2022-01-20T22:47:53.219Z"
   },
   {
    "duration": 103,
    "start_time": "2022-01-20T22:47:53.279Z"
   },
   {
    "duration": 15,
    "start_time": "2022-01-20T22:47:53.387Z"
   },
   {
    "duration": 148,
    "start_time": "2022-01-20T22:47:53.406Z"
   },
   {
    "duration": 4,
    "start_time": "2022-01-20T22:47:53.559Z"
   },
   {
    "duration": 9,
    "start_time": "2022-01-20T22:47:53.566Z"
   },
   {
    "duration": 7,
    "start_time": "2022-01-20T22:47:53.577Z"
   },
   {
    "duration": 7,
    "start_time": "2022-01-20T22:47:53.587Z"
   },
   {
    "duration": 503,
    "start_time": "2022-01-20T22:47:53.597Z"
   },
   {
    "duration": 132,
    "start_time": "2022-01-20T22:47:54.102Z"
   },
   {
    "duration": 144,
    "start_time": "2022-01-20T22:47:54.236Z"
   },
   {
    "duration": 10,
    "start_time": "2022-01-20T22:47:54.382Z"
   },
   {
    "duration": 28,
    "start_time": "2022-01-20T22:47:54.394Z"
   },
   {
    "duration": 127,
    "start_time": "2022-01-20T22:47:54.424Z"
   },
   {
    "duration": 28,
    "start_time": "2022-01-20T22:47:54.559Z"
   },
   {
    "duration": 373,
    "start_time": "2022-01-20T22:47:54.589Z"
   },
   {
    "duration": 46,
    "start_time": "2022-01-20T22:47:54.965Z"
   },
   {
    "duration": 10,
    "start_time": "2022-01-20T22:47:55.013Z"
   },
   {
    "duration": 34,
    "start_time": "2022-01-20T22:47:55.025Z"
   },
   {
    "duration": 169,
    "start_time": "2022-01-20T22:47:55.062Z"
   },
   {
    "duration": 182,
    "start_time": "2022-01-20T22:47:55.236Z"
   },
   {
    "duration": 179,
    "start_time": "2022-01-20T22:47:55.420Z"
   },
   {
    "duration": 225,
    "start_time": "2022-01-20T22:47:55.601Z"
   },
   {
    "duration": 1089,
    "start_time": "2022-01-21T09:44:42.654Z"
   },
   {
    "duration": 130,
    "start_time": "2022-01-21T09:44:43.745Z"
   },
   {
    "duration": 16,
    "start_time": "2022-01-21T09:44:43.877Z"
   },
   {
    "duration": 94,
    "start_time": "2022-01-21T09:44:43.895Z"
   },
   {
    "duration": 15,
    "start_time": "2022-01-21T09:44:43.991Z"
   },
   {
    "duration": 47,
    "start_time": "2022-01-21T09:44:44.008Z"
   },
   {
    "duration": 51,
    "start_time": "2022-01-21T09:44:44.057Z"
   },
   {
    "duration": 85,
    "start_time": "2022-01-21T09:44:44.111Z"
   },
   {
    "duration": 10,
    "start_time": "2022-01-21T09:44:44.199Z"
   },
   {
    "duration": 125,
    "start_time": "2022-01-21T09:44:44.211Z"
   },
   {
    "duration": 4,
    "start_time": "2022-01-21T09:44:44.337Z"
   },
   {
    "duration": 39,
    "start_time": "2022-01-21T09:44:44.342Z"
   },
   {
    "duration": 31,
    "start_time": "2022-01-21T09:44:44.383Z"
   },
   {
    "duration": 34,
    "start_time": "2022-01-21T09:44:44.416Z"
   },
   {
    "duration": 308,
    "start_time": "2022-01-21T09:44:44.452Z"
   },
   {
    "duration": 86,
    "start_time": "2022-01-21T09:44:44.762Z"
   },
   {
    "duration": 131,
    "start_time": "2022-01-21T09:44:44.850Z"
   },
   {
    "duration": 6,
    "start_time": "2022-01-21T09:44:44.983Z"
   },
   {
    "duration": 51,
    "start_time": "2022-01-21T09:44:44.990Z"
   },
   {
    "duration": 99,
    "start_time": "2022-01-21T09:44:45.043Z"
   },
   {
    "duration": 17,
    "start_time": "2022-01-21T09:44:45.143Z"
   },
   {
    "duration": 697,
    "start_time": "2022-01-21T09:44:45.162Z"
   },
   {
    "duration": 35,
    "start_time": "2022-01-21T09:44:45.862Z"
   },
   {
    "duration": 6,
    "start_time": "2022-01-21T09:44:45.899Z"
   },
   {
    "duration": 68,
    "start_time": "2022-01-21T09:44:45.906Z"
   },
   {
    "duration": 170,
    "start_time": "2022-01-21T09:44:45.975Z"
   },
   {
    "duration": 137,
    "start_time": "2022-01-21T09:44:46.147Z"
   },
   {
    "duration": 127,
    "start_time": "2022-01-21T09:44:46.286Z"
   },
   {
    "duration": 191,
    "start_time": "2022-01-21T09:44:46.415Z"
   },
   {
    "duration": 1449,
    "start_time": "2022-01-21T13:02:55.995Z"
   },
   {
    "duration": 138,
    "start_time": "2022-01-21T13:02:57.446Z"
   },
   {
    "duration": 19,
    "start_time": "2022-01-21T13:02:57.586Z"
   },
   {
    "duration": 97,
    "start_time": "2022-01-21T13:02:57.607Z"
   },
   {
    "duration": 20,
    "start_time": "2022-01-21T13:02:57.705Z"
   },
   {
    "duration": 37,
    "start_time": "2022-01-21T13:02:57.727Z"
   },
   {
    "duration": 64,
    "start_time": "2022-01-21T13:02:57.766Z"
   },
   {
    "duration": 100,
    "start_time": "2022-01-21T13:02:57.833Z"
   },
   {
    "duration": 19,
    "start_time": "2022-01-21T13:02:57.935Z"
   },
   {
    "duration": 141,
    "start_time": "2022-01-21T13:02:57.956Z"
   },
   {
    "duration": 4,
    "start_time": "2022-01-21T13:02:58.098Z"
   },
   {
    "duration": 70,
    "start_time": "2022-01-21T13:02:58.103Z"
   },
   {
    "duration": 41,
    "start_time": "2022-01-21T13:02:58.175Z"
   },
   {
    "duration": 77,
    "start_time": "2022-01-21T13:02:58.217Z"
   },
   {
    "duration": 371,
    "start_time": "2022-01-21T13:02:58.297Z"
   },
   {
    "duration": 93,
    "start_time": "2022-01-21T13:02:58.670Z"
   },
   {
    "duration": 105,
    "start_time": "2022-01-21T13:02:58.765Z"
   },
   {
    "duration": 8,
    "start_time": "2022-01-21T13:02:58.872Z"
   },
   {
    "duration": 82,
    "start_time": "2022-01-21T13:02:58.881Z"
   },
   {
    "duration": 134,
    "start_time": "2022-01-21T13:02:58.965Z"
   },
   {
    "duration": 20,
    "start_time": "2022-01-21T13:02:59.100Z"
   },
   {
    "duration": 591,
    "start_time": "2022-01-21T13:02:59.121Z"
   },
   {
    "duration": 90,
    "start_time": "2022-01-21T13:02:59.715Z"
   },
   {
    "duration": 10,
    "start_time": "2022-01-21T13:02:59.809Z"
   },
   {
    "duration": 25,
    "start_time": "2022-01-21T13:02:59.822Z"
   },
   {
    "duration": 220,
    "start_time": "2022-01-21T13:02:59.849Z"
   },
   {
    "duration": 159,
    "start_time": "2022-01-21T13:03:00.071Z"
   },
   {
    "duration": 147,
    "start_time": "2022-01-21T13:03:00.232Z"
   },
   {
    "duration": 217,
    "start_time": "2022-01-21T13:03:00.381Z"
   },
   {
    "duration": 7196,
    "start_time": "2022-01-21T13:04:31.499Z"
   },
   {
    "duration": 57,
    "start_time": "2022-01-21T13:04:54.224Z"
   },
   {
    "duration": 61,
    "start_time": "2022-01-21T13:05:08.917Z"
   },
   {
    "duration": 3,
    "start_time": "2022-01-21T13:13:50.634Z"
   },
   {
    "duration": 175,
    "start_time": "2022-01-21T13:13:50.639Z"
   },
   {
    "duration": 16,
    "start_time": "2022-01-21T13:13:50.816Z"
   },
   {
    "duration": 216,
    "start_time": "2022-01-21T13:13:50.834Z"
   },
   {
    "duration": 362,
    "start_time": "2022-01-21T13:13:51.051Z"
   },
   {
    "duration": 59,
    "start_time": "2022-01-21T13:13:51.415Z"
   },
   {
    "duration": 71,
    "start_time": "2022-01-21T13:13:51.475Z"
   },
   {
    "duration": 140,
    "start_time": "2022-01-21T13:13:51.548Z"
   },
   {
    "duration": 30,
    "start_time": "2022-01-21T13:13:51.691Z"
   },
   {
    "duration": 197,
    "start_time": "2022-01-21T13:13:51.724Z"
   },
   {
    "duration": 3,
    "start_time": "2022-01-21T13:13:51.923Z"
   },
   {
    "duration": 43,
    "start_time": "2022-01-21T13:13:51.928Z"
   },
   {
    "duration": 57,
    "start_time": "2022-01-21T13:13:51.973Z"
   },
   {
    "duration": 37,
    "start_time": "2022-01-21T13:13:52.032Z"
   },
   {
    "duration": 416,
    "start_time": "2022-01-21T13:13:52.071Z"
   },
   {
    "duration": 90,
    "start_time": "2022-01-21T13:13:52.489Z"
   },
   {
    "duration": 105,
    "start_time": "2022-01-21T13:13:52.581Z"
   },
   {
    "duration": 10,
    "start_time": "2022-01-21T13:13:52.688Z"
   },
   {
    "duration": 56,
    "start_time": "2022-01-21T13:13:52.700Z"
   },
   {
    "duration": 111,
    "start_time": "2022-01-21T13:13:52.758Z"
   },
   {
    "duration": 137,
    "start_time": "2022-01-21T13:13:52.871Z"
   },
   {
    "duration": 163,
    "start_time": "2022-01-21T13:13:53.010Z"
   },
   {
    "duration": 48,
    "start_time": "2022-01-21T13:13:53.174Z"
   },
   {
    "duration": 33,
    "start_time": "2022-01-21T13:13:53.224Z"
   },
   {
    "duration": 49,
    "start_time": "2022-01-21T13:13:53.259Z"
   },
   {
    "duration": 160,
    "start_time": "2022-01-21T13:13:53.310Z"
   },
   {
    "duration": 146,
    "start_time": "2022-01-21T13:13:53.473Z"
   },
   {
    "duration": 135,
    "start_time": "2022-01-21T13:13:53.621Z"
   },
   {
    "duration": 181,
    "start_time": "2022-01-21T13:13:53.758Z"
   }
  ],
  "kernelspec": {
   "display_name": "Python 3 (ipykernel)",
   "language": "python",
   "name": "python3"
  },
  "language_info": {
   "codemirror_mode": {
    "name": "ipython",
    "version": 3
   },
   "file_extension": ".py",
   "mimetype": "text/x-python",
   "name": "python",
   "nbconvert_exporter": "python",
   "pygments_lexer": "ipython3",
   "version": "3.9.7"
  },
  "toc": {
   "base_numbering": 1,
   "nav_menu": {},
   "number_sections": true,
   "sideBar": true,
   "skip_h1_title": true,
   "title_cell": "Table of Contents",
   "title_sidebar": "Contents",
   "toc_cell": false,
   "toc_position": {},
   "toc_section_display": true,
   "toc_window_display": false
  }
 },
 "nbformat": 4,
 "nbformat_minor": 2
}
