{
 "cells": [
  {
   "cell_type": "markdown",
   "metadata": {},
   "source": [
    "# Выявление закономерностей, определяющих успешность игры"
   ]
  },
  {
   "cell_type": "markdown",
   "metadata": {},
   "source": [
    "Из открытых источников доступны исторические данные о продажах игр, оценки пользователей и экспертов, жанры и платформы на конец 2016 год. Необходимо выявить закономерности, определяющие успешность игры, и спланировать рекламную компанию на 2017 год."
   ]
  },
  {
   "cell_type": "markdown",
   "metadata": {},
   "source": [
    "## Открытие файла с данными и изучение общей информации"
   ]
  },
  {
   "cell_type": "code",
   "execution_count": 1,
   "metadata": {},
   "outputs": [],
   "source": [
    "import pandas as pd\n",
    "import numpy as np\n",
    "import matplotlib.pyplot as plt\n",
    "from scipy import stats as st\n"
   ]
  },
  {
   "cell_type": "code",
   "execution_count": 5,
   "metadata": {},
   "outputs": [
    {
     "data": {
      "text/html": [
       "<div>\n",
       "<style scoped>\n",
       "    .dataframe tbody tr th:only-of-type {\n",
       "        vertical-align: middle;\n",
       "    }\n",
       "\n",
       "    .dataframe tbody tr th {\n",
       "        vertical-align: top;\n",
       "    }\n",
       "\n",
       "    .dataframe thead th {\n",
       "        text-align: right;\n",
       "    }\n",
       "</style>\n",
       "<table border=\"1\" class=\"dataframe\">\n",
       "  <thead>\n",
       "    <tr style=\"text-align: right;\">\n",
       "      <th></th>\n",
       "      <th>Name</th>\n",
       "      <th>Platform</th>\n",
       "      <th>Year_of_Release</th>\n",
       "      <th>Genre</th>\n",
       "      <th>NA_sales</th>\n",
       "      <th>EU_sales</th>\n",
       "      <th>JP_sales</th>\n",
       "      <th>Other_sales</th>\n",
       "      <th>Critic_Score</th>\n",
       "      <th>User_Score</th>\n",
       "      <th>Rating</th>\n",
       "    </tr>\n",
       "  </thead>\n",
       "  <tbody>\n",
       "    <tr>\n",
       "      <th>0</th>\n",
       "      <td>Wii Sports</td>\n",
       "      <td>Wii</td>\n",
       "      <td>2006.0</td>\n",
       "      <td>Sports</td>\n",
       "      <td>41.36</td>\n",
       "      <td>28.96</td>\n",
       "      <td>3.77</td>\n",
       "      <td>8.45</td>\n",
       "      <td>76.0</td>\n",
       "      <td>8</td>\n",
       "      <td>E</td>\n",
       "    </tr>\n",
       "    <tr>\n",
       "      <th>1</th>\n",
       "      <td>Super Mario Bros.</td>\n",
       "      <td>NES</td>\n",
       "      <td>1985.0</td>\n",
       "      <td>Platform</td>\n",
       "      <td>29.08</td>\n",
       "      <td>3.58</td>\n",
       "      <td>6.81</td>\n",
       "      <td>0.77</td>\n",
       "      <td>NaN</td>\n",
       "      <td>NaN</td>\n",
       "      <td>NaN</td>\n",
       "    </tr>\n",
       "    <tr>\n",
       "      <th>2</th>\n",
       "      <td>Mario Kart Wii</td>\n",
       "      <td>Wii</td>\n",
       "      <td>2008.0</td>\n",
       "      <td>Racing</td>\n",
       "      <td>15.68</td>\n",
       "      <td>12.76</td>\n",
       "      <td>3.79</td>\n",
       "      <td>3.29</td>\n",
       "      <td>82.0</td>\n",
       "      <td>8.3</td>\n",
       "      <td>E</td>\n",
       "    </tr>\n",
       "    <tr>\n",
       "      <th>3</th>\n",
       "      <td>Wii Sports Resort</td>\n",
       "      <td>Wii</td>\n",
       "      <td>2009.0</td>\n",
       "      <td>Sports</td>\n",
       "      <td>15.61</td>\n",
       "      <td>10.93</td>\n",
       "      <td>3.28</td>\n",
       "      <td>2.95</td>\n",
       "      <td>80.0</td>\n",
       "      <td>8</td>\n",
       "      <td>E</td>\n",
       "    </tr>\n",
       "    <tr>\n",
       "      <th>4</th>\n",
       "      <td>Pokemon Red/Pokemon Blue</td>\n",
       "      <td>GB</td>\n",
       "      <td>1996.0</td>\n",
       "      <td>Role-Playing</td>\n",
       "      <td>11.27</td>\n",
       "      <td>8.89</td>\n",
       "      <td>10.22</td>\n",
       "      <td>1.00</td>\n",
       "      <td>NaN</td>\n",
       "      <td>NaN</td>\n",
       "      <td>NaN</td>\n",
       "    </tr>\n",
       "    <tr>\n",
       "      <th>...</th>\n",
       "      <td>...</td>\n",
       "      <td>...</td>\n",
       "      <td>...</td>\n",
       "      <td>...</td>\n",
       "      <td>...</td>\n",
       "      <td>...</td>\n",
       "      <td>...</td>\n",
       "      <td>...</td>\n",
       "      <td>...</td>\n",
       "      <td>...</td>\n",
       "      <td>...</td>\n",
       "    </tr>\n",
       "    <tr>\n",
       "      <th>16710</th>\n",
       "      <td>Samurai Warriors: Sanada Maru</td>\n",
       "      <td>PS3</td>\n",
       "      <td>2016.0</td>\n",
       "      <td>Action</td>\n",
       "      <td>0.00</td>\n",
       "      <td>0.00</td>\n",
       "      <td>0.01</td>\n",
       "      <td>0.00</td>\n",
       "      <td>NaN</td>\n",
       "      <td>NaN</td>\n",
       "      <td>NaN</td>\n",
       "    </tr>\n",
       "    <tr>\n",
       "      <th>16711</th>\n",
       "      <td>LMA Manager 2007</td>\n",
       "      <td>X360</td>\n",
       "      <td>2006.0</td>\n",
       "      <td>Sports</td>\n",
       "      <td>0.00</td>\n",
       "      <td>0.01</td>\n",
       "      <td>0.00</td>\n",
       "      <td>0.00</td>\n",
       "      <td>NaN</td>\n",
       "      <td>NaN</td>\n",
       "      <td>NaN</td>\n",
       "    </tr>\n",
       "    <tr>\n",
       "      <th>16712</th>\n",
       "      <td>Haitaka no Psychedelica</td>\n",
       "      <td>PSV</td>\n",
       "      <td>2016.0</td>\n",
       "      <td>Adventure</td>\n",
       "      <td>0.00</td>\n",
       "      <td>0.00</td>\n",
       "      <td>0.01</td>\n",
       "      <td>0.00</td>\n",
       "      <td>NaN</td>\n",
       "      <td>NaN</td>\n",
       "      <td>NaN</td>\n",
       "    </tr>\n",
       "    <tr>\n",
       "      <th>16713</th>\n",
       "      <td>Spirits &amp; Spells</td>\n",
       "      <td>GBA</td>\n",
       "      <td>2003.0</td>\n",
       "      <td>Platform</td>\n",
       "      <td>0.01</td>\n",
       "      <td>0.00</td>\n",
       "      <td>0.00</td>\n",
       "      <td>0.00</td>\n",
       "      <td>NaN</td>\n",
       "      <td>NaN</td>\n",
       "      <td>NaN</td>\n",
       "    </tr>\n",
       "    <tr>\n",
       "      <th>16714</th>\n",
       "      <td>Winning Post 8 2016</td>\n",
       "      <td>PSV</td>\n",
       "      <td>2016.0</td>\n",
       "      <td>Simulation</td>\n",
       "      <td>0.00</td>\n",
       "      <td>0.00</td>\n",
       "      <td>0.01</td>\n",
       "      <td>0.00</td>\n",
       "      <td>NaN</td>\n",
       "      <td>NaN</td>\n",
       "      <td>NaN</td>\n",
       "    </tr>\n",
       "  </tbody>\n",
       "</table>\n",
       "<p>16715 rows × 11 columns</p>\n",
       "</div>"
      ],
      "text/plain": [
       "                                Name Platform  Year_of_Release         Genre  \\\n",
       "0                         Wii Sports      Wii           2006.0        Sports   \n",
       "1                  Super Mario Bros.      NES           1985.0      Platform   \n",
       "2                     Mario Kart Wii      Wii           2008.0        Racing   \n",
       "3                  Wii Sports Resort      Wii           2009.0        Sports   \n",
       "4           Pokemon Red/Pokemon Blue       GB           1996.0  Role-Playing   \n",
       "...                              ...      ...              ...           ...   \n",
       "16710  Samurai Warriors: Sanada Maru      PS3           2016.0        Action   \n",
       "16711               LMA Manager 2007     X360           2006.0        Sports   \n",
       "16712        Haitaka no Psychedelica      PSV           2016.0     Adventure   \n",
       "16713               Spirits & Spells      GBA           2003.0      Platform   \n",
       "16714            Winning Post 8 2016      PSV           2016.0    Simulation   \n",
       "\n",
       "       NA_sales  EU_sales  JP_sales  Other_sales  Critic_Score User_Score  \\\n",
       "0         41.36     28.96      3.77         8.45          76.0          8   \n",
       "1         29.08      3.58      6.81         0.77           NaN        NaN   \n",
       "2         15.68     12.76      3.79         3.29          82.0        8.3   \n",
       "3         15.61     10.93      3.28         2.95          80.0          8   \n",
       "4         11.27      8.89     10.22         1.00           NaN        NaN   \n",
       "...         ...       ...       ...          ...           ...        ...   \n",
       "16710      0.00      0.00      0.01         0.00           NaN        NaN   \n",
       "16711      0.00      0.01      0.00         0.00           NaN        NaN   \n",
       "16712      0.00      0.00      0.01         0.00           NaN        NaN   \n",
       "16713      0.01      0.00      0.00         0.00           NaN        NaN   \n",
       "16714      0.00      0.00      0.01         0.00           NaN        NaN   \n",
       "\n",
       "      Rating  \n",
       "0          E  \n",
       "1        NaN  \n",
       "2          E  \n",
       "3          E  \n",
       "4        NaN  \n",
       "...      ...  \n",
       "16710    NaN  \n",
       "16711    NaN  \n",
       "16712    NaN  \n",
       "16713    NaN  \n",
       "16714    NaN  \n",
       "\n",
       "[16715 rows x 11 columns]"
      ]
     },
     "execution_count": 5,
     "metadata": {},
     "output_type": "execute_result"
    }
   ],
   "source": [
    "data = pd.read_csv('./games.csv')\n",
    "data"
   ]
  },
  {
   "cell_type": "code",
   "execution_count": 6,
   "metadata": {},
   "outputs": [
    {
     "name": "stdout",
     "output_type": "stream",
     "text": [
      "<class 'pandas.core.frame.DataFrame'>\n",
      "RangeIndex: 16715 entries, 0 to 16714\n",
      "Data columns (total 11 columns):\n",
      " #   Column           Non-Null Count  Dtype  \n",
      "---  ------           --------------  -----  \n",
      " 0   Name             16713 non-null  object \n",
      " 1   Platform         16715 non-null  object \n",
      " 2   Year_of_Release  16446 non-null  float64\n",
      " 3   Genre            16713 non-null  object \n",
      " 4   NA_sales         16715 non-null  float64\n",
      " 5   EU_sales         16715 non-null  float64\n",
      " 6   JP_sales         16715 non-null  float64\n",
      " 7   Other_sales      16715 non-null  float64\n",
      " 8   Critic_Score     8137 non-null   float64\n",
      " 9   User_Score       10014 non-null  object \n",
      " 10  Rating           9949 non-null   object \n",
      "dtypes: float64(6), object(5)\n",
      "memory usage: 1.4+ MB\n"
     ]
    }
   ],
   "source": [
    "data.info()"
   ]
  },
  {
   "cell_type": "code",
   "execution_count": 7,
   "metadata": {},
   "outputs": [
    {
     "data": {
      "text/html": [
       "<div>\n",
       "<style scoped>\n",
       "    .dataframe tbody tr th:only-of-type {\n",
       "        vertical-align: middle;\n",
       "    }\n",
       "\n",
       "    .dataframe tbody tr th {\n",
       "        vertical-align: top;\n",
       "    }\n",
       "\n",
       "    .dataframe thead th {\n",
       "        text-align: right;\n",
       "    }\n",
       "</style>\n",
       "<table border=\"1\" class=\"dataframe\">\n",
       "  <thead>\n",
       "    <tr style=\"text-align: right;\">\n",
       "      <th></th>\n",
       "      <th>Year_of_Release</th>\n",
       "      <th>NA_sales</th>\n",
       "      <th>EU_sales</th>\n",
       "      <th>JP_sales</th>\n",
       "      <th>Other_sales</th>\n",
       "      <th>Critic_Score</th>\n",
       "    </tr>\n",
       "  </thead>\n",
       "  <tbody>\n",
       "    <tr>\n",
       "      <th>count</th>\n",
       "      <td>16446.000000</td>\n",
       "      <td>16715.000000</td>\n",
       "      <td>16715.000000</td>\n",
       "      <td>16715.000000</td>\n",
       "      <td>16715.000000</td>\n",
       "      <td>8137.000000</td>\n",
       "    </tr>\n",
       "    <tr>\n",
       "      <th>mean</th>\n",
       "      <td>2006.484616</td>\n",
       "      <td>0.263377</td>\n",
       "      <td>0.145060</td>\n",
       "      <td>0.077617</td>\n",
       "      <td>0.047342</td>\n",
       "      <td>68.967679</td>\n",
       "    </tr>\n",
       "    <tr>\n",
       "      <th>std</th>\n",
       "      <td>5.877050</td>\n",
       "      <td>0.813604</td>\n",
       "      <td>0.503339</td>\n",
       "      <td>0.308853</td>\n",
       "      <td>0.186731</td>\n",
       "      <td>13.938165</td>\n",
       "    </tr>\n",
       "    <tr>\n",
       "      <th>min</th>\n",
       "      <td>1980.000000</td>\n",
       "      <td>0.000000</td>\n",
       "      <td>0.000000</td>\n",
       "      <td>0.000000</td>\n",
       "      <td>0.000000</td>\n",
       "      <td>13.000000</td>\n",
       "    </tr>\n",
       "    <tr>\n",
       "      <th>25%</th>\n",
       "      <td>2003.000000</td>\n",
       "      <td>0.000000</td>\n",
       "      <td>0.000000</td>\n",
       "      <td>0.000000</td>\n",
       "      <td>0.000000</td>\n",
       "      <td>60.000000</td>\n",
       "    </tr>\n",
       "    <tr>\n",
       "      <th>50%</th>\n",
       "      <td>2007.000000</td>\n",
       "      <td>0.080000</td>\n",
       "      <td>0.020000</td>\n",
       "      <td>0.000000</td>\n",
       "      <td>0.010000</td>\n",
       "      <td>71.000000</td>\n",
       "    </tr>\n",
       "    <tr>\n",
       "      <th>75%</th>\n",
       "      <td>2010.000000</td>\n",
       "      <td>0.240000</td>\n",
       "      <td>0.110000</td>\n",
       "      <td>0.040000</td>\n",
       "      <td>0.030000</td>\n",
       "      <td>79.000000</td>\n",
       "    </tr>\n",
       "    <tr>\n",
       "      <th>max</th>\n",
       "      <td>2016.000000</td>\n",
       "      <td>41.360000</td>\n",
       "      <td>28.960000</td>\n",
       "      <td>10.220000</td>\n",
       "      <td>10.570000</td>\n",
       "      <td>98.000000</td>\n",
       "    </tr>\n",
       "  </tbody>\n",
       "</table>\n",
       "</div>"
      ],
      "text/plain": [
       "       Year_of_Release      NA_sales      EU_sales      JP_sales  \\\n",
       "count     16446.000000  16715.000000  16715.000000  16715.000000   \n",
       "mean       2006.484616      0.263377      0.145060      0.077617   \n",
       "std           5.877050      0.813604      0.503339      0.308853   \n",
       "min        1980.000000      0.000000      0.000000      0.000000   \n",
       "25%        2003.000000      0.000000      0.000000      0.000000   \n",
       "50%        2007.000000      0.080000      0.020000      0.000000   \n",
       "75%        2010.000000      0.240000      0.110000      0.040000   \n",
       "max        2016.000000     41.360000     28.960000     10.220000   \n",
       "\n",
       "        Other_sales  Critic_Score  \n",
       "count  16715.000000   8137.000000  \n",
       "mean       0.047342     68.967679  \n",
       "std        0.186731     13.938165  \n",
       "min        0.000000     13.000000  \n",
       "25%        0.000000     60.000000  \n",
       "50%        0.010000     71.000000  \n",
       "75%        0.030000     79.000000  \n",
       "max       10.570000     98.000000  "
      ]
     },
     "execution_count": 7,
     "metadata": {},
     "output_type": "execute_result"
    }
   ],
   "source": [
    "data.describe()"
   ]
  },
  {
   "cell_type": "code",
   "execution_count": 8,
   "metadata": {},
   "outputs": [
    {
     "data": {
      "text/plain": [
       "Name                  2\n",
       "Platform              0\n",
       "Year_of_Release     269\n",
       "Genre                 2\n",
       "NA_sales              0\n",
       "EU_sales              0\n",
       "JP_sales              0\n",
       "Other_sales           0\n",
       "Critic_Score       8578\n",
       "User_Score         6701\n",
       "Rating             6766\n",
       "dtype: int64"
      ]
     },
     "execution_count": 8,
     "metadata": {},
     "output_type": "execute_result"
    }
   ],
   "source": [
    "data.isna().sum()"
   ]
  },
  {
   "cell_type": "code",
   "execution_count": 9,
   "metadata": {},
   "outputs": [
    {
     "name": "stdout",
     "output_type": "stream",
     "text": [
      "Nihon Pro Mahjong Kishikai Kanshuu: Pro Ni Naru Mahjong DS     1\n",
      "Fade to Black                                                  1\n",
      "MXRider                                                        1\n",
      "Disney Magic World 2                                           1\n",
      "Sengoku Musou 3 Z                                              1\n",
      "                                                              ..\n",
      "Madden NFL 07                                                  9\n",
      "FIFA 14                                                        9\n",
      "LEGO Marvel Super Heroes                                       9\n",
      "Ratatouille                                                    9\n",
      "Need for Speed: Most Wanted                                   12\n",
      "Name: Name, Length: 11559, dtype: int64\n",
      "PCFX       1\n",
      "GG         1\n",
      "TG16       2\n",
      "3DO        3\n",
      "WS         6\n",
      "SCD        6\n",
      "NG        12\n",
      "GEN       29\n",
      "DC        52\n",
      "GB        98\n",
      "NES       98\n",
      "2600     133\n",
      "WiiU     147\n",
      "SAT      173\n",
      "SNES     239\n",
      "XOne     247\n",
      "N64      319\n",
      "PS4      392\n",
      "PSV      430\n",
      "3DS      520\n",
      "GC       556\n",
      "GBA      822\n",
      "XB       824\n",
      "PC       974\n",
      "PS      1197\n",
      "PSP     1209\n",
      "X360    1262\n",
      "Wii     1320\n",
      "PS3     1331\n",
      "DS      2151\n",
      "PS2     2161\n",
      "Name: Platform, dtype: int64\n",
      "1980.0       9\n",
      "1984.0      14\n",
      "1985.0      14\n",
      "1988.0      15\n",
      "1987.0      16\n",
      "1990.0      16\n",
      "1983.0      17\n",
      "1989.0      17\n",
      "1986.0      21\n",
      "1982.0      36\n",
      "1991.0      41\n",
      "1992.0      43\n",
      "1981.0      46\n",
      "1993.0      62\n",
      "1994.0     121\n",
      "1995.0     219\n",
      "1996.0     263\n",
      "1997.0     289\n",
      "1999.0     338\n",
      "2000.0     350\n",
      "1998.0     379\n",
      "2001.0     482\n",
      "2016.0     502\n",
      "2013.0     544\n",
      "2014.0     581\n",
      "2015.0     606\n",
      "2012.0     653\n",
      "2004.0     762\n",
      "2003.0     775\n",
      "2002.0     829\n",
      "2005.0     939\n",
      "2006.0    1006\n",
      "2011.0    1136\n",
      "2007.0    1197\n",
      "2010.0    1255\n",
      "2009.0    1426\n",
      "2008.0    1427\n",
      "Name: Year_of_Release, dtype: int64\n",
      "Puzzle           580\n",
      "Strategy         683\n",
      "Fighting         849\n",
      "Simulation       873\n",
      "Platform         888\n",
      "Racing          1249\n",
      "Adventure       1303\n",
      "Shooter         1323\n",
      "Role-Playing    1498\n",
      "Misc            1750\n",
      "Sports          2348\n",
      "Action          3369\n",
      "Name: Genre, dtype: int64\n",
      "41.36       1\n",
      "14.44       1\n",
      "13.96       1\n",
      "11.28       1\n",
      "11.27       1\n",
      "         ... \n",
      "0.01      545\n",
      "0.04      549\n",
      "0.03      561\n",
      "0.02      576\n",
      "0.00     4508\n",
      "Name: NA_sales, Length: 402, dtype: int64\n",
      "28.96       1\n",
      "8.03        1\n",
      "4.89        1\n",
      "1.07        1\n",
      "8.49        1\n",
      "         ... \n",
      "0.04      709\n",
      "0.03      926\n",
      "0.02     1308\n",
      "0.01     1494\n",
      "0.00     5870\n",
      "Name: EU_sales, Length: 307, dtype: int64\n",
      "0.97         1\n",
      "3.79         1\n",
      "1.17         1\n",
      "1.14         1\n",
      "10.22        1\n",
      "         ...  \n",
      "0.04       397\n",
      "0.03       546\n",
      "0.01       706\n",
      "0.02       741\n",
      "0.00     10514\n",
      "Name: JP_sales, Length: 244, dtype: int64\n",
      "0.93        1\n",
      "1.69        1\n",
      "1.77        1\n",
      "3.96        1\n",
      "10.57       1\n",
      "         ... \n",
      "0.04      654\n",
      "0.03      926\n",
      "0.02     1618\n",
      "0.01     3464\n",
      "0.00     6601\n",
      "Name: Other_sales, Length: 155, dtype: int64\n",
      "13.0      1\n",
      "21.0      1\n",
      "22.0      1\n",
      "17.0      1\n",
      "20.0      3\n",
      "       ... \n",
      "73.0    238\n",
      "78.0    240\n",
      "75.0    245\n",
      "71.0    254\n",
      "70.0    256\n",
      "Name: Critic_Score, Length: 82, dtype: int64\n",
      "9.7       1\n",
      "0         1\n",
      "1.9       2\n",
      "0.5       2\n",
      "0.9       2\n",
      "       ... \n",
      "8.3     254\n",
      "8.2     282\n",
      "8       290\n",
      "7.8     324\n",
      "tbd    2424\n",
      "Name: User_Score, Length: 96, dtype: int64\n",
      "AO         1\n",
      "K-A        3\n",
      "RP         3\n",
      "EC         8\n",
      "E10+    1420\n",
      "M       1563\n",
      "T       2961\n",
      "E       3990\n",
      "Name: Rating, dtype: int64\n"
     ]
    }
   ],
   "source": [
    "for i in data.columns:\n",
    "    print(data[i].value_counts().sort_values())"
   ]
  },
  {
   "cell_type": "markdown",
   "metadata": {},
   "source": [
    "1. Названия столбцов необходимо изменить - привести к общему виду и убрать заглавные буквы\n",
    "2. Перевести данные в столбце Year_of_Release релиза в int - для уменьшения места\n",
    "3. Перевести данные в столбце User_Score в float - т.к. значениями могут быть только цифры, для удобной работы (рассчетов) и для уменьшения использования памяти\n",
    "4. Обработать пустые значения в столбцах Name, Genre, Year_of_Release, Critic_Score, User_Score, Rating:\n",
    "Year_of_Release, Name, Genre - строки можно удалить, их всего 1,6% - скорее всего случайная ошибка\n",
    "Critic_Score, User_Score, Rating - удалить строки нельзя, пропущенных значений слишком много, поэтому проставлю маркет -1. Пропуски в этих столбцах скорее всего связаны с тем, что данных было мало, и оценка не подсчиталась. Рейтинг возможно не проставлен\n",
    "5. В столбце User_Score есть значение tbd - скорее всего это сокращение от to be done - следовательно, рейтинга на эти игры нет"
   ]
  },
  {
   "cell_type": "markdown",
   "metadata": {},
   "source": [
    "## Подготовка данных"
   ]
  },
  {
   "cell_type": "code",
   "execution_count": 4,
   "metadata": {},
   "outputs": [
    {
     "name": "stdout",
     "output_type": "stream",
     "text": [
      "Empty DataFrame\n",
      "Columns: [name, platform, year_of_release, genre, na_sales, eu_sales, jp_sales, other_sales, critic_score, user_score, rating]\n",
      "Index: []\n",
      "<class 'pandas.core.frame.DataFrame'>\n",
      "Int64Index: 16444 entries, 0 to 16714\n",
      "Data columns (total 11 columns):\n",
      "name               16444 non-null object\n",
      "platform           16444 non-null object\n",
      "year_of_release    16444 non-null int64\n",
      "genre              16444 non-null object\n",
      "na_sales           16444 non-null float64\n",
      "eu_sales           16444 non-null float64\n",
      "jp_sales           16444 non-null float64\n",
      "other_sales        16444 non-null float64\n",
      "critic_score       16444 non-null float64\n",
      "user_score         16444 non-null float64\n",
      "rating             16444 non-null object\n",
      "dtypes: float64(6), int64(1), object(4)\n",
      "memory usage: 1.5+ MB\n"
     ]
    },
    {
     "data": {
      "text/html": [
       "<div>\n",
       "<style scoped>\n",
       "    .dataframe tbody tr th:only-of-type {\n",
       "        vertical-align: middle;\n",
       "    }\n",
       "\n",
       "    .dataframe tbody tr th {\n",
       "        vertical-align: top;\n",
       "    }\n",
       "\n",
       "    .dataframe thead th {\n",
       "        text-align: right;\n",
       "    }\n",
       "</style>\n",
       "<table border=\"1\" class=\"dataframe\">\n",
       "  <thead>\n",
       "    <tr style=\"text-align: right;\">\n",
       "      <th></th>\n",
       "      <th>name</th>\n",
       "      <th>platform</th>\n",
       "      <th>year_of_release</th>\n",
       "      <th>genre</th>\n",
       "      <th>na_sales</th>\n",
       "      <th>eu_sales</th>\n",
       "      <th>jp_sales</th>\n",
       "      <th>other_sales</th>\n",
       "      <th>critic_score</th>\n",
       "      <th>user_score</th>\n",
       "      <th>rating</th>\n",
       "      <th>total_sales</th>\n",
       "    </tr>\n",
       "  </thead>\n",
       "  <tbody>\n",
       "    <tr>\n",
       "      <td>0</td>\n",
       "      <td>Wii Sports</td>\n",
       "      <td>Wii</td>\n",
       "      <td>2006</td>\n",
       "      <td>Sports</td>\n",
       "      <td>41.36</td>\n",
       "      <td>28.96</td>\n",
       "      <td>3.77</td>\n",
       "      <td>8.45</td>\n",
       "      <td>76.0</td>\n",
       "      <td>8.0</td>\n",
       "      <td>E</td>\n",
       "      <td>82.54</td>\n",
       "    </tr>\n",
       "    <tr>\n",
       "      <td>1</td>\n",
       "      <td>Super Mario Bros.</td>\n",
       "      <td>NES</td>\n",
       "      <td>1985</td>\n",
       "      <td>Platform</td>\n",
       "      <td>29.08</td>\n",
       "      <td>3.58</td>\n",
       "      <td>6.81</td>\n",
       "      <td>0.77</td>\n",
       "      <td>-1.0</td>\n",
       "      <td>-1.0</td>\n",
       "      <td>Нет рейтинга</td>\n",
       "      <td>40.24</td>\n",
       "    </tr>\n",
       "    <tr>\n",
       "      <td>2</td>\n",
       "      <td>Mario Kart Wii</td>\n",
       "      <td>Wii</td>\n",
       "      <td>2008</td>\n",
       "      <td>Racing</td>\n",
       "      <td>15.68</td>\n",
       "      <td>12.76</td>\n",
       "      <td>3.79</td>\n",
       "      <td>3.29</td>\n",
       "      <td>82.0</td>\n",
       "      <td>8.3</td>\n",
       "      <td>E</td>\n",
       "      <td>35.52</td>\n",
       "    </tr>\n",
       "    <tr>\n",
       "      <td>3</td>\n",
       "      <td>Wii Sports Resort</td>\n",
       "      <td>Wii</td>\n",
       "      <td>2009</td>\n",
       "      <td>Sports</td>\n",
       "      <td>15.61</td>\n",
       "      <td>10.93</td>\n",
       "      <td>3.28</td>\n",
       "      <td>2.95</td>\n",
       "      <td>80.0</td>\n",
       "      <td>8.0</td>\n",
       "      <td>E</td>\n",
       "      <td>32.77</td>\n",
       "    </tr>\n",
       "    <tr>\n",
       "      <td>4</td>\n",
       "      <td>Pokemon Red/Pokemon Blue</td>\n",
       "      <td>GB</td>\n",
       "      <td>1996</td>\n",
       "      <td>Role-Playing</td>\n",
       "      <td>11.27</td>\n",
       "      <td>8.89</td>\n",
       "      <td>10.22</td>\n",
       "      <td>1.00</td>\n",
       "      <td>-1.0</td>\n",
       "      <td>-1.0</td>\n",
       "      <td>Нет рейтинга</td>\n",
       "      <td>31.38</td>\n",
       "    </tr>\n",
       "    <tr>\n",
       "      <td>...</td>\n",
       "      <td>...</td>\n",
       "      <td>...</td>\n",
       "      <td>...</td>\n",
       "      <td>...</td>\n",
       "      <td>...</td>\n",
       "      <td>...</td>\n",
       "      <td>...</td>\n",
       "      <td>...</td>\n",
       "      <td>...</td>\n",
       "      <td>...</td>\n",
       "      <td>...</td>\n",
       "      <td>...</td>\n",
       "    </tr>\n",
       "    <tr>\n",
       "      <td>16710</td>\n",
       "      <td>Samurai Warriors: Sanada Maru</td>\n",
       "      <td>PS3</td>\n",
       "      <td>2016</td>\n",
       "      <td>Action</td>\n",
       "      <td>0.00</td>\n",
       "      <td>0.00</td>\n",
       "      <td>0.01</td>\n",
       "      <td>0.00</td>\n",
       "      <td>-1.0</td>\n",
       "      <td>-1.0</td>\n",
       "      <td>Нет рейтинга</td>\n",
       "      <td>0.01</td>\n",
       "    </tr>\n",
       "    <tr>\n",
       "      <td>16711</td>\n",
       "      <td>LMA Manager 2007</td>\n",
       "      <td>X360</td>\n",
       "      <td>2006</td>\n",
       "      <td>Sports</td>\n",
       "      <td>0.00</td>\n",
       "      <td>0.01</td>\n",
       "      <td>0.00</td>\n",
       "      <td>0.00</td>\n",
       "      <td>-1.0</td>\n",
       "      <td>-1.0</td>\n",
       "      <td>Нет рейтинга</td>\n",
       "      <td>0.01</td>\n",
       "    </tr>\n",
       "    <tr>\n",
       "      <td>16712</td>\n",
       "      <td>Haitaka no Psychedelica</td>\n",
       "      <td>PSV</td>\n",
       "      <td>2016</td>\n",
       "      <td>Adventure</td>\n",
       "      <td>0.00</td>\n",
       "      <td>0.00</td>\n",
       "      <td>0.01</td>\n",
       "      <td>0.00</td>\n",
       "      <td>-1.0</td>\n",
       "      <td>-1.0</td>\n",
       "      <td>Нет рейтинга</td>\n",
       "      <td>0.01</td>\n",
       "    </tr>\n",
       "    <tr>\n",
       "      <td>16713</td>\n",
       "      <td>Spirits &amp; Spells</td>\n",
       "      <td>GBA</td>\n",
       "      <td>2003</td>\n",
       "      <td>Platform</td>\n",
       "      <td>0.01</td>\n",
       "      <td>0.00</td>\n",
       "      <td>0.00</td>\n",
       "      <td>0.00</td>\n",
       "      <td>-1.0</td>\n",
       "      <td>-1.0</td>\n",
       "      <td>Нет рейтинга</td>\n",
       "      <td>0.01</td>\n",
       "    </tr>\n",
       "    <tr>\n",
       "      <td>16714</td>\n",
       "      <td>Winning Post 8 2016</td>\n",
       "      <td>PSV</td>\n",
       "      <td>2016</td>\n",
       "      <td>Simulation</td>\n",
       "      <td>0.00</td>\n",
       "      <td>0.00</td>\n",
       "      <td>0.01</td>\n",
       "      <td>0.00</td>\n",
       "      <td>-1.0</td>\n",
       "      <td>-1.0</td>\n",
       "      <td>Нет рейтинга</td>\n",
       "      <td>0.01</td>\n",
       "    </tr>\n",
       "  </tbody>\n",
       "</table>\n",
       "<p>16444 rows × 12 columns</p>\n",
       "</div>"
      ],
      "text/plain": [
       "                                name platform  year_of_release         genre  \\\n",
       "0                         Wii Sports      Wii             2006        Sports   \n",
       "1                  Super Mario Bros.      NES             1985      Platform   \n",
       "2                     Mario Kart Wii      Wii             2008        Racing   \n",
       "3                  Wii Sports Resort      Wii             2009        Sports   \n",
       "4           Pokemon Red/Pokemon Blue       GB             1996  Role-Playing   \n",
       "...                              ...      ...              ...           ...   \n",
       "16710  Samurai Warriors: Sanada Maru      PS3             2016        Action   \n",
       "16711               LMA Manager 2007     X360             2006        Sports   \n",
       "16712        Haitaka no Psychedelica      PSV             2016     Adventure   \n",
       "16713               Spirits & Spells      GBA             2003      Platform   \n",
       "16714            Winning Post 8 2016      PSV             2016    Simulation   \n",
       "\n",
       "       na_sales  eu_sales  jp_sales  other_sales  critic_score  user_score  \\\n",
       "0         41.36     28.96      3.77         8.45          76.0         8.0   \n",
       "1         29.08      3.58      6.81         0.77          -1.0        -1.0   \n",
       "2         15.68     12.76      3.79         3.29          82.0         8.3   \n",
       "3         15.61     10.93      3.28         2.95          80.0         8.0   \n",
       "4         11.27      8.89     10.22         1.00          -1.0        -1.0   \n",
       "...         ...       ...       ...          ...           ...         ...   \n",
       "16710      0.00      0.00      0.01         0.00          -1.0        -1.0   \n",
       "16711      0.00      0.01      0.00         0.00          -1.0        -1.0   \n",
       "16712      0.00      0.00      0.01         0.00          -1.0        -1.0   \n",
       "16713      0.01      0.00      0.00         0.00          -1.0        -1.0   \n",
       "16714      0.00      0.00      0.01         0.00          -1.0        -1.0   \n",
       "\n",
       "             rating  total_sales  \n",
       "0                 E        82.54  \n",
       "1      Нет рейтинга        40.24  \n",
       "2                 E        35.52  \n",
       "3                 E        32.77  \n",
       "4      Нет рейтинга        31.38  \n",
       "...             ...          ...  \n",
       "16710  Нет рейтинга         0.01  \n",
       "16711  Нет рейтинга         0.01  \n",
       "16712  Нет рейтинга         0.01  \n",
       "16713  Нет рейтинга         0.01  \n",
       "16714  Нет рейтинга         0.01  \n",
       "\n",
       "[16444 rows x 12 columns]"
      ]
     },
     "execution_count": 4,
     "metadata": {},
     "output_type": "execute_result"
    }
   ],
   "source": [
    "# приведение к единому виду названия столбцов\n",
    "data.columns = map(str.lower, data.columns)\n",
    "\n",
    "# замена tbd в User_Score на маркер\n",
    "data = data.replace({'user_score':{\"tbd\":-1}})\n",
    "print(data.query('user_score == \"tbd\"'))\n",
    "\n",
    "# удаление строк\n",
    "data.drop(data[data['year_of_release'].isna()].index, inplace=True)\n",
    "data.drop(data[data['name'].isna()].index, inplace=True)\n",
    "data.drop(data[data['genre'].isna()].index, inplace=True)\n",
    "\n",
    "# замена пустых значений на маркер\n",
    "data['critic_score'] = data['critic_score'].fillna(-1)\n",
    "data['user_score'] = data['user_score'].fillna(-1)\n",
    "data['rating'] = data['rating'].fillna('Нет рейтинга')\n",
    "data.isna().sum()\n",
    "\n",
    "# замена типа данных\n",
    "data['year_of_release'] = data['year_of_release'].astype('int')\n",
    "data['user_score'] = data['user_score'].astype('float')\n",
    "data.info()\n",
    "\n",
    "# суммарные продажи во всех регионах\n",
    "data['total_sales'] = data[['na_sales','eu_sales','jp_sales','other_sales']].sum(axis=1)\n",
    "data"
   ]
  },
  {
   "cell_type": "markdown",
   "metadata": {},
   "source": [
    "## Проведение исследовательского анализа данных"
   ]
  },
  {
   "cell_type": "markdown",
   "metadata": {},
   "source": [
    "### Анализ по годам"
   ]
  },
  {
   "cell_type": "code",
   "execution_count": 5,
   "metadata": {},
   "outputs": [
    {
     "data": {
      "text/plain": [
       "year_of_release\n",
       "1980       9\n",
       "1981      46\n",
       "1982      36\n",
       "1983      17\n",
       "1984      14\n",
       "1985      14\n",
       "1986      21\n",
       "1987      16\n",
       "1988      15\n",
       "1989      17\n",
       "1990      16\n",
       "1991      41\n",
       "1992      43\n",
       "1993      60\n",
       "1994     121\n",
       "1995     219\n",
       "1996     263\n",
       "1997     289\n",
       "1998     379\n",
       "1999     338\n",
       "2000     350\n",
       "2001     482\n",
       "2002     829\n",
       "2003     775\n",
       "2004     762\n",
       "2005     939\n",
       "2006    1006\n",
       "2007    1197\n",
       "2008    1427\n",
       "2009    1426\n",
       "2010    1255\n",
       "2011    1136\n",
       "2012     653\n",
       "2013     544\n",
       "2014     581\n",
       "2015     606\n",
       "2016     502\n",
       "Name: name, dtype: int64"
      ]
     },
     "execution_count": 5,
     "metadata": {},
     "output_type": "execute_result"
    },
    {
     "data": {
      "image/png": "[encoded data removed]",
      "text/plain": [
       "<Figure size 720x720 with 1 Axes>"
      ]
     },
     "metadata": {
      "needs_background": "light"
     },
     "output_type": "display_data"
    }
   ],
   "source": [
    "# количество продаж по годам\n",
    "data_years = data.groupby('year_of_release')['name'].count()\n",
    "data_years.plot(kind='bar', figsize=(10,10)).set_title('Количество проданных уникальных игр по годам')\n",
    "data_years"
   ]
  },
  {
   "cell_type": "markdown",
   "metadata": {},
   "source": [
    "С 1980 по 1993 года в год выпускалось менее 100 игр. Думаю, что анализ данные по этим годам не интересен.\n",
    "Также видно, что на 2006 - 2011 гг пришелся пик продаж игр, а с 2012 года ситуация на рынке стабилизировалась."
   ]
  },
  {
   "cell_type": "markdown",
   "metadata": {},
   "source": [
    "### Анализ по платформам"
   ]
  },
  {
   "cell_type": "code",
   "execution_count": 6,
   "metadata": {},
   "outputs": [
    {
     "name": "stdout",
     "output_type": "stream",
     "text": [
      "platform\n",
      "GG         1\n",
      "PCFX       1\n",
      "TG16       2\n",
      "3DO        3\n",
      "WS         6\n",
      "SCD        6\n",
      "NG        12\n",
      "GEN       27\n",
      "DC        52\n",
      "GB        97\n",
      "NES       98\n",
      "2600     116\n",
      "WiiU     147\n",
      "SAT      173\n",
      "SNES     239\n",
      "XOne     247\n",
      "N64      316\n",
      "PS4      392\n",
      "PSV      429\n",
      "3DS      512\n",
      "GC       542\n",
      "XB       803\n",
      "GBA      811\n",
      "PC       957\n",
      "PS      1190\n",
      "PSP     1193\n",
      "X360    1232\n",
      "Wii     1286\n",
      "PS3     1306\n",
      "DS      2121\n",
      "PS2     2127\n",
      "Name: name, dtype: int64\n"
     ]
    },
    {
     "data": {
      "image/png": "[encoded data removed]",
      "text/plain": [
       "<Figure size 576x576 with 1 Axes>"
      ]
     },
     "metadata": {
      "needs_background": "light"
     },
     "output_type": "display_data"
    },
    {
     "data": {
      "image/png": "[encoded data removed]",
      "text/plain": [
       "<Figure size 576x576 with 1 Axes>"
      ]
     },
     "metadata": {
      "needs_background": "light"
     },
     "output_type": "display_data"
    }
   ],
   "source": [
    "# выявление срока жизни платформ\n",
    "\n",
    "data_platform = data.groupby('platform')['name'].count().sort_values()\n",
    "print(data_platform)\n",
    "\n",
    "# Беру 7 платформ, продажи количества уникальных игр которых больше 1000 шт за период с 1993 года.\n",
    "platforms = ['PS', 'PSP', 'Wii', 'PS2']\n",
    "platforms2 = ['DS', 'X360', 'PS3']\n",
    "\n",
    "for i in platforms:\n",
    "    data.query('platform == @i and year_of_release > 1993')['year_of_release'].hist(alpha=0.5, bins=20, label=i, figsize=(8,8)).legend().set_title('Количество проданных уникальных игр')\n",
    "\n",
    "plt.show()\n",
    "\n",
    "for j in platforms2:\n",
    "    data.query('platform == @j and year_of_release > 1993')['year_of_release'].hist(alpha=0.5, bins=20, label=j, figsize=(8,8)).legend().set_title('Количество проданных уникальных игр')\n",
    "\n"
   ]
  },
  {
   "cell_type": "markdown",
   "metadata": {},
   "source": [
    "Судя по гистограммам, в среднем платформы \"живут\" от 5 до 10 лет. Также выявила, что на 2006 - 2011 гг пришелся пик продаж игр, а с 2012 года ситуация на рынке стабилизировалась. Следовательно, для прогноза на 2017 год берем информацию с 2012 года."
   ]
  },
  {
   "cell_type": "code",
   "execution_count": 7,
   "metadata": {
    "scrolled": true
   },
   "outputs": [
    {
     "name": "stdout",
     "output_type": "stream",
     "text": [
      "year_of_release   2007   2008   2009   2010   2011   2012   2013   2014  \\\n",
      "platform                                                                  \n",
      "3DS                0.0    0.0    0.0    0.0  116.0   93.0   91.0   80.0   \n",
      "DC                 1.0    1.0    0.0    0.0    0.0    0.0    0.0    0.0   \n",
      "DS               376.0  492.0  403.0  323.0  153.0   23.0    8.0    0.0   \n",
      "GBA                6.0    0.0    0.0    0.0    0.0    0.0    0.0    0.0   \n",
      "GC                 4.0    0.0    0.0    0.0    0.0    0.0    0.0    0.0   \n",
      "PC                62.0   76.0  107.0   90.0  139.0   61.0   38.0   47.0   \n",
      "PS2              214.0  191.0   96.0   38.0    7.0    0.0    0.0    0.0   \n",
      "PS3               90.0  138.0  162.0  181.0  215.0  148.0  126.0  108.0   \n",
      "PS4                0.0    0.0    0.0    0.0    0.0    0.0   16.0   75.0   \n",
      "PSP              133.0  100.0  161.0  188.0  139.0  106.0   54.0   10.0   \n",
      "PSV                0.0    0.0    0.0    0.0   18.0   53.0   63.0  100.0   \n",
      "Wii              185.0  282.0  325.0  253.0  143.0   31.0   12.0    6.0   \n",
      "WiiU               0.0    0.0    0.0    0.0    0.0   32.0   42.0   31.0   \n",
      "X360             123.0  146.0  172.0  182.0  206.0  106.0   75.0   63.0   \n",
      "XB                 3.0    1.0    0.0    0.0    0.0    0.0    0.0    0.0   \n",
      "XOne               0.0    0.0    0.0    0.0    0.0    0.0   19.0   61.0   \n",
      "\n",
      "year_of_release   2015   2016  \n",
      "platform                       \n",
      "3DS               86.0   46.0  \n",
      "DC                 0.0    0.0  \n",
      "DS                 0.0    0.0  \n",
      "GBA                0.0    0.0  \n",
      "GC                 0.0    0.0  \n",
      "PC                50.0   54.0  \n",
      "PS2                0.0    0.0  \n",
      "PS3               73.0   38.0  \n",
      "PS4              137.0  164.0  \n",
      "PSP                3.0    0.0  \n",
      "PSV              110.0   85.0  \n",
      "Wii                4.0    1.0  \n",
      "WiiU              28.0   14.0  \n",
      "X360              35.0   13.0  \n",
      "XB                 0.0    0.0  \n",
      "XOne              80.0   87.0  \n"
     ]
    },
    {
     "data": {
      "image/png": "[encoded data removed]",
      "text/plain": [
       "<Figure size 432x288 with 1 Axes>"
      ]
     },
     "metadata": {
      "needs_background": "light"
     },
     "output_type": "display_data"
    },
    {
     "data": {
      "image/png": "[encoded data removed]",
      "text/plain": [
       "<Figure size 432x288 with 1 Axes>"
      ]
     },
     "metadata": {
      "needs_background": "light"
     },
     "output_type": "display_data"
    },
    {
     "data": {
      "image/png": "[encoded data removed]",
      "text/plain": [
       "<Figure size 432x288 with 1 Axes>"
      ]
     },
     "metadata": {
      "needs_background": "light"
     },
     "output_type": "display_data"
    },
    {
     "data": {
      "image/png": "[encoded data removed]",
      "text/plain": [
       "<Figure size 432x288 with 1 Axes>"
      ]
     },
     "metadata": {
      "needs_background": "light"
     },
     "output_type": "display_data"
    },
    {
     "data": {
      "image/png": "[encoded data removed]",
      "text/plain": [
       "<Figure size 432x288 with 1 Axes>"
      ]
     },
     "metadata": {
      "needs_background": "light"
     },
     "output_type": "display_data"
    },
    {
     "data": {
      "image/png": "[encoded data removed]",
      "text/plain": [
       "<Figure size 432x288 with 1 Axes>"
      ]
     },
     "metadata": {
      "needs_background": "light"
     },
     "output_type": "display_data"
    },
    {
     "data": {
      "image/png": "[encoded data removed]",
      "text/plain": [
       "<Figure size 432x288 with 1 Axes>"
      ]
     },
     "metadata": {
      "needs_background": "light"
     },
     "output_type": "display_data"
    },
    {
     "data": {
      "image/png": "[encoded data removed]",
      "text/plain": [
       "<Figure size 432x288 with 1 Axes>"
      ]
     },
     "metadata": {
      "needs_background": "light"
     },
     "output_type": "display_data"
    },
    {
     "data": {
      "image/png": "[encoded data removed]",
      "text/plain": [
       "<Figure size 432x288 with 1 Axes>"
      ]
     },
     "metadata": {
      "needs_background": "light"
     },
     "output_type": "display_data"
    },
    {
     "data": {
      "image/png": "[encoded data removed]",
      "text/plain": [
       "<Figure size 432x288 with 1 Axes>"
      ]
     },
     "metadata": {
      "needs_background": "light"
     },
     "output_type": "display_data"
    },
    {
     "data": {
      "image/png": "[encoded data removed]",
      "text/plain": [
       "<Figure size 432x288 with 1 Axes>"
      ]
     },
     "metadata": {
      "needs_background": "light"
     },
     "output_type": "display_data"
    },
    {
     "data": {
      "image/png": "[encoded data removed]",
      "text/plain": [
       "<Figure size 432x288 with 1 Axes>"
      ]
     },
     "metadata": {
      "needs_background": "light"
     },
     "output_type": "display_data"
    },
    {
     "data": {
      "image/png": "[encoded data removed]",
      "text/plain": [
       "<Figure size 432x288 with 1 Axes>"
      ]
     },
     "metadata": {
      "needs_background": "light"
     },
     "output_type": "display_data"
    },
    {
     "data": {
      "image/png": "[encoded data removed]",
      "text/plain": [
       "<Figure size 432x288 with 1 Axes>"
      ]
     },
     "metadata": {
      "needs_background": "light"
     },
     "output_type": "display_data"
    },
    {
     "data": {
      "image/png": "[encoded data removed]",
      "text/plain": [
       "<Figure size 432x288 with 1 Axes>"
      ]
     },
     "metadata": {
      "needs_background": "light"
     },
     "output_type": "display_data"
    },
    {
     "data": {
      "image/png": "[encoded data removed]",
      "text/plain": [
       "<Figure size 432x288 with 1 Axes>"
      ]
     },
     "metadata": {
      "needs_background": "light"
     },
     "output_type": "display_data"
    }
   ],
   "source": [
    "# определение перспективных платформ\n",
    "data = data.query('year_of_release > 2006')\n",
    "\n",
    "data_pivot = data.pivot_table(index='platform', values='name', columns='year_of_release', aggfunc=len)\n",
    "data_pivot = data_pivot.fillna(0)\n",
    "print(data_pivot)\n",
    "\n",
    "all_platform = data['platform'].unique()\n",
    "\n",
    "for i in all_platform:\n",
    "    data.query('platform == @i')['year_of_release'].hist(alpha=0.5, bins=10, label=i).legend()\n",
    "    plt.show()\n"
   ]
  },
  {
   "cell_type": "markdown",
   "metadata": {},
   "source": [
    "Судя по динамике продаж, можно выявить несколько перспективных платформ: PS4, 3DS, PC, XOne, PSV"
   ]
  },
  {
   "cell_type": "code",
   "execution_count": 8,
   "metadata": {},
   "outputs": [
    {
     "name": "stderr",
     "output_type": "stream",
     "text": [
      "/opt/conda/lib/python3.7/site-packages/numpy/core/_asarray.py:83: VisibleDeprecationWarning: Creating an ndarray from ragged nested sequences (which is a list-or-tuple of lists-or-tuples-or ndarrays with different lengths or shapes) is deprecated. If you meant to do this, you must specify 'dtype=object' when creating the ndarray\n",
      "  return array(a, dtype, copy=False, order=order)\n"
     ]
    },
    {
     "data": {
      "text/plain": [
       "(0, 18)"
      ]
     },
     "execution_count": 8,
     "metadata": {},
     "output_type": "execute_result"
    },
    {
     "data": {
      "image/png": "[encoded data removed]",
      "text/plain": [
       "<Figure size 720x720 with 1 Axes>"
      ]
     },
     "metadata": {
      "needs_background": "light"
     },
     "output_type": "display_data"
    }
   ],
   "source": [
    "# глобальные продажи игр по платформам\n",
    "data = data.query('year_of_release > 2011')\n",
    "\n",
    "platforms3 = ['PS4', '3DS', 'PC', 'XOne', 'PSV']\n",
    "\n",
    "data.query('platform in @platforms3').boxplot('total_sales', by = 'platform', figsize=(10,10)).set_title('Глобальные продажи игр по платформам, в млн копий')\n",
    "plt.ylim(0, 18)"
   ]
  },
  {
   "cell_type": "markdown",
   "metadata": {},
   "source": [
    "Судя по графику, на платформах 3DS и PS4 самые сильные выбросы, которые означают выпуск на этих платформах самых популярных игр. Следом идут PC и XOne. Также большие выбросы у платформ PC и XOne. А вот платформа PSV не имеет сильных выбросов (по сравнению с другими платформами), следовательно, не выпускала настолько популярные игры."
   ]
  },
  {
   "cell_type": "code",
   "execution_count": 9,
   "metadata": {},
   "outputs": [
    {
     "name": "stdout",
     "output_type": "stream",
     "text": [
      "user_score: 0.20181255007655283\n",
      "critic_score: 0.31055301915326294\n"
     ]
    },
    {
     "data": {
      "text/plain": [
       "Text(0.5, 1.0, 'Соотношение глобальных продаж и оценок критиков по остальным платформам')"
      ]
     },
     "execution_count": 9,
     "metadata": {},
     "output_type": "execute_result"
    },
    {
     "data": {
      "image/png": "[encoded data removed]",
      "text/plain": [
       "<Figure size 432x288 with 1 Axes>"
      ]
     },
     "metadata": {
      "needs_background": "light"
     },
     "output_type": "display_data"
    },
    {
     "data": {
      "image/png": "[encoded data removed]",
      "text/plain": [
       "<Figure size 432x288 with 1 Axes>"
      ]
     },
     "metadata": {
      "needs_background": "light"
     },
     "output_type": "display_data"
    },
    {
     "data": {
      "image/png": "[encoded data removed]",
      "text/plain": [
       "<Figure size 432x288 with 1 Axes>"
      ]
     },
     "metadata": {
      "needs_background": "light"
     },
     "output_type": "display_data"
    },
    {
     "data": {
      "image/png": "[encoded data removed]",
      "text/plain": [
       "<Figure size 432x288 with 1 Axes>"
      ]
     },
     "metadata": {
      "needs_background": "light"
     },
     "output_type": "display_data"
    }
   ],
   "source": [
    "# Влияние отзывов пользователей и критиков на продажи\n",
    "\n",
    "data_3DS = data.query('platform == \"3DS\" and user_score > 0 and critic_score > 0')\n",
    "\n",
    "print('user_score:', data_3DS['user_score'].corr(data_3DS['total_sales']))\n",
    "print('critic_score:', data_3DS['critic_score'].corr(data_3DS['total_sales']))\n",
    "\n",
    "data_3DS.plot(kind='scatter', x='user_score', y='total_sales').set_title('Соотношение глобальных продаж и пользовательских оценок по платформе 3DS')\n",
    "data_3DS.plot(kind='scatter', x='critic_score', y='total_sales').set_title('Соотношение глобальных продаж и оценок критиков по платформе 3DS')\n",
    "\n",
    "data_not_3DS = data.query('platform != \"3DS\"')\n",
    "\n",
    "data_not_3DS.plot(kind='scatter', x='user_score', y='total_sales').set_title('Соотношение глобальных продаж и пользовательских оценок по остальным платформам')\n",
    "data_not_3DS.plot(kind='scatter', x='critic_score', y='total_sales').set_title('Соотношение глобальных продаж и оценок критиков по остальным платформам')\n"
   ]
  },
  {
   "cell_type": "markdown",
   "metadata": {},
   "source": [
    "Коэффициент корреляции между отзывами и глобальными продажами низкий, однако на графиках видно, что есть зависимость продаж от оценки и критиков и пользователей. зависимость не линейная, но после определенного значения оценки продажи идут вверх (по оценке пользователей: от 7, и по оценке критиков: от 80). Причем разницы между самой популярной платформой и остальными нет."
   ]
  },
  {
   "cell_type": "markdown",
   "metadata": {},
   "source": [
    "### Анализ по жанрам"
   ]
  },
  {
   "cell_type": "code",
   "execution_count": 10,
   "metadata": {},
   "outputs": [
    {
     "name": "stdout",
     "output_type": "stream",
     "text": [
      "sum               total_sales\n",
      "genre                    \n",
      "Puzzle               4.89\n",
      "Strategy            13.34\n",
      "Adventure           29.43\n",
      "Simulation          35.12\n",
      "Fighting            44.49\n",
      "Racing              53.50\n",
      "Platform            61.00\n",
      "Misc                85.04\n",
      "Sports             181.07\n",
      "Role-Playing       192.80\n",
      "Shooter            304.73\n",
      "Action             441.12\n",
      "\n",
      "median               total_sales\n",
      "genre                    \n",
      "Adventure           0.030\n",
      "Puzzle              0.045\n",
      "Strategy            0.080\n",
      "Action              0.120\n",
      "Misc                0.120\n",
      "Simulation          0.120\n",
      "Fighting            0.130\n",
      "Racing              0.140\n",
      "Role-Playing        0.140\n",
      "Platform            0.210\n",
      "Sports              0.240\n",
      "Shooter             0.440\n"
     ]
    }
   ],
   "source": [
    "# Самые популярные жанры\n",
    "\n",
    "data_genres = data.pivot_table(index='genre', values='total_sales', aggfunc=sum).sort_values(by='total_sales')\n",
    "print('sum', data_genres)\n",
    "print()\n",
    "\n",
    "data_genres2 = data.pivot_table(index='genre', values='total_sales', aggfunc='median').sort_values(by='total_sales')\n",
    "print('median', data_genres2)"
   ]
  },
  {
   "cell_type": "markdown",
   "metadata": {},
   "source": [
    "Самый популярный жанр по общему количеству проданных копий - Action.\n",
    "Однако самый популярный жанр по количеству проданных копий в расчете на единицу игры - Shooter."
   ]
  },
  {
   "cell_type": "markdown",
   "metadata": {},
   "source": [
    "### Вывод"
   ]
  },
  {
   "cell_type": "markdown",
   "metadata": {},
   "source": [
    "1. Анализ по годам:\n",
    "    - С 1980 по 1993 года в год выпускалось менее 100 игр. Думаю, что анализа данные по этим годам не интересны   \n",
    "2. Анализ по платформам:  \n",
    "    - В среднем, игры продаются на одну платформу от 5 до 10 лет, значит для прогноза на 2017 берем данные с 2007 года\n",
    "    - Судя по динамике продаж, можно выявить несколько перспективных платформ: PS4, 3DS, PC, XOne, PSV\n",
    "    - Судя по графику \"ящик с усами\", на платформах 3DS и PS4 самые сильные выбросы, которые означают выпуск на этих платформах самых популярных игр. Следом идут PC и XOne. Также большие выбросы у платформ PC и XOne. А вот платформа PSV не имеет сильных выбросов (по сравнению с другими платформами), следовательно, не выпускала настолько популярные игры.\n",
    "    - Коэффициент корреляции между отзывами и глобальными продажами низкий, однако на графиках видно, что есть зависимость продаж от оценки и критиков и пользователей. зависимость не линейная, но после определенного значения оценки продажи идут вверх (по оценке пользователей: от 7, и по оценке критиков: от 80). Причем разницы между самой популярной платформой и остальными нет.\n",
    "3. Анализ по жанрам\n",
    "    - Самый популярный жанр по общему количеству проданных копий - Action.\n",
    "    - Однако самый популярный жанр по количеству проданных копий в расчете на единицу игры - Shooter."
   ]
  },
  {
   "cell_type": "markdown",
   "metadata": {},
   "source": [
    "## Составление портрета каждого региона"
   ]
  },
  {
   "cell_type": "markdown",
   "metadata": {},
   "source": [
    "### Самые популярные платформы"
   ]
  },
  {
   "cell_type": "code",
   "execution_count": 15,
   "metadata": {},
   "outputs": [
    {
     "data": {
      "image/png": "[encoded data removed]",
      "text/plain": [
       "<Figure size 432x288 with 1 Axes>"
      ]
     },
     "metadata": {},
     "output_type": "display_data"
    },
    {
     "data": {
      "image/png": "[encoded data removed]",
      "text/plain": [
       "<Figure size 432x288 with 1 Axes>"
      ]
     },
     "metadata": {},
     "output_type": "display_data"
    },
    {
     "data": {
      "image/png": "[encoded data removed]",
      "text/plain": [
       "<Figure size 432x288 with 1 Axes>"
      ]
     },
     "metadata": {},
     "output_type": "display_data"
    },
    {
     "data": {
      "text/plain": [
       "Text(0.5, 1.0, 'Сравнение долей продаж по разным регионам по платформам')"
      ]
     },
     "execution_count": 15,
     "metadata": {},
     "output_type": "execute_result"
    },
    {
     "data": {
      "image/png": "[encoded data removed]",
      "text/plain": [
       "<Figure size 432x288 with 1 Axes>"
      ]
     },
     "metadata": {},
     "output_type": "display_data"
    },
    {
     "data": {
      "image/png": "[encoded data removed]",
      "text/plain": [
       "<Figure size 432x288 with 1 Axes>"
      ]
     },
     "metadata": {
      "needs_background": "light"
     },
     "output_type": "display_data"
    }
   ],
   "source": [
    "data_platform_na = data.pivot_table(index='platform', values='na_sales', aggfunc=sum).sort_values(by='na_sales')\n",
    "data_platform_eu = data.pivot_table(index='platform', values='eu_sales', aggfunc=sum).sort_values(by='eu_sales')\n",
    "data_platform_jp = data.pivot_table(index='platform', values='jp_sales', aggfunc=sum).sort_values(by='jp_sales')\n",
    "data_platform_other = data.pivot_table(index='platform', values='other_sales', aggfunc=sum).sort_values(by='other_sales')\n",
    "\n",
    "# смотрю топ 5 по каждой платформе и беру значения по кол-ву проданных копий\n",
    "data_platform_na\n",
    "data_platform_eu\n",
    "data_platform_jp\n",
    "data_platform_other\n",
    "\n",
    "data_platform_na['other'] = np.where(data_platform_na['na_sales'] > 55, data_platform_na.index, 'other')\n",
    "data_platform_eu['other'] = np.where(data_platform_eu['eu_sales'] > 42, data_platform_eu.index, 'other')\n",
    "data_platform_jp['other'] = np.where(data_platform_jp['jp_sales'] > 13, data_platform_jp.index, 'other')\n",
    "data_platform_other['other'] = np.where(data_platform_other['other_sales'] > 8, data_platform_other.index, 'other')\n",
    "\n",
    "data_platform_na.groupby('other')['na_sales'].sum().sort_values().plot(kind='pie', autopct='%1.1f%%').set_title('Топ продаж по платформам в Северной Америке')\n",
    "plt.show()\n",
    "data_platform_eu.groupby('other')['eu_sales'].sum().sort_values().plot(kind='pie', autopct='%1.1f%%').set_title('Топ продаж по платформам в Европе')\n",
    "plt.show()\n",
    "data_platform_jp.groupby('other')['jp_sales'].sum().sort_values().plot(kind='pie', autopct='%1.1f%%').set_title('Топ продаж по платформам в Японии')\n",
    "plt.show()\n",
    "data_platform_other.groupby('other')['other_sales'].sum().sort_values().plot(kind='pie', autopct='%1.1f%%').set_title('Топ продаж по платформам в других регионах')\n",
    "\n",
    "data_platform= data.pivot_table(index='platform', values=('na_sales', 'eu_sales', 'jp_sales', 'other_sales', 'total_sales') , aggfunc=sum).sort_values(by='total_sales')\n",
    "data_platform['na_%'] =  data_platform['na_sales'] / data_platform['na_sales'].sum() * 100\n",
    "data_platform['eu_%'] =  data_platform['eu_sales'] / data_platform['eu_sales'].sum() * 100\n",
    "data_platform['jp_%'] =  data_platform['jp_sales'] / data_platform['jp_sales'].sum() * 100\n",
    "data_platform['other_%'] =  data_platform['other_sales'] / data_platform['other_sales'].sum() * 100\n",
    "\n",
    "data_platform = data_platform[['na_%', 'eu_%', 'jp_%', 'other_%']]\n",
    "data_platform.plot(kind='bar').set_title('Сравнение долей продаж по разным регионам по платформам')"
   ]
  },
  {
   "cell_type": "markdown",
   "metadata": {},
   "source": [
    "Самые популярные платформы в Северной Америке: Х360, PS4, PS3\n",
    "Самые популярные платформы в Европе: PS4, PS3, Х360\n",
    "Самые популярные платформы в Японии: 3DS, PS3, PSV\n",
    "Самые популярные платформы в других регионах: PS4, PS3, X360\n",
    "\n",
    "Предпочтения в Северной Америке, Европе и других регионах не сильно отличаются (топ 3 у них одинаковый), однако самые популярные платформы в Японии отличаются от остальных.\n",
    "\n",
    "Можно выявить платформы, популярные во всех регионах: PS4, PS3, X360"
   ]
  },
  {
   "cell_type": "markdown",
   "metadata": {},
   "source": [
    "### Самые популярные жанры"
   ]
  },
  {
   "cell_type": "markdown",
   "metadata": {},
   "source": [
    "<!-- Доли продаж топ 5 во всех регионах практически одинакова (нет ярко выраженного лидера) и составляет в общем около 50% - это  означает, что пользователи предпочитают разные платформы. Однако список лидеров в каждом регионе совершенно разный - что показывает различие в культурах и возможно, в рекламных компаниях, разных регионов.\n",
    " -->\n",
    "\n",
    "\n"
   ]
  },
  {
   "cell_type": "code",
   "execution_count": 16,
   "metadata": {},
   "outputs": [
    {
     "data": {
      "image/png": "[encoded data removed]",
      "text/plain": [
       "<Figure size 432x288 with 1 Axes>"
      ]
     },
     "metadata": {},
     "output_type": "display_data"
    },
    {
     "data": {
      "image/png": "[encoded data removed]",
      "text/plain": [
       "<Figure size 432x288 with 1 Axes>"
      ]
     },
     "metadata": {},
     "output_type": "display_data"
    },
    {
     "data": {
      "image/png": "[encoded data removed]",
      "text/plain": [
       "<Figure size 432x288 with 1 Axes>"
      ]
     },
     "metadata": {},
     "output_type": "display_data"
    },
    {
     "data": {
      "image/png": "[encoded data removed]",
      "text/plain": [
       "<Figure size 432x288 with 1 Axes>"
      ]
     },
     "metadata": {},
     "output_type": "display_data"
    },
    {
     "data": {
      "text/plain": [
       "Text(0.5, 1.0, 'Сравнение долей продаж по разным регионам по жанрам')"
      ]
     },
     "execution_count": 16,
     "metadata": {},
     "output_type": "execute_result"
    },
    {
     "data": {
      "image/png": "[encoded data removed]",
      "text/plain": [
       "<Figure size 432x288 with 1 Axes>"
      ]
     },
     "metadata": {
      "needs_background": "light"
     },
     "output_type": "display_data"
    }
   ],
   "source": [
    "data_genre_na = data.pivot_table(index='genre', values='na_sales', aggfunc=sum).sort_values(by='na_sales')\n",
    "data_genre_eu = data.pivot_table(index='genre', values='eu_sales', aggfunc=sum).sort_values(by='eu_sales')\n",
    "data_genre_jp = data.pivot_table(index='genre', values='jp_sales', aggfunc=sum).sort_values(by='jp_sales')\n",
    "data_genre_other = data.pivot_table(index='genre', values='other_sales', aggfunc=sum).sort_values(by='other_sales')\n",
    "\n",
    "# смотрю топ 5 по каждой платформе и беру значения по кол-ву проданных копий\n",
    "data_genre_na\n",
    "data_genre_eu\n",
    "data_genre_jp\n",
    "data_genre_other\n",
    "\n",
    "data_genre_na['other'] = np.where(data_genre_na['na_sales'] > 38, data_genre_na.index, 'other')\n",
    "data_genre_eu['other'] = np.where(data_genre_eu['eu_sales'] > 27, data_genre_eu.index, 'other')\n",
    "data_genre_jp['other'] = np.where(data_genre_jp['jp_sales'] > 9, data_genre_jp.index, 'other')\n",
    "data_genre_other['other'] = np.where(data_genre_other['other_sales'] > 7, data_genre_other.index, 'other')\n",
    "\n",
    "data_genre_na.groupby('other')['na_sales'].sum().sort_values().plot(kind='pie', autopct='%1.1f%%').set_title('Топ продаж по жанрам в Северной Америке')\n",
    "plt.show()\n",
    "data_genre_eu.groupby('other')['eu_sales'].sum().sort_values().plot(kind='pie', autopct='%1.1f%%').set_title('Топ продаж по жанрам в Европе')\n",
    "plt.show()\n",
    "data_genre_jp.groupby('other')['jp_sales'].sum().sort_values().plot(kind='pie', autopct='%1.1f%%').set_title('Топ продаж по жанрам в Японии')\n",
    "plt.show()\n",
    "data_genre_other.groupby('other')['other_sales'].sum().sort_values().plot(kind='pie', autopct='%1.1f%%').set_title('Топ продаж по жанрам в других регионах')\n",
    "plt.show()\n",
    "\n",
    "data_genre = data.pivot_table(index='genre', values=('na_sales', 'eu_sales', 'jp_sales', 'other_sales', 'total_sales') , aggfunc=sum).sort_values(by='total_sales')\n",
    "data_genre['na_%'] =  data_genre['na_sales'] / data_genre['na_sales'].sum() * 100\n",
    "data_genre['eu_%'] =  data_genre['eu_sales'] / data_genre['eu_sales'].sum() * 100\n",
    "data_genre['jp_%'] =  data_genre['jp_sales'] / data_genre['jp_sales'].sum() * 100\n",
    "data_genre['other_%'] =  data_genre['other_sales'] / data_genre['other_sales'].sum() * 100\n",
    "data_genre = data_genre[['na_%', 'eu_%', 'jp_%', 'other_%']]\n",
    "data_genre.plot(kind='bar').set_title('Сравнение долей продаж по разным регионам по жанрам')"
   ]
  },
  {
   "cell_type": "markdown",
   "metadata": {},
   "source": [
    "Самые популярные жанры в Северной Америке: Action, Shooter, Sports\n",
    "Самые популярные жанры в Европе: Action, Shooter, Sports\n",
    "Самые популярные жанры в Японии: Role-Playing, Action, Misc\n",
    "Самые популярные жанры в других регионах: Action, Sports, Shooter\n",
    "\n",
    "Опять же, самые популярные жанры в Северной Америке, Европе и других регионах совпадают, однако в Японии явный лидер - Role-Playing, которого нет в то 3 других регионов.\n",
    "\n",
    "Однако явно виден общий лидер - Action, который хорошо продается во всех регионах."
   ]
  },
  {
   "cell_type": "markdown",
   "metadata": {},
   "source": [
    "### Рейтинг ESRB"
   ]
  },
  {
   "cell_type": "code",
   "execution_count": 17,
   "metadata": {},
   "outputs": [
    {
     "data": {
      "image/png": "[encoded data removed]",
      "text/plain": [
       "<Figure size 432x288 with 1 Axes>"
      ]
     },
     "metadata": {},
     "output_type": "display_data"
    },
    {
     "data": {
      "image/png": "[encoded data removed]",
      "text/plain": [
       "<Figure size 432x288 with 1 Axes>"
      ]
     },
     "metadata": {},
     "output_type": "display_data"
    },
    {
     "data": {
      "image/png": "[encoded data removed]",
      "text/plain": [
       "<Figure size 432x288 with 1 Axes>"
      ]
     },
     "metadata": {},
     "output_type": "display_data"
    },
    {
     "data": {
      "image/png": "[encoded data removed]",
      "text/plain": [
       "<Figure size 432x288 with 1 Axes>"
      ]
     },
     "metadata": {},
     "output_type": "display_data"
    }
   ],
   "source": [
    "regions = ['na_sales', 'eu_sales', 'jp_sales', 'other_sales']\n",
    "\n",
    "for i in regions:\n",
    "    data_esrm = data.pivot_table(index='rating', values=i, aggfunc=sum).sort_values(by=i)\n",
    "    data_esrm['other'] = np.where(data_esrm[i] > 10, data_esrm.index, 'other')\n",
    "    data_esrm.groupby('other')[i].sum().sort_values().plot(kind='pie', autopct='%1.1f%%')\n",
    "    plt.show()\n",
    "    "
   ]
  },
  {
   "cell_type": "markdown",
   "metadata": {},
   "source": [
    "Самые популярные рейтинги в Северной Америке: М, Е\n",
    "Самые популярные рейтинги в Европе: М, Е\n",
    "Самые популярные рейтинги в Японии: Е, Т\n",
    "Самые популярные рейтинги в других регионах: М, Е\n",
    "\n",
    "Однако у достаточно большого количества игр отсутствует рейтинг: у 56,5% в Японии и примерно у 18% во всех остальных регионах."
   ]
  },
  {
   "cell_type": "markdown",
   "metadata": {},
   "source": [
    "### Вывод"
   ]
  },
  {
   "cell_type": "markdown",
   "metadata": {},
   "source": [
    "1. Северная Америка\n",
    "    * Самые популярные платформы: Х360, PS4, PS3\n",
    "    * Самые популярные жанры: Action, Shooter, Sports\n",
    "    * Cамый популярные ретинги:  М, Е\n",
    "    \n",
    "2. Европа\n",
    "    * Самые популярные платформы в Европе: PS4, PS3, Х360\n",
    "    * Самые популярные жанры в Европе: Action, Shooter, Sports\n",
    "    * Cамый популярные ретинги:  М, Е\n",
    "    \n",
    "3. Япония\n",
    "    * Самые популярные платформы в Японии: 3DS, PS3, PSV\n",
    "    * Самые популярные жанры в Японии: Role-Playing, Action, Misc\n",
    "    * Cамый популярные ретинги: Е, Т. Однако у 56,5% игр отсутствует рейтинг.\n",
    "    \n",
    "4. Другие регионы\n",
    "    * Самые популярные платформы в других регионах: PS4, PS3, X360\n",
    "    * Самые популярные жанры в других регионах: Action, Sports, Shooter\n",
    "    * Cамый популярные ретинги:  М, Е"
   ]
  },
  {
   "cell_type": "markdown",
   "metadata": {},
   "source": [
    "## Проверка гипотез"
   ]
  },
  {
   "cell_type": "markdown",
   "metadata": {},
   "source": [
    "### Средние пользовательские рейтинги платформ Xbox One и PC одинаковые"
   ]
  },
  {
   "cell_type": "markdown",
   "metadata": {},
   "source": [
    "Нулевая гипотеза: Средние пользовательские рейтинги платформ Xbox One и PC одинаковые\n",
    "Альтернативная гипотеза: Средние пользовательские рейтинги платформ Xbox One и PC не одинаковые"
   ]
  },
  {
   "cell_type": "code",
   "execution_count": 18,
   "metadata": {},
   "outputs": [
    {
     "name": "stdout",
     "output_type": "stream",
     "text": [
      "Гипотеза \"Средние пользовательские рейтинги платформ Xbox One и PC одинаковые\":\n",
      "p-value:  0.5991315923632393\n",
      "Cредняя оценка пользователей по платформе XBox One: 6.538181818181818\n",
      "Cредняя оценка пользователей по платформе PC: 6.4543147208121825\n",
      "Не получилось отвергнуть нулевую гипотезу\n"
     ]
    }
   ],
   "source": [
    "alpha = 0.01\n",
    "\n",
    "data_xbox = data.query('platform == \"XOne\" and user_score > 0 and critic_score > 0')\n",
    "data_pc = data.query('platform == \"PC\" and user_score > 0 and critic_score > 0')\n",
    "\n",
    "hypothesis_platform = st.ttest_ind(data_xbox['user_score'], data_pc['user_score'])\n",
    "mean_user_score_xbox = data_xbox['user_score'].mean()\n",
    "mean_user_score_pc = data_pc['user_score'].mean()\n",
    "\n",
    "print('Гипотеза \"Средние пользовательские рейтинги платформ Xbox One и PC одинаковые\":') \n",
    "print('p-value: ', hypothesis_platform.pvalue)\n",
    "print('Cредняя оценка пользователей по платформе XBox One:' ,mean_user_score_xbox)\n",
    "print('Cредняя оценка пользователей по платформе PC:' ,mean_user_score_pc)\n",
    "\n",
    "if hypothesis_platform.pvalue < alpha:\n",
    "    print('Отвергаем нулевую гипотезу')\n",
    "else:\n",
    "    print('Не получилось отвергнуть нулевую гипотезу')        "
   ]
  },
  {
   "cell_type": "markdown",
   "metadata": {},
   "source": [
    "Не получилось отвергнуть нулевую гипотезу, следовательно, средние пользовательские рейтинги платформ Xbox One и PC одинаковые"
   ]
  },
  {
   "cell_type": "markdown",
   "metadata": {},
   "source": [
    "### Средние пользовательские рейтинги жанров Action и Sports разные"
   ]
  },
  {
   "cell_type": "markdown",
   "metadata": {},
   "source": [
    "Нулевая гипотеза: Средние пользовательские рейтинги жанров Action и Sports одинаковые\n",
    "Альтернативная гипотеза: Средние пользовательские рейтинги жанров Action и Sports разные"
   ]
  },
  {
   "cell_type": "code",
   "execution_count": 19,
   "metadata": {},
   "outputs": [
    {
     "name": "stdout",
     "output_type": "stream",
     "text": [
      "Гипотеза \"Средние пользовательские рейтинги жанров Action и Sports одинаковые\":\n",
      "p-value:  9.13633279873618e-16\n",
      "Cредняя оценка пользователей по жанру Action: 6.899305555555555\n",
      "Cредняя оценка пользователей по жанру Sports: 5.819858156028368\n",
      "Отвергаем нулевую гипотезу\n"
     ]
    }
   ],
   "source": [
    "data_action = data.query('genre == \"Action\" and user_score > 0 and critic_score > 0')\n",
    "data_sports = data.query('genre == \"Sports\" and user_score > 0 and critic_score > 0')\n",
    "\n",
    "hypothesis_genre = st.ttest_ind(data_action['user_score'], data_sports['user_score'])\n",
    "mean_user_score_action = data_action['user_score'].mean()\n",
    "mean_user_score_sports = data_sports['user_score'].mean()\n",
    "\n",
    "print('Гипотеза \"Средние пользовательские рейтинги жанров Action и Sports одинаковые\":') \n",
    "print('p-value: ', hypothesis_genre.pvalue)\n",
    "print('Cредняя оценка пользователей по жанру Action:' ,mean_user_score_action)\n",
    "print('Cредняя оценка пользователей по жанру Sports:' ,mean_user_score_sports)\n",
    "\n",
    "if hypothesis_genre.pvalue < alpha:\n",
    "    print('Отвергаем нулевую гипотезу')\n",
    "else:\n",
    "    print('Не получилось отвергнуть нулевую гипотезу')        "
   ]
  },
  {
   "cell_type": "raw",
   "metadata": {},
   "source": [
    "Отвергаем нулевую гипотезу, следовательно, средние пользовательские рейтинги жанров Action и Sports разные."
   ]
  },
  {
   "cell_type": "markdown",
   "metadata": {},
   "source": [
    "Проведу дополнительный односторонний тест.\n",
    "Нулевая гипотеза: Cредняя оценка пользователей по жанру Action больше средней оценки пользователей по жанру Sports\n",
    "Альтернаятивная гипотеза: Средняя оценка пользователей по жанру Action меньше средней оценки пользователей по жанру Sports"
   ]
  },
  {
   "cell_type": "code",
   "execution_count": 20,
   "metadata": {},
   "outputs": [
    {
     "name": "stdout",
     "output_type": "stream",
     "text": [
      "Гипотеза \"Cредняя оценка пользователей по жанру Action больше средней оценки пользователей по жанру Sports\":\n",
      "p-value:  4.659138999740703e-50\n",
      "Cредняя оценка пользователей по жанру Action: 6.899305555555555\n",
      "Cредняя оценка пользователей по жанру Sports: 5.819858156028368\n",
      "Не получилось отвергнуть нулевую гипотезу\n"
     ]
    }
   ],
   "source": [
    "hypothesis_genre_mean = st.ttest_1samp(data_action['user_score'], mean_user_score_sports)\n",
    "\n",
    "print('Гипотеза \"Cредняя оценка пользователей по жанру Action больше средней оценки пользователей по жанру Sports\":') \n",
    "print('p-value: ', hypothesis_genre_mean.pvalue / 2)\n",
    "print('Cредняя оценка пользователей по жанру Action:' ,mean_user_score_action)\n",
    "print('Cредняя оценка пользователей по жанру Sports:' ,mean_user_score_sports)\n",
    "\n",
    "if (hypothesis_genre_mean.pvalue / 2 < alpha) and (data_action['user_score'].mean() < mean_user_score_sports):\n",
    "    print('Отвергаем нулевую гипотезу')\n",
    "else:\n",
    "    print('Не получилось отвергнуть нулевую гипотезу')        "
   ]
  },
  {
   "cell_type": "markdown",
   "metadata": {},
   "source": [
    "Не получилось отвергнуть нулевую гипотезу, следовательно, средняя оценка пользователей по жанру Action больше средней оценки пользователей по жанру Sports"
   ]
  },
  {
   "cell_type": "markdown",
   "metadata": {},
   "source": [
    "## Вывод"
   ]
  },
  {
   "cell_type": "markdown",
   "metadata": {},
   "source": [
    "1. В среднем, платформы \"живут\" от 5 до 10 лет. Также выявила, что на 2006 - 2011 гг пришелся пик продаж игр, а с 2012 года ситуация на рынке стабилизировалась. Следовательно, для прогноза на 2017 годберем информацию с 2012 года.\n",
    "2. Выявлено несколько перспективных платформ: PS4, 3DS, PC, XOne, PSV \n",
    "3. На платформах 3DS и PS4 выпускались самые популярные игры\n",
    "4. Есть зависимость от оценки пользователей и критиков и продажи игр. Хорошие продажи начинаются от оценки пользователей: от 7; и от оценки критиков: от 80\n",
    "5. Самый популярный жанр по общему количеству проданных копий - Action.\n",
    "6. Самый популярный жанр по количеству проданных копий в расчете на единицу игры - Shooter.\n",
    "7. Топ 3 по регионам:\n",
    "- Северная Америка\n",
    "    * Самые популярные платформы: Х360, PS4, PS3\n",
    "    * Самые популярные жанры: Action, Shooter, Sports\n",
    "    * Cамый популярные ретинги: М, Е   \n",
    "- Европа\n",
    "    * Самые популярные платформы в Европе: PS4, PS3, Х360\n",
    "    * Самые популярные жанры в Европе: Action, Shooter, Sports\n",
    "    * Cамый популярные ретинги: М, Е    \n",
    "- Япония\n",
    "    * Самые популярные платформы в Японии: 3DS, PS3, PSV\n",
    "    * Самые популярные жанры в Японии: Role-Playing, Action, Misc\n",
    "    * Cамый популярные ретинги: Е, Т. Однако у 56,5% игр отсутствует рейтинг    \n",
    "- Другие регионы\n",
    "    * Самые популярные платформы в других регионах: PS4, PS3, X360\n",
    "    * Самые популярные жанры в других регионах: Action, Sports, Shooter\n",
    "    * Cамый популярные ретинги: М, Е\n",
    "    \n",
    "    \n",
    "Итог:\n",
    "Популярные платформы во всех регионах: PS4, PS3, X360. Из этого списка перспективной является только PS4.   \n",
    "Полулярный жанр во всех регионах: Action\n",
    "Популярный рейтинг во всех регионах: E\n",
    "\n"
   ]
  }
 ],
 "metadata": {
  "ExecuteTimeLog": [
   {
    "duration": 781,
    "start_time": "2021-11-05T19:11:12.215Z"
   },
   {
    "duration": 49,
    "start_time": "2021-11-05T19:11:13.209Z"
   },
   {
    "duration": 111,
    "start_time": "2021-11-05T19:11:18.639Z"
   },
   {
    "duration": 57,
    "start_time": "2021-11-05T19:14:44.844Z"
   },
   {
    "duration": 95,
    "start_time": "2021-11-05T19:16:52.508Z"
   },
   {
    "duration": 89,
    "start_time": "2021-11-05T19:17:06.061Z"
   },
   {
    "duration": 95,
    "start_time": "2021-11-05T19:17:44.897Z"
   },
   {
    "duration": 95,
    "start_time": "2021-11-05T19:23:28.221Z"
   },
   {
    "duration": 526,
    "start_time": "2021-11-05T19:26:46.663Z"
   },
   {
    "duration": 30,
    "start_time": "2021-11-05T19:27:08.690Z"
   },
   {
    "duration": 114,
    "start_time": "2021-11-05T19:28:22.342Z"
   },
   {
    "duration": 9149,
    "start_time": "2021-11-05T19:31:01.223Z"
   },
   {
    "duration": 2563,
    "start_time": "2021-11-05T19:31:39.223Z"
   },
   {
    "duration": 33,
    "start_time": "2021-11-05T19:32:05.446Z"
   },
   {
    "duration": 378,
    "start_time": "2021-11-05T19:32:31.781Z"
   },
   {
    "duration": 488,
    "start_time": "2021-11-05T19:32:37.200Z"
   },
   {
    "duration": 407,
    "start_time": "2021-11-05T19:33:26.184Z"
   },
   {
    "duration": 36,
    "start_time": "2021-11-05T19:34:07.524Z"
   },
   {
    "duration": 32,
    "start_time": "2021-11-05T19:34:27.776Z"
   },
   {
    "duration": 23,
    "start_time": "2021-11-05T19:35:51.791Z"
   },
   {
    "duration": 2636,
    "start_time": "2021-11-05T19:36:09.287Z"
   },
   {
    "duration": 2580,
    "start_time": "2021-11-05T19:36:28.041Z"
   },
   {
    "duration": 453,
    "start_time": "2021-11-05T19:40:06.251Z"
   },
   {
    "duration": 113,
    "start_time": "2021-11-05T19:40:34.874Z"
   },
   {
    "duration": 63,
    "start_time": "2021-11-05T19:40:41.664Z"
   },
   {
    "duration": 432,
    "start_time": "2021-11-05T19:41:11.219Z"
   },
   {
    "duration": 414,
    "start_time": "2021-11-05T19:41:18.866Z"
   },
   {
    "duration": 456,
    "start_time": "2021-11-05T19:41:25.901Z"
   },
   {
    "duration": 62,
    "start_time": "2021-11-05T19:41:31.023Z"
   },
   {
    "duration": 61,
    "start_time": "2021-11-05T19:41:49.794Z"
   },
   {
    "duration": 59,
    "start_time": "2021-11-05T19:41:54.374Z"
   },
   {
    "duration": 77,
    "start_time": "2021-11-05T19:42:25.734Z"
   },
   {
    "duration": 74,
    "start_time": "2021-11-05T19:42:31.660Z"
   },
   {
    "duration": 79,
    "start_time": "2021-11-05T19:43:07.553Z"
   },
   {
    "duration": 110,
    "start_time": "2021-11-05T19:43:29.235Z"
   },
   {
    "duration": 116,
    "start_time": "2021-11-05T19:43:47.908Z"
   },
   {
    "duration": 84,
    "start_time": "2021-11-05T19:44:06.727Z"
   },
   {
    "duration": 87,
    "start_time": "2021-11-05T19:44:24.499Z"
   },
   {
    "duration": 92,
    "start_time": "2021-11-05T19:44:44.410Z"
   },
   {
    "duration": 95,
    "start_time": "2021-11-05T19:45:02.198Z"
   },
   {
    "duration": 96,
    "start_time": "2021-11-05T19:45:23.053Z"
   },
   {
    "duration": 144,
    "start_time": "2021-11-05T19:46:30.417Z"
   },
   {
    "duration": 391,
    "start_time": "2021-11-05T19:47:03.480Z"
   },
   {
    "duration": 416,
    "start_time": "2021-11-05T19:47:11.527Z"
   },
   {
    "duration": 21,
    "start_time": "2021-11-05T19:49:06.431Z"
   },
   {
    "duration": 424,
    "start_time": "2021-11-05T19:49:46.254Z"
   },
   {
    "duration": 136,
    "start_time": "2021-11-05T19:50:03.484Z"
   },
   {
    "duration": 22,
    "start_time": "2021-11-05T19:50:20.589Z"
   },
   {
    "duration": 23,
    "start_time": "2021-11-05T19:53:37.905Z"
   },
   {
    "duration": 128,
    "start_time": "2021-11-05T20:01:26.555Z"
   },
   {
    "duration": 12842,
    "start_time": "2021-11-05T20:06:44.187Z"
   },
   {
    "duration": 9370,
    "start_time": "2021-11-05T20:07:04.513Z"
   },
   {
    "duration": 371,
    "start_time": "2021-11-05T20:07:15.413Z"
   },
   {
    "duration": 369,
    "start_time": "2021-11-05T20:07:23.534Z"
   },
   {
    "duration": 390,
    "start_time": "2021-11-05T20:07:33.257Z"
   },
   {
    "duration": 21,
    "start_time": "2021-11-05T20:07:37.820Z"
   },
   {
    "duration": 29,
    "start_time": "2021-11-05T20:07:56.868Z"
   },
   {
    "duration": 29,
    "start_time": "2021-11-05T20:09:45.886Z"
   },
   {
    "duration": 51,
    "start_time": "2021-11-05T20:10:47.725Z"
   },
   {
    "duration": 49,
    "start_time": "2021-11-05T20:12:17.858Z"
   },
   {
    "duration": 12,
    "start_time": "2021-11-05T20:12:38.947Z"
   },
   {
    "duration": 26,
    "start_time": "2021-11-05T20:12:53.924Z"
   },
   {
    "duration": 49,
    "start_time": "2021-11-05T20:13:29.358Z"
   },
   {
    "duration": 58,
    "start_time": "2021-11-05T20:15:26.011Z"
   },
   {
    "duration": 60,
    "start_time": "2021-11-05T20:16:02.814Z"
   },
   {
    "duration": 54,
    "start_time": "2021-11-05T20:17:27.004Z"
   },
   {
    "duration": 407,
    "start_time": "2021-11-05T20:21:39.977Z"
   },
   {
    "duration": 4,
    "start_time": "2021-11-05T20:22:04.691Z"
   },
   {
    "duration": 137,
    "start_time": "2021-11-05T20:22:07.527Z"
   },
   {
    "duration": 86,
    "start_time": "2021-11-05T20:22:11.414Z"
   },
   {
    "duration": 33,
    "start_time": "2021-11-05T20:27:00.881Z"
   },
   {
    "duration": 9,
    "start_time": "2021-11-05T20:27:26.749Z"
   },
   {
    "duration": 11,
    "start_time": "2021-11-05T20:30:25.186Z"
   },
   {
    "duration": 491,
    "start_time": "2021-11-05T20:31:17.424Z"
   },
   {
    "duration": 12,
    "start_time": "2021-11-05T20:31:25.064Z"
   },
   {
    "duration": 381,
    "start_time": "2021-11-05T20:38:06.785Z"
   },
   {
    "duration": 353,
    "start_time": "2021-11-06T11:12:16.637Z"
   },
   {
    "duration": 816,
    "start_time": "2021-11-06T11:12:25.102Z"
   },
   {
    "duration": 187,
    "start_time": "2021-11-06T11:12:25.923Z"
   },
   {
    "duration": 100,
    "start_time": "2021-11-06T11:12:26.122Z"
   },
   {
    "duration": 10,
    "start_time": "2021-11-06T11:12:26.225Z"
   },
   {
    "duration": 557,
    "start_time": "2021-11-06T11:12:26.238Z"
   },
   {
    "duration": 312,
    "start_time": "2021-11-06T11:13:02.371Z"
   },
   {
    "duration": 577,
    "start_time": "2021-11-06T11:13:52.707Z"
   },
   {
    "duration": 333,
    "start_time": "2021-11-06T11:14:43.069Z"
   },
   {
    "duration": 297,
    "start_time": "2021-11-06T11:15:10.867Z"
   },
   {
    "duration": 287,
    "start_time": "2021-11-06T11:15:33.549Z"
   },
   {
    "duration": 667,
    "start_time": "2021-11-06T11:15:58.355Z"
   },
   {
    "duration": 34,
    "start_time": "2021-11-06T11:19:04.306Z"
   },
   {
    "duration": 25,
    "start_time": "2021-11-06T11:19:14.367Z"
   },
   {
    "duration": 11,
    "start_time": "2021-11-06T11:20:02.345Z"
   },
   {
    "duration": 319,
    "start_time": "2021-11-06T11:21:06.927Z"
   },
   {
    "duration": 295,
    "start_time": "2021-11-06T11:21:23.492Z"
   },
   {
    "duration": 497,
    "start_time": "2021-11-06T11:24:06.787Z"
   },
   {
    "duration": 293,
    "start_time": "2021-11-06T11:24:33.144Z"
   },
   {
    "duration": 403,
    "start_time": "2021-11-06T11:24:51.455Z"
   },
   {
    "duration": 344,
    "start_time": "2021-11-06T11:24:58.342Z"
   },
   {
    "duration": 347,
    "start_time": "2021-11-06T11:25:37.491Z"
   },
   {
    "duration": 347,
    "start_time": "2021-11-06T11:25:57.522Z"
   },
   {
    "duration": 508,
    "start_time": "2021-11-06T11:26:13.387Z"
   },
   {
    "duration": 500,
    "start_time": "2021-11-06T11:26:26.032Z"
   },
   {
    "duration": 515,
    "start_time": "2021-11-06T11:26:38.537Z"
   },
   {
    "duration": 1175,
    "start_time": "2021-11-06T11:27:02.677Z"
   },
   {
    "duration": 704,
    "start_time": "2021-11-06T11:27:10.953Z"
   },
   {
    "duration": 795,
    "start_time": "2021-11-06T11:28:03.749Z"
   },
   {
    "duration": 816,
    "start_time": "2021-11-06T11:28:19.042Z"
   },
   {
    "duration": 798,
    "start_time": "2021-11-06T11:30:34.927Z"
   },
   {
    "duration": 620,
    "start_time": "2021-11-06T11:31:17.802Z"
   },
   {
    "duration": 2373,
    "start_time": "2021-11-06T11:31:24.677Z"
   },
   {
    "duration": 897,
    "start_time": "2021-11-06T11:31:44.045Z"
   },
   {
    "duration": 1110,
    "start_time": "2021-11-06T11:31:54.733Z"
   },
   {
    "duration": 1178,
    "start_time": "2021-11-06T11:32:15.937Z"
   },
   {
    "duration": 1067,
    "start_time": "2021-11-06T11:34:08.919Z"
   },
   {
    "duration": 1035,
    "start_time": "2021-11-06T11:34:19.613Z"
   },
   {
    "duration": 464,
    "start_time": "2021-11-06T11:42:38.818Z"
   },
   {
    "duration": 3220,
    "start_time": "2021-11-06T11:42:44.251Z"
   },
   {
    "duration": 2824,
    "start_time": "2021-11-06T11:42:56.567Z"
   },
   {
    "duration": 304,
    "start_time": "2021-11-06T11:43:14.872Z"
   },
   {
    "duration": 23,
    "start_time": "2021-11-06T11:47:23.875Z"
   },
   {
    "duration": -3312,
    "start_time": "2021-11-06T12:24:04.532Z"
   },
   {
    "duration": -3314,
    "start_time": "2021-11-06T12:24:04.536Z"
   },
   {
    "duration": -3315,
    "start_time": "2021-11-06T12:24:04.541Z"
   },
   {
    "duration": -3315,
    "start_time": "2021-11-06T12:24:04.544Z"
   },
   {
    "duration": -3316,
    "start_time": "2021-11-06T12:24:04.548Z"
   },
   {
    "duration": -3316,
    "start_time": "2021-11-06T12:24:04.551Z"
   },
   {
    "duration": 4,
    "start_time": "2021-11-06T12:24:05.202Z"
   },
   {
    "duration": 130,
    "start_time": "2021-11-06T12:24:08.197Z"
   },
   {
    "duration": 126,
    "start_time": "2021-11-06T12:24:13.018Z"
   },
   {
    "duration": 15,
    "start_time": "2021-11-06T12:24:17.618Z"
   },
   {
    "duration": 1194,
    "start_time": "2021-11-06T12:24:20.930Z"
   },
   {
    "duration": 4,
    "start_time": "2021-11-06T12:24:26.417Z"
   },
   {
    "duration": 22,
    "start_time": "2021-11-06T12:26:19.086Z"
   },
   {
    "duration": 329,
    "start_time": "2021-11-06T12:27:20.733Z"
   },
   {
    "duration": 13,
    "start_time": "2021-11-06T12:27:50.370Z"
   },
   {
    "duration": 7228,
    "start_time": "2021-11-06T12:28:14.490Z"
   },
   {
    "duration": 12,
    "start_time": "2021-11-06T12:28:24.562Z"
   },
   {
    "duration": 11,
    "start_time": "2021-11-06T12:28:43.526Z"
   },
   {
    "duration": 13,
    "start_time": "2021-11-06T12:29:25.954Z"
   },
   {
    "duration": 12,
    "start_time": "2021-11-06T12:29:34.729Z"
   },
   {
    "duration": 13,
    "start_time": "2021-11-06T12:30:03.541Z"
   },
   {
    "duration": 292,
    "start_time": "2021-11-06T12:31:18.751Z"
   },
   {
    "duration": 397,
    "start_time": "2021-11-06T12:31:38.566Z"
   },
   {
    "duration": 26,
    "start_time": "2021-11-06T12:31:47.179Z"
   },
   {
    "duration": 43,
    "start_time": "2021-11-06T12:32:13.720Z"
   },
   {
    "duration": 287,
    "start_time": "2021-11-06T12:32:32.806Z"
   },
   {
    "duration": 72,
    "start_time": "2021-11-06T12:32:44.497Z"
   },
   {
    "duration": 42,
    "start_time": "2021-11-06T12:32:52.670Z"
   },
   {
    "duration": 45,
    "start_time": "2021-11-06T12:33:23.518Z"
   },
   {
    "duration": 435,
    "start_time": "2021-11-06T12:33:41.041Z"
   },
   {
    "duration": 5106,
    "start_time": "2021-11-06T12:34:14.154Z"
   },
   {
    "duration": 5175,
    "start_time": "2021-11-06T12:34:32.298Z"
   },
   {
    "duration": 392,
    "start_time": "2021-11-06T12:34:46.674Z"
   },
   {
    "duration": 2771,
    "start_time": "2021-11-06T12:35:20.328Z"
   },
   {
    "duration": 6407,
    "start_time": "2021-11-06T12:38:41.668Z"
   },
   {
    "duration": 44,
    "start_time": "2021-11-06T12:38:58.363Z"
   },
   {
    "duration": 22856,
    "start_time": "2021-11-06T12:40:47.692Z"
   },
   {
    "duration": 608,
    "start_time": "2021-11-06T12:41:26.557Z"
   },
   {
    "duration": 830,
    "start_time": "2021-11-06T12:41:34.700Z"
   },
   {
    "duration": 593,
    "start_time": "2021-11-06T12:41:56.951Z"
   },
   {
    "duration": 607,
    "start_time": "2021-11-06T12:42:06.004Z"
   },
   {
    "duration": 5,
    "start_time": "2021-11-06T12:42:23.711Z"
   },
   {
    "duration": 6,
    "start_time": "2021-11-06T12:42:30.356Z"
   },
   {
    "duration": 4,
    "start_time": "2021-11-06T12:42:37.617Z"
   },
   {
    "duration": 23,
    "start_time": "2021-11-06T12:42:51.091Z"
   },
   {
    "duration": 30,
    "start_time": "2021-11-06T12:43:30.623Z"
   },
   {
    "duration": 26,
    "start_time": "2021-11-06T12:44:00.549Z"
   },
   {
    "duration": 45,
    "start_time": "2021-11-06T12:44:11.377Z"
   },
   {
    "duration": 5366,
    "start_time": "2021-11-06T12:44:52.014Z"
   },
   {
    "duration": 46,
    "start_time": "2021-11-06T12:45:11.247Z"
   },
   {
    "duration": 6074,
    "start_time": "2021-11-06T12:45:38.468Z"
   },
   {
    "duration": 5802,
    "start_time": "2021-11-06T12:45:58.916Z"
   },
   {
    "duration": 26,
    "start_time": "2021-11-06T12:46:21.632Z"
   },
   {
    "duration": 65,
    "start_time": "2021-11-06T12:46:24.776Z"
   },
   {
    "duration": 41,
    "start_time": "2021-11-06T12:47:00.172Z"
   },
   {
    "duration": 50,
    "start_time": "2021-11-06T12:47:08.288Z"
   },
   {
    "duration": 46,
    "start_time": "2021-11-06T12:49:06.051Z"
   },
   {
    "duration": 24,
    "start_time": "2021-11-06T12:49:36.850Z"
   },
   {
    "duration": 16053,
    "start_time": "2021-11-06T12:50:42.972Z"
   },
   {
    "duration": 31822,
    "start_time": "2021-11-06T12:51:50.694Z"
   },
   {
    "duration": 570,
    "start_time": "2021-11-06T12:52:26.709Z"
   },
   {
    "duration": 100,
    "start_time": "2021-11-06T12:55:01.886Z"
   },
   {
    "duration": 4140,
    "start_time": "2021-11-06T12:55:05.661Z"
   },
   {
    "duration": 3555,
    "start_time": "2021-11-06T12:55:20.591Z"
   },
   {
    "duration": 8,
    "start_time": "2021-11-06T12:57:06.051Z"
   },
   {
    "duration": 14,
    "start_time": "2021-11-06T12:57:39.063Z"
   },
   {
    "duration": 291,
    "start_time": "2021-11-06T12:58:02.011Z"
   },
   {
    "duration": 14,
    "start_time": "2021-11-06T12:58:13.831Z"
   },
   {
    "duration": 16,
    "start_time": "2021-11-06T12:58:42.528Z"
   },
   {
    "duration": 1591,
    "start_time": "2021-11-06T12:59:12.053Z"
   },
   {
    "duration": 3092,
    "start_time": "2021-11-06T13:00:16.152Z"
   },
   {
    "duration": 1950,
    "start_time": "2021-11-06T13:00:34.677Z"
   },
   {
    "duration": 6053,
    "start_time": "2021-11-06T13:02:19.288Z"
   },
   {
    "duration": 5449,
    "start_time": "2021-11-06T13:03:41.105Z"
   },
   {
    "duration": 6526,
    "start_time": "2021-11-06T13:04:22.653Z"
   },
   {
    "duration": 5523,
    "start_time": "2021-11-06T13:05:02.424Z"
   },
   {
    "duration": 5391,
    "start_time": "2021-11-06T13:05:38.005Z"
   },
   {
    "duration": 5968,
    "start_time": "2021-11-06T13:06:18.854Z"
   },
   {
    "duration": 5014,
    "start_time": "2021-11-06T13:15:34.744Z"
   },
   {
    "duration": 449,
    "start_time": "2021-11-06T13:20:37.820Z"
   },
   {
    "duration": 6,
    "start_time": "2021-11-06T13:20:54.982Z"
   },
   {
    "duration": 140,
    "start_time": "2021-11-06T13:20:54.992Z"
   },
   {
    "duration": 100,
    "start_time": "2021-11-06T13:20:55.135Z"
   },
   {
    "duration": 10,
    "start_time": "2021-11-06T13:20:55.238Z"
   },
   {
    "duration": 1281,
    "start_time": "2021-11-06T13:20:55.251Z"
   },
   {
    "duration": 5519,
    "start_time": "2021-11-06T13:20:56.535Z"
   },
   {
    "duration": 1081,
    "start_time": "2021-11-06T13:21:02.057Z"
   },
   {
    "duration": 334,
    "start_time": "2021-11-06T13:45:56.376Z"
   },
   {
    "duration": 265,
    "start_time": "2021-11-06T13:46:12.363Z"
   },
   {
    "duration": 306,
    "start_time": "2021-11-06T13:46:23.726Z"
   },
   {
    "duration": 1036,
    "start_time": "2021-11-06T13:47:43.191Z"
   },
   {
    "duration": 353,
    "start_time": "2021-11-06T13:48:58.625Z"
   },
   {
    "duration": 303,
    "start_time": "2021-11-06T14:01:43.304Z"
   },
   {
    "duration": 29,
    "start_time": "2021-11-06T14:02:09.175Z"
   },
   {
    "duration": 33,
    "start_time": "2021-11-06T14:02:29.680Z"
   },
   {
    "duration": 284,
    "start_time": "2021-11-06T14:02:42.752Z"
   },
   {
    "duration": 274,
    "start_time": "2021-11-06T14:02:48.434Z"
   },
   {
    "duration": 26,
    "start_time": "2021-11-06T14:02:53.723Z"
   },
   {
    "duration": 1220,
    "start_time": "2021-11-06T14:03:29.741Z"
   },
   {
    "duration": 272,
    "start_time": "2021-11-06T14:03:42.500Z"
   },
   {
    "duration": 10,
    "start_time": "2021-11-06T14:03:59.416Z"
   },
   {
    "duration": 26,
    "start_time": "2021-11-06T14:04:17.091Z"
   },
   {
    "duration": 937,
    "start_time": "2021-11-06T14:04:34.019Z"
   },
   {
    "duration": 376,
    "start_time": "2021-11-06T14:06:02.525Z"
   },
   {
    "duration": 7445,
    "start_time": "2021-11-06T14:06:42.630Z"
   },
   {
    "duration": 7378,
    "start_time": "2021-11-06T14:07:13.524Z"
   },
   {
    "duration": 28,
    "start_time": "2021-11-06T14:07:31.081Z"
   },
   {
    "duration": 297,
    "start_time": "2021-11-06T14:08:11.539Z"
   },
   {
    "duration": 308,
    "start_time": "2021-11-06T14:08:45.920Z"
   },
   {
    "duration": 274,
    "start_time": "2021-11-06T14:12:12.046Z"
   },
   {
    "duration": 581,
    "start_time": "2021-11-06T14:13:03.190Z"
   },
   {
    "duration": 924,
    "start_time": "2021-11-06T14:15:10.485Z"
   },
   {
    "duration": 681,
    "start_time": "2021-11-06T14:15:58.623Z"
   },
   {
    "duration": 22,
    "start_time": "2021-11-06T14:22:39.145Z"
   },
   {
    "duration": 274,
    "start_time": "2021-11-06T14:22:50.849Z"
   },
   {
    "duration": 20,
    "start_time": "2021-11-06T14:22:57.921Z"
   },
   {
    "duration": 22,
    "start_time": "2021-11-06T14:23:14.136Z"
   },
   {
    "duration": 1477,
    "start_time": "2021-11-07T12:33:52.798Z"
   },
   {
    "duration": 135,
    "start_time": "2021-11-07T12:33:54.278Z"
   },
   {
    "duration": 90,
    "start_time": "2021-11-07T12:33:54.417Z"
   },
   {
    "duration": 27,
    "start_time": "2021-11-07T12:33:54.510Z"
   },
   {
    "duration": 1123,
    "start_time": "2021-11-07T12:33:54.539Z"
   },
   {
    "duration": 5316,
    "start_time": "2021-11-07T12:33:55.665Z"
   },
   {
    "duration": 461,
    "start_time": "2021-11-07T12:34:00.984Z"
   },
   {
    "duration": 580,
    "start_time": "2021-11-07T12:34:01.449Z"
   },
   {
    "duration": 22,
    "start_time": "2021-11-07T12:34:02.031Z"
   },
   {
    "duration": 67,
    "start_time": "2021-11-07T12:38:22.593Z"
   },
   {
    "duration": 136,
    "start_time": "2021-11-07T12:39:42.046Z"
   },
   {
    "duration": 463,
    "start_time": "2021-11-07T12:40:00.451Z"
   },
   {
    "duration": 139,
    "start_time": "2021-11-07T12:40:16.437Z"
   },
   {
    "duration": 25,
    "start_time": "2021-11-07T12:40:30.863Z"
   },
   {
    "duration": 25,
    "start_time": "2021-11-07T12:40:59.010Z"
   },
   {
    "duration": 38,
    "start_time": "2021-11-07T12:41:24.850Z"
   },
   {
    "duration": 32,
    "start_time": "2021-11-07T12:42:36.959Z"
   },
   {
    "duration": 33,
    "start_time": "2021-11-07T12:42:46.886Z"
   },
   {
    "duration": 38,
    "start_time": "2021-11-07T12:47:23.898Z"
   },
   {
    "duration": 27,
    "start_time": "2021-11-07T12:47:58.126Z"
   },
   {
    "duration": 21,
    "start_time": "2021-11-07T12:48:58.954Z"
   },
   {
    "duration": 285,
    "start_time": "2021-11-07T12:49:39.805Z"
   },
   {
    "duration": 22,
    "start_time": "2021-11-07T12:49:51.886Z"
   },
   {
    "duration": 280,
    "start_time": "2021-11-07T12:53:01.557Z"
   },
   {
    "duration": 22,
    "start_time": "2021-11-07T12:54:54.532Z"
   },
   {
    "duration": 21,
    "start_time": "2021-11-07T12:55:19.344Z"
   },
   {
    "duration": 10,
    "start_time": "2021-11-07T12:55:57.184Z"
   },
   {
    "duration": 11,
    "start_time": "2021-11-07T12:56:07.470Z"
   },
   {
    "duration": 21,
    "start_time": "2021-11-07T12:56:16.749Z"
   },
   {
    "duration": 274,
    "start_time": "2021-11-07T12:56:38.126Z"
   },
   {
    "duration": 300,
    "start_time": "2021-11-07T12:56:48.119Z"
   },
   {
    "duration": 21,
    "start_time": "2021-11-07T12:57:00.523Z"
   },
   {
    "duration": 290,
    "start_time": "2021-11-07T12:59:21.795Z"
   },
   {
    "duration": 274,
    "start_time": "2021-11-07T12:59:30.166Z"
   },
   {
    "duration": 307,
    "start_time": "2021-11-07T12:59:41.358Z"
   },
   {
    "duration": 297,
    "start_time": "2021-11-07T13:00:10.764Z"
   },
   {
    "duration": 7174,
    "start_time": "2021-11-07T13:00:23.913Z"
   },
   {
    "duration": 6560,
    "start_time": "2021-11-07T13:00:31.409Z"
   },
   {
    "duration": 330,
    "start_time": "2021-11-07T13:00:49.842Z"
   },
   {
    "duration": 282,
    "start_time": "2021-11-07T13:00:58.722Z"
   },
   {
    "duration": 474,
    "start_time": "2021-11-07T13:01:15.384Z"
   },
   {
    "duration": 93,
    "start_time": "2021-11-07T13:01:27.750Z"
   },
   {
    "duration": 306,
    "start_time": "2021-11-07T13:01:33.735Z"
   },
   {
    "duration": 9238,
    "start_time": "2021-11-07T13:02:19.422Z"
   },
   {
    "duration": -45,
    "start_time": "2021-11-07T13:02:43.762Z"
   },
   {
    "duration": 8853,
    "start_time": "2021-11-07T13:02:48.405Z"
   },
   {
    "duration": 28,
    "start_time": "2021-11-07T13:03:35.090Z"
   },
   {
    "duration": 443,
    "start_time": "2021-11-07T13:04:10.413Z"
   },
   {
    "duration": 27,
    "start_time": "2021-11-07T13:04:18.563Z"
   },
   {
    "duration": 265,
    "start_time": "2021-11-07T13:05:38.038Z"
   },
   {
    "duration": 284,
    "start_time": "2021-11-07T13:05:46.945Z"
   },
   {
    "duration": 277,
    "start_time": "2021-11-07T13:06:36.552Z"
   },
   {
    "duration": 287,
    "start_time": "2021-11-07T13:06:41.631Z"
   },
   {
    "duration": 426,
    "start_time": "2021-11-07T13:06:55.994Z"
   },
   {
    "duration": 1489,
    "start_time": "2021-11-07T13:09:46.935Z"
   },
   {
    "duration": 1500,
    "start_time": "2021-11-07T13:10:14.602Z"
   },
   {
    "duration": 26,
    "start_time": "2021-11-07T13:10:29.663Z"
   },
   {
    "duration": 281,
    "start_time": "2021-11-07T13:10:57.245Z"
   },
   {
    "duration": 1071,
    "start_time": "2021-11-07T13:11:11.537Z"
   },
   {
    "duration": 1073,
    "start_time": "2021-11-07T13:12:06.082Z"
   },
   {
    "duration": 229,
    "start_time": "2021-11-07T13:12:59.286Z"
   },
   {
    "duration": 235,
    "start_time": "2021-11-07T13:13:22.698Z"
   },
   {
    "duration": 22,
    "start_time": "2021-11-07T13:13:38.770Z"
   },
   {
    "duration": 22,
    "start_time": "2021-11-07T13:13:53.381Z"
   },
   {
    "duration": 21,
    "start_time": "2021-11-07T13:14:08.639Z"
   },
   {
    "duration": 8198,
    "start_time": "2021-11-07T13:14:31.855Z"
   },
   {
    "duration": 269,
    "start_time": "2021-11-07T13:14:59.180Z"
   },
   {
    "duration": 221,
    "start_time": "2021-11-07T13:15:05.212Z"
   },
   {
    "duration": 112,
    "start_time": "2021-11-07T13:15:13.678Z"
   },
   {
    "duration": 349,
    "start_time": "2021-11-07T13:18:32.266Z"
   },
   {
    "duration": 288,
    "start_time": "2021-11-07T13:18:56.992Z"
   },
   {
    "duration": 89,
    "start_time": "2021-11-07T13:19:52.661Z"
   },
   {
    "duration": 6572,
    "start_time": "2021-11-07T13:27:59.876Z"
   },
   {
    "duration": 25,
    "start_time": "2021-11-07T13:28:21.731Z"
   },
   {
    "duration": 6561,
    "start_time": "2021-11-07T13:28:35.625Z"
   },
   {
    "duration": 22,
    "start_time": "2021-11-07T13:28:49.134Z"
   },
   {
    "duration": 6455,
    "start_time": "2021-11-07T13:29:15.787Z"
   },
   {
    "duration": 281,
    "start_time": "2021-11-07T13:29:54.831Z"
   },
   {
    "duration": 21,
    "start_time": "2021-11-07T13:30:12.306Z"
   },
   {
    "duration": 22,
    "start_time": "2021-11-07T13:30:33.583Z"
   },
   {
    "duration": 26,
    "start_time": "2021-11-07T13:30:38.889Z"
   },
   {
    "duration": 23,
    "start_time": "2021-11-07T13:31:07.453Z"
   },
   {
    "duration": 6754,
    "start_time": "2021-11-07T13:32:05.242Z"
   },
   {
    "duration": 313,
    "start_time": "2021-11-07T13:32:46.399Z"
   },
   {
    "duration": 23,
    "start_time": "2021-11-07T13:32:53.487Z"
   },
   {
    "duration": 41,
    "start_time": "2021-11-07T13:33:15.254Z"
   },
   {
    "duration": 22,
    "start_time": "2021-11-07T13:33:49.927Z"
   },
   {
    "duration": 24,
    "start_time": "2021-11-07T13:34:29.010Z"
   },
   {
    "duration": 279,
    "start_time": "2021-11-07T13:35:05.537Z"
   },
   {
    "duration": 1975,
    "start_time": "2021-11-07T13:35:36.446Z"
   },
   {
    "duration": 339,
    "start_time": "2021-11-07T13:35:48.916Z"
   },
   {
    "duration": 209,
    "start_time": "2021-11-07T13:36:13.981Z"
   },
   {
    "duration": 34,
    "start_time": "2021-11-07T13:37:34.510Z"
   },
   {
    "duration": 1000,
    "start_time": "2021-11-07T13:37:51.176Z"
   },
   {
    "duration": 34,
    "start_time": "2021-11-07T13:38:02.457Z"
   },
   {
    "duration": 35,
    "start_time": "2021-11-07T13:38:16.305Z"
   },
   {
    "duration": 172,
    "start_time": "2021-11-07T13:38:46.413Z"
   },
   {
    "duration": 255,
    "start_time": "2021-11-07T13:38:55.681Z"
   },
   {
    "duration": 372,
    "start_time": "2021-11-07T13:40:32.857Z"
   },
   {
    "duration": 583,
    "start_time": "2021-11-07T13:40:47.759Z"
   },
   {
    "duration": 274,
    "start_time": "2021-11-07T13:40:53.396Z"
   },
   {
    "duration": 380,
    "start_time": "2021-11-07T13:41:10.759Z"
   },
   {
    "duration": 487,
    "start_time": "2021-11-07T13:50:11.771Z"
   },
   {
    "duration": 77,
    "start_time": "2021-11-07T13:50:50.452Z"
   },
   {
    "duration": 58,
    "start_time": "2021-11-07T13:51:39.888Z"
   },
   {
    "duration": 62,
    "start_time": "2021-11-07T13:53:14.932Z"
   },
   {
    "duration": 301,
    "start_time": "2021-11-07T13:54:08.629Z"
   },
   {
    "duration": 70,
    "start_time": "2021-11-07T13:54:20.796Z"
   },
   {
    "duration": 6621,
    "start_time": "2021-11-07T13:55:30.555Z"
   },
   {
    "duration": 333,
    "start_time": "2021-11-07T13:55:52.447Z"
   },
   {
    "duration": 63,
    "start_time": "2021-11-07T13:57:12.948Z"
   },
   {
    "duration": 66,
    "start_time": "2021-11-07T13:59:41.776Z"
   },
   {
    "duration": 70,
    "start_time": "2021-11-07T14:00:00.876Z"
   },
   {
    "duration": 314,
    "start_time": "2021-11-07T14:00:23.723Z"
   },
   {
    "duration": 66,
    "start_time": "2021-11-07T14:00:33.724Z"
   },
   {
    "duration": 71,
    "start_time": "2021-11-07T14:00:45.080Z"
   },
   {
    "duration": 384,
    "start_time": "2021-11-07T14:01:11.432Z"
   },
   {
    "duration": 409,
    "start_time": "2021-11-07T14:04:06.668Z"
   },
   {
    "duration": 445,
    "start_time": "2021-11-07T14:04:23.629Z"
   },
   {
    "duration": 452,
    "start_time": "2021-11-07T14:05:24.769Z"
   },
   {
    "duration": 527,
    "start_time": "2021-11-07T14:05:39.373Z"
   },
   {
    "duration": 447,
    "start_time": "2021-11-07T14:15:58.796Z"
   },
   {
    "duration": 462,
    "start_time": "2021-11-07T14:17:37.229Z"
   },
   {
    "duration": 463,
    "start_time": "2021-11-07T14:18:12.914Z"
   },
   {
    "duration": 464,
    "start_time": "2021-11-07T14:23:16.458Z"
   },
   {
    "duration": 43,
    "start_time": "2021-11-07T14:24:14.692Z"
   },
   {
    "duration": 44,
    "start_time": "2021-11-07T14:24:31.646Z"
   },
   {
    "duration": 43,
    "start_time": "2021-11-07T14:24:43.101Z"
   },
   {
    "duration": 562,
    "start_time": "2021-11-07T14:24:56.608Z"
   },
   {
    "duration": 484,
    "start_time": "2021-11-07T14:25:55.315Z"
   },
   {
    "duration": 32,
    "start_time": "2021-11-07T14:48:58.559Z"
   },
   {
    "duration": 278,
    "start_time": "2021-11-07T14:50:46.781Z"
   },
   {
    "duration": 31,
    "start_time": "2021-11-07T14:51:01.099Z"
   },
   {
    "duration": 22,
    "start_time": "2021-11-07T14:51:14.444Z"
   },
   {
    "duration": 649,
    "start_time": "2021-11-07T14:55:19.666Z"
   },
   {
    "duration": 290,
    "start_time": "2021-11-07T14:55:31.473Z"
   },
   {
    "duration": 284,
    "start_time": "2021-11-07T14:55:42.679Z"
   },
   {
    "duration": 24,
    "start_time": "2021-11-07T14:55:51.786Z"
   },
   {
    "duration": 35,
    "start_time": "2021-11-07T14:56:08.213Z"
   },
   {
    "duration": 299,
    "start_time": "2021-11-07T14:56:13.671Z"
   },
   {
    "duration": 560,
    "start_time": "2021-11-07T14:57:41.456Z"
   },
   {
    "duration": 832,
    "start_time": "2021-11-07T14:57:53.584Z"
   },
   {
    "duration": 468,
    "start_time": "2021-11-07T14:58:09.277Z"
   },
   {
    "duration": 312,
    "start_time": "2021-11-07T14:59:09.926Z"
   },
   {
    "duration": 297,
    "start_time": "2021-11-07T15:12:15.398Z"
   },
   {
    "duration": 584,
    "start_time": "2021-11-07T15:13:21.016Z"
   },
   {
    "duration": 305,
    "start_time": "2021-11-07T15:13:28.249Z"
   },
   {
    "duration": 440,
    "start_time": "2021-11-07T15:17:31.039Z"
   },
   {
    "duration": 537,
    "start_time": "2021-11-07T15:17:58.879Z"
   },
   {
    "duration": 573,
    "start_time": "2021-11-07T15:20:10.695Z"
   },
   {
    "duration": 291,
    "start_time": "2021-11-07T15:22:05.844Z"
   },
   {
    "duration": 674,
    "start_time": "2021-11-07T15:22:21.175Z"
   },
   {
    "duration": 792,
    "start_time": "2021-11-07T15:22:35.238Z"
   },
   {
    "duration": 573,
    "start_time": "2021-11-07T15:23:04.666Z"
   },
   {
    "duration": 961,
    "start_time": "2021-11-07T15:23:24.947Z"
   },
   {
    "duration": 942,
    "start_time": "2021-11-07T15:23:56.993Z"
   },
   {
    "duration": 286,
    "start_time": "2021-11-07T15:25:35.174Z"
   },
   {
    "duration": 436,
    "start_time": "2021-11-07T15:26:07.734Z"
   },
   {
    "duration": 541,
    "start_time": "2021-11-07T15:27:08.724Z"
   },
   {
    "duration": 389,
    "start_time": "2021-11-07T15:27:17.550Z"
   },
   {
    "duration": 517,
    "start_time": "2021-11-07T15:27:24.252Z"
   },
   {
    "duration": 433,
    "start_time": "2021-11-07T15:27:30.768Z"
   },
   {
    "duration": 436,
    "start_time": "2021-11-07T15:27:59.697Z"
   },
   {
    "duration": 447,
    "start_time": "2021-11-07T15:43:56.390Z"
   },
   {
    "duration": 48,
    "start_time": "2021-11-07T15:44:14.450Z"
   },
   {
    "duration": 46,
    "start_time": "2021-11-07T15:44:31.012Z"
   },
   {
    "duration": 44,
    "start_time": "2021-11-07T15:44:49.420Z"
   },
   {
    "duration": 484,
    "start_time": "2021-11-07T15:45:04.178Z"
   },
   {
    "duration": 966,
    "start_time": "2021-11-07T15:46:57.849Z"
   },
   {
    "duration": 592,
    "start_time": "2021-11-07T15:47:07.415Z"
   },
   {
    "duration": 326,
    "start_time": "2021-11-07T15:47:22.807Z"
   },
   {
    "duration": 326,
    "start_time": "2021-11-07T15:49:16.116Z"
   },
   {
    "duration": 269,
    "start_time": "2021-11-07T15:50:03.979Z"
   },
   {
    "duration": 482,
    "start_time": "2021-11-07T15:52:40.168Z"
   },
   {
    "duration": 400,
    "start_time": "2021-11-07T15:52:47.775Z"
   },
   {
    "duration": 41,
    "start_time": "2021-11-07T15:52:59.127Z"
   },
   {
    "duration": 40,
    "start_time": "2021-11-07T15:53:09.598Z"
   },
   {
    "duration": 40,
    "start_time": "2021-11-07T15:53:18.959Z"
   },
   {
    "duration": 466,
    "start_time": "2021-11-07T15:53:29.249Z"
   },
   {
    "duration": 422,
    "start_time": "2021-11-07T15:53:40.548Z"
   },
   {
    "duration": 1613,
    "start_time": "2021-11-08T08:58:50.109Z"
   },
   {
    "duration": 135,
    "start_time": "2021-11-08T08:58:51.725Z"
   },
   {
    "duration": 100,
    "start_time": "2021-11-08T08:58:51.863Z"
   },
   {
    "duration": 12,
    "start_time": "2021-11-08T08:58:51.966Z"
   },
   {
    "duration": 1303,
    "start_time": "2021-11-08T08:58:51.981Z"
   },
   {
    "duration": 7396,
    "start_time": "2021-11-08T08:58:53.287Z"
   },
   {
    "duration": 465,
    "start_time": "2021-11-08T08:59:00.685Z"
   },
   {
    "duration": 685,
    "start_time": "2021-11-08T08:59:01.153Z"
   },
   {
    "duration": 21,
    "start_time": "2021-11-08T08:59:01.841Z"
   },
   {
    "duration": 500,
    "start_time": "2021-11-08T08:59:01.865Z"
   },
   {
    "duration": 505,
    "start_time": "2021-11-08T08:59:02.368Z"
   },
   {
    "duration": 486,
    "start_time": "2021-11-08T08:59:02.875Z"
   },
   {
    "duration": 32,
    "start_time": "2021-11-08T09:04:57.830Z"
   },
   {
    "duration": 35,
    "start_time": "2021-11-08T09:06:17.376Z"
   },
   {
    "duration": 16,
    "start_time": "2021-11-08T09:10:47.527Z"
   },
   {
    "duration": 17,
    "start_time": "2021-11-08T09:11:12.021Z"
   },
   {
    "duration": 87,
    "start_time": "2021-11-08T09:11:28.316Z"
   },
   {
    "duration": 78,
    "start_time": "2021-11-08T09:11:33.809Z"
   },
   {
    "duration": 16,
    "start_time": "2021-11-08T09:11:39.035Z"
   },
   {
    "duration": 17,
    "start_time": "2021-11-08T09:12:14.514Z"
   },
   {
    "duration": 17,
    "start_time": "2021-11-08T09:12:33.518Z"
   },
   {
    "duration": 136,
    "start_time": "2021-11-08T09:13:22.944Z"
   },
   {
    "duration": 19,
    "start_time": "2021-11-08T09:13:33.631Z"
   },
   {
    "duration": 19,
    "start_time": "2021-11-08T09:14:00.093Z"
   },
   {
    "duration": 17,
    "start_time": "2021-11-08T09:18:41.238Z"
   },
   {
    "duration": 17,
    "start_time": "2021-11-08T09:19:48.162Z"
   },
   {
    "duration": 18,
    "start_time": "2021-11-08T09:19:57.751Z"
   },
   {
    "duration": 398,
    "start_time": "2021-11-08T09:25:42.328Z"
   },
   {
    "duration": 8,
    "start_time": "2021-11-08T09:27:09.790Z"
   },
   {
    "duration": 253,
    "start_time": "2021-11-08T09:27:28.941Z"
   },
   {
    "duration": 8,
    "start_time": "2021-11-08T09:28:09.389Z"
   },
   {
    "duration": 2109,
    "start_time": "2021-11-08T10:09:23.906Z"
   },
   {
    "duration": 2113,
    "start_time": "2021-11-08T10:09:42.231Z"
   },
   {
    "duration": 1663,
    "start_time": "2021-11-08T10:09:59.271Z"
   },
   {
    "duration": 1174,
    "start_time": "2021-11-08T10:10:09.264Z"
   },
   {
    "duration": 4,
    "start_time": "2021-11-08T10:10:39.994Z"
   },
   {
    "duration": 157,
    "start_time": "2021-11-08T10:10:40.002Z"
   },
   {
    "duration": 101,
    "start_time": "2021-11-08T10:10:40.161Z"
   },
   {
    "duration": 10,
    "start_time": "2021-11-08T10:10:40.265Z"
   },
   {
    "duration": 1120,
    "start_time": "2021-11-08T10:10:40.278Z"
   },
   {
    "duration": 5224,
    "start_time": "2021-11-08T10:10:41.401Z"
   },
   {
    "duration": 485,
    "start_time": "2021-11-08T10:10:46.628Z"
   },
   {
    "duration": 915,
    "start_time": "2021-11-08T10:10:47.117Z"
   },
   {
    "duration": 32,
    "start_time": "2021-11-08T10:10:48.037Z"
   },
   {
    "duration": 731,
    "start_time": "2021-11-08T10:10:48.073Z"
   },
   {
    "duration": 623,
    "start_time": "2021-11-08T10:10:48.806Z"
   },
   {
    "duration": 437,
    "start_time": "2021-11-08T10:10:49.431Z"
   },
   {
    "duration": 17,
    "start_time": "2021-11-08T10:10:49.870Z"
   },
   {
    "duration": 45,
    "start_time": "2021-11-08T10:10:49.889Z"
   },
   {
    "duration": 22,
    "start_time": "2021-11-08T10:10:49.936Z"
   },
   {
    "duration": 282,
    "start_time": "2021-11-08T10:14:55.423Z"
   },
   {
    "duration": 28,
    "start_time": "2021-11-08T10:16:20.019Z"
   },
   {
    "duration": 317,
    "start_time": "2021-11-08T10:17:30.448Z"
   },
   {
    "duration": 6766,
    "start_time": "2021-11-08T10:19:16.246Z"
   },
   {
    "duration": 19,
    "start_time": "2021-11-08T10:19:52.356Z"
   },
   {
    "duration": 37,
    "start_time": "2021-11-08T10:20:01.288Z"
   },
   {
    "duration": 15,
    "start_time": "2021-11-08T10:20:49.368Z"
   },
   {
    "duration": 523,
    "start_time": "2021-11-08T10:21:26.551Z"
   },
   {
    "duration": 331,
    "start_time": "2021-11-08T10:21:35.373Z"
   },
   {
    "duration": 15,
    "start_time": "2021-11-08T10:22:05.134Z"
   },
   {
    "duration": 379,
    "start_time": "2021-11-08T10:22:19.955Z"
   },
   {
    "duration": 843,
    "start_time": "2021-11-08T10:23:04.416Z"
   },
   {
    "duration": 1340,
    "start_time": "2021-11-08T10:23:22.806Z"
   },
   {
    "duration": 737,
    "start_time": "2021-11-08T10:23:43.912Z"
   },
   {
    "duration": 752,
    "start_time": "2021-11-08T10:25:14.315Z"
   },
   {
    "duration": 934,
    "start_time": "2021-11-08T10:25:42.553Z"
   },
   {
    "duration": 804,
    "start_time": "2021-11-08T10:26:53.592Z"
   },
   {
    "duration": 1638,
    "start_time": "2021-11-08T10:29:42.681Z"
   },
   {
    "duration": 1892,
    "start_time": "2021-11-08T10:29:57.989Z"
   },
   {
    "duration": 59,
    "start_time": "2021-11-08T10:39:43.341Z"
   },
   {
    "duration": 4,
    "start_time": "2021-11-08T10:39:49.114Z"
   },
   {
    "duration": 150,
    "start_time": "2021-11-08T10:39:49.124Z"
   },
   {
    "duration": 97,
    "start_time": "2021-11-08T10:39:49.278Z"
   },
   {
    "duration": 10,
    "start_time": "2021-11-08T10:39:49.380Z"
   },
   {
    "duration": 1095,
    "start_time": "2021-11-08T10:39:49.393Z"
   },
   {
    "duration": 4947,
    "start_time": "2021-11-08T10:39:50.491Z"
   },
   {
    "duration": 373,
    "start_time": "2021-11-08T10:39:55.440Z"
   },
   {
    "duration": 2007,
    "start_time": "2021-11-08T10:39:55.817Z"
   },
   {
    "duration": 21,
    "start_time": "2021-11-08T10:39:57.831Z"
   },
   {
    "duration": 82,
    "start_time": "2021-11-08T10:39:57.854Z"
   },
   {
    "duration": 492,
    "start_time": "2021-11-08T10:39:57.939Z"
   },
   {
    "duration": 427,
    "start_time": "2021-11-08T10:39:58.433Z"
   },
   {
    "duration": 18,
    "start_time": "2021-11-08T10:39:58.862Z"
   },
   {
    "duration": 18,
    "start_time": "2021-11-08T10:39:58.883Z"
   },
   {
    "duration": 33,
    "start_time": "2021-11-08T10:39:58.903Z"
   },
   {
    "duration": 68,
    "start_time": "2021-11-08T10:41:05.658Z"
   },
   {
    "duration": 65,
    "start_time": "2021-11-08T10:41:19.579Z"
   },
   {
    "duration": 66,
    "start_time": "2021-11-08T10:41:41.279Z"
   },
   {
    "duration": 65,
    "start_time": "2021-11-08T10:41:49.595Z"
   },
   {
    "duration": 69,
    "start_time": "2021-11-08T10:42:13.288Z"
   },
   {
    "duration": 67,
    "start_time": "2021-11-08T10:42:46.202Z"
   },
   {
    "duration": 530,
    "start_time": "2021-11-08T10:43:03.395Z"
   },
   {
    "duration": 446,
    "start_time": "2021-11-08T10:43:16.408Z"
   },
   {
    "duration": 534,
    "start_time": "2021-11-08T10:44:11.592Z"
   },
   {
    "duration": 522,
    "start_time": "2021-11-08T10:45:06.858Z"
   },
   {
    "duration": 979,
    "start_time": "2021-11-08T10:45:26.750Z"
   },
   {
    "duration": 979,
    "start_time": "2021-11-08T10:45:41.152Z"
   },
   {
    "duration": 984,
    "start_time": "2021-11-08T10:47:43.641Z"
   },
   {
    "duration": 7009,
    "start_time": "2021-11-08T10:48:11.065Z"
   },
   {
    "duration": 496,
    "start_time": "2021-11-08T10:48:41.427Z"
   },
   {
    "duration": 495,
    "start_time": "2021-11-08T10:48:53.454Z"
   },
   {
    "duration": 60,
    "start_time": "2021-11-08T10:49:01.531Z"
   },
   {
    "duration": 6363,
    "start_time": "2021-11-08T10:49:14.929Z"
   },
   {
    "duration": 58,
    "start_time": "2021-11-08T10:49:25.924Z"
   },
   {
    "duration": 493,
    "start_time": "2021-11-08T10:50:12.656Z"
   },
   {
    "duration": 1055,
    "start_time": "2021-11-08T10:50:24.738Z"
   },
   {
    "duration": 932,
    "start_time": "2021-11-08T10:53:37.926Z"
   },
   {
    "duration": 916,
    "start_time": "2021-11-08T10:53:50.797Z"
   },
   {
    "duration": 970,
    "start_time": "2021-11-08T10:54:07.663Z"
   },
   {
    "duration": 969,
    "start_time": "2021-11-08T10:54:36.735Z"
   },
   {
    "duration": 971,
    "start_time": "2021-11-08T10:54:47.895Z"
   },
   {
    "duration": 1007,
    "start_time": "2021-11-08T10:55:08.492Z"
   },
   {
    "duration": 971,
    "start_time": "2021-11-08T10:55:35.154Z"
   },
   {
    "duration": 968,
    "start_time": "2021-11-08T10:56:02.643Z"
   },
   {
    "duration": 904,
    "start_time": "2021-11-08T10:56:25.002Z"
   },
   {
    "duration": 9,
    "start_time": "2021-11-08T11:13:09.098Z"
   },
   {
    "duration": 9,
    "start_time": "2021-11-08T11:13:24.382Z"
   },
   {
    "duration": 4,
    "start_time": "2021-11-08T11:15:43.794Z"
   },
   {
    "duration": 147,
    "start_time": "2021-11-08T11:15:43.801Z"
   },
   {
    "duration": 99,
    "start_time": "2021-11-08T11:15:43.951Z"
   },
   {
    "duration": 10,
    "start_time": "2021-11-08T11:15:44.053Z"
   },
   {
    "duration": 1119,
    "start_time": "2021-11-08T11:15:44.065Z"
   },
   {
    "duration": 5367,
    "start_time": "2021-11-08T11:15:45.186Z"
   },
   {
    "duration": 398,
    "start_time": "2021-11-08T11:15:50.557Z"
   },
   {
    "duration": 2118,
    "start_time": "2021-11-08T11:15:50.961Z"
   },
   {
    "duration": 21,
    "start_time": "2021-11-08T11:15:53.082Z"
   },
   {
    "duration": 1027,
    "start_time": "2021-11-08T11:15:53.105Z"
   },
   {
    "duration": 953,
    "start_time": "2021-11-08T11:15:54.135Z"
   },
   {
    "duration": 444,
    "start_time": "2021-11-08T11:15:55.090Z"
   },
   {
    "duration": 18,
    "start_time": "2021-11-08T11:15:55.536Z"
   },
   {
    "duration": 17,
    "start_time": "2021-11-08T11:15:55.557Z"
   },
   {
    "duration": 52,
    "start_time": "2021-11-08T11:15:55.576Z"
   },
   {
    "duration": 268,
    "start_time": "2021-11-08T14:48:55.891Z"
   },
   {
    "duration": 1282,
    "start_time": "2021-11-08T14:48:59.586Z"
   },
   {
    "duration": 137,
    "start_time": "2021-11-08T14:49:00.870Z"
   },
   {
    "duration": 69,
    "start_time": "2021-11-08T14:49:01.009Z"
   },
   {
    "duration": 8,
    "start_time": "2021-11-08T14:49:01.080Z"
   },
   {
    "duration": 714,
    "start_time": "2021-11-08T14:49:01.090Z"
   },
   {
    "duration": 3103,
    "start_time": "2021-11-08T14:49:01.806Z"
   },
   {
    "duration": 319,
    "start_time": "2021-11-08T14:49:04.911Z"
   },
   {
    "duration": 1360,
    "start_time": "2021-11-08T14:49:05.232Z"
   },
   {
    "duration": 15,
    "start_time": "2021-11-08T14:49:06.595Z"
   },
   {
    "duration": 599,
    "start_time": "2021-11-08T14:49:06.612Z"
   },
   {
    "duration": 655,
    "start_time": "2021-11-08T14:49:07.212Z"
   },
   {
    "duration": 259,
    "start_time": "2021-11-08T14:49:07.869Z"
   },
   {
    "duration": 12,
    "start_time": "2021-11-08T14:49:08.130Z"
   },
   {
    "duration": 28,
    "start_time": "2021-11-08T14:49:08.144Z"
   },
   {
    "duration": 7,
    "start_time": "2021-11-08T14:49:08.173Z"
   },
   {
    "duration": 20,
    "start_time": "2021-11-08T14:49:08.181Z"
   },
   {
    "duration": 4,
    "start_time": "2021-11-08T14:49:20.762Z"
   },
   {
    "duration": 4,
    "start_time": "2021-11-08T14:50:27.779Z"
   },
   {
    "duration": 106,
    "start_time": "2021-11-08T14:50:27.785Z"
   },
   {
    "duration": 70,
    "start_time": "2021-11-08T14:50:27.894Z"
   },
   {
    "duration": 7,
    "start_time": "2021-11-08T14:50:27.967Z"
   },
   {
    "duration": 679,
    "start_time": "2021-11-08T14:50:27.976Z"
   },
   {
    "duration": 3249,
    "start_time": "2021-11-08T14:50:28.657Z"
   },
   {
    "duration": 237,
    "start_time": "2021-11-08T14:50:31.907Z"
   },
   {
    "duration": 30,
    "start_time": "2021-11-08T14:50:32.146Z"
   },
   {
    "duration": 6,
    "start_time": "2021-11-08T15:04:36.784Z"
   },
   {
    "duration": 461,
    "start_time": "2021-11-08T22:29:13.829Z"
   },
   {
    "duration": 1416,
    "start_time": "2021-11-08T22:29:18.156Z"
   },
   {
    "duration": 101,
    "start_time": "2021-11-08T22:29:20.818Z"
   },
   {
    "duration": 131,
    "start_time": "2021-11-08T22:30:09.469Z"
   },
   {
    "duration": 88,
    "start_time": "2021-11-08T22:30:16.280Z"
   },
   {
    "duration": 86,
    "start_time": "2021-11-08T22:30:29.363Z"
   },
   {
    "duration": 103,
    "start_time": "2021-11-08T22:30:42.827Z"
   },
   {
    "duration": 102,
    "start_time": "2021-11-08T22:30:58.462Z"
   },
   {
    "duration": 89,
    "start_time": "2021-11-08T22:32:40.752Z"
   },
   {
    "duration": 587,
    "start_time": "2021-11-08T22:35:47.532Z"
   },
   {
    "duration": 406,
    "start_time": "2021-11-08T22:37:31.019Z"
   },
   {
    "duration": 412,
    "start_time": "2021-11-08T22:37:46.895Z"
   },
   {
    "duration": 4,
    "start_time": "2021-11-08T22:38:12.824Z"
   },
   {
    "duration": 143,
    "start_time": "2021-11-08T22:38:14.852Z"
   },
   {
    "duration": 461,
    "start_time": "2021-11-08T22:38:19.047Z"
   },
   {
    "duration": 4,
    "start_time": "2021-11-08T22:38:37.591Z"
   },
   {
    "duration": 152,
    "start_time": "2021-11-08T22:38:37.597Z"
   },
   {
    "duration": 104,
    "start_time": "2021-11-08T22:38:37.752Z"
   },
   {
    "duration": 14,
    "start_time": "2021-11-08T22:38:37.860Z"
   },
   {
    "duration": 1169,
    "start_time": "2021-11-08T22:38:37.877Z"
   },
   {
    "duration": 5341,
    "start_time": "2021-11-08T22:38:39.049Z"
   },
   {
    "duration": 530,
    "start_time": "2021-11-08T22:38:44.392Z"
   },
   {
    "duration": 2112,
    "start_time": "2021-11-08T22:38:44.925Z"
   },
   {
    "duration": 20,
    "start_time": "2021-11-08T22:38:47.041Z"
   },
   {
    "duration": 1048,
    "start_time": "2021-11-08T22:38:47.064Z"
   },
   {
    "duration": 978,
    "start_time": "2021-11-08T22:38:48.115Z"
   },
   {
    "duration": 531,
    "start_time": "2021-11-08T22:38:49.096Z"
   },
   {
    "duration": 19,
    "start_time": "2021-11-08T22:38:49.629Z"
   },
   {
    "duration": 17,
    "start_time": "2021-11-08T22:38:49.650Z"
   },
   {
    "duration": 38,
    "start_time": "2021-11-08T22:38:49.670Z"
   },
   {
    "duration": 5,
    "start_time": "2021-11-08T22:40:39.644Z"
   },
   {
    "duration": 164,
    "start_time": "2021-11-08T22:40:39.652Z"
   },
   {
    "duration": 110,
    "start_time": "2021-11-08T22:40:39.820Z"
   },
   {
    "duration": 10,
    "start_time": "2021-11-08T22:40:39.934Z"
   },
   {
    "duration": 1385,
    "start_time": "2021-11-08T22:40:39.947Z"
   },
   {
    "duration": 5921,
    "start_time": "2021-11-08T22:40:41.336Z"
   },
   {
    "duration": 401,
    "start_time": "2021-11-08T22:40:47.260Z"
   },
   {
    "duration": 2159,
    "start_time": "2021-11-08T22:40:47.664Z"
   },
   {
    "duration": 21,
    "start_time": "2021-11-08T22:40:49.827Z"
   },
   {
    "duration": 1021,
    "start_time": "2021-11-08T22:40:49.851Z"
   },
   {
    "duration": 1059,
    "start_time": "2021-11-08T22:40:50.876Z"
   },
   {
    "duration": 442,
    "start_time": "2021-11-08T22:40:51.937Z"
   },
   {
    "duration": 28,
    "start_time": "2021-11-08T22:40:52.382Z"
   },
   {
    "duration": 17,
    "start_time": "2021-11-08T22:40:52.412Z"
   },
   {
    "duration": 9,
    "start_time": "2021-11-08T22:40:52.431Z"
   },
   {
    "duration": 1120,
    "start_time": "2021-11-09T12:28:29.812Z"
   },
   {
    "duration": 108,
    "start_time": "2021-11-09T12:28:30.934Z"
   },
   {
    "duration": 62,
    "start_time": "2021-11-09T12:28:31.044Z"
   },
   {
    "duration": 9,
    "start_time": "2021-11-09T12:28:31.108Z"
   },
   {
    "duration": 692,
    "start_time": "2021-11-09T12:28:31.118Z"
   },
   {
    "duration": 3075,
    "start_time": "2021-11-09T12:28:31.812Z"
   },
   {
    "duration": 289,
    "start_time": "2021-11-09T12:28:34.888Z"
   },
   {
    "duration": 1493,
    "start_time": "2021-11-09T12:28:35.179Z"
   },
   {
    "duration": 14,
    "start_time": "2021-11-09T12:28:36.673Z"
   },
   {
    "duration": 612,
    "start_time": "2021-11-09T12:28:36.689Z"
   },
   {
    "duration": 587,
    "start_time": "2021-11-09T12:28:37.303Z"
   },
   {
    "duration": 339,
    "start_time": "2021-11-09T12:28:37.892Z"
   },
   {
    "duration": 22,
    "start_time": "2021-11-09T12:28:38.232Z"
   },
   {
    "duration": 12,
    "start_time": "2021-11-09T12:28:38.256Z"
   },
   {
    "duration": 12,
    "start_time": "2021-11-09T12:28:38.270Z"
   },
   {
    "duration": 624,
    "start_time": "2021-11-09T12:32:16.565Z"
   },
   {
    "duration": 783,
    "start_time": "2021-11-09T12:33:19.967Z"
   },
   {
    "duration": 742,
    "start_time": "2021-11-09T12:33:58.734Z"
   },
   {
    "duration": 629,
    "start_time": "2021-11-09T12:34:13.882Z"
   },
   {
    "duration": 3,
    "start_time": "2021-11-09T12:34:41.295Z"
   },
   {
    "duration": 118,
    "start_time": "2021-11-09T12:34:41.300Z"
   },
   {
    "duration": 67,
    "start_time": "2021-11-09T12:34:41.419Z"
   },
   {
    "duration": 8,
    "start_time": "2021-11-09T12:34:41.488Z"
   },
   {
    "duration": 754,
    "start_time": "2021-11-09T12:34:41.498Z"
   },
   {
    "duration": 3172,
    "start_time": "2021-11-09T12:34:42.254Z"
   },
   {
    "duration": 231,
    "start_time": "2021-11-09T12:34:45.428Z"
   },
   {
    "duration": 1360,
    "start_time": "2021-11-09T12:34:45.661Z"
   },
   {
    "duration": 22,
    "start_time": "2021-11-09T12:34:47.023Z"
   },
   {
    "duration": 709,
    "start_time": "2021-11-09T12:34:47.047Z"
   },
   {
    "duration": 600,
    "start_time": "2021-11-09T12:34:47.758Z"
   },
   {
    "duration": 265,
    "start_time": "2021-11-09T12:34:48.359Z"
   },
   {
    "duration": 19,
    "start_time": "2021-11-09T12:34:48.626Z"
   },
   {
    "duration": 11,
    "start_time": "2021-11-09T12:34:48.646Z"
   },
   {
    "duration": 5,
    "start_time": "2021-11-09T12:34:48.659Z"
   },
   {
    "duration": 740,
    "start_time": "2021-11-09T12:35:14.385Z"
   },
   {
    "duration": 3,
    "start_time": "2021-11-09T12:35:24.113Z"
   },
   {
    "duration": 116,
    "start_time": "2021-11-09T12:35:24.119Z"
   },
   {
    "duration": 59,
    "start_time": "2021-11-09T12:35:24.237Z"
   },
   {
    "duration": 8,
    "start_time": "2021-11-09T12:35:24.298Z"
   },
   {
    "duration": 704,
    "start_time": "2021-11-09T12:35:24.308Z"
   },
   {
    "duration": 3108,
    "start_time": "2021-11-09T12:35:25.014Z"
   },
   {
    "duration": 238,
    "start_time": "2021-11-09T12:35:28.124Z"
   },
   {
    "duration": 1557,
    "start_time": "2021-11-09T12:35:28.363Z"
   },
   {
    "duration": 22,
    "start_time": "2021-11-09T12:35:29.922Z"
   },
   {
    "duration": 622,
    "start_time": "2021-11-09T12:35:29.946Z"
   },
   {
    "duration": 610,
    "start_time": "2021-11-09T12:35:30.570Z"
   },
   {
    "duration": 379,
    "start_time": "2021-11-09T12:35:31.182Z"
   },
   {
    "duration": 13,
    "start_time": "2021-11-09T12:35:31.562Z"
   },
   {
    "duration": 21,
    "start_time": "2021-11-09T12:35:31.577Z"
   },
   {
    "duration": 7,
    "start_time": "2021-11-09T12:35:31.600Z"
   },
   {
    "duration": 3,
    "start_time": "2021-11-09T12:38:34.713Z"
   },
   {
    "duration": 110,
    "start_time": "2021-11-09T12:38:34.720Z"
   },
   {
    "duration": 63,
    "start_time": "2021-11-09T12:38:34.832Z"
   },
   {
    "duration": 7,
    "start_time": "2021-11-09T12:38:34.897Z"
   },
   {
    "duration": 715,
    "start_time": "2021-11-09T12:38:34.907Z"
   },
   {
    "duration": 3046,
    "start_time": "2021-11-09T12:38:35.624Z"
   },
   {
    "duration": 218,
    "start_time": "2021-11-09T12:38:38.671Z"
   },
   {
    "duration": 1438,
    "start_time": "2021-11-09T12:38:38.891Z"
   },
   {
    "duration": 21,
    "start_time": "2021-11-09T12:38:40.332Z"
   },
   {
    "duration": 612,
    "start_time": "2021-11-09T12:38:40.355Z"
   },
   {
    "duration": 829,
    "start_time": "2021-11-09T12:38:40.969Z"
   },
   {
    "duration": 281,
    "start_time": "2021-11-09T12:38:41.800Z"
   },
   {
    "duration": 14,
    "start_time": "2021-11-09T12:38:42.083Z"
   },
   {
    "duration": 32,
    "start_time": "2021-11-09T12:38:42.099Z"
   },
   {
    "duration": 28,
    "start_time": "2021-11-09T12:38:42.133Z"
   },
   {
    "duration": 739,
    "start_time": "2021-11-09T12:38:56.506Z"
   },
   {
    "duration": 568,
    "start_time": "2021-11-09T12:39:05.105Z"
   },
   {
    "duration": 845,
    "start_time": "2021-11-09T12:39:18.754Z"
   },
   {
    "duration": 752,
    "start_time": "2021-11-09T12:39:32.195Z"
   },
   {
    "duration": 606,
    "start_time": "2021-11-09T12:39:46.301Z"
   },
   {
    "duration": 3,
    "start_time": "2021-11-09T12:40:06.338Z"
   },
   {
    "duration": 114,
    "start_time": "2021-11-09T12:40:06.345Z"
   },
   {
    "duration": 57,
    "start_time": "2021-11-09T12:40:06.461Z"
   },
   {
    "duration": 7,
    "start_time": "2021-11-09T12:40:06.520Z"
   },
   {
    "duration": 701,
    "start_time": "2021-11-09T12:40:06.528Z"
   },
   {
    "duration": 3163,
    "start_time": "2021-11-09T12:40:07.231Z"
   },
   {
    "duration": 230,
    "start_time": "2021-11-09T12:40:10.396Z"
   },
   {
    "duration": 1483,
    "start_time": "2021-11-09T12:40:10.628Z"
   },
   {
    "duration": 14,
    "start_time": "2021-11-09T12:40:12.113Z"
   },
   {
    "duration": 624,
    "start_time": "2021-11-09T12:40:12.129Z"
   },
   {
    "duration": 564,
    "start_time": "2021-11-09T12:40:12.755Z"
   },
   {
    "duration": 275,
    "start_time": "2021-11-09T12:40:13.320Z"
   },
   {
    "duration": 11,
    "start_time": "2021-11-09T12:40:13.597Z"
   },
   {
    "duration": 28,
    "start_time": "2021-11-09T12:40:13.609Z"
   },
   {
    "duration": 41,
    "start_time": "2021-11-09T12:40:13.638Z"
   },
   {
    "duration": 911,
    "start_time": "2021-11-09T12:41:19.950Z"
   },
   {
    "duration": 660,
    "start_time": "2021-11-09T12:42:04.818Z"
   },
   {
    "duration": 682,
    "start_time": "2021-11-09T12:42:12.844Z"
   },
   {
    "duration": 645,
    "start_time": "2021-11-09T12:42:28.126Z"
   },
   {
    "duration": 894,
    "start_time": "2021-11-09T12:42:50.009Z"
   },
   {
    "duration": 719,
    "start_time": "2021-11-09T12:42:58.344Z"
   },
   {
    "duration": 789,
    "start_time": "2021-11-09T12:43:16.628Z"
   },
   {
    "duration": 864,
    "start_time": "2021-11-09T12:44:04.651Z"
   },
   {
    "duration": 3,
    "start_time": "2021-11-09T12:44:30.389Z"
   },
   {
    "duration": 111,
    "start_time": "2021-11-09T12:44:30.395Z"
   },
   {
    "duration": 73,
    "start_time": "2021-11-09T12:44:30.508Z"
   },
   {
    "duration": 8,
    "start_time": "2021-11-09T12:44:30.583Z"
   },
   {
    "duration": 773,
    "start_time": "2021-11-09T12:44:30.592Z"
   },
   {
    "duration": 3180,
    "start_time": "2021-11-09T12:44:31.367Z"
   },
   {
    "duration": 231,
    "start_time": "2021-11-09T12:44:34.548Z"
   },
   {
    "duration": 1340,
    "start_time": "2021-11-09T12:44:34.781Z"
   },
   {
    "duration": 28,
    "start_time": "2021-11-09T12:44:36.124Z"
   },
   {
    "duration": 742,
    "start_time": "2021-11-09T12:44:36.154Z"
   },
   {
    "duration": 599,
    "start_time": "2021-11-09T12:44:36.898Z"
   },
   {
    "duration": 274,
    "start_time": "2021-11-09T12:44:37.499Z"
   },
   {
    "duration": 12,
    "start_time": "2021-11-09T12:44:37.775Z"
   },
   {
    "duration": 11,
    "start_time": "2021-11-09T12:44:37.790Z"
   },
   {
    "duration": 8,
    "start_time": "2021-11-09T12:44:37.802Z"
   },
   {
    "duration": 2248,
    "start_time": "2021-11-09T12:53:11.966Z"
   },
   {
    "duration": 3010,
    "start_time": "2021-11-09T12:54:28.649Z"
   },
   {
    "duration": 226,
    "start_time": "2021-11-09T13:03:50.267Z"
   },
   {
    "duration": 398,
    "start_time": "2021-11-09T13:04:31.502Z"
   },
   {
    "duration": 223,
    "start_time": "2021-11-09T13:04:39.684Z"
   },
   {
    "duration": 450,
    "start_time": "2021-11-09T13:07:40.374Z"
   },
   {
    "duration": 512,
    "start_time": "2021-11-09T13:08:14.204Z"
   },
   {
    "duration": 226,
    "start_time": "2021-11-09T13:08:21.279Z"
   },
   {
    "duration": 419,
    "start_time": "2021-11-09T13:08:41.138Z"
   },
   {
    "duration": 224,
    "start_time": "2021-11-09T13:08:54.511Z"
   },
   {
    "duration": 240,
    "start_time": "2021-11-09T13:09:26.215Z"
   },
   {
    "duration": 235,
    "start_time": "2021-11-09T13:09:33.152Z"
   },
   {
    "duration": 217,
    "start_time": "2021-11-09T13:09:50.975Z"
   },
   {
    "duration": 217,
    "start_time": "2021-11-09T13:10:00.865Z"
   },
   {
    "duration": 271,
    "start_time": "2021-11-09T13:10:17.169Z"
   },
   {
    "duration": 243,
    "start_time": "2021-11-09T13:10:25.643Z"
   },
   {
    "duration": 248,
    "start_time": "2021-11-09T13:10:37.546Z"
   },
   {
    "duration": 448,
    "start_time": "2021-11-09T13:11:03.810Z"
   },
   {
    "duration": 96,
    "start_time": "2021-11-09T13:16:47.258Z"
   },
   {
    "duration": 1368,
    "start_time": "2021-11-09T13:16:58.966Z"
   },
   {
    "duration": 1347,
    "start_time": "2021-11-09T13:17:33.778Z"
   },
   {
    "duration": 296,
    "start_time": "2021-11-09T13:21:06.714Z"
   },
   {
    "duration": 506,
    "start_time": "2021-11-09T13:21:11.824Z"
   },
   {
    "duration": 23,
    "start_time": "2021-11-09T13:21:22.386Z"
   },
   {
    "duration": 24,
    "start_time": "2021-11-09T13:21:35.489Z"
   },
   {
    "duration": 36,
    "start_time": "2021-11-09T13:21:52.335Z"
   },
   {
    "duration": 24,
    "start_time": "2021-11-09T13:22:05.157Z"
   },
   {
    "duration": 24,
    "start_time": "2021-11-09T13:22:09.232Z"
   },
   {
    "duration": 23,
    "start_time": "2021-11-09T13:22:37.524Z"
   },
   {
    "duration": 21,
    "start_time": "2021-11-09T13:22:47.034Z"
   },
   {
    "duration": 317,
    "start_time": "2021-11-09T13:30:29.446Z"
   },
   {
    "duration": 1183,
    "start_time": "2021-11-09T13:30:46.856Z"
   },
   {
    "duration": 21,
    "start_time": "2021-11-09T13:30:56.301Z"
   },
   {
    "duration": 3317,
    "start_time": "2021-11-09T13:32:02.220Z"
   },
   {
    "duration": 318,
    "start_time": "2021-11-09T13:32:14.921Z"
   },
   {
    "duration": 1238,
    "start_time": "2021-11-09T13:32:29.819Z"
   },
   {
    "duration": 28,
    "start_time": "2021-11-09T13:32:41.575Z"
   },
   {
    "duration": 602,
    "start_time": "2021-11-09T13:32:51.444Z"
   },
   {
    "duration": 26,
    "start_time": "2021-11-09T13:33:45.941Z"
   },
   {
    "duration": 713,
    "start_time": "2021-11-09T13:34:45.914Z"
   },
   {
    "duration": 32,
    "start_time": "2021-11-09T13:35:47.312Z"
   },
   {
    "duration": 35,
    "start_time": "2021-11-09T13:36:31.476Z"
   },
   {
    "duration": 1237,
    "start_time": "2021-11-09T13:39:54.099Z"
   },
   {
    "duration": 32,
    "start_time": "2021-11-09T13:50:08.033Z"
   },
   {
    "duration": 677,
    "start_time": "2021-11-09T13:52:13.637Z"
   },
   {
    "duration": 308,
    "start_time": "2021-11-09T13:58:11.056Z"
   },
   {
    "duration": 4,
    "start_time": "2021-11-09T13:58:19.279Z"
   },
   {
    "duration": 115,
    "start_time": "2021-11-09T13:58:19.289Z"
   },
   {
    "duration": 76,
    "start_time": "2021-11-09T13:58:19.406Z"
   },
   {
    "duration": 7,
    "start_time": "2021-11-09T13:58:19.484Z"
   },
   {
    "duration": 819,
    "start_time": "2021-11-09T13:58:19.493Z"
   },
   {
    "duration": 3398,
    "start_time": "2021-11-09T13:58:20.314Z"
   },
   {
    "duration": 324,
    "start_time": "2021-11-09T13:58:23.714Z"
   },
   {
    "duration": 1581,
    "start_time": "2021-11-09T13:58:24.039Z"
   },
   {
    "duration": 40,
    "start_time": "2021-11-09T13:58:25.623Z"
   },
   {
    "duration": 1006,
    "start_time": "2021-11-09T13:58:25.665Z"
   },
   {
    "duration": 797,
    "start_time": "2021-11-09T13:58:26.672Z"
   },
   {
    "duration": 293,
    "start_time": "2021-11-09T13:58:27.472Z"
   },
   {
    "duration": 16,
    "start_time": "2021-11-09T13:58:27.768Z"
   },
   {
    "duration": 20,
    "start_time": "2021-11-09T13:58:27.787Z"
   },
   {
    "duration": 6,
    "start_time": "2021-11-09T13:58:27.809Z"
   },
   {
    "duration": 384,
    "start_time": "2021-11-09T13:59:42.145Z"
   },
   {
    "duration": 11,
    "start_time": "2021-11-09T14:11:32.986Z"
   },
   {
    "duration": 15,
    "start_time": "2021-11-09T14:12:15.653Z"
   },
   {
    "duration": 15,
    "start_time": "2021-11-09T14:13:26.061Z"
   },
   {
    "duration": 6,
    "start_time": "2021-11-09T14:13:46.547Z"
   },
   {
    "duration": 3,
    "start_time": "2021-11-09T14:20:25.968Z"
   },
   {
    "duration": 101,
    "start_time": "2021-11-09T14:20:25.993Z"
   },
   {
    "duration": 70,
    "start_time": "2021-11-09T14:20:26.095Z"
   },
   {
    "duration": 7,
    "start_time": "2021-11-09T14:20:26.167Z"
   },
   {
    "duration": 788,
    "start_time": "2021-11-09T14:20:26.176Z"
   },
   {
    "duration": 4156,
    "start_time": "2021-11-09T14:20:26.966Z"
   },
   {
    "duration": 332,
    "start_time": "2021-11-09T14:20:31.125Z"
   },
   {
    "duration": 1289,
    "start_time": "2021-11-09T14:20:31.459Z"
   },
   {
    "duration": 19,
    "start_time": "2021-11-09T14:20:32.751Z"
   },
   {
    "duration": 757,
    "start_time": "2021-11-09T14:20:32.772Z"
   },
   {
    "duration": 945,
    "start_time": "2021-11-09T14:20:33.531Z"
   },
   {
    "duration": 391,
    "start_time": "2021-11-09T14:20:34.478Z"
   },
   {
    "duration": 15,
    "start_time": "2021-11-09T14:20:34.871Z"
   },
   {
    "duration": 30,
    "start_time": "2021-11-09T14:20:34.888Z"
   },
   {
    "duration": 16,
    "start_time": "2021-11-09T14:20:34.920Z"
   },
   {
    "duration": 302,
    "start_time": "2021-11-09T14:28:03.642Z"
   },
   {
    "duration": 1106,
    "start_time": "2021-11-09T14:28:10.936Z"
   },
   {
    "duration": 20,
    "start_time": "2021-11-09T14:28:17.115Z"
   },
   {
    "duration": 602,
    "start_time": "2021-11-09T14:28:25.020Z"
   },
   {
    "duration": 33,
    "start_time": "2021-11-09T14:28:44.436Z"
   },
   {
    "duration": 33,
    "start_time": "2021-11-09T14:28:57.279Z"
   },
   {
    "duration": 32,
    "start_time": "2021-11-09T14:29:08.310Z"
   },
   {
    "duration": 29,
    "start_time": "2021-11-09T14:29:18.529Z"
   },
   {
    "duration": 636,
    "start_time": "2021-11-09T14:29:35.067Z"
   },
   {
    "duration": 31,
    "start_time": "2021-11-09T14:34:20.752Z"
   },
   {
    "duration": 35,
    "start_time": "2021-11-09T14:34:32.286Z"
   },
   {
    "duration": 32,
    "start_time": "2021-11-09T14:34:43.068Z"
   },
   {
    "duration": 33,
    "start_time": "2021-11-09T14:34:52.789Z"
   },
   {
    "duration": 922,
    "start_time": "2021-11-09T14:35:05.293Z"
   },
   {
    "duration": 342,
    "start_time": "2021-11-09T14:35:39.594Z"
   },
   {
    "duration": 11,
    "start_time": "2021-11-09T14:36:13.855Z"
   },
   {
    "duration": 15,
    "start_time": "2021-11-09T14:36:17.020Z"
   },
   {
    "duration": 15,
    "start_time": "2021-11-09T14:36:35.762Z"
   },
   {
    "duration": 354,
    "start_time": "2021-11-09T14:37:22.385Z"
   },
   {
    "duration": 321,
    "start_time": "2021-11-09T14:37:59.681Z"
   },
   {
    "duration": 14,
    "start_time": "2021-11-09T14:41:35.420Z"
   },
   {
    "duration": 15,
    "start_time": "2021-11-09T14:41:43.748Z"
   },
   {
    "duration": 7,
    "start_time": "2021-11-09T14:41:48.066Z"
   },
   {
    "duration": 185,
    "start_time": "2021-11-09T14:59:35.868Z"
   },
   {
    "duration": 6,
    "start_time": "2021-11-09T14:59:43.032Z"
   },
   {
    "duration": 3,
    "start_time": "2021-11-09T14:59:57.498Z"
   },
   {
    "duration": 98,
    "start_time": "2021-11-09T14:59:59.692Z"
   },
   {
    "duration": 59,
    "start_time": "2021-11-09T15:00:04.042Z"
   },
   {
    "duration": 8,
    "start_time": "2021-11-09T15:00:08.020Z"
   },
   {
    "duration": 182,
    "start_time": "2021-11-09T15:00:11.973Z"
   },
   {
    "duration": 166,
    "start_time": "2021-11-09T15:00:27.096Z"
   },
   {
    "duration": 431,
    "start_time": "2021-11-09T15:00:56.702Z"
   },
   {
    "duration": 490,
    "start_time": "2021-11-09T15:01:06.370Z"
   },
   {
    "duration": 181,
    "start_time": "2021-11-09T15:01:14.186Z"
   },
   {
    "duration": 177,
    "start_time": "2021-11-09T15:01:24.997Z"
   },
   {
    "duration": 180,
    "start_time": "2021-11-09T15:01:38.377Z"
   },
   {
    "duration": 362,
    "start_time": "2021-11-09T15:01:54.154Z"
   },
   {
    "duration": 366,
    "start_time": "2021-11-09T15:02:21.037Z"
   },
   {
    "duration": 675,
    "start_time": "2021-11-09T15:02:51.932Z"
   },
   {
    "duration": 648,
    "start_time": "2021-11-09T15:03:01.044Z"
   },
   {
    "duration": 4,
    "start_time": "2021-11-09T15:05:23.789Z"
   },
   {
    "duration": 115,
    "start_time": "2021-11-09T15:05:23.795Z"
   },
   {
    "duration": 72,
    "start_time": "2021-11-09T15:05:23.912Z"
   },
   {
    "duration": 513,
    "start_time": "2021-11-09T15:05:23.987Z"
   },
   {
    "duration": 802,
    "start_time": "2021-11-09T15:05:24.502Z"
   },
   {
    "duration": 3398,
    "start_time": "2021-11-09T15:05:25.307Z"
   },
   {
    "duration": 340,
    "start_time": "2021-11-09T15:05:28.707Z"
   },
   {
    "duration": 1123,
    "start_time": "2021-11-09T15:05:29.050Z"
   },
   {
    "duration": 20,
    "start_time": "2021-11-09T15:05:30.175Z"
   },
   {
    "duration": 702,
    "start_time": "2021-11-09T15:05:30.197Z"
   },
   {
    "duration": 838,
    "start_time": "2021-11-09T15:05:30.901Z"
   },
   {
    "duration": 364,
    "start_time": "2021-11-09T15:05:31.745Z"
   },
   {
    "duration": 15,
    "start_time": "2021-11-09T15:05:32.111Z"
   },
   {
    "duration": 49,
    "start_time": "2021-11-09T15:05:32.128Z"
   },
   {
    "duration": 13,
    "start_time": "2021-11-09T15:05:32.181Z"
   },
   {
    "duration": 3,
    "start_time": "2021-11-09T15:09:25.521Z"
   },
   {
    "duration": 105,
    "start_time": "2021-11-09T15:09:25.528Z"
   },
   {
    "duration": 60,
    "start_time": "2021-11-09T15:09:25.635Z"
   },
   {
    "duration": 418,
    "start_time": "2021-11-09T15:09:25.697Z"
   },
   {
    "duration": 999,
    "start_time": "2021-11-09T15:09:26.117Z"
   },
   {
    "duration": 3030,
    "start_time": "2021-11-09T15:09:27.118Z"
   },
   {
    "duration": 325,
    "start_time": "2021-11-09T15:09:30.150Z"
   },
   {
    "duration": 1193,
    "start_time": "2021-11-09T15:09:30.477Z"
   },
   {
    "duration": 20,
    "start_time": "2021-11-09T15:09:31.672Z"
   },
   {
    "duration": 746,
    "start_time": "2021-11-09T15:09:31.694Z"
   },
   {
    "duration": 992,
    "start_time": "2021-11-09T15:09:32.444Z"
   },
   {
    "duration": 344,
    "start_time": "2021-11-09T15:09:33.437Z"
   },
   {
    "duration": 16,
    "start_time": "2021-11-09T15:09:33.782Z"
   },
   {
    "duration": 17,
    "start_time": "2021-11-09T15:09:33.800Z"
   },
   {
    "duration": 27,
    "start_time": "2021-11-09T15:09:33.818Z"
   },
   {
    "duration": 441,
    "start_time": "2021-11-10T07:03:14.230Z"
   },
   {
    "duration": 1327,
    "start_time": "2021-11-10T07:03:17.511Z"
   },
   {
    "duration": 150,
    "start_time": "2021-11-10T07:03:18.840Z"
   },
   {
    "duration": 108,
    "start_time": "2021-11-10T07:03:18.994Z"
   },
   {
    "duration": 657,
    "start_time": "2021-11-10T07:03:19.105Z"
   },
   {
    "duration": 1268,
    "start_time": "2021-11-10T07:03:19.765Z"
   },
   {
    "duration": 5036,
    "start_time": "2021-11-10T07:03:21.036Z"
   },
   {
    "duration": 492,
    "start_time": "2021-11-10T07:03:26.082Z"
   },
   {
    "duration": 1575,
    "start_time": "2021-11-10T07:03:26.577Z"
   },
   {
    "duration": 45,
    "start_time": "2021-11-10T07:03:28.155Z"
   },
   {
    "duration": 430,
    "start_time": "2021-11-10T07:03:28.203Z"
   },
   {
    "duration": 375,
    "start_time": "2021-11-10T07:03:32.882Z"
   },
   {
    "duration": -3518,
    "start_time": "2021-11-10T07:03:36.778Z"
   },
   {
    "duration": -3518,
    "start_time": "2021-11-10T07:03:36.779Z"
   },
   {
    "duration": -3518,
    "start_time": "2021-11-10T07:03:36.781Z"
   },
   {
    "duration": -3533,
    "start_time": "2021-11-10T07:03:36.797Z"
   },
   {
    "duration": -3533,
    "start_time": "2021-11-10T07:03:36.799Z"
   },
   {
    "duration": -3534,
    "start_time": "2021-11-10T07:03:36.801Z"
   },
   {
    "duration": 407,
    "start_time": "2021-11-10T07:03:37.549Z"
   },
   {
    "duration": -3520,
    "start_time": "2021-11-10T07:03:41.479Z"
   },
   {
    "duration": -3521,
    "start_time": "2021-11-10T07:03:41.481Z"
   },
   {
    "duration": -3521,
    "start_time": "2021-11-10T07:03:41.483Z"
   },
   {
    "duration": -3521,
    "start_time": "2021-11-10T07:03:41.484Z"
   },
   {
    "duration": -3531,
    "start_time": "2021-11-10T07:03:41.496Z"
   },
   {
    "duration": -3531,
    "start_time": "2021-11-10T07:03:41.497Z"
   },
   {
    "duration": 401,
    "start_time": "2021-11-10T07:03:40.760Z"
   },
   {
    "duration": 1063,
    "start_time": "2021-11-10T07:03:41.179Z"
   },
   {
    "duration": 1478,
    "start_time": "2021-11-10T07:03:43.736Z"
   },
   {
    "duration": 748,
    "start_time": "2021-11-10T07:03:45.217Z"
   },
   {
    "duration": 28,
    "start_time": "2021-11-10T07:03:45.968Z"
   },
   {
    "duration": 21,
    "start_time": "2021-11-10T07:03:45.999Z"
   },
   {
    "duration": 10,
    "start_time": "2021-11-10T07:03:46.022Z"
   },
   {
    "duration": 14,
    "start_time": "2021-11-10T07:03:46.681Z"
   },
   {
    "duration": 1520,
    "start_time": "2021-11-10T07:06:19.398Z"
   },
   {
    "duration": 11,
    "start_time": "2021-11-10T07:06:50.689Z"
   },
   {
    "duration": 1739,
    "start_time": "2021-11-10T07:07:46.505Z"
   },
   {
    "duration": 1519,
    "start_time": "2021-11-10T07:08:11.387Z"
   },
   {
    "duration": 7,
    "start_time": "2021-11-10T07:08:32.787Z"
   },
   {
    "duration": 458,
    "start_time": "2021-11-10T07:09:01.321Z"
   },
   {
    "duration": 6,
    "start_time": "2021-11-10T07:11:09.573Z"
   },
   {
    "duration": 229,
    "start_time": "2021-11-10T07:11:20.394Z"
   },
   {
    "duration": 12,
    "start_time": "2021-11-10T07:15:18.064Z"
   },
   {
    "duration": 11,
    "start_time": "2021-11-10T07:15:54.219Z"
   },
   {
    "duration": 11861,
    "start_time": "2021-11-10T07:16:00.641Z"
   },
   {
    "duration": 11,
    "start_time": "2021-11-10T07:16:14.537Z"
   },
   {
    "duration": 8,
    "start_time": "2021-11-10T07:16:36.970Z"
   },
   {
    "duration": 11,
    "start_time": "2021-11-10T07:16:47.081Z"
   },
   {
    "duration": 10,
    "start_time": "2021-11-10T07:16:51.574Z"
   },
   {
    "duration": 19,
    "start_time": "2021-11-10T07:16:57.825Z"
   },
   {
    "duration": 19,
    "start_time": "2021-11-10T07:17:09.787Z"
   },
   {
    "duration": 18,
    "start_time": "2021-11-10T07:17:19.730Z"
   },
   {
    "duration": 418,
    "start_time": "2021-11-10T07:17:33.459Z"
   },
   {
    "duration": 14,
    "start_time": "2021-11-10T07:17:36.899Z"
   },
   {
    "duration": 20,
    "start_time": "2021-11-10T07:17:46.153Z"
   },
   {
    "duration": 11,
    "start_time": "2021-11-10T07:18:04.705Z"
   },
   {
    "duration": 15,
    "start_time": "2021-11-10T07:18:19.106Z"
   },
   {
    "duration": 22,
    "start_time": "2021-11-10T07:19:44.976Z"
   },
   {
    "duration": 18,
    "start_time": "2021-11-10T07:20:45.839Z"
   },
   {
    "duration": 14,
    "start_time": "2021-11-10T07:20:59.028Z"
   },
   {
    "duration": 7,
    "start_time": "2021-11-10T07:22:15.982Z"
   },
   {
    "duration": 10,
    "start_time": "2021-11-10T07:22:36.249Z"
   },
   {
    "duration": 8,
    "start_time": "2021-11-10T07:22:48.651Z"
   },
   {
    "duration": 7,
    "start_time": "2021-11-10T07:23:42.395Z"
   },
   {
    "duration": 7,
    "start_time": "2021-11-10T07:23:54.025Z"
   },
   {
    "duration": 397,
    "start_time": "2021-11-10T07:24:17.726Z"
   },
   {
    "duration": 13,
    "start_time": "2021-11-10T07:24:29.805Z"
   },
   {
    "duration": 16,
    "start_time": "2021-11-10T07:26:01.604Z"
   },
   {
    "duration": 12,
    "start_time": "2021-11-10T07:26:11.433Z"
   },
   {
    "duration": 388,
    "start_time": "2021-11-10T07:26:14.766Z"
   },
   {
    "duration": 16,
    "start_time": "2021-11-10T07:26:27.984Z"
   },
   {
    "duration": 15,
    "start_time": "2021-11-10T07:26:32.859Z"
   },
   {
    "duration": 15,
    "start_time": "2021-11-10T07:26:33.626Z"
   },
   {
    "duration": 16,
    "start_time": "2021-11-10T07:26:33.855Z"
   },
   {
    "duration": 15,
    "start_time": "2021-11-10T07:26:34.094Z"
   },
   {
    "duration": 13,
    "start_time": "2021-11-10T07:26:38.217Z"
   },
   {
    "duration": 15,
    "start_time": "2021-11-10T07:26:38.717Z"
   },
   {
    "duration": 18,
    "start_time": "2021-11-10T07:27:02.095Z"
   },
   {
    "duration": 7,
    "start_time": "2021-11-10T07:27:48.070Z"
   },
   {
    "duration": 117,
    "start_time": "2021-11-10T07:28:19.179Z"
   },
   {
    "duration": 17,
    "start_time": "2021-11-10T07:28:22.441Z"
   },
   {
    "duration": 12,
    "start_time": "2021-11-10T07:28:33.585Z"
   },
   {
    "duration": 15,
    "start_time": "2021-11-10T07:28:34.170Z"
   },
   {
    "duration": 275,
    "start_time": "2021-11-10T07:30:18.683Z"
   },
   {
    "duration": 260,
    "start_time": "2021-11-10T07:30:25.224Z"
   },
   {
    "duration": 280,
    "start_time": "2021-11-10T07:31:02.566Z"
   },
   {
    "duration": 247,
    "start_time": "2021-11-10T07:31:14.327Z"
   },
   {
    "duration": 258,
    "start_time": "2021-11-10T07:31:41.838Z"
   },
   {
    "duration": 365,
    "start_time": "2021-11-10T07:31:59.133Z"
   },
   {
    "duration": 398,
    "start_time": "2021-11-10T07:32:23.853Z"
   },
   {
    "duration": 266,
    "start_time": "2021-11-10T07:32:33.784Z"
   },
   {
    "duration": 396,
    "start_time": "2021-11-10T07:33:49.653Z"
   },
   {
    "duration": 185,
    "start_time": "2021-11-10T07:33:53.343Z"
   },
   {
    "duration": 154,
    "start_time": "2021-11-10T07:34:24.949Z"
   },
   {
    "duration": 156,
    "start_time": "2021-11-10T07:34:37.250Z"
   },
   {
    "duration": 9,
    "start_time": "2021-11-10T07:35:08.217Z"
   },
   {
    "duration": 8,
    "start_time": "2021-11-10T07:35:40.017Z"
   },
   {
    "duration": 9,
    "start_time": "2021-11-10T07:35:49.169Z"
   },
   {
    "duration": 8,
    "start_time": "2021-11-10T07:35:55.685Z"
   },
   {
    "duration": 152,
    "start_time": "2021-11-10T07:36:23.803Z"
   },
   {
    "duration": 132,
    "start_time": "2021-11-10T07:43:04.022Z"
   },
   {
    "duration": 262,
    "start_time": "2021-11-10T07:43:08.267Z"
   },
   {
    "duration": 1174,
    "start_time": "2021-11-10T07:44:16.235Z"
   },
   {
    "duration": 264,
    "start_time": "2021-11-10T07:44:30.616Z"
   },
   {
    "duration": 254,
    "start_time": "2021-11-10T07:44:51.496Z"
   }
  ],
  "kernelspec": {
   "display_name": "Python 3 (ipykernel)",
   "language": "python",
   "name": "python3"
  },
  "language_info": {
   "codemirror_mode": {
    "name": "ipython",
    "version": 3
   },
   "file_extension": ".py",
   "mimetype": "text/x-python",
   "name": "python",
   "nbconvert_exporter": "python",
   "pygments_lexer": "ipython3",
   "version": "3.9.7"
  },
  "toc": {
   "base_numbering": 1,
   "nav_menu": {},
   "number_sections": true,
   "sideBar": true,
   "skip_h1_title": true,
   "title_cell": "Table of Contents",
   "title_sidebar": "Contents",
   "toc_cell": false,
   "toc_position": {
    "height": "calc(100% - 180px)",
    "left": "10px",
    "top": "150px",
    "width": "233.788px"
   },
   "toc_section_display": true,
   "toc_window_display": false
  }
 },
 "nbformat": 4,
 "nbformat_minor": 2
}
