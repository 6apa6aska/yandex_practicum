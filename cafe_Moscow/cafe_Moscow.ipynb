{
 "cells": [
  {
   "cell_type": "markdown",
   "metadata": {},
   "source": [
    "<h1>Рынок заведений общественного питания в Москве</h1>"
   ]
  },
  {
   "cell_type": "markdown",
   "metadata": {},
   "source": [
    "Открытие нового кафе в Москве. Необходимо подготовить исследование рынка для инвесторов о заведениях общественного питания в Москве"
   ]
  },
  {
   "cell_type": "markdown",
   "metadata": {},
   "source": [
    "## Подготовка данных"
   ]
  },
  {
   "cell_type": "code",
   "execution_count": 1,
   "metadata": {},
   "outputs": [],
   "source": [
    "import pandas as pd\n",
    "import matplotlib.pyplot as plt\n",
    "import seaborn as sns\n",
    "import re\n",
    "import requests\n",
    "import json\n",
    "import numpy"
   ]
  },
  {
   "cell_type": "code",
   "execution_count": 2,
   "metadata": {},
   "outputs": [
    {
     "data": {
      "text/html": [
       "<div>\n",
       "<style scoped>\n",
       "    .dataframe tbody tr th:only-of-type {\n",
       "        vertical-align: middle;\n",
       "    }\n",
       "\n",
       "    .dataframe tbody tr th {\n",
       "        vertical-align: top;\n",
       "    }\n",
       "\n",
       "    .dataframe thead th {\n",
       "        text-align: right;\n",
       "    }\n",
       "</style>\n",
       "<table border=\"1\" class=\"dataframe\">\n",
       "  <thead>\n",
       "    <tr style=\"text-align: right;\">\n",
       "      <th></th>\n",
       "      <th>id</th>\n",
       "      <th>object_name</th>\n",
       "      <th>chain</th>\n",
       "      <th>object_type</th>\n",
       "      <th>address</th>\n",
       "      <th>number</th>\n",
       "    </tr>\n",
       "  </thead>\n",
       "  <tbody>\n",
       "    <tr>\n",
       "      <td>0</td>\n",
       "      <td>151635</td>\n",
       "      <td>СМЕТАНА</td>\n",
       "      <td>нет</td>\n",
       "      <td>кафе</td>\n",
       "      <td>город Москва, улица Егора Абакумова, дом 9</td>\n",
       "      <td>48</td>\n",
       "    </tr>\n",
       "    <tr>\n",
       "      <td>1</td>\n",
       "      <td>77874</td>\n",
       "      <td>Родник</td>\n",
       "      <td>нет</td>\n",
       "      <td>кафе</td>\n",
       "      <td>город Москва, улица Талалихина, дом 2/1, корпус 1</td>\n",
       "      <td>35</td>\n",
       "    </tr>\n",
       "    <tr>\n",
       "      <td>2</td>\n",
       "      <td>24309</td>\n",
       "      <td>Кафе «Академия»</td>\n",
       "      <td>нет</td>\n",
       "      <td>кафе</td>\n",
       "      <td>город Москва, Абельмановская улица, дом 6</td>\n",
       "      <td>95</td>\n",
       "    </tr>\n",
       "    <tr>\n",
       "      <td>3</td>\n",
       "      <td>21894</td>\n",
       "      <td>ПИЦЦЕТОРИЯ</td>\n",
       "      <td>да</td>\n",
       "      <td>кафе</td>\n",
       "      <td>город Москва, Абрамцевская улица, дом 1</td>\n",
       "      <td>40</td>\n",
       "    </tr>\n",
       "    <tr>\n",
       "      <td>4</td>\n",
       "      <td>119365</td>\n",
       "      <td>Кафе «Вишневая метель»</td>\n",
       "      <td>нет</td>\n",
       "      <td>кафе</td>\n",
       "      <td>город Москва, Абрамцевская улица, дом 9, корпус 1</td>\n",
       "      <td>50</td>\n",
       "    </tr>\n",
       "    <tr>\n",
       "      <td>...</td>\n",
       "      <td>...</td>\n",
       "      <td>...</td>\n",
       "      <td>...</td>\n",
       "      <td>...</td>\n",
       "      <td>...</td>\n",
       "      <td>...</td>\n",
       "    </tr>\n",
       "    <tr>\n",
       "      <td>15361</td>\n",
       "      <td>208537</td>\n",
       "      <td>Шоколадница</td>\n",
       "      <td>да</td>\n",
       "      <td>кафе</td>\n",
       "      <td>город Москва, 3-й Крутицкий переулок, дом 18</td>\n",
       "      <td>50</td>\n",
       "    </tr>\n",
       "    <tr>\n",
       "      <td>15362</td>\n",
       "      <td>209264</td>\n",
       "      <td>Шоколадница</td>\n",
       "      <td>да</td>\n",
       "      <td>кафе</td>\n",
       "      <td>город Москва, улица Земляной Вал, дом 33</td>\n",
       "      <td>10</td>\n",
       "    </tr>\n",
       "    <tr>\n",
       "      <td>15363</td>\n",
       "      <td>209186</td>\n",
       "      <td>Шоколадница</td>\n",
       "      <td>да</td>\n",
       "      <td>кафе</td>\n",
       "      <td>город Москва, улица Земляной Вал, дом 33</td>\n",
       "      <td>20</td>\n",
       "    </tr>\n",
       "    <tr>\n",
       "      <td>15364</td>\n",
       "      <td>221900</td>\n",
       "      <td>Шоколадница</td>\n",
       "      <td>да</td>\n",
       "      <td>кафе</td>\n",
       "      <td>город Москва, поселение Московский, Киевское шоссе, 22-й километр, домовладение 4, строение 1</td>\n",
       "      <td>36</td>\n",
       "    </tr>\n",
       "    <tr>\n",
       "      <td>15365</td>\n",
       "      <td>222535</td>\n",
       "      <td>Шоколадница</td>\n",
       "      <td>да</td>\n",
       "      <td>кафе</td>\n",
       "      <td>город Москва, Ходынский бульвар, дом 4</td>\n",
       "      <td>10</td>\n",
       "    </tr>\n",
       "  </tbody>\n",
       "</table>\n",
       "<p>15366 rows × 6 columns</p>\n",
       "</div>"
      ],
      "text/plain": [
       "           id             object_name chain object_type  \\\n",
       "0      151635                 СМЕТАНА   нет        кафе   \n",
       "1       77874                  Родник   нет        кафе   \n",
       "2       24309         Кафе «Академия»   нет        кафе   \n",
       "3       21894              ПИЦЦЕТОРИЯ    да        кафе   \n",
       "4      119365  Кафе «Вишневая метель»   нет        кафе   \n",
       "...       ...                     ...   ...         ...   \n",
       "15361  208537             Шоколадница    да        кафе   \n",
       "15362  209264             Шоколадница    да        кафе   \n",
       "15363  209186             Шоколадница    да        кафе   \n",
       "15364  221900             Шоколадница    да        кафе   \n",
       "15365  222535             Шоколадница    да        кафе   \n",
       "\n",
       "                                                                                             address  \\\n",
       "0                                                         город Москва, улица Егора Абакумова, дом 9   \n",
       "1                                                  город Москва, улица Талалихина, дом 2/1, корпус 1   \n",
       "2                                                          город Москва, Абельмановская улица, дом 6   \n",
       "3                                                            город Москва, Абрамцевская улица, дом 1   \n",
       "4                                                  город Москва, Абрамцевская улица, дом 9, корпус 1   \n",
       "...                                                                                              ...   \n",
       "15361                                                   город Москва, 3-й Крутицкий переулок, дом 18   \n",
       "15362                                                       город Москва, улица Земляной Вал, дом 33   \n",
       "15363                                                       город Москва, улица Земляной Вал, дом 33   \n",
       "15364  город Москва, поселение Московский, Киевское шоссе, 22-й километр, домовладение 4, строение 1   \n",
       "15365                                                         город Москва, Ходынский бульвар, дом 4   \n",
       "\n",
       "       number  \n",
       "0          48  \n",
       "1          35  \n",
       "2          95  \n",
       "3          40  \n",
       "4          50  \n",
       "...       ...  \n",
       "15361      50  \n",
       "15362      10  \n",
       "15363      20  \n",
       "15364      36  \n",
       "15365      10  \n",
       "\n",
       "[15366 rows x 6 columns]"
      ]
     },
     "execution_count": 2,
     "metadata": {},
     "output_type": "execute_result"
    }
   ],
   "source": [
    "data = pd.read_csv('/datasets/rest_data.csv')\n",
    "pd.set_option(\"max_colwidth\", 120)\n",
    "data"
   ]
  },
  {
   "cell_type": "code",
   "execution_count": 3,
   "metadata": {},
   "outputs": [
    {
     "name": "stdout",
     "output_type": "stream",
     "text": [
      "<class 'pandas.core.frame.DataFrame'>\n",
      "RangeIndex: 15366 entries, 0 to 15365\n",
      "Data columns (total 6 columns):\n",
      "id             15366 non-null int64\n",
      "object_name    15366 non-null object\n",
      "chain          15366 non-null object\n",
      "object_type    15366 non-null object\n",
      "address        15366 non-null object\n",
      "number         15366 non-null int64\n",
      "dtypes: int64(2), object(4)\n",
      "memory usage: 720.4+ KB\n"
     ]
    }
   ],
   "source": [
    "data.info()"
   ]
  },
  {
   "cell_type": "markdown",
   "metadata": {},
   "source": [
    "Типы данных правильные. Можно привести столбец chain к типу bool, однако в данном проекте не так много строк, чтобы это на что-то повлияло."
   ]
  },
  {
   "cell_type": "code",
   "execution_count": 4,
   "metadata": {},
   "outputs": [
    {
     "data": {
      "text/plain": [
       "id             0\n",
       "object_name    0\n",
       "chain          0\n",
       "object_type    0\n",
       "address        0\n",
       "number         0\n",
       "dtype: int64"
      ]
     },
     "execution_count": 4,
     "metadata": {},
     "output_type": "execute_result"
    }
   ],
   "source": [
    "data.isna().sum()"
   ]
  },
  {
   "cell_type": "code",
   "execution_count": 5,
   "metadata": {},
   "outputs": [
    {
     "data": {
      "text/html": [
       "<div>\n",
       "<style scoped>\n",
       "    .dataframe tbody tr th:only-of-type {\n",
       "        vertical-align: middle;\n",
       "    }\n",
       "\n",
       "    .dataframe tbody tr th {\n",
       "        vertical-align: top;\n",
       "    }\n",
       "\n",
       "    .dataframe thead th {\n",
       "        text-align: right;\n",
       "    }\n",
       "</style>\n",
       "<table border=\"1\" class=\"dataframe\">\n",
       "  <thead>\n",
       "    <tr style=\"text-align: right;\">\n",
       "      <th></th>\n",
       "      <th>id</th>\n",
       "      <th>number</th>\n",
       "    </tr>\n",
       "  </thead>\n",
       "  <tbody>\n",
       "    <tr>\n",
       "      <td>count</td>\n",
       "      <td>15366.000000</td>\n",
       "      <td>15366.000000</td>\n",
       "    </tr>\n",
       "    <tr>\n",
       "      <td>mean</td>\n",
       "      <td>119720.066901</td>\n",
       "      <td>59.547182</td>\n",
       "    </tr>\n",
       "    <tr>\n",
       "      <td>std</td>\n",
       "      <td>73036.130732</td>\n",
       "      <td>74.736833</td>\n",
       "    </tr>\n",
       "    <tr>\n",
       "      <td>min</td>\n",
       "      <td>838.000000</td>\n",
       "      <td>0.000000</td>\n",
       "    </tr>\n",
       "    <tr>\n",
       "      <td>25%</td>\n",
       "      <td>28524.000000</td>\n",
       "      <td>12.000000</td>\n",
       "    </tr>\n",
       "    <tr>\n",
       "      <td>50%</td>\n",
       "      <td>144974.500000</td>\n",
       "      <td>40.000000</td>\n",
       "    </tr>\n",
       "    <tr>\n",
       "      <td>75%</td>\n",
       "      <td>184262.250000</td>\n",
       "      <td>80.000000</td>\n",
       "    </tr>\n",
       "    <tr>\n",
       "      <td>max</td>\n",
       "      <td>223439.000000</td>\n",
       "      <td>1700.000000</td>\n",
       "    </tr>\n",
       "  </tbody>\n",
       "</table>\n",
       "</div>"
      ],
      "text/plain": [
       "                  id        number\n",
       "count   15366.000000  15366.000000\n",
       "mean   119720.066901     59.547182\n",
       "std     73036.130732     74.736833\n",
       "min       838.000000      0.000000\n",
       "25%     28524.000000     12.000000\n",
       "50%    144974.500000     40.000000\n",
       "75%    184262.250000     80.000000\n",
       "max    223439.000000   1700.000000"
      ]
     },
     "execution_count": 5,
     "metadata": {},
     "output_type": "execute_result"
    }
   ],
   "source": [
    "data.describe()"
   ]
  },
  {
   "cell_type": "markdown",
   "metadata": {},
   "source": [
    "Есть нулевые значения в столбце number, которые надо проверить. Также есть выбросы, буду проверять их в процессе проекта."
   ]
  },
  {
   "cell_type": "code",
   "execution_count": 6,
   "metadata": {
    "scrolled": true
   },
   "outputs": [
    {
     "data": {
      "text/plain": [
       "array(['закусочная', 'предприятие быстрого обслуживания', 'столовая',\n",
       "       'кафетерий', 'кафе', 'магазин (отдел кулинарии)', 'буфет', 'бар',\n",
       "       'ресторан'], dtype=object)"
      ]
     },
     "execution_count": 6,
     "metadata": {},
     "output_type": "execute_result"
    }
   ],
   "source": [
    "data.query('number == 0')['object_type'].unique()"
   ]
  },
  {
   "cell_type": "markdown",
   "metadata": {},
   "source": [
    "Проверка заведений без посадочных мест: магазины и предприятие быстрого обслуживания не имеют посадочные места, кафе - это кафе-бистро, рестораны - это рестораны быстрого питания, бары - мини-бары только с барной стойкой или открыты в клубах, кафетерий - кофе с собой, буфеты - как предприятия быстрого обслуживания. Столовые - при школе (не знаю, почему без посадочных мест, возможно также, как буфет - только с прилавком). В целом, отсутствие посадочных мест у заведений объяснимо, делать с ними ничего не буду."
   ]
  },
  {
   "cell_type": "code",
   "execution_count": 7,
   "metadata": {},
   "outputs": [
    {
     "data": {
      "text/plain": [
       "0"
      ]
     },
     "execution_count": 7,
     "metadata": {},
     "output_type": "execute_result"
    }
   ],
   "source": [
    "# проверка на дубликаты\n",
    "data['object_name'] = data['object_name'].str.lower()\n",
    "data.duplicated().sum()"
   ]
  },
  {
   "cell_type": "code",
   "execution_count": 8,
   "metadata": {},
   "outputs": [
    {
     "data": {
      "text/html": [
       "<div>\n",
       "<style scoped>\n",
       "    .dataframe tbody tr th:only-of-type {\n",
       "        vertical-align: middle;\n",
       "    }\n",
       "\n",
       "    .dataframe tbody tr th {\n",
       "        vertical-align: top;\n",
       "    }\n",
       "\n",
       "    .dataframe thead th {\n",
       "        text-align: right;\n",
       "    }\n",
       "</style>\n",
       "<table border=\"1\" class=\"dataframe\">\n",
       "  <thead>\n",
       "    <tr style=\"text-align: right;\">\n",
       "      <th></th>\n",
       "      <th>id</th>\n",
       "      <th>object_name</th>\n",
       "      <th>chain</th>\n",
       "      <th>object_type</th>\n",
       "      <th>address</th>\n",
       "      <th>number</th>\n",
       "    </tr>\n",
       "  </thead>\n",
       "  <tbody>\n",
       "    <tr>\n",
       "      <td>13858</td>\n",
       "      <td>209723</td>\n",
       "      <td>laltro bosco</td>\n",
       "      <td>нет</td>\n",
       "      <td>ресторан</td>\n",
       "      <td>город Москва, улица Петровка, дом 10</td>\n",
       "      <td>145</td>\n",
       "    </tr>\n",
       "    <tr>\n",
       "      <td>5059</td>\n",
       "      <td>20021</td>\n",
       "      <td>lift</td>\n",
       "      <td>нет</td>\n",
       "      <td>кафе</td>\n",
       "      <td>город Москва, Багратионовский проезд, дом 7, корпус 1</td>\n",
       "      <td>20</td>\n",
       "    </tr>\n",
       "    <tr>\n",
       "      <td>5069</td>\n",
       "      <td>20025</td>\n",
       "      <td>lift</td>\n",
       "      <td>нет</td>\n",
       "      <td>кафе</td>\n",
       "      <td>город Москва, Багратионовский проезд, дом 7, корпус 3</td>\n",
       "      <td>10</td>\n",
       "    </tr>\n",
       "    <tr>\n",
       "      <td>14844</td>\n",
       "      <td>219518</td>\n",
       "      <td>sushi-make</td>\n",
       "      <td>нет</td>\n",
       "      <td>предприятие быстрого обслуживания</td>\n",
       "      <td>город Москва, Ярцевская улица, дом 19</td>\n",
       "      <td>0</td>\n",
       "    </tr>\n",
       "    <tr>\n",
       "      <td>5762</td>\n",
       "      <td>134324</td>\n",
       "      <td>алекс</td>\n",
       "      <td>нет</td>\n",
       "      <td>кафе</td>\n",
       "      <td>город Москва, Тихорецкий бульвар, владение 1, строение 2</td>\n",
       "      <td>45</td>\n",
       "    </tr>\n",
       "    <tr>\n",
       "      <td>...</td>\n",
       "      <td>...</td>\n",
       "      <td>...</td>\n",
       "      <td>...</td>\n",
       "      <td>...</td>\n",
       "      <td>...</td>\n",
       "      <td>...</td>\n",
       "    </tr>\n",
       "    <tr>\n",
       "      <td>11242</td>\n",
       "      <td>174865</td>\n",
       "      <td>шаурма</td>\n",
       "      <td>нет</td>\n",
       "      <td>предприятие быстрого обслуживания</td>\n",
       "      <td>город Москва, Свободный проспект, дом 33А</td>\n",
       "      <td>1</td>\n",
       "    </tr>\n",
       "    <tr>\n",
       "      <td>12764</td>\n",
       "      <td>197518</td>\n",
       "      <td>шаурма</td>\n",
       "      <td>нет</td>\n",
       "      <td>закусочная</td>\n",
       "      <td>город Москва, проспект Мира, дом 102, корпус 1</td>\n",
       "      <td>0</td>\n",
       "    </tr>\n",
       "    <tr>\n",
       "      <td>9933</td>\n",
       "      <td>170964</td>\n",
       "      <td>шаурма</td>\n",
       "      <td>нет</td>\n",
       "      <td>предприятие быстрого обслуживания</td>\n",
       "      <td>город Москва, улица Народного Ополчения, дом 22, корпус 1</td>\n",
       "      <td>0</td>\n",
       "    </tr>\n",
       "    <tr>\n",
       "      <td>14119</td>\n",
       "      <td>222452</td>\n",
       "      <td>шаурма</td>\n",
       "      <td>нет</td>\n",
       "      <td>предприятие быстрого обслуживания</td>\n",
       "      <td>город Москва, улица Сущёвский Вал, дом 5, строение 5</td>\n",
       "      <td>1</td>\n",
       "    </tr>\n",
       "    <tr>\n",
       "      <td>14379</td>\n",
       "      <td>217555</td>\n",
       "      <td>шурма</td>\n",
       "      <td>нет</td>\n",
       "      <td>предприятие быстрого обслуживания</td>\n",
       "      <td>город Москва, Ярцевская улица, дом 25А</td>\n",
       "      <td>0</td>\n",
       "    </tr>\n",
       "  </tbody>\n",
       "</table>\n",
       "<p>85 rows × 6 columns</p>\n",
       "</div>"
      ],
      "text/plain": [
       "           id   object_name chain                        object_type  \\\n",
       "13858  209723  laltro bosco   нет                           ресторан   \n",
       "5059    20021          lift   нет                               кафе   \n",
       "5069    20025          lift   нет                               кафе   \n",
       "14844  219518    sushi-make   нет  предприятие быстрого обслуживания   \n",
       "5762   134324         алекс   нет                               кафе   \n",
       "...       ...           ...   ...                                ...   \n",
       "11242  174865        шаурма   нет  предприятие быстрого обслуживания   \n",
       "12764  197518        шаурма   нет                         закусочная   \n",
       "9933   170964        шаурма   нет  предприятие быстрого обслуживания   \n",
       "14119  222452        шаурма   нет  предприятие быстрого обслуживания   \n",
       "14379  217555         шурма   нет  предприятие быстрого обслуживания   \n",
       "\n",
       "                                                         address  number  \n",
       "13858                       город Москва, улица Петровка, дом 10     145  \n",
       "5059       город Москва, Багратионовский проезд, дом 7, корпус 1      20  \n",
       "5069       город Москва, Багратионовский проезд, дом 7, корпус 3      10  \n",
       "14844                      город Москва, Ярцевская улица, дом 19       0  \n",
       "5762    город Москва, Тихорецкий бульвар, владение 1, строение 2      45  \n",
       "...                                                          ...     ...  \n",
       "11242                  город Москва, Свободный проспект, дом 33А       1  \n",
       "12764             город Москва, проспект Мира, дом 102, корпус 1       0  \n",
       "9933   город Москва, улица Народного Ополчения, дом 22, корпус 1       0  \n",
       "14119       город Москва, улица Сущёвский Вал, дом 5, строение 5       1  \n",
       "14379                     город Москва, Ярцевская улица, дом 25А       0  \n",
       "\n",
       "[85 rows x 6 columns]"
      ]
     },
     "execution_count": 8,
     "metadata": {},
     "output_type": "execute_result"
    }
   ],
   "source": [
    "data[data[['object_name', 'chain', 'object_type', 'address', 'number']].duplicated()].sort_values(by='object_name')"
   ]
  },
  {
   "cell_type": "markdown",
   "metadata": {},
   "source": [
    "85 дубликатов, это 0,5%, следовательно, можно удалить строки"
   ]
  },
  {
   "cell_type": "code",
   "execution_count": 9,
   "metadata": {},
   "outputs": [
    {
     "data": {
      "text/html": [
       "<div>\n",
       "<style scoped>\n",
       "    .dataframe tbody tr th:only-of-type {\n",
       "        vertical-align: middle;\n",
       "    }\n",
       "\n",
       "    .dataframe tbody tr th {\n",
       "        vertical-align: top;\n",
       "    }\n",
       "\n",
       "    .dataframe thead th {\n",
       "        text-align: right;\n",
       "    }\n",
       "</style>\n",
       "<table border=\"1\" class=\"dataframe\">\n",
       "  <thead>\n",
       "    <tr style=\"text-align: right;\">\n",
       "      <th></th>\n",
       "      <th>id</th>\n",
       "      <th>object_name</th>\n",
       "      <th>chain</th>\n",
       "      <th>object_type</th>\n",
       "      <th>address</th>\n",
       "      <th>number</th>\n",
       "    </tr>\n",
       "  </thead>\n",
       "  <tbody>\n",
       "  </tbody>\n",
       "</table>\n",
       "</div>"
      ],
      "text/plain": [
       "Empty DataFrame\n",
       "Columns: [id, object_name, chain, object_type, address, number]\n",
       "Index: []"
      ]
     },
     "execution_count": 9,
     "metadata": {},
     "output_type": "execute_result"
    }
   ],
   "source": [
    "# удаление дубликатов\n",
    "data.drop(data[data[['object_name', 'chain', 'object_type', 'address', 'number']].duplicated()].index, inplace=True)\n",
    "data[data[['object_name', 'chain', 'object_type', 'address', 'number']].duplicated()]"
   ]
  },
  {
   "cell_type": "raw",
   "metadata": {},
   "source": [
    "Данные готовы"
   ]
  },
  {
   "cell_type": "markdown",
   "metadata": {},
   "source": [
    "## Анализ данных"
   ]
  },
  {
   "cell_type": "markdown",
   "metadata": {},
   "source": [
    "### Исследование соотношения видов объектов общественного питания по количеству"
   ]
  },
  {
   "cell_type": "code",
   "execution_count": 10,
   "metadata": {},
   "outputs": [],
   "source": [
    "# стиль для всех последующих графиков\n",
    "sns.set_palette('deep')"
   ]
  },
  {
   "cell_type": "code",
   "execution_count": 11,
   "metadata": {},
   "outputs": [
    {
     "data": {
      "text/html": [
       "<div>\n",
       "<style scoped>\n",
       "    .dataframe tbody tr th:only-of-type {\n",
       "        vertical-align: middle;\n",
       "    }\n",
       "\n",
       "    .dataframe tbody tr th {\n",
       "        vertical-align: top;\n",
       "    }\n",
       "\n",
       "    .dataframe thead th {\n",
       "        text-align: right;\n",
       "    }\n",
       "</style>\n",
       "<table border=\"1\" class=\"dataframe\">\n",
       "  <thead>\n",
       "    <tr style=\"text-align: right;\">\n",
       "      <th></th>\n",
       "      <th>count</th>\n",
       "    </tr>\n",
       "    <tr>\n",
       "      <th>object_type</th>\n",
       "      <th></th>\n",
       "    </tr>\n",
       "  </thead>\n",
       "  <tbody>\n",
       "    <tr>\n",
       "      <td>кафе</td>\n",
       "      <td>6071</td>\n",
       "    </tr>\n",
       "    <tr>\n",
       "      <td>столовая</td>\n",
       "      <td>2584</td>\n",
       "    </tr>\n",
       "    <tr>\n",
       "      <td>ресторан</td>\n",
       "      <td>2282</td>\n",
       "    </tr>\n",
       "    <tr>\n",
       "      <td>предприятие быстрого обслуживания</td>\n",
       "      <td>1897</td>\n",
       "    </tr>\n",
       "    <tr>\n",
       "      <td>бар</td>\n",
       "      <td>855</td>\n",
       "    </tr>\n",
       "    <tr>\n",
       "      <td>буфет</td>\n",
       "      <td>576</td>\n",
       "    </tr>\n",
       "    <tr>\n",
       "      <td>кафетерий</td>\n",
       "      <td>395</td>\n",
       "    </tr>\n",
       "    <tr>\n",
       "      <td>закусочная</td>\n",
       "      <td>348</td>\n",
       "    </tr>\n",
       "    <tr>\n",
       "      <td>магазин (отдел кулинарии)</td>\n",
       "      <td>273</td>\n",
       "    </tr>\n",
       "  </tbody>\n",
       "</table>\n",
       "</div>"
      ],
      "text/plain": [
       "                                   count\n",
       "object_type                             \n",
       "кафе                                6071\n",
       "столовая                            2584\n",
       "ресторан                            2282\n",
       "предприятие быстрого обслуживания   1897\n",
       "бар                                  855\n",
       "буфет                                576\n",
       "кафетерий                            395\n",
       "закусочная                           348\n",
       "магазин (отдел кулинарии)            273"
      ]
     },
     "execution_count": 11,
     "metadata": {},
     "output_type": "execute_result"
    }
   ],
   "source": [
    "data_type = data.groupby('object_type').agg(count=('id','count')).sort_values(by='count', ascending=False)\n",
    "data_type"
   ]
  },
  {
   "cell_type": "code",
   "execution_count": 12,
   "metadata": {},
   "outputs": [
    {
     "data": {
      "image/png": "[encoded data removed]",
      "text/plain": [
       "<Figure size 864x432 with 1 Axes>"
      ]
     },
     "metadata": {
      "needs_background": "light"
     },
     "output_type": "display_data"
    }
   ],
   "source": [
    "ax = data_type.plot(kind='barh', legend=None, figsize=(12,6))\n",
    "ax.invert_yaxis()\n",
    "ax.set_title('Количество заведений по видам объектов питания') \n",
    "ax.set_ylabel('Вид объекта питания')\n",
    "ax.set_xlabel(\"Количество заведений\")\n",
    "for i, v in enumerate(data_type['count']):\n",
    "    ax.text(v + 5, i + .25, str(v))"
   ]
  },
  {
   "cell_type": "code",
   "execution_count": 13,
   "metadata": {},
   "outputs": [
    {
     "data": {
      "text/plain": [
       "Text(0.5, 1.0, 'Соотношение видов объектов питания по количеству заведений')"
      ]
     },
     "execution_count": 13,
     "metadata": {},
     "output_type": "execute_result"
    },
    {
     "data": {
      "image/png": "[encoded data removed]",
      "text/plain": [
       "<Figure size 864x432 with 1 Axes>"
      ]
     },
     "metadata": {},
     "output_type": "display_data"
    }
   ],
   "source": [
    "ax = data_type.plot(kind='pie', y='count', legend=None, figsize=(12,6), autopct='%1.1f%%')\n",
    "ax.set_title('Соотношение видов объектов питания по количеству заведений') "
   ]
  },
  {
   "cell_type": "markdown",
   "metadata": {},
   "source": [
    "Больше всего заведений вида \"кафе\" - 6071 шт - и они составляют 39,7% от общего числа заведений.\n",
    "Топ-3 объектов по количеству заведений: кафе, столовые, рестораны"
   ]
  },
  {
   "cell_type": "markdown",
   "metadata": {},
   "source": [
    "### Исследование соотношения сетевых и несетевых заведений по количеству"
   ]
  },
  {
   "cell_type": "code",
   "execution_count": 14,
   "metadata": {},
   "outputs": [
    {
     "data": {
      "text/html": [
       "<div>\n",
       "<style scoped>\n",
       "    .dataframe tbody tr th:only-of-type {\n",
       "        vertical-align: middle;\n",
       "    }\n",
       "\n",
       "    .dataframe tbody tr th {\n",
       "        vertical-align: top;\n",
       "    }\n",
       "\n",
       "    .dataframe thead th {\n",
       "        text-align: right;\n",
       "    }\n",
       "</style>\n",
       "<table border=\"1\" class=\"dataframe\">\n",
       "  <thead>\n",
       "    <tr style=\"text-align: right;\">\n",
       "      <th></th>\n",
       "      <th>chain</th>\n",
       "      <th>count</th>\n",
       "    </tr>\n",
       "  </thead>\n",
       "  <tbody>\n",
       "    <tr>\n",
       "      <td>0</td>\n",
       "      <td>не сетевые</td>\n",
       "      <td>12317</td>\n",
       "    </tr>\n",
       "    <tr>\n",
       "      <td>1</td>\n",
       "      <td>сетевые</td>\n",
       "      <td>2964</td>\n",
       "    </tr>\n",
       "  </tbody>\n",
       "</table>\n",
       "</div>"
      ],
      "text/plain": [
       "        chain  count\n",
       "0  не сетевые  12317\n",
       "1     сетевые   2964"
      ]
     },
     "execution_count": 14,
     "metadata": {},
     "output_type": "execute_result"
    }
   ],
   "source": [
    "data_chain = data.copy()\n",
    "data_chain = data_chain.replace({'chain':{\"нет\":\"не сетевые\", \"да\":\"сетевые\"}})\n",
    "data_chain = data_chain.groupby('chain').agg(count=('id','count')).sort_values(by='count', ascending=False).reset_index()\n",
    "\n",
    "data_chain"
   ]
  },
  {
   "cell_type": "code",
   "execution_count": 15,
   "metadata": {},
   "outputs": [
    {
     "data": {
      "text/plain": [
       "Text(0, 0.5, 'Количество заведений')"
      ]
     },
     "execution_count": 15,
     "metadata": {},
     "output_type": "execute_result"
    },
    {
     "data": {
      "image/png": "[encoded data removed]",
      "text/plain": [
       "<Figure size 432x288 with 1 Axes>"
      ]
     },
     "metadata": {
      "needs_background": "light"
     },
     "output_type": "display_data"
    }
   ],
   "source": [
    "ax = sns.barplot(x='chain', y='count', data=data_chain)\n",
    "ax.set_title('Количество сетевых и несетевых заведений')\n",
    "ax.set_xlabel('Тип заведений')\n",
    "ax.set_ylabel(\"Количество заведений\")"
   ]
  },
  {
   "cell_type": "markdown",
   "metadata": {},
   "source": [
    "Количество несетевых заведений в 4 раза больше, чем сетевых."
   ]
  },
  {
   "cell_type": "markdown",
   "metadata": {},
   "source": [
    "### Виды сетевых объектов общественного питания"
   ]
  },
  {
   "cell_type": "code",
   "execution_count": 16,
   "metadata": {},
   "outputs": [
    {
     "data": {
      "text/html": [
       "<div>\n",
       "<style scoped>\n",
       "    .dataframe tbody tr th:only-of-type {\n",
       "        vertical-align: middle;\n",
       "    }\n",
       "\n",
       "    .dataframe tbody tr th {\n",
       "        vertical-align: top;\n",
       "    }\n",
       "\n",
       "    .dataframe thead th {\n",
       "        text-align: right;\n",
       "    }\n",
       "</style>\n",
       "<table border=\"1\" class=\"dataframe\">\n",
       "  <thead>\n",
       "    <tr style=\"text-align: right;\">\n",
       "      <th></th>\n",
       "      <th>count</th>\n",
       "    </tr>\n",
       "    <tr>\n",
       "      <th>object_type</th>\n",
       "      <th></th>\n",
       "    </tr>\n",
       "  </thead>\n",
       "  <tbody>\n",
       "    <tr>\n",
       "      <td>кафе</td>\n",
       "      <td>1396</td>\n",
       "    </tr>\n",
       "    <tr>\n",
       "      <td>предприятие быстрого обслуживания</td>\n",
       "      <td>788</td>\n",
       "    </tr>\n",
       "    <tr>\n",
       "      <td>ресторан</td>\n",
       "      <td>543</td>\n",
       "    </tr>\n",
       "    <tr>\n",
       "      <td>магазин (отдел кулинарии)</td>\n",
       "      <td>78</td>\n",
       "    </tr>\n",
       "    <tr>\n",
       "      <td>закусочная</td>\n",
       "      <td>56</td>\n",
       "    </tr>\n",
       "    <tr>\n",
       "      <td>кафетерий</td>\n",
       "      <td>52</td>\n",
       "    </tr>\n",
       "    <tr>\n",
       "      <td>бар</td>\n",
       "      <td>37</td>\n",
       "    </tr>\n",
       "    <tr>\n",
       "      <td>буфет</td>\n",
       "      <td>11</td>\n",
       "    </tr>\n",
       "    <tr>\n",
       "      <td>столовая</td>\n",
       "      <td>3</td>\n",
       "    </tr>\n",
       "  </tbody>\n",
       "</table>\n",
       "</div>"
      ],
      "text/plain": [
       "                                   count\n",
       "object_type                             \n",
       "кафе                                1396\n",
       "предприятие быстрого обслуживания    788\n",
       "ресторан                             543\n",
       "магазин (отдел кулинарии)             78\n",
       "закусочная                            56\n",
       "кафетерий                             52\n",
       "бар                                   37\n",
       "буфет                                 11\n",
       "столовая                               3"
      ]
     },
     "execution_count": 16,
     "metadata": {},
     "output_type": "execute_result"
    }
   ],
   "source": [
    "data_type_chain = data.query('chain == \"да\"')\\\n",
    "    .groupby('object_type').agg(count=('id','count')).sort_values(by='count', ascending=False)\n",
    "data_type_chain"
   ]
  },
  {
   "cell_type": "code",
   "execution_count": 17,
   "metadata": {},
   "outputs": [
    {
     "data": {
      "image/png": "[encoded data removed]",
      "text/plain": [
       "<Figure size 864x432 with 1 Axes>"
      ]
     },
     "metadata": {
      "needs_background": "light"
     },
     "output_type": "display_data"
    }
   ],
   "source": [
    "ax = data_type_chain.plot(kind='barh', legend=None, figsize=(12,6))\n",
    "ax.invert_yaxis()\n",
    "ax.set_title('Количество заведений по сетевым видам объектов питания') \n",
    "ax.set_ylabel('Вид объекта питания')\n",
    "ax.set_xlabel(\"Количество заведений\")\n",
    "for i, v in enumerate(data_type_chain['count']):\n",
    "    ax.text(v + 3, i + .25, str(v))"
   ]
  },
  {
   "cell_type": "code",
   "execution_count": 18,
   "metadata": {},
   "outputs": [
    {
     "data": {
      "text/plain": [
       "Text(0.5, 1.0, 'Соотношение сетевых видов объектов питания по количеству заведений')"
      ]
     },
     "execution_count": 18,
     "metadata": {},
     "output_type": "execute_result"
    },
    {
     "data": {
      "image/png": "[encoded data removed]",
      "text/plain": [
       "<Figure size 864x432 with 1 Axes>"
      ]
     },
     "metadata": {},
     "output_type": "display_data"
    }
   ],
   "source": [
    "ax = data_type_chain.plot(kind='pie', y='count', legend=None, figsize=(12,6), autopct='%1.1f%%')\n",
    "ax.set_title('Соотношение сетевых видов объектов питания по количеству заведений') "
   ]
  },
  {
   "cell_type": "markdown",
   "metadata": {},
   "source": [
    "Больше всего заведений вида \"кафе\" - 1396 шт - и они составляют 47,1% от общего числа заведений.\n",
    "Топ-3 объектов по количеству заведений: кафе, предприятия быстрого обслуживания, рестораны; в сумме дают 92% об общего числа заведений."
   ]
  },
  {
   "cell_type": "markdown",
   "metadata": {},
   "source": [
    "### Распределение заведений по виду сетевых объектов питания и количеству посадочных мест"
   ]
  },
  {
   "cell_type": "code",
   "execution_count": 19,
   "metadata": {},
   "outputs": [
    {
     "data": {
      "text/html": [
       "<div>\n",
       "<style scoped>\n",
       "    .dataframe tbody tr th:only-of-type {\n",
       "        vertical-align: middle;\n",
       "    }\n",
       "\n",
       "    .dataframe tbody tr th {\n",
       "        vertical-align: top;\n",
       "    }\n",
       "\n",
       "    .dataframe thead th {\n",
       "        text-align: right;\n",
       "    }\n",
       "</style>\n",
       "<table border=\"1\" class=\"dataframe\">\n",
       "  <thead>\n",
       "    <tr style=\"text-align: right;\">\n",
       "      <th></th>\n",
       "      <th>id</th>\n",
       "      <th>object_name</th>\n",
       "      <th>chain</th>\n",
       "      <th>object_type</th>\n",
       "      <th>address</th>\n",
       "      <th>number</th>\n",
       "    </tr>\n",
       "  </thead>\n",
       "  <tbody>\n",
       "    <tr>\n",
       "      <td>3</td>\n",
       "      <td>21894</td>\n",
       "      <td>пиццетория</td>\n",
       "      <td>да</td>\n",
       "      <td>кафе</td>\n",
       "      <td>город Москва, Абрамцевская улица, дом 1</td>\n",
       "      <td>40</td>\n",
       "    </tr>\n",
       "    <tr>\n",
       "      <td>6</td>\n",
       "      <td>148815</td>\n",
       "      <td>брусника</td>\n",
       "      <td>да</td>\n",
       "      <td>кафе</td>\n",
       "      <td>город Москва, переулок Сивцев Вражек, дом 6/2</td>\n",
       "      <td>10</td>\n",
       "    </tr>\n",
       "    <tr>\n",
       "      <td>13</td>\n",
       "      <td>22579</td>\n",
       "      <td>алло пицца</td>\n",
       "      <td>да</td>\n",
       "      <td>кафе</td>\n",
       "      <td>город Москва, улица Авиаторов, дом 14</td>\n",
       "      <td>32</td>\n",
       "    </tr>\n",
       "    <tr>\n",
       "      <td>16</td>\n",
       "      <td>144107</td>\n",
       "      <td>суши wok</td>\n",
       "      <td>да</td>\n",
       "      <td>предприятие быстрого обслуживания</td>\n",
       "      <td>город Москва, Азовская улица, дом 3</td>\n",
       "      <td>7</td>\n",
       "    </tr>\n",
       "    <tr>\n",
       "      <td>18</td>\n",
       "      <td>58565</td>\n",
       "      <td>тануки</td>\n",
       "      <td>да</td>\n",
       "      <td>ресторан</td>\n",
       "      <td>город Москва, Большая Академическая улица, дом 65</td>\n",
       "      <td>160</td>\n",
       "    </tr>\n",
       "    <tr>\n",
       "      <td>...</td>\n",
       "      <td>...</td>\n",
       "      <td>...</td>\n",
       "      <td>...</td>\n",
       "      <td>...</td>\n",
       "      <td>...</td>\n",
       "      <td>...</td>\n",
       "    </tr>\n",
       "    <tr>\n",
       "      <td>15361</td>\n",
       "      <td>208537</td>\n",
       "      <td>шоколадница</td>\n",
       "      <td>да</td>\n",
       "      <td>кафе</td>\n",
       "      <td>город Москва, 3-й Крутицкий переулок, дом 18</td>\n",
       "      <td>50</td>\n",
       "    </tr>\n",
       "    <tr>\n",
       "      <td>15362</td>\n",
       "      <td>209264</td>\n",
       "      <td>шоколадница</td>\n",
       "      <td>да</td>\n",
       "      <td>кафе</td>\n",
       "      <td>город Москва, улица Земляной Вал, дом 33</td>\n",
       "      <td>10</td>\n",
       "    </tr>\n",
       "    <tr>\n",
       "      <td>15363</td>\n",
       "      <td>209186</td>\n",
       "      <td>шоколадница</td>\n",
       "      <td>да</td>\n",
       "      <td>кафе</td>\n",
       "      <td>город Москва, улица Земляной Вал, дом 33</td>\n",
       "      <td>20</td>\n",
       "    </tr>\n",
       "    <tr>\n",
       "      <td>15364</td>\n",
       "      <td>221900</td>\n",
       "      <td>шоколадница</td>\n",
       "      <td>да</td>\n",
       "      <td>кафе</td>\n",
       "      <td>город Москва, поселение Московский, Киевское шоссе, 22-й километр, домовладение 4, строение 1</td>\n",
       "      <td>36</td>\n",
       "    </tr>\n",
       "    <tr>\n",
       "      <td>15365</td>\n",
       "      <td>222535</td>\n",
       "      <td>шоколадница</td>\n",
       "      <td>да</td>\n",
       "      <td>кафе</td>\n",
       "      <td>город Москва, Ходынский бульвар, дом 4</td>\n",
       "      <td>10</td>\n",
       "    </tr>\n",
       "  </tbody>\n",
       "</table>\n",
       "<p>2964 rows × 6 columns</p>\n",
       "</div>"
      ],
      "text/plain": [
       "           id  object_name chain                        object_type  \\\n",
       "3       21894   пиццетория    да                               кафе   \n",
       "6      148815     брусника    да                               кафе   \n",
       "13      22579   алло пицца    да                               кафе   \n",
       "16     144107     суши wok    да  предприятие быстрого обслуживания   \n",
       "18      58565       тануки    да                           ресторан   \n",
       "...       ...          ...   ...                                ...   \n",
       "15361  208537  шоколадница    да                               кафе   \n",
       "15362  209264  шоколадница    да                               кафе   \n",
       "15363  209186  шоколадница    да                               кафе   \n",
       "15364  221900  шоколадница    да                               кафе   \n",
       "15365  222535  шоколадница    да                               кафе   \n",
       "\n",
       "                                                                                             address  \\\n",
       "3                                                            город Москва, Абрамцевская улица, дом 1   \n",
       "6                                                      город Москва, переулок Сивцев Вражек, дом 6/2   \n",
       "13                                                             город Москва, улица Авиаторов, дом 14   \n",
       "16                                                               город Москва, Азовская улица, дом 3   \n",
       "18                                                 город Москва, Большая Академическая улица, дом 65   \n",
       "...                                                                                              ...   \n",
       "15361                                                   город Москва, 3-й Крутицкий переулок, дом 18   \n",
       "15362                                                       город Москва, улица Земляной Вал, дом 33   \n",
       "15363                                                       город Москва, улица Земляной Вал, дом 33   \n",
       "15364  город Москва, поселение Московский, Киевское шоссе, 22-й километр, домовладение 4, строение 1   \n",
       "15365                                                         город Москва, Ходынский бульвар, дом 4   \n",
       "\n",
       "       number  \n",
       "3          40  \n",
       "6          10  \n",
       "13         32  \n",
       "16          7  \n",
       "18        160  \n",
       "...       ...  \n",
       "15361      50  \n",
       "15362      10  \n",
       "15363      20  \n",
       "15364      36  \n",
       "15365      10  \n",
       "\n",
       "[2964 rows x 6 columns]"
      ]
     },
     "execution_count": 19,
     "metadata": {},
     "output_type": "execute_result"
    }
   ],
   "source": [
    "data_chain_yes = data.query('chain == \"да\"')\n",
    "data_chain_yes"
   ]
  },
  {
   "cell_type": "code",
   "execution_count": 20,
   "metadata": {},
   "outputs": [
    {
     "data": {
      "image/png": "[encoded data removed]",
      "text/plain": [
       "<Figure size 864x432 with 1 Axes>"
      ]
     },
     "metadata": {
      "needs_background": "light"
     },
     "output_type": "display_data"
    }
   ],
   "source": [
    "ax = sns.scatterplot(\n",
    "    data=data_chain_yes, \n",
    "    y=\"object_type\", \n",
    "    x=\"number\"\n",
    ")\n",
    "ax.set_title('Распределение заведений по виду сетевых объектов питания и количеству посадочных мест') \n",
    "ax.set_ylabel('Вид объектов питания')\n",
    "ax.set_xlabel(\"Количество посадочных мест\")\n",
    "ax.figure.set_figwidth(12)\n",
    "ax.figure.set_figheight(6)"
   ]
  },
  {
   "cell_type": "markdown",
   "metadata": {},
   "source": [
    "Для сетевых объектов питания характерно большое количество заведений с небольшим количеством посадочных мест."
   ]
  },
  {
   "cell_type": "markdown",
   "metadata": {},
   "source": [
    "### Среднее количество посадочных мест для каждого вида объекта питания"
   ]
  },
  {
   "cell_type": "code",
   "execution_count": 21,
   "metadata": {},
   "outputs": [
    {
     "data": {
      "text/html": [
       "<div>\n",
       "<style scoped>\n",
       "    .dataframe tbody tr th:only-of-type {\n",
       "        vertical-align: middle;\n",
       "    }\n",
       "\n",
       "    .dataframe tbody tr th {\n",
       "        vertical-align: top;\n",
       "    }\n",
       "\n",
       "    .dataframe thead th {\n",
       "        text-align: right;\n",
       "    }\n",
       "</style>\n",
       "<table border=\"1\" class=\"dataframe\">\n",
       "  <thead>\n",
       "    <tr style=\"text-align: right;\">\n",
       "      <th></th>\n",
       "      <th>mean_number</th>\n",
       "    </tr>\n",
       "    <tr>\n",
       "      <th>object_type</th>\n",
       "      <th></th>\n",
       "    </tr>\n",
       "  </thead>\n",
       "  <tbody>\n",
       "    <tr>\n",
       "      <td>столовая</td>\n",
       "      <td>130</td>\n",
       "    </tr>\n",
       "    <tr>\n",
       "      <td>ресторан</td>\n",
       "      <td>96</td>\n",
       "    </tr>\n",
       "    <tr>\n",
       "      <td>буфет</td>\n",
       "      <td>51</td>\n",
       "    </tr>\n",
       "    <tr>\n",
       "      <td>бар</td>\n",
       "      <td>43</td>\n",
       "    </tr>\n",
       "    <tr>\n",
       "      <td>кафе</td>\n",
       "      <td>39</td>\n",
       "    </tr>\n",
       "    <tr>\n",
       "      <td>предприятие быстрого обслуживания</td>\n",
       "      <td>20</td>\n",
       "    </tr>\n",
       "    <tr>\n",
       "      <td>кафетерий</td>\n",
       "      <td>9</td>\n",
       "    </tr>\n",
       "    <tr>\n",
       "      <td>закусочная</td>\n",
       "      <td>7</td>\n",
       "    </tr>\n",
       "    <tr>\n",
       "      <td>магазин (отдел кулинарии)</td>\n",
       "      <td>5</td>\n",
       "    </tr>\n",
       "  </tbody>\n",
       "</table>\n",
       "</div>"
      ],
      "text/plain": [
       "                                   mean_number\n",
       "object_type                                   \n",
       "столовая                                   130\n",
       "ресторан                                    96\n",
       "буфет                                       51\n",
       "бар                                         43\n",
       "кафе                                        39\n",
       "предприятие быстрого обслуживания           20\n",
       "кафетерий                                    9\n",
       "закусочная                                   7\n",
       "магазин (отдел кулинарии)                    5"
      ]
     },
     "execution_count": 21,
     "metadata": {},
     "output_type": "execute_result"
    }
   ],
   "source": [
    "data_number_all = data.groupby('object_type').agg(mean_number=('number','mean')).sort_values(by='mean_number', ascending=False)\n",
    "data_number_all['mean_number'] = data_number_all['mean_number'].astype(\"int\")\n",
    "data_number_all"
   ]
  },
  {
   "cell_type": "code",
   "execution_count": 22,
   "metadata": {},
   "outputs": [
    {
     "data": {
      "image/png": "[encoded data removed]",
      "text/plain": [
       "<Figure size 864x432 with 1 Axes>"
      ]
     },
     "metadata": {
      "needs_background": "light"
     },
     "output_type": "display_data"
    }
   ],
   "source": [
    "ax = data_number_all.plot(kind='barh', figsize=(12,6), legend=None)\n",
    "ax.invert_yaxis()\n",
    "ax.set_title('Среднее количество посадочных мест для каждого вида объекта питания') \n",
    "ax.set_ylabel('Вид объекта питания')\n",
    "ax.set_xlabel(\"Среднее количество посадочных мест\")\n",
    "for i, v in enumerate(data_number_all['mean_number']):\n",
    "    ax.text(v + 3, i + .25, str(v))"
   ]
  },
  {
   "cell_type": "markdown",
   "metadata": {},
   "source": [
    "Топ-3 по количеству посадочных мест: столовые, рестораны, буфеты."
   ]
  },
  {
   "cell_type": "markdown",
   "metadata": {},
   "source": [
    "### Добавление информации об об улице"
   ]
  },
  {
   "cell_type": "code",
   "execution_count": 23,
   "metadata": {},
   "outputs": [],
   "source": [
    "# заменяю в адресах букву ё на е для корректной работы регулярных выражений\n",
    "data['address'] = data['address'].str.replace('ё', 'е', regex = True)"
   ]
  },
  {
   "cell_type": "code",
   "execution_count": 24,
   "metadata": {},
   "outputs": [
    {
     "data": {
      "text/html": [
       "<div>\n",
       "<style scoped>\n",
       "    .dataframe tbody tr th:only-of-type {\n",
       "        vertical-align: middle;\n",
       "    }\n",
       "\n",
       "    .dataframe tbody tr th {\n",
       "        vertical-align: top;\n",
       "    }\n",
       "\n",
       "    .dataframe thead th {\n",
       "        text-align: right;\n",
       "    }\n",
       "</style>\n",
       "<table border=\"1\" class=\"dataframe\">\n",
       "  <thead>\n",
       "    <tr style=\"text-align: right;\">\n",
       "      <th></th>\n",
       "      <th>id</th>\n",
       "      <th>object_name</th>\n",
       "      <th>chain</th>\n",
       "      <th>object_type</th>\n",
       "      <th>address</th>\n",
       "      <th>number</th>\n",
       "      <th>street</th>\n",
       "    </tr>\n",
       "  </thead>\n",
       "  <tbody>\n",
       "    <tr>\n",
       "      <td>0</td>\n",
       "      <td>151635</td>\n",
       "      <td>сметана</td>\n",
       "      <td>нет</td>\n",
       "      <td>кафе</td>\n",
       "      <td>город Москва, улица Егора Абакумова, дом 9</td>\n",
       "      <td>48</td>\n",
       "      <td>улица Егора Абакумова</td>\n",
       "    </tr>\n",
       "    <tr>\n",
       "      <td>1</td>\n",
       "      <td>77874</td>\n",
       "      <td>родник</td>\n",
       "      <td>нет</td>\n",
       "      <td>кафе</td>\n",
       "      <td>город Москва, улица Талалихина, дом 2/1, корпус 1</td>\n",
       "      <td>35</td>\n",
       "      <td>улица Талалихина</td>\n",
       "    </tr>\n",
       "    <tr>\n",
       "      <td>2</td>\n",
       "      <td>24309</td>\n",
       "      <td>кафе «академия»</td>\n",
       "      <td>нет</td>\n",
       "      <td>кафе</td>\n",
       "      <td>город Москва, Абельмановская улица, дом 6</td>\n",
       "      <td>95</td>\n",
       "      <td>Абельмановская улица</td>\n",
       "    </tr>\n",
       "    <tr>\n",
       "      <td>3</td>\n",
       "      <td>21894</td>\n",
       "      <td>пиццетория</td>\n",
       "      <td>да</td>\n",
       "      <td>кафе</td>\n",
       "      <td>город Москва, Абрамцевская улица, дом 1</td>\n",
       "      <td>40</td>\n",
       "      <td>Абрамцевская улица</td>\n",
       "    </tr>\n",
       "    <tr>\n",
       "      <td>4</td>\n",
       "      <td>119365</td>\n",
       "      <td>кафе «вишневая метель»</td>\n",
       "      <td>нет</td>\n",
       "      <td>кафе</td>\n",
       "      <td>город Москва, Абрамцевская улица, дом 9, корпус 1</td>\n",
       "      <td>50</td>\n",
       "      <td>Абрамцевская улица</td>\n",
       "    </tr>\n",
       "    <tr>\n",
       "      <td>...</td>\n",
       "      <td>...</td>\n",
       "      <td>...</td>\n",
       "      <td>...</td>\n",
       "      <td>...</td>\n",
       "      <td>...</td>\n",
       "      <td>...</td>\n",
       "      <td>...</td>\n",
       "    </tr>\n",
       "    <tr>\n",
       "      <td>15361</td>\n",
       "      <td>208537</td>\n",
       "      <td>шоколадница</td>\n",
       "      <td>да</td>\n",
       "      <td>кафе</td>\n",
       "      <td>город Москва, 3-й Крутицкий переулок, дом 18</td>\n",
       "      <td>50</td>\n",
       "      <td>3-й Крутицкий переулок</td>\n",
       "    </tr>\n",
       "    <tr>\n",
       "      <td>15362</td>\n",
       "      <td>209264</td>\n",
       "      <td>шоколадница</td>\n",
       "      <td>да</td>\n",
       "      <td>кафе</td>\n",
       "      <td>город Москва, улица Земляной Вал, дом 33</td>\n",
       "      <td>10</td>\n",
       "      <td>улица Земляной Вал</td>\n",
       "    </tr>\n",
       "    <tr>\n",
       "      <td>15363</td>\n",
       "      <td>209186</td>\n",
       "      <td>шоколадница</td>\n",
       "      <td>да</td>\n",
       "      <td>кафе</td>\n",
       "      <td>город Москва, улица Земляной Вал, дом 33</td>\n",
       "      <td>20</td>\n",
       "      <td>улица Земляной Вал</td>\n",
       "    </tr>\n",
       "    <tr>\n",
       "      <td>15364</td>\n",
       "      <td>221900</td>\n",
       "      <td>шоколадница</td>\n",
       "      <td>да</td>\n",
       "      <td>кафе</td>\n",
       "      <td>город Москва, поселение Московский, Киевское шоссе, 22-й километр, домовладение 4, строение 1</td>\n",
       "      <td>36</td>\n",
       "      <td>поселение Московский, Киевское шоссе</td>\n",
       "    </tr>\n",
       "    <tr>\n",
       "      <td>15365</td>\n",
       "      <td>222535</td>\n",
       "      <td>шоколадница</td>\n",
       "      <td>да</td>\n",
       "      <td>кафе</td>\n",
       "      <td>город Москва, Ходынский бульвар, дом 4</td>\n",
       "      <td>10</td>\n",
       "      <td>Ходынский бульвар</td>\n",
       "    </tr>\n",
       "  </tbody>\n",
       "</table>\n",
       "<p>15281 rows × 7 columns</p>\n",
       "</div>"
      ],
      "text/plain": [
       "           id             object_name chain object_type  \\\n",
       "0      151635                 сметана   нет        кафе   \n",
       "1       77874                  родник   нет        кафе   \n",
       "2       24309         кафе «академия»   нет        кафе   \n",
       "3       21894              пиццетория    да        кафе   \n",
       "4      119365  кафе «вишневая метель»   нет        кафе   \n",
       "...       ...                     ...   ...         ...   \n",
       "15361  208537             шоколадница    да        кафе   \n",
       "15362  209264             шоколадница    да        кафе   \n",
       "15363  209186             шоколадница    да        кафе   \n",
       "15364  221900             шоколадница    да        кафе   \n",
       "15365  222535             шоколадница    да        кафе   \n",
       "\n",
       "                                                                                             address  \\\n",
       "0                                                         город Москва, улица Егора Абакумова, дом 9   \n",
       "1                                                  город Москва, улица Талалихина, дом 2/1, корпус 1   \n",
       "2                                                          город Москва, Абельмановская улица, дом 6   \n",
       "3                                                            город Москва, Абрамцевская улица, дом 1   \n",
       "4                                                  город Москва, Абрамцевская улица, дом 9, корпус 1   \n",
       "...                                                                                              ...   \n",
       "15361                                                   город Москва, 3-й Крутицкий переулок, дом 18   \n",
       "15362                                                       город Москва, улица Земляной Вал, дом 33   \n",
       "15363                                                       город Москва, улица Земляной Вал, дом 33   \n",
       "15364  город Москва, поселение Московский, Киевское шоссе, 22-й километр, домовладение 4, строение 1   \n",
       "15365                                                         город Москва, Ходынский бульвар, дом 4   \n",
       "\n",
       "       number                                street  \n",
       "0          48                 улица Егора Абакумова  \n",
       "1          35                      улица Талалихина  \n",
       "2          95                  Абельмановская улица  \n",
       "3          40                    Абрамцевская улица  \n",
       "4          50                    Абрамцевская улица  \n",
       "...       ...                                   ...  \n",
       "15361      50                3-й Крутицкий переулок  \n",
       "15362      10                    улица Земляной Вал  \n",
       "15363      20                    улица Земляной Вал  \n",
       "15364      36  поселение Московский, Киевское шоссе  \n",
       "15365      10                     Ходынский бульвар  \n",
       "\n",
       "[15281 rows x 7 columns]"
      ]
     },
     "execution_count": 24,
     "metadata": {},
     "output_type": "execute_result"
    }
   ],
   "source": [
    "# функция берет строку из столбца address и записывает в столбец street информацию об улице(переулка, проезда и т.п.)\n",
    "# если информации об улице нет, то заполняет строкой Empty (в случае, когда указан только город, или деревня)\n",
    "\n",
    "reg_street = '\\,\\s*(.*(улица|переулок|шоссе|бульвар|проезд|проспект|набережная|площадь|аллея|линия)[0-9А-я-\\s]*)\\,'\n",
    "\n",
    "def regexp(string):\n",
    "    if (re.search(reg_street, string) == None):\n",
    "        string_new = 'Empty'\n",
    "    else: string_new = re.search(reg_street, string).group(1)\n",
    "    return string_new\n",
    "\n",
    "data['street'] = data['address'].apply(regexp)\n",
    "\n",
    "data"
   ]
  },
  {
   "cell_type": "code",
   "execution_count": 25,
   "metadata": {},
   "outputs": [
    {
     "data": {
      "text/plain": [
       "483"
      ]
     },
     "execution_count": 25,
     "metadata": {},
     "output_type": "execute_result"
    }
   ],
   "source": [
    "data.query('street == \"Empty\"').shape[0]"
   ]
  },
  {
   "cell_type": "markdown",
   "metadata": {},
   "source": [
    "После добавления улиц пустыми получились 483 строки, это 3%, оставлю как погрешность (не уверена, что стоит на данный момент тратить на них время)"
   ]
  },
  {
   "cell_type": "markdown",
   "metadata": {},
   "source": [
    "### Топ-10 улиц по количеству объектов общественного питания, районы их расположения."
   ]
  },
  {
   "cell_type": "code",
   "execution_count": 26,
   "metadata": {},
   "outputs": [
    {
     "data": {
      "text/html": [
       "<div>\n",
       "<style scoped>\n",
       "    .dataframe tbody tr th:only-of-type {\n",
       "        vertical-align: middle;\n",
       "    }\n",
       "\n",
       "    .dataframe tbody tr th {\n",
       "        vertical-align: top;\n",
       "    }\n",
       "\n",
       "    .dataframe thead th {\n",
       "        text-align: right;\n",
       "    }\n",
       "</style>\n",
       "<table border=\"1\" class=\"dataframe\">\n",
       "  <thead>\n",
       "    <tr style=\"text-align: right;\">\n",
       "      <th></th>\n",
       "      <th>street</th>\n",
       "      <th>count_object</th>\n",
       "    </tr>\n",
       "  </thead>\n",
       "  <tbody>\n",
       "    <tr>\n",
       "      <td>0</td>\n",
       "      <td>проспект Мира</td>\n",
       "      <td>203</td>\n",
       "    </tr>\n",
       "    <tr>\n",
       "      <td>1</td>\n",
       "      <td>Профсоюзная улица</td>\n",
       "      <td>181</td>\n",
       "    </tr>\n",
       "    <tr>\n",
       "      <td>2</td>\n",
       "      <td>Ленинградский проспект</td>\n",
       "      <td>170</td>\n",
       "    </tr>\n",
       "    <tr>\n",
       "      <td>3</td>\n",
       "      <td>Пресненская набережная</td>\n",
       "      <td>167</td>\n",
       "    </tr>\n",
       "    <tr>\n",
       "      <td>4</td>\n",
       "      <td>Варшавское шоссе</td>\n",
       "      <td>161</td>\n",
       "    </tr>\n",
       "    <tr>\n",
       "      <td>5</td>\n",
       "      <td>Ленинский проспект</td>\n",
       "      <td>147</td>\n",
       "    </tr>\n",
       "    <tr>\n",
       "      <td>6</td>\n",
       "      <td>проспект Вернадского</td>\n",
       "      <td>128</td>\n",
       "    </tr>\n",
       "    <tr>\n",
       "      <td>7</td>\n",
       "      <td>Кутузовский проспект</td>\n",
       "      <td>114</td>\n",
       "    </tr>\n",
       "    <tr>\n",
       "      <td>8</td>\n",
       "      <td>Каширское шоссе</td>\n",
       "      <td>111</td>\n",
       "    </tr>\n",
       "    <tr>\n",
       "      <td>9</td>\n",
       "      <td>Кировоградская улица</td>\n",
       "      <td>108</td>\n",
       "    </tr>\n",
       "  </tbody>\n",
       "</table>\n",
       "</div>"
      ],
      "text/plain": [
       "                   street  count_object\n",
       "0           проспект Мира           203\n",
       "1       Профсоюзная улица           181\n",
       "2  Ленинградский проспект           170\n",
       "3  Пресненская набережная           167\n",
       "4        Варшавское шоссе           161\n",
       "5      Ленинский проспект           147\n",
       "6    проспект Вернадского           128\n",
       "7    Кутузовский проспект           114\n",
       "8         Каширское шоссе           111\n",
       "9    Кировоградская улица           108"
      ]
     },
     "execution_count": 26,
     "metadata": {},
     "output_type": "execute_result"
    }
   ],
   "source": [
    "data_street = data.query('street != \"Empty\"').groupby('street').agg(count_object=('id','count')).sort_values(by='count_object', ascending=False).reset_index().head(10)\n",
    "data_street"
   ]
  },
  {
   "cell_type": "code",
   "execution_count": 27,
   "metadata": {},
   "outputs": [
    {
     "data": {
      "image/png": "[encoded data removed]",
      "text/plain": [
       "<Figure size 864x432 with 1 Axes>"
      ]
     },
     "metadata": {
      "needs_background": "light"
     },
     "output_type": "display_data"
    }
   ],
   "source": [
    "ax = data_street.plot(kind='barh', x='street', figsize=(12,6), legend=None)\n",
    "ax.invert_yaxis()\n",
    "ax.set_title('Топ-10 улиц по количеству заведений') \n",
    "ax.set_ylabel('Улицы Москвы')\n",
    "ax.set_xlabel(\"Количество заведений\")\n",
    "for i, v in enumerate(data_street['count_object']):\n",
    "    ax.text(v + 3, i + .25, str(v))"
   ]
  },
  {
   "cell_type": "markdown",
   "metadata": {},
   "source": [
    "Самые популярные улицы: проспект Мира, Профсоюзная улица, Ленинградский проспект."
   ]
  },
  {
   "cell_type": "code",
   "execution_count": 28,
   "metadata": {},
   "outputs": [
    {
     "data": {
      "text/html": [
       "<div>\n",
       "<style scoped>\n",
       "    .dataframe tbody tr th:only-of-type {\n",
       "        vertical-align: middle;\n",
       "    }\n",
       "\n",
       "    .dataframe tbody tr th {\n",
       "        vertical-align: top;\n",
       "    }\n",
       "\n",
       "    .dataframe thead th {\n",
       "        text-align: right;\n",
       "    }\n",
       "</style>\n",
       "<table border=\"1\" class=\"dataframe\">\n",
       "  <thead>\n",
       "    <tr style=\"text-align: right;\">\n",
       "      <th></th>\n",
       "      <th>id</th>\n",
       "      <th>object_name</th>\n",
       "      <th>chain</th>\n",
       "      <th>object_type</th>\n",
       "      <th>address</th>\n",
       "      <th>number</th>\n",
       "      <th>street</th>\n",
       "    </tr>\n",
       "  </thead>\n",
       "  <tbody>\n",
       "    <tr>\n",
       "      <td>6683</td>\n",
       "      <td>19654</td>\n",
       "      <td>бар</td>\n",
       "      <td>нет</td>\n",
       "      <td>бар</td>\n",
       "      <td>город Москва, Кутузовский проспект, дом 48</td>\n",
       "      <td>40</td>\n",
       "      <td>Кутузовский проспект</td>\n",
       "    </tr>\n",
       "    <tr>\n",
       "      <td>6471</td>\n",
       "      <td>19681</td>\n",
       "      <td>кафе «азра»</td>\n",
       "      <td>нет</td>\n",
       "      <td>предприятие быстрого обслуживания</td>\n",
       "      <td>город Москва, проспект Вернадского, дом 6</td>\n",
       "      <td>24</td>\n",
       "      <td>проспект Вернадского</td>\n",
       "    </tr>\n",
       "    <tr>\n",
       "      <td>6472</td>\n",
       "      <td>19682</td>\n",
       "      <td>кафе kfc</td>\n",
       "      <td>да</td>\n",
       "      <td>предприятие быстрого обслуживания</td>\n",
       "      <td>город Москва, проспект Вернадского, дом 6</td>\n",
       "      <td>40</td>\n",
       "      <td>проспект Вернадского</td>\n",
       "    </tr>\n",
       "    <tr>\n",
       "      <td>6470</td>\n",
       "      <td>19690</td>\n",
       "      <td>кафе «теремок»</td>\n",
       "      <td>да</td>\n",
       "      <td>предприятие быстрого обслуживания</td>\n",
       "      <td>город Москва, проспект Вернадского, дом 6</td>\n",
       "      <td>40</td>\n",
       "      <td>проспект Вернадского</td>\n",
       "    </tr>\n",
       "    <tr>\n",
       "      <td>178</td>\n",
       "      <td>19700</td>\n",
       "      <td>кафе «театр на юго-западе»</td>\n",
       "      <td>нет</td>\n",
       "      <td>кафе</td>\n",
       "      <td>город Москва, проспект Вернадского, дом 125</td>\n",
       "      <td>20</td>\n",
       "      <td>проспект Вернадского</td>\n",
       "    </tr>\n",
       "    <tr>\n",
       "      <td>...</td>\n",
       "      <td>...</td>\n",
       "      <td>...</td>\n",
       "      <td>...</td>\n",
       "      <td>...</td>\n",
       "      <td>...</td>\n",
       "      <td>...</td>\n",
       "      <td>...</td>\n",
       "    </tr>\n",
       "    <tr>\n",
       "      <td>14670</td>\n",
       "      <td>222988</td>\n",
       "      <td>pho bo ханойский стрит-фуд</td>\n",
       "      <td>нет</td>\n",
       "      <td>предприятие быстрого обслуживания</td>\n",
       "      <td>город Москва, Кировоградская улица, дом 13А</td>\n",
       "      <td>24</td>\n",
       "      <td>Кировоградская улица</td>\n",
       "    </tr>\n",
       "    <tr>\n",
       "      <td>14992</td>\n",
       "      <td>223105</td>\n",
       "      <td>coffe ko</td>\n",
       "      <td>нет</td>\n",
       "      <td>кафетерий</td>\n",
       "      <td>город Москва, Варшавское шоссе, владение 132/2</td>\n",
       "      <td>8</td>\n",
       "      <td>Варшавское шоссе</td>\n",
       "    </tr>\n",
       "    <tr>\n",
       "      <td>14134</td>\n",
       "      <td>223200</td>\n",
       "      <td>бублик кулинария</td>\n",
       "      <td>нет</td>\n",
       "      <td>магазин (отдел кулинарии)</td>\n",
       "      <td>город Москва, проспект Мира, дом 102, корпус 2</td>\n",
       "      <td>4</td>\n",
       "      <td>проспект Мира</td>\n",
       "    </tr>\n",
       "    <tr>\n",
       "      <td>15094</td>\n",
       "      <td>223228</td>\n",
       "      <td>vanwok ванвок</td>\n",
       "      <td>да</td>\n",
       "      <td>предприятие быстрого обслуживания</td>\n",
       "      <td>город Москва, Кировоградская улица, дом 13А</td>\n",
       "      <td>20</td>\n",
       "      <td>Кировоградская улица</td>\n",
       "    </tr>\n",
       "    <tr>\n",
       "      <td>13580</td>\n",
       "      <td>223439</td>\n",
       "      <td>донер кебаб</td>\n",
       "      <td>нет</td>\n",
       "      <td>предприятие быстрого обслуживания</td>\n",
       "      <td>город Москва, Ленинский проспект, дом 39/1</td>\n",
       "      <td>0</td>\n",
       "      <td>Ленинский проспект</td>\n",
       "    </tr>\n",
       "  </tbody>\n",
       "</table>\n",
       "<p>1490 rows × 7 columns</p>\n",
       "</div>"
      ],
      "text/plain": [
       "           id                 object_name chain  \\\n",
       "6683    19654                         бар   нет   \n",
       "6471    19681                 кафе «азра»   нет   \n",
       "6472    19682                    кафе kfc    да   \n",
       "6470    19690              кафе «теремок»    да   \n",
       "178     19700  кафе «театр на юго-западе»   нет   \n",
       "...       ...                         ...   ...   \n",
       "14670  222988  pho bo ханойский стрит-фуд   нет   \n",
       "14992  223105                    coffe ko   нет   \n",
       "14134  223200            бублик кулинария   нет   \n",
       "15094  223228               vanwok ванвок    да   \n",
       "13580  223439                 донер кебаб   нет   \n",
       "\n",
       "                             object_type  \\\n",
       "6683                                 бар   \n",
       "6471   предприятие быстрого обслуживания   \n",
       "6472   предприятие быстрого обслуживания   \n",
       "6470   предприятие быстрого обслуживания   \n",
       "178                                 кафе   \n",
       "...                                  ...   \n",
       "14670  предприятие быстрого обслуживания   \n",
       "14992                          кафетерий   \n",
       "14134          магазин (отдел кулинарии)   \n",
       "15094  предприятие быстрого обслуживания   \n",
       "13580  предприятие быстрого обслуживания   \n",
       "\n",
       "                                              address  number  \\\n",
       "6683       город Москва, Кутузовский проспект, дом 48      40   \n",
       "6471        город Москва, проспект Вернадского, дом 6      24   \n",
       "6472        город Москва, проспект Вернадского, дом 6      40   \n",
       "6470        город Москва, проспект Вернадского, дом 6      40   \n",
       "178       город Москва, проспект Вернадского, дом 125      20   \n",
       "...                                               ...     ...   \n",
       "14670     город Москва, Кировоградская улица, дом 13А      24   \n",
       "14992  город Москва, Варшавское шоссе, владение 132/2       8   \n",
       "14134  город Москва, проспект Мира, дом 102, корпус 2       4   \n",
       "15094     город Москва, Кировоградская улица, дом 13А      20   \n",
       "13580      город Москва, Ленинский проспект, дом 39/1       0   \n",
       "\n",
       "                     street  \n",
       "6683   Кутузовский проспект  \n",
       "6471   проспект Вернадского  \n",
       "6472   проспект Вернадского  \n",
       "6470   проспект Вернадского  \n",
       "178    проспект Вернадского  \n",
       "...                     ...  \n",
       "14670  Кировоградская улица  \n",
       "14992      Варшавское шоссе  \n",
       "14134         проспект Мира  \n",
       "15094  Кировоградская улица  \n",
       "13580    Ленинский проспект  \n",
       "\n",
       "[1490 rows x 7 columns]"
      ]
     },
     "execution_count": 28,
     "metadata": {},
     "output_type": "execute_result"
    }
   ],
   "source": [
    "# отбираю строки со всеми адресами на улицах из топ-10\n",
    "street = data_street['street'].tolist()\n",
    "data_street_top = data.query('street in @street').sort_values(by='id')\n",
    "data_street_top"
   ]
  },
  {
   "cell_type": "code",
   "execution_count": 29,
   "metadata": {},
   "outputs": [],
   "source": [
    "# для того, чтобы получить данные о районе, воспользуюсь Геокодером Яндекса \n",
    "# и с помощью его API для каждого адреса достану район\n",
    "\n",
    "url = 'https://geocode-maps.yandex.ru/1.x'\n",
    "apikey = 'my_apikey' # убрала действующий apikey\n",
    "\n",
    "# функция для парсинга информации с сайта Геокодер Яндекса, даю адрес, получаю координаты, отдаю координаты и получаю район\n",
    "def req_district(geocode):\n",
    "    \n",
    "    # обработка ошибок, если не все учла\n",
    "    try:\n",
    "        # сначала по адресу получаю координаты\n",
    "        req_coordinates = requests.get(url, params={'apikey':apikey, 'format':'json', 'geocode':geocode})\n",
    "        req_coordinates.text\n",
    "\n",
    "        text_coordinates = json.loads(req_coordinates.text)\n",
    "        coordinates = text_coordinates['response']['GeoObjectCollection']['featureMember'][0]['GeoObject']['Point']['pos']\n",
    "        coordinates\n",
    "        \n",
    "        # с помощью координат получаю данные о районе\n",
    "        req_district = requests.get(url, params={'apikey':apikey, 'format':'json', 'geocode':coordinates, 'kind':'district'})\n",
    "        req_district.text\n",
    "        text_district = json.loads(req_district.text)\n",
    "        district_up = text_district['response']['GeoObjectCollection']['featureMember'][0]['GeoObject']['metaDataProperty']['GeocoderMetaData']['AddressDetails']['Country']['AdministrativeArea']['Locality']['DependentLocality']\n",
    "        district_low = district_up.get('DependentLocality')\n",
    "        \n",
    "        # адреса указаны не одинаково, и, если указан и административный округ, чтобы он не выводился\n",
    "        if district_low == None:\n",
    "            district = district_up['DependentLocalityName']\n",
    "        else: \n",
    "            district = district_low['DependentLocalityName']\n",
    "    except BaseException:\n",
    "        district = 'Error'\n",
    "    return district"
   ]
  },
  {
   "cell_type": "code",
   "execution_count": 30,
   "metadata": {},
   "outputs": [],
   "source": [
    "# применяю функцию, записываю район и сохраняю все во внешний файл\n",
    "# код закомментирую, чтобы не выполнялся каждый раз заново\n",
    "\n",
    "# data_street_top['district'] = data_street_top['address'].apply(req_district)\n",
    "# data_street_top.to_csv(path_or_buf='./new_data.csv')"
   ]
  },
  {
   "cell_type": "code",
   "execution_count": 31,
   "metadata": {},
   "outputs": [
    {
     "data": {
      "text/html": [
       "<div>\n",
       "<style scoped>\n",
       "    .dataframe tbody tr th:only-of-type {\n",
       "        vertical-align: middle;\n",
       "    }\n",
       "\n",
       "    .dataframe tbody tr th {\n",
       "        vertical-align: top;\n",
       "    }\n",
       "\n",
       "    .dataframe thead th {\n",
       "        text-align: right;\n",
       "    }\n",
       "</style>\n",
       "<table border=\"1\" class=\"dataframe\">\n",
       "  <thead>\n",
       "    <tr style=\"text-align: right;\">\n",
       "      <th></th>\n",
       "      <th>id</th>\n",
       "      <th>object_name</th>\n",
       "      <th>chain</th>\n",
       "      <th>object_type</th>\n",
       "      <th>address</th>\n",
       "      <th>number</th>\n",
       "      <th>street</th>\n",
       "      <th>district</th>\n",
       "    </tr>\n",
       "  </thead>\n",
       "  <tbody>\n",
       "    <tr>\n",
       "      <td>6683</td>\n",
       "      <td>19654</td>\n",
       "      <td>бар</td>\n",
       "      <td>нет</td>\n",
       "      <td>бар</td>\n",
       "      <td>город Москва, Кутузовский проспект, дом 48</td>\n",
       "      <td>40</td>\n",
       "      <td>Кутузовский проспект</td>\n",
       "      <td>район Фили-Давыдково</td>\n",
       "    </tr>\n",
       "    <tr>\n",
       "      <td>6471</td>\n",
       "      <td>19681</td>\n",
       "      <td>кафе «азра»</td>\n",
       "      <td>нет</td>\n",
       "      <td>предприятие быстрого обслуживания</td>\n",
       "      <td>город Москва, проспект Вернадского, дом 6</td>\n",
       "      <td>24</td>\n",
       "      <td>проспект Вернадского</td>\n",
       "      <td>район Раменки</td>\n",
       "    </tr>\n",
       "    <tr>\n",
       "      <td>6472</td>\n",
       "      <td>19682</td>\n",
       "      <td>кафе kfc</td>\n",
       "      <td>да</td>\n",
       "      <td>предприятие быстрого обслуживания</td>\n",
       "      <td>город Москва, проспект Вернадского, дом 6</td>\n",
       "      <td>40</td>\n",
       "      <td>проспект Вернадского</td>\n",
       "      <td>район Раменки</td>\n",
       "    </tr>\n",
       "    <tr>\n",
       "      <td>6470</td>\n",
       "      <td>19690</td>\n",
       "      <td>кафе «теремок»</td>\n",
       "      <td>да</td>\n",
       "      <td>предприятие быстрого обслуживания</td>\n",
       "      <td>город Москва, проспект Вернадского, дом 6</td>\n",
       "      <td>40</td>\n",
       "      <td>проспект Вернадского</td>\n",
       "      <td>район Раменки</td>\n",
       "    </tr>\n",
       "    <tr>\n",
       "      <td>178</td>\n",
       "      <td>19700</td>\n",
       "      <td>кафе «театр на юго-западе»</td>\n",
       "      <td>нет</td>\n",
       "      <td>кафе</td>\n",
       "      <td>город Москва, проспект Вернадского, дом 125</td>\n",
       "      <td>20</td>\n",
       "      <td>проспект Вернадского</td>\n",
       "      <td>район Тропарёво-Никулино</td>\n",
       "    </tr>\n",
       "    <tr>\n",
       "      <td>...</td>\n",
       "      <td>...</td>\n",
       "      <td>...</td>\n",
       "      <td>...</td>\n",
       "      <td>...</td>\n",
       "      <td>...</td>\n",
       "      <td>...</td>\n",
       "      <td>...</td>\n",
       "      <td>...</td>\n",
       "    </tr>\n",
       "    <tr>\n",
       "      <td>14670</td>\n",
       "      <td>222988</td>\n",
       "      <td>pho bo ханойский стрит-фуд</td>\n",
       "      <td>нет</td>\n",
       "      <td>предприятие быстрого обслуживания</td>\n",
       "      <td>город Москва, Кировоградская улица, дом 13А</td>\n",
       "      <td>24</td>\n",
       "      <td>Кировоградская улица</td>\n",
       "      <td>район Чертаново Центральное</td>\n",
       "    </tr>\n",
       "    <tr>\n",
       "      <td>14992</td>\n",
       "      <td>223105</td>\n",
       "      <td>coffe ko</td>\n",
       "      <td>нет</td>\n",
       "      <td>кафетерий</td>\n",
       "      <td>город Москва, Варшавское шоссе, владение 132/2</td>\n",
       "      <td>8</td>\n",
       "      <td>Варшавское шоссе</td>\n",
       "      <td>район Чертаново Центральное</td>\n",
       "    </tr>\n",
       "    <tr>\n",
       "      <td>14134</td>\n",
       "      <td>223200</td>\n",
       "      <td>бублик кулинария</td>\n",
       "      <td>нет</td>\n",
       "      <td>магазин (отдел кулинарии)</td>\n",
       "      <td>город Москва, проспект Мира, дом 102, корпус 2</td>\n",
       "      <td>4</td>\n",
       "      <td>проспект Мира</td>\n",
       "      <td>бизнес-квартал Парк Мира</td>\n",
       "    </tr>\n",
       "    <tr>\n",
       "      <td>15094</td>\n",
       "      <td>223228</td>\n",
       "      <td>vanwok ванвок</td>\n",
       "      <td>да</td>\n",
       "      <td>предприятие быстрого обслуживания</td>\n",
       "      <td>город Москва, Кировоградская улица, дом 13А</td>\n",
       "      <td>20</td>\n",
       "      <td>Кировоградская улица</td>\n",
       "      <td>район Чертаново Центральное</td>\n",
       "    </tr>\n",
       "    <tr>\n",
       "      <td>13580</td>\n",
       "      <td>223439</td>\n",
       "      <td>донер кебаб</td>\n",
       "      <td>нет</td>\n",
       "      <td>предприятие быстрого обслуживания</td>\n",
       "      <td>город Москва, Ленинский проспект, дом 39/1</td>\n",
       "      <td>0</td>\n",
       "      <td>Ленинский проспект</td>\n",
       "      <td>Гагаринский район</td>\n",
       "    </tr>\n",
       "  </tbody>\n",
       "</table>\n",
       "<p>1489 rows × 8 columns</p>\n",
       "</div>"
      ],
      "text/plain": [
       "           id                 object_name chain  \\\n",
       "6683    19654                         бар   нет   \n",
       "6471    19681                 кафе «азра»   нет   \n",
       "6472    19682                    кафе kfc    да   \n",
       "6470    19690              кафе «теремок»    да   \n",
       "178     19700  кафе «театр на юго-западе»   нет   \n",
       "...       ...                         ...   ...   \n",
       "14670  222988  pho bo ханойский стрит-фуд   нет   \n",
       "14992  223105                    coffe ko   нет   \n",
       "14134  223200            бублик кулинария   нет   \n",
       "15094  223228               vanwok ванвок    да   \n",
       "13580  223439                 донер кебаб   нет   \n",
       "\n",
       "                             object_type  \\\n",
       "6683                                 бар   \n",
       "6471   предприятие быстрого обслуживания   \n",
       "6472   предприятие быстрого обслуживания   \n",
       "6470   предприятие быстрого обслуживания   \n",
       "178                                 кафе   \n",
       "...                                  ...   \n",
       "14670  предприятие быстрого обслуживания   \n",
       "14992                          кафетерий   \n",
       "14134          магазин (отдел кулинарии)   \n",
       "15094  предприятие быстрого обслуживания   \n",
       "13580  предприятие быстрого обслуживания   \n",
       "\n",
       "                                              address  number  \\\n",
       "6683       город Москва, Кутузовский проспект, дом 48      40   \n",
       "6471        город Москва, проспект Вернадского, дом 6      24   \n",
       "6472        город Москва, проспект Вернадского, дом 6      40   \n",
       "6470        город Москва, проспект Вернадского, дом 6      40   \n",
       "178       город Москва, проспект Вернадского, дом 125      20   \n",
       "...                                               ...     ...   \n",
       "14670     город Москва, Кировоградская улица, дом 13А      24   \n",
       "14992  город Москва, Варшавское шоссе, владение 132/2       8   \n",
       "14134  город Москва, проспект Мира, дом 102, корпус 2       4   \n",
       "15094     город Москва, Кировоградская улица, дом 13А      20   \n",
       "13580      город Москва, Ленинский проспект, дом 39/1       0   \n",
       "\n",
       "                     street                     district  \n",
       "6683   Кутузовский проспект         район Фили-Давыдково  \n",
       "6471   проспект Вернадского                район Раменки  \n",
       "6472   проспект Вернадского                район Раменки  \n",
       "6470   проспект Вернадского                район Раменки  \n",
       "178    проспект Вернадского     район Тропарёво-Никулино  \n",
       "...                     ...                          ...  \n",
       "14670  Кировоградская улица  район Чертаново Центральное  \n",
       "14992      Варшавское шоссе  район Чертаново Центральное  \n",
       "14134         проспект Мира     бизнес-квартал Парк Мира  \n",
       "15094  Кировоградская улица  район Чертаново Центральное  \n",
       "13580    Ленинский проспект            Гагаринский район  \n",
       "\n",
       "[1489 rows x 8 columns]"
      ]
     },
     "execution_count": 31,
     "metadata": {},
     "output_type": "execute_result"
    }
   ],
   "source": [
    "# вывожу записанный файл с районами\n",
    "from io import BytesIO\n",
    "import requests\n",
    "spreadsheet_id = '' # убрала ссылку на файл\n",
    "file_name = 'https://docs.google.com/spreadsheets/d/{}/export?format=csv'.format(spreadsheet_id)\n",
    "r = requests.get(file_name)\n",
    "data_with_district = pd.read_csv(BytesIO(r.content), index_col=0)\n",
    "data_with_district"
   ]
  },
  {
   "cell_type": "code",
   "execution_count": 32,
   "metadata": {},
   "outputs": [
    {
     "data": {
      "image/png": "[encoded data removed]",
      "text/plain": [
       "<Figure size 864x432 with 1 Axes>"
      ]
     },
     "metadata": {
      "needs_background": "light"
     },
     "output_type": "display_data"
    }
   ],
   "source": [
    "data_with_district_top = data_with_district.groupby('district').agg(count_object=('id','count')).sort_values(by='count_object', ascending=False).head(10)\n",
    "\n",
    "ax = data_with_district_top.plot(kind='barh', figsize=(12,6), legend=None)\n",
    "ax.invert_yaxis()\n",
    "ax.set_title('Топ-10 районов с самыми популярными улицами') \n",
    "ax.set_ylabel('Районы Москвы')\n",
    "ax.set_xlabel(\"Количество заведений\")\n",
    "for i, v in enumerate(data_with_district_top['count_object']):\n",
    "    ax.text(v + 3, i + .25, str(v))"
   ]
  },
  {
   "cell_type": "markdown",
   "metadata": {},
   "source": [
    "Самый популярный с большим отрывом район для заведений: Пресненский, он почти в 2 раза популярней района, находящегося на втором месте: Чертаново Центральное."
   ]
  },
  {
   "cell_type": "markdown",
   "metadata": {},
   "source": [
    "### Улицы с одним объектом общественного питания, районы их расположения."
   ]
  },
  {
   "cell_type": "code",
   "execution_count": 33,
   "metadata": {},
   "outputs": [
    {
     "data": {
      "text/html": [
       "<div>\n",
       "<style scoped>\n",
       "    .dataframe tbody tr th:only-of-type {\n",
       "        vertical-align: middle;\n",
       "    }\n",
       "\n",
       "    .dataframe tbody tr th {\n",
       "        vertical-align: top;\n",
       "    }\n",
       "\n",
       "    .dataframe thead th {\n",
       "        text-align: right;\n",
       "    }\n",
       "</style>\n",
       "<table border=\"1\" class=\"dataframe\">\n",
       "  <thead>\n",
       "    <tr style=\"text-align: right;\">\n",
       "      <th></th>\n",
       "      <th>street</th>\n",
       "      <th>count_object</th>\n",
       "    </tr>\n",
       "  </thead>\n",
       "  <tbody>\n",
       "    <tr>\n",
       "      <td>0</td>\n",
       "      <td>1-й Балтийский переулок</td>\n",
       "      <td>1</td>\n",
       "    </tr>\n",
       "    <tr>\n",
       "      <td>1</td>\n",
       "      <td>1-й Басманный переулок</td>\n",
       "      <td>1</td>\n",
       "    </tr>\n",
       "    <tr>\n",
       "      <td>2</td>\n",
       "      <td>1-й Ботанический проезд</td>\n",
       "      <td>1</td>\n",
       "    </tr>\n",
       "    <tr>\n",
       "      <td>3</td>\n",
       "      <td>1-й Вешняковский проезд</td>\n",
       "      <td>1</td>\n",
       "    </tr>\n",
       "    <tr>\n",
       "      <td>4</td>\n",
       "      <td>1-й Голутвинский переулок</td>\n",
       "      <td>1</td>\n",
       "    </tr>\n",
       "    <tr>\n",
       "      <td>...</td>\n",
       "      <td>...</td>\n",
       "      <td>...</td>\n",
       "    </tr>\n",
       "    <tr>\n",
       "      <td>565</td>\n",
       "      <td>улица Шеногина</td>\n",
       "      <td>1</td>\n",
       "    </tr>\n",
       "    <tr>\n",
       "      <td>566</td>\n",
       "      <td>улица Шумилова</td>\n",
       "      <td>1</td>\n",
       "    </tr>\n",
       "    <tr>\n",
       "      <td>567</td>\n",
       "      <td>улица Шумкина</td>\n",
       "      <td>1</td>\n",
       "    </tr>\n",
       "    <tr>\n",
       "      <td>568</td>\n",
       "      <td>улица Щорса</td>\n",
       "      <td>1</td>\n",
       "    </tr>\n",
       "    <tr>\n",
       "      <td>569</td>\n",
       "      <td>шоссе Фрезер</td>\n",
       "      <td>1</td>\n",
       "    </tr>\n",
       "  </tbody>\n",
       "</table>\n",
       "<p>570 rows × 2 columns</p>\n",
       "</div>"
      ],
      "text/plain": [
       "                        street  count_object\n",
       "0      1-й Балтийский переулок             1\n",
       "1       1-й Басманный переулок             1\n",
       "2      1-й Ботанический проезд             1\n",
       "3      1-й Вешняковский проезд             1\n",
       "4    1-й Голутвинский переулок             1\n",
       "..                         ...           ...\n",
       "565             улица Шеногина             1\n",
       "566             улица Шумилова             1\n",
       "567              улица Шумкина             1\n",
       "568                улица Щорса             1\n",
       "569               шоссе Фрезер             1\n",
       "\n",
       "[570 rows x 2 columns]"
      ]
     },
     "execution_count": 33,
     "metadata": {},
     "output_type": "execute_result"
    }
   ],
   "source": [
    "one_object = data.groupby('street').agg(count_object=('id','count')).query('count_object == 1').reset_index()\n",
    "one_object"
   ]
  },
  {
   "cell_type": "code",
   "execution_count": 34,
   "metadata": {},
   "outputs": [
    {
     "data": {
      "text/html": [
       "<div>\n",
       "<style scoped>\n",
       "    .dataframe tbody tr th:only-of-type {\n",
       "        vertical-align: middle;\n",
       "    }\n",
       "\n",
       "    .dataframe tbody tr th {\n",
       "        vertical-align: top;\n",
       "    }\n",
       "\n",
       "    .dataframe thead th {\n",
       "        text-align: right;\n",
       "    }\n",
       "</style>\n",
       "<table border=\"1\" class=\"dataframe\">\n",
       "  <thead>\n",
       "    <tr style=\"text-align: right;\">\n",
       "      <th></th>\n",
       "      <th>id</th>\n",
       "      <th>object_name</th>\n",
       "      <th>chain</th>\n",
       "      <th>object_type</th>\n",
       "      <th>address</th>\n",
       "      <th>number</th>\n",
       "      <th>street</th>\n",
       "    </tr>\n",
       "  </thead>\n",
       "  <tbody>\n",
       "    <tr>\n",
       "      <td>19</td>\n",
       "      <td>153644</td>\n",
       "      <td>американская лаборатория десертов</td>\n",
       "      <td>нет</td>\n",
       "      <td>кафе</td>\n",
       "      <td>город Москва, Филипповский переулок, дом 15/5</td>\n",
       "      <td>20</td>\n",
       "      <td>Филипповский переулок</td>\n",
       "    </tr>\n",
       "    <tr>\n",
       "      <td>61</td>\n",
       "      <td>21214</td>\n",
       "      <td>столовая</td>\n",
       "      <td>нет</td>\n",
       "      <td>столовая</td>\n",
       "      <td>город Москва, Бабаевская улица, дом 3</td>\n",
       "      <td>90</td>\n",
       "      <td>Бабаевская улица</td>\n",
       "    </tr>\n",
       "    <tr>\n",
       "      <td>69</td>\n",
       "      <td>22139</td>\n",
       "      <td>хуанхэ</td>\n",
       "      <td>нет</td>\n",
       "      <td>ресторан</td>\n",
       "      <td>город Москва, 1-й Балтийский переулок, дом 3/25</td>\n",
       "      <td>60</td>\n",
       "      <td>1-й Балтийский переулок</td>\n",
       "    </tr>\n",
       "    <tr>\n",
       "      <td>81</td>\n",
       "      <td>25833</td>\n",
       "      <td>азербайджан</td>\n",
       "      <td>нет</td>\n",
       "      <td>ресторан</td>\n",
       "      <td>город Москва, улица Демьяна Бедного, дом 4</td>\n",
       "      <td>180</td>\n",
       "      <td>улица Демьяна Бедного</td>\n",
       "    </tr>\n",
       "    <tr>\n",
       "      <td>131</td>\n",
       "      <td>150881</td>\n",
       "      <td>вгик</td>\n",
       "      <td>нет</td>\n",
       "      <td>столовая</td>\n",
       "      <td>город Москва, Будайская улица, дом 3</td>\n",
       "      <td>45</td>\n",
       "      <td>Будайская улица</td>\n",
       "    </tr>\n",
       "    <tr>\n",
       "      <td>...</td>\n",
       "      <td>...</td>\n",
       "      <td>...</td>\n",
       "      <td>...</td>\n",
       "      <td>...</td>\n",
       "      <td>...</td>\n",
       "      <td>...</td>\n",
       "      <td>...</td>\n",
       "    </tr>\n",
       "    <tr>\n",
       "      <td>14808</td>\n",
       "      <td>213635</td>\n",
       "      <td>кафе</td>\n",
       "      <td>нет</td>\n",
       "      <td>кафе</td>\n",
       "      <td>город Москва, поселение Сосенское, деревня Сосенки, Ясеневая улица, дом 3</td>\n",
       "      <td>46</td>\n",
       "      <td>поселение Сосенское, деревня Сосенки, Ясеневая улица</td>\n",
       "    </tr>\n",
       "    <tr>\n",
       "      <td>14810</td>\n",
       "      <td>206875</td>\n",
       "      <td>столовая</td>\n",
       "      <td>нет</td>\n",
       "      <td>столовая</td>\n",
       "      <td>город Москва, поселение Первомайское, деревня Поповка, Дорожная улица, дом 12, строение 1</td>\n",
       "      <td>28</td>\n",
       "      <td>поселение Первомайское, деревня Поповка, Дорожная улица</td>\n",
       "    </tr>\n",
       "    <tr>\n",
       "      <td>14974</td>\n",
       "      <td>213930</td>\n",
       "      <td>горячий хлеб</td>\n",
       "      <td>нет</td>\n",
       "      <td>предприятие быстрого обслуживания</td>\n",
       "      <td>город Москва, поселение Десеновское, улица Дмитрия Рябинкина, дом 13</td>\n",
       "      <td>0</td>\n",
       "      <td>поселение Десеновское, улица Дмитрия Рябинкина</td>\n",
       "    </tr>\n",
       "    <tr>\n",
       "      <td>15017</td>\n",
       "      <td>205588</td>\n",
       "      <td>кофейня</td>\n",
       "      <td>нет</td>\n",
       "      <td>кафетерий</td>\n",
       "      <td>город Москва, поселение Щаповское, улица Евгения Родионова, владение 1</td>\n",
       "      <td>16</td>\n",
       "      <td>поселение Щаповское, улица Евгения Родионова</td>\n",
       "    </tr>\n",
       "    <tr>\n",
       "      <td>15027</td>\n",
       "      <td>208936</td>\n",
       "      <td>кафе гурман</td>\n",
       "      <td>нет</td>\n",
       "      <td>кафе</td>\n",
       "      <td>город Москва, поселение Первомайское, деревня Фоминское, Лесная улица, владение 14</td>\n",
       "      <td>40</td>\n",
       "      <td>поселение Первомайское, деревня Фоминское, Лесная улица</td>\n",
       "    </tr>\n",
       "  </tbody>\n",
       "</table>\n",
       "<p>570 rows × 7 columns</p>\n",
       "</div>"
      ],
      "text/plain": [
       "           id                        object_name chain  \\\n",
       "19     153644  американская лаборатория десертов   нет   \n",
       "61      21214                           столовая   нет   \n",
       "69      22139                             хуанхэ   нет   \n",
       "81      25833                        азербайджан   нет   \n",
       "131    150881                               вгик   нет   \n",
       "...       ...                                ...   ...   \n",
       "14808  213635                               кафе   нет   \n",
       "14810  206875                           столовая   нет   \n",
       "14974  213930                       горячий хлеб   нет   \n",
       "15017  205588                            кофейня   нет   \n",
       "15027  208936                        кафе гурман   нет   \n",
       "\n",
       "                             object_type  \\\n",
       "19                                  кафе   \n",
       "61                              столовая   \n",
       "69                              ресторан   \n",
       "81                              ресторан   \n",
       "131                             столовая   \n",
       "...                                  ...   \n",
       "14808                               кафе   \n",
       "14810                           столовая   \n",
       "14974  предприятие быстрого обслуживания   \n",
       "15017                          кафетерий   \n",
       "15027                               кафе   \n",
       "\n",
       "                                                                                         address  \\\n",
       "19                                                 город Москва, Филипповский переулок, дом 15/5   \n",
       "61                                                         город Москва, Бабаевская улица, дом 3   \n",
       "69                                               город Москва, 1-й Балтийский переулок, дом 3/25   \n",
       "81                                                    город Москва, улица Демьяна Бедного, дом 4   \n",
       "131                                                         город Москва, Будайская улица, дом 3   \n",
       "...                                                                                          ...   \n",
       "14808                  город Москва, поселение Сосенское, деревня Сосенки, Ясеневая улица, дом 3   \n",
       "14810  город Москва, поселение Первомайское, деревня Поповка, Дорожная улица, дом 12, строение 1   \n",
       "14974                       город Москва, поселение Десеновское, улица Дмитрия Рябинкина, дом 13   \n",
       "15017                     город Москва, поселение Щаповское, улица Евгения Родионова, владение 1   \n",
       "15027         город Москва, поселение Первомайское, деревня Фоминское, Лесная улица, владение 14   \n",
       "\n",
       "       number                                                   street  \n",
       "19         20                                    Филипповский переулок  \n",
       "61         90                                         Бабаевская улица  \n",
       "69         60                                  1-й Балтийский переулок  \n",
       "81        180                                    улица Демьяна Бедного  \n",
       "131        45                                          Будайская улица  \n",
       "...       ...                                                      ...  \n",
       "14808      46     поселение Сосенское, деревня Сосенки, Ясеневая улица  \n",
       "14810      28  поселение Первомайское, деревня Поповка, Дорожная улица  \n",
       "14974       0           поселение Десеновское, улица Дмитрия Рябинкина  \n",
       "15017      16             поселение Щаповское, улица Евгения Родионова  \n",
       "15027      40  поселение Первомайское, деревня Фоминское, Лесная улица  \n",
       "\n",
       "[570 rows x 7 columns]"
      ]
     },
     "execution_count": 34,
     "metadata": {},
     "output_type": "execute_result"
    }
   ],
   "source": [
    "# для удобства вывожу всю информацию по улицам с одним объектом общественного питания\n",
    "street_one_object = one_object['street'].tolist()\n",
    "data_one_object = data.query('street in @street_one_object')\n",
    "data_one_object"
   ]
  },
  {
   "cell_type": "code",
   "execution_count": 35,
   "metadata": {},
   "outputs": [],
   "source": [
    "# применяю функцию, записываю район и сохраняю все во внешний файл\n",
    "# код закомментирую, чтобы не выполнялся каждый раз заново\n",
    "\n",
    "# data_one_object['district'] = data_one_object['address'].apply(req_district)\n",
    "# data_one_object.to_csv(path_or_buf='./data_one_object.csv')"
   ]
  },
  {
   "cell_type": "code",
   "execution_count": 36,
   "metadata": {},
   "outputs": [
    {
     "data": {
      "text/html": [
       "<div>\n",
       "<style scoped>\n",
       "    .dataframe tbody tr th:only-of-type {\n",
       "        vertical-align: middle;\n",
       "    }\n",
       "\n",
       "    .dataframe tbody tr th {\n",
       "        vertical-align: top;\n",
       "    }\n",
       "\n",
       "    .dataframe thead th {\n",
       "        text-align: right;\n",
       "    }\n",
       "</style>\n",
       "<table border=\"1\" class=\"dataframe\">\n",
       "  <thead>\n",
       "    <tr style=\"text-align: right;\">\n",
       "      <th></th>\n",
       "      <th>id</th>\n",
       "      <th>object_name</th>\n",
       "      <th>chain</th>\n",
       "      <th>object_type</th>\n",
       "      <th>address</th>\n",
       "      <th>number</th>\n",
       "      <th>street</th>\n",
       "      <th>district</th>\n",
       "    </tr>\n",
       "  </thead>\n",
       "  <tbody>\n",
       "    <tr>\n",
       "      <td>19</td>\n",
       "      <td>153644</td>\n",
       "      <td>американская лаборатория десертов</td>\n",
       "      <td>нет</td>\n",
       "      <td>кафе</td>\n",
       "      <td>город Москва, Филипповский переулок, дом 15/5</td>\n",
       "      <td>20</td>\n",
       "      <td>Филипповский переулок</td>\n",
       "      <td>район Арбат</td>\n",
       "    </tr>\n",
       "    <tr>\n",
       "      <td>61</td>\n",
       "      <td>21214</td>\n",
       "      <td>столовая</td>\n",
       "      <td>нет</td>\n",
       "      <td>столовая</td>\n",
       "      <td>город Москва, Бабаевская улица, дом 3</td>\n",
       "      <td>90</td>\n",
       "      <td>Бабаевская улица</td>\n",
       "      <td>район Сокольники</td>\n",
       "    </tr>\n",
       "    <tr>\n",
       "      <td>69</td>\n",
       "      <td>22139</td>\n",
       "      <td>хуанхэ</td>\n",
       "      <td>нет</td>\n",
       "      <td>ресторан</td>\n",
       "      <td>город Москва, 1-й Балтийский переулок, дом 3/25</td>\n",
       "      <td>60</td>\n",
       "      <td>1-й Балтийский переулок</td>\n",
       "      <td>район Аэропорт</td>\n",
       "    </tr>\n",
       "    <tr>\n",
       "      <td>81</td>\n",
       "      <td>25833</td>\n",
       "      <td>азербайджан</td>\n",
       "      <td>нет</td>\n",
       "      <td>ресторан</td>\n",
       "      <td>город Москва, улица Демьяна Бедного, дом 4</td>\n",
       "      <td>180</td>\n",
       "      <td>улица Демьяна Бедного</td>\n",
       "      <td>район Хорошёво-Мнёвники</td>\n",
       "    </tr>\n",
       "    <tr>\n",
       "      <td>131</td>\n",
       "      <td>150881</td>\n",
       "      <td>вгик</td>\n",
       "      <td>нет</td>\n",
       "      <td>столовая</td>\n",
       "      <td>город Москва, Будайская улица, дом 3</td>\n",
       "      <td>45</td>\n",
       "      <td>Будайская улица</td>\n",
       "      <td>район Ростокино</td>\n",
       "    </tr>\n",
       "    <tr>\n",
       "      <td>...</td>\n",
       "      <td>...</td>\n",
       "      <td>...</td>\n",
       "      <td>...</td>\n",
       "      <td>...</td>\n",
       "      <td>...</td>\n",
       "      <td>...</td>\n",
       "      <td>...</td>\n",
       "      <td>...</td>\n",
       "    </tr>\n",
       "    <tr>\n",
       "      <td>14808</td>\n",
       "      <td>213635</td>\n",
       "      <td>кафе</td>\n",
       "      <td>нет</td>\n",
       "      <td>кафе</td>\n",
       "      <td>город Москва, поселение Сосенское, деревня Сосенки, Ясеневая улица, дом 3</td>\n",
       "      <td>46</td>\n",
       "      <td>поселение Сосенское, деревня Сосенки, Ясеневая улица</td>\n",
       "      <td>Error</td>\n",
       "    </tr>\n",
       "    <tr>\n",
       "      <td>14810</td>\n",
       "      <td>206875</td>\n",
       "      <td>столовая</td>\n",
       "      <td>нет</td>\n",
       "      <td>столовая</td>\n",
       "      <td>город Москва, поселение Первомайское, деревня Поповка, Дорожная улица, дом 12, строение 1</td>\n",
       "      <td>28</td>\n",
       "      <td>поселение Первомайское, деревня Поповка, Дорожная улица</td>\n",
       "      <td>Error</td>\n",
       "    </tr>\n",
       "    <tr>\n",
       "      <td>14974</td>\n",
       "      <td>213930</td>\n",
       "      <td>горячий хлеб</td>\n",
       "      <td>нет</td>\n",
       "      <td>предприятие быстрого обслуживания</td>\n",
       "      <td>город Москва, поселение Десеновское, улица Дмитрия Рябинкина, дом 13</td>\n",
       "      <td>0</td>\n",
       "      <td>поселение Десеновское, улица Дмитрия Рябинкина</td>\n",
       "      <td>Error</td>\n",
       "    </tr>\n",
       "    <tr>\n",
       "      <td>15017</td>\n",
       "      <td>205588</td>\n",
       "      <td>кофейня</td>\n",
       "      <td>нет</td>\n",
       "      <td>кафетерий</td>\n",
       "      <td>город Москва, поселение Щаповское, улица Евгения Родионова, владение 1</td>\n",
       "      <td>16</td>\n",
       "      <td>поселение Щаповское, улица Евгения Родионова</td>\n",
       "      <td>Error</td>\n",
       "    </tr>\n",
       "    <tr>\n",
       "      <td>15027</td>\n",
       "      <td>208936</td>\n",
       "      <td>кафе гурман</td>\n",
       "      <td>нет</td>\n",
       "      <td>кафе</td>\n",
       "      <td>город Москва, поселение Первомайское, деревня Фоминское, Лесная улица, владение 14</td>\n",
       "      <td>40</td>\n",
       "      <td>поселение Первомайское, деревня Фоминское, Лесная улица</td>\n",
       "      <td>Error</td>\n",
       "    </tr>\n",
       "  </tbody>\n",
       "</table>\n",
       "<p>570 rows × 8 columns</p>\n",
       "</div>"
      ],
      "text/plain": [
       "           id                        object_name chain  \\\n",
       "19     153644  американская лаборатория десертов   нет   \n",
       "61      21214                           столовая   нет   \n",
       "69      22139                             хуанхэ   нет   \n",
       "81      25833                        азербайджан   нет   \n",
       "131    150881                               вгик   нет   \n",
       "...       ...                                ...   ...   \n",
       "14808  213635                               кафе   нет   \n",
       "14810  206875                           столовая   нет   \n",
       "14974  213930                       горячий хлеб   нет   \n",
       "15017  205588                            кофейня   нет   \n",
       "15027  208936                        кафе гурман   нет   \n",
       "\n",
       "                             object_type  \\\n",
       "19                                  кафе   \n",
       "61                              столовая   \n",
       "69                              ресторан   \n",
       "81                              ресторан   \n",
       "131                             столовая   \n",
       "...                                  ...   \n",
       "14808                               кафе   \n",
       "14810                           столовая   \n",
       "14974  предприятие быстрого обслуживания   \n",
       "15017                          кафетерий   \n",
       "15027                               кафе   \n",
       "\n",
       "                                                                                         address  \\\n",
       "19                                                 город Москва, Филипповский переулок, дом 15/5   \n",
       "61                                                         город Москва, Бабаевская улица, дом 3   \n",
       "69                                               город Москва, 1-й Балтийский переулок, дом 3/25   \n",
       "81                                                    город Москва, улица Демьяна Бедного, дом 4   \n",
       "131                                                         город Москва, Будайская улица, дом 3   \n",
       "...                                                                                          ...   \n",
       "14808                  город Москва, поселение Сосенское, деревня Сосенки, Ясеневая улица, дом 3   \n",
       "14810  город Москва, поселение Первомайское, деревня Поповка, Дорожная улица, дом 12, строение 1   \n",
       "14974                       город Москва, поселение Десеновское, улица Дмитрия Рябинкина, дом 13   \n",
       "15017                     город Москва, поселение Щаповское, улица Евгения Родионова, владение 1   \n",
       "15027         город Москва, поселение Первомайское, деревня Фоминское, Лесная улица, владение 14   \n",
       "\n",
       "       number                                                   street  \\\n",
       "19         20                                    Филипповский переулок   \n",
       "61         90                                         Бабаевская улица   \n",
       "69         60                                  1-й Балтийский переулок   \n",
       "81        180                                    улица Демьяна Бедного   \n",
       "131        45                                          Будайская улица   \n",
       "...       ...                                                      ...   \n",
       "14808      46     поселение Сосенское, деревня Сосенки, Ясеневая улица   \n",
       "14810      28  поселение Первомайское, деревня Поповка, Дорожная улица   \n",
       "14974       0           поселение Десеновское, улица Дмитрия Рябинкина   \n",
       "15017      16             поселение Щаповское, улица Евгения Родионова   \n",
       "15027      40  поселение Первомайское, деревня Фоминское, Лесная улица   \n",
       "\n",
       "                      district  \n",
       "19                 район Арбат  \n",
       "61            район Сокольники  \n",
       "69              район Аэропорт  \n",
       "81     район Хорошёво-Мнёвники  \n",
       "131            район Ростокино  \n",
       "...                        ...  \n",
       "14808                    Error  \n",
       "14810                    Error  \n",
       "14974                    Error  \n",
       "15017                    Error  \n",
       "15027                    Error  \n",
       "\n",
       "[570 rows x 8 columns]"
      ]
     },
     "execution_count": 36,
     "metadata": {},
     "output_type": "execute_result"
    }
   ],
   "source": [
    "# вывожу записанный файл с районами\n",
    "spreadsheet_id_2 = '' # убрала ссылку на файл\n",
    "file_name_2 = 'https://docs.google.com/spreadsheets/d/{}/export?format=csv'.format(spreadsheet_id_2)\n",
    "r = requests.get(file_name_2)\n",
    "data_one_object_with_district = pd.read_csv(BytesIO(r.content), index_col=0)\n",
    "data_one_object_with_district"
   ]
  },
  {
   "cell_type": "code",
   "execution_count": 37,
   "metadata": {},
   "outputs": [
    {
     "data": {
      "image/png": "[encoded data removed]",
      "text/plain": [
       "<Figure size 864x432 with 1 Axes>"
      ]
     },
     "metadata": {
      "needs_background": "light"
     },
     "output_type": "display_data"
    }
   ],
   "source": [
    "data_one_object_with_district_top = data_one_object_with_district.groupby('district').agg(count_object=('id','count')).sort_values(by='count_object', ascending=False).reset_index().query('district != \"Error\"').head(10)\n",
    "\n",
    "ax = data_one_object_with_district_top.plot(kind='barh', x='district', figsize=(12,6), legend=None)\n",
    "ax.invert_yaxis()\n",
    "ax.set_title('Топ-10 районов с самыми непопулярными улицами') \n",
    "ax.set_ylabel('Районы Москвы')\n",
    "ax.set_xlabel(\"Количество улиц\")\n",
    "for i, v in enumerate(data_one_object_with_district_top['count_object']):\n",
    "    ax.text(v + .5, i + .25, str(v))"
   ]
  },
  {
   "cell_type": "markdown",
   "metadata": {},
   "source": [
    "Самые непопулярные районы: Таганский, Хамовники и Басманский."
   ]
  },
  {
   "cell_type": "markdown",
   "metadata": {},
   "source": [
    "### Распределение количества посадочных мест для улиц с большим количеством объектов общественного питания"
   ]
  },
  {
   "cell_type": "code",
   "execution_count": 38,
   "metadata": {},
   "outputs": [
    {
     "data": {
      "text/html": [
       "<div>\n",
       "<style scoped>\n",
       "    .dataframe tbody tr th:only-of-type {\n",
       "        vertical-align: middle;\n",
       "    }\n",
       "\n",
       "    .dataframe tbody tr th {\n",
       "        vertical-align: top;\n",
       "    }\n",
       "\n",
       "    .dataframe thead th {\n",
       "        text-align: right;\n",
       "    }\n",
       "</style>\n",
       "<table border=\"1\" class=\"dataframe\">\n",
       "  <thead>\n",
       "    <tr style=\"text-align: right;\">\n",
       "      <th></th>\n",
       "      <th>mean_number</th>\n",
       "    </tr>\n",
       "    <tr>\n",
       "      <th>street</th>\n",
       "      <th></th>\n",
       "    </tr>\n",
       "  </thead>\n",
       "  <tbody>\n",
       "    <tr>\n",
       "      <td>Кутузовский проспект</td>\n",
       "      <td>85</td>\n",
       "    </tr>\n",
       "    <tr>\n",
       "      <td>проспект Вернадского</td>\n",
       "      <td>68</td>\n",
       "    </tr>\n",
       "    <tr>\n",
       "      <td>Ленинский проспект</td>\n",
       "      <td>63</td>\n",
       "    </tr>\n",
       "    <tr>\n",
       "      <td>проспект Мира</td>\n",
       "      <td>62</td>\n",
       "    </tr>\n",
       "    <tr>\n",
       "      <td>Кировоградская улица</td>\n",
       "      <td>59</td>\n",
       "    </tr>\n",
       "    <tr>\n",
       "      <td>Каширское шоссе</td>\n",
       "      <td>55</td>\n",
       "    </tr>\n",
       "    <tr>\n",
       "      <td>Варшавское шоссе</td>\n",
       "      <td>52</td>\n",
       "    </tr>\n",
       "    <tr>\n",
       "      <td>Ленинградский проспект</td>\n",
       "      <td>52</td>\n",
       "    </tr>\n",
       "    <tr>\n",
       "      <td>Профсоюзная улица</td>\n",
       "      <td>46</td>\n",
       "    </tr>\n",
       "    <tr>\n",
       "      <td>Пресненская набережная</td>\n",
       "      <td>45</td>\n",
       "    </tr>\n",
       "  </tbody>\n",
       "</table>\n",
       "</div>"
      ],
      "text/plain": [
       "                        mean_number\n",
       "street                             \n",
       "Кутузовский проспект             85\n",
       "проспект Вернадского             68\n",
       "Ленинский проспект               63\n",
       "проспект Мира                    62\n",
       "Кировоградская улица             59\n",
       "Каширское шоссе                  55\n",
       "Варшавское шоссе                 52\n",
       "Ленинградский проспект           52\n",
       "Профсоюзная улица                46\n",
       "Пресненская набережная           45"
      ]
     },
     "execution_count": 38,
     "metadata": {},
     "output_type": "execute_result"
    }
   ],
   "source": [
    "data_with_district_mean_number = data_with_district.groupby('street').agg(mean_number=('number','mean')).sort_values(by='mean_number', ascending=False)\n",
    "data_with_district_mean_number['mean_number'] = data_with_district_mean_number['mean_number'].astype('int')\n",
    "data_with_district_mean_number"
   ]
  },
  {
   "cell_type": "code",
   "execution_count": 39,
   "metadata": {},
   "outputs": [
    {
     "data": {
      "image/png": "[encoded data removed]",
      "text/plain": [
       "<Figure size 864x432 with 1 Axes>"
      ]
     },
     "metadata": {
      "needs_background": "light"
     },
     "output_type": "display_data"
    }
   ],
   "source": [
    "ax = data_with_district_mean_number.plot(kind='barh', figsize=(12,6), legend=None)\n",
    "ax.invert_yaxis()\n",
    "ax.set_title('Среднее количество посадочных мест в заведениях на самых популярных улицах') \n",
    "ax.set_ylabel('Улицы Москвы')\n",
    "ax.set_xlabel(\"Количество заведений\")\n",
    "for i, v in enumerate(data_with_district_mean_number['mean_number']):\n",
    "    ax.text(v + .5, i + .25, str(v))"
   ]
  },
  {
   "cell_type": "markdown",
   "metadata": {},
   "source": [
    "В заведениях, расположенных на улицах с самым большим количеством объектов общественного питания в среднем от 45 до 85 посадочных мест."
   ]
  },
  {
   "cell_type": "markdown",
   "metadata": {},
   "source": [
    "## Вывод"
   ]
  },
  {
   "cell_type": "markdown",
   "metadata": {},
   "source": [
    "Сделайте общий вывод и дайте рекомендации о виде заведения, количестве посадочных мест, а также районе расположения. Прокомментируйте возможность развития сети"
   ]
  },
  {
   "cell_type": "markdown",
   "metadata": {},
   "source": [
    "Общий вывод:\n",
    "1. Больше всего заведений вида \"кафе\" - 6071 шт - и они составляют 39,7% от общего числа заведений. Топ-3 объектов по количеству заведений: кафе, столовые, рестораны\n",
    "2. Количество несетевых заведений в 4 раза больше, чем сетевых.\n",
    "3. Больше всего сетевых заведений вида \"кафе\" - 1396 шт - и они составляют 47,1% от общего числа заведений. Топ-3 объектов по количеству сетевых заведений: кафе, предприятия быстрого обслуживания, рестораны; в сумме дают 92% об общего числа заведений.\n",
    "4. Для сетевых объектов питания характерно большое количество заведений с небольшим количеством посадочных мест - до 200.\n",
    "5. Топ-3 по количеству посадочных мест: столовые, рестораны, буфеты.\n",
    "6. Самые популярные улицы: проспект Мира, Профсоюзная улица, Ленинградский проспект. Самый популярный с большим отрывом район для заведений: Пресненский, он почти в 2 раза популярней районов, находящихся на втором и третьем месте: Чертаново Центральное, Тропарёво-Никулино.\n",
    "7. Самые непопулярные районы: Таганский, Хамовники и Басманский.\n",
    "8. В заведениях, расположенных на улицах с самым большим количеством объектов общественного питания в среднем от 45 до 85 посадочных мест."
   ]
  },
  {
   "cell_type": "markdown",
   "metadata": {},
   "source": [
    "Рекомендации:\n",
    "1. Вид объекта общественного питания - кафе.\n",
    "2. С количеством посадочных мест от 45 до 85.\n",
    "3. Район расположения - проспект Мира, Пресненский район.\n",
    "4. Возможность развития сети есть, можно открыть такие же по виду и количеству посадочных мест заведения в районе Чертаново Центральное и Тропарёво-Никулино."
   ]
  },
  {
   "cell_type": "markdown",
   "metadata": {},
   "source": [
    "## Презентация"
   ]
  },
  {
   "cell_type": "markdown",
   "metadata": {},
   "source": [
    "Презентация: https://disk.yandex.ru/i/60OEip1cGymXDg"
   ]
  }
 ],
 "metadata": {
  "ExecuteTimeLog": [
   {
    "duration": 1597,
    "start_time": "2022-01-05T16:35:35.708Z"
   },
   {
    "duration": 3,
    "start_time": "2022-01-05T16:35:42.288Z"
   },
   {
    "duration": 5,
    "start_time": "2022-01-05T16:36:06.361Z"
   },
   {
    "duration": 72,
    "start_time": "2022-01-05T16:36:37.845Z"
   },
   {
    "duration": 13,
    "start_time": "2022-01-05T16:37:16.915Z"
   },
   {
    "duration": 11,
    "start_time": "2022-01-05T17:05:02.734Z"
   },
   {
    "duration": 24,
    "start_time": "2022-01-05T17:05:20.480Z"
   },
   {
    "duration": 10,
    "start_time": "2022-01-05T17:13:53.725Z"
   },
   {
    "duration": 20,
    "start_time": "2022-01-05T17:14:35.577Z"
   },
   {
    "duration": 141,
    "start_time": "2022-01-05T17:14:44.845Z"
   },
   {
    "duration": 23,
    "start_time": "2022-01-05T17:14:48.949Z"
   },
   {
    "duration": 22,
    "start_time": "2022-01-05T17:14:57.008Z"
   },
   {
    "duration": 24,
    "start_time": "2022-01-05T17:16:33.070Z"
   },
   {
    "duration": 406,
    "start_time": "2022-01-05T17:22:47.258Z"
   },
   {
    "duration": 324,
    "start_time": "2022-01-05T17:22:58.002Z"
   },
   {
    "duration": 9,
    "start_time": "2022-01-05T17:24:57.401Z"
   },
   {
    "duration": 22,
    "start_time": "2022-01-05T17:25:20.134Z"
   },
   {
    "duration": 286,
    "start_time": "2022-01-05T17:26:07.850Z"
   },
   {
    "duration": 21,
    "start_time": "2022-01-05T17:30:16.027Z"
   },
   {
    "duration": 37,
    "start_time": "2022-01-05T17:30:27.016Z"
   },
   {
    "duration": 36,
    "start_time": "2022-01-05T17:30:35.052Z"
   },
   {
    "duration": 344,
    "start_time": "2022-01-05T17:31:21.809Z"
   },
   {
    "duration": 342,
    "start_time": "2022-01-05T17:31:45.372Z"
   },
   {
    "duration": 342,
    "start_time": "2022-01-05T17:32:34.589Z"
   },
   {
    "duration": 350,
    "start_time": "2022-01-05T17:32:43.189Z"
   },
   {
    "duration": 327,
    "start_time": "2022-01-05T17:32:47.401Z"
   },
   {
    "duration": 64,
    "start_time": "2022-01-05T17:32:52.828Z"
   },
   {
    "duration": 65,
    "start_time": "2022-01-05T17:34:26.923Z"
   },
   {
    "duration": 65,
    "start_time": "2022-01-05T17:34:32.893Z"
   },
   {
    "duration": 69,
    "start_time": "2022-01-05T17:34:38.729Z"
   },
   {
    "duration": 4,
    "start_time": "2022-01-05T17:39:25.445Z"
   },
   {
    "duration": 69,
    "start_time": "2022-01-05T17:39:25.455Z"
   },
   {
    "duration": 11,
    "start_time": "2022-01-05T17:39:25.526Z"
   },
   {
    "duration": 13,
    "start_time": "2022-01-05T17:39:25.540Z"
   },
   {
    "duration": 22,
    "start_time": "2022-01-05T17:39:25.556Z"
   },
   {
    "duration": 58,
    "start_time": "2022-01-05T17:39:25.580Z"
   },
   {
    "duration": 40,
    "start_time": "2022-01-05T17:39:25.640Z"
   },
   {
    "duration": 57,
    "start_time": "2022-01-05T17:39:25.683Z"
   },
   {
    "duration": 70,
    "start_time": "2022-01-05T17:39:34.614Z"
   },
   {
    "duration": 69,
    "start_time": "2022-01-05T17:40:06.181Z"
   },
   {
    "duration": 73,
    "start_time": "2022-01-05T17:40:13.084Z"
   },
   {
    "duration": 69,
    "start_time": "2022-01-05T17:40:18.843Z"
   },
   {
    "duration": 43,
    "start_time": "2022-01-05T17:40:39.999Z"
   },
   {
    "duration": 51,
    "start_time": "2022-01-05T17:40:46.803Z"
   },
   {
    "duration": 336,
    "start_time": "2022-01-05T17:41:17.028Z"
   },
   {
    "duration": -60,
    "start_time": "2022-01-05T17:41:37.464Z"
   },
   {
    "duration": 37,
    "start_time": "2022-01-05T17:50:12.461Z"
   },
   {
    "duration": 26,
    "start_time": "2022-01-05T17:54:31.537Z"
   },
   {
    "duration": 34,
    "start_time": "2022-01-05T17:54:57.107Z"
   },
   {
    "duration": 3,
    "start_time": "2022-01-05T17:58:26.184Z"
   },
   {
    "duration": 68,
    "start_time": "2022-01-05T17:58:26.193Z"
   },
   {
    "duration": 12,
    "start_time": "2022-01-05T17:58:26.264Z"
   },
   {
    "duration": 10,
    "start_time": "2022-01-05T17:58:26.279Z"
   },
   {
    "duration": 47,
    "start_time": "2022-01-05T17:58:26.292Z"
   },
   {
    "duration": 19,
    "start_time": "2022-01-05T17:58:26.341Z"
   },
   {
    "duration": 23,
    "start_time": "2022-01-05T17:58:26.362Z"
   },
   {
    "duration": 64,
    "start_time": "2022-01-05T17:58:26.387Z"
   },
   {
    "duration": 11,
    "start_time": "2022-01-05T17:59:13.800Z"
   },
   {
    "duration": 291,
    "start_time": "2022-01-05T18:00:55.707Z"
   },
   {
    "duration": 15,
    "start_time": "2022-01-05T18:01:10.912Z"
   },
   {
    "duration": 28,
    "start_time": "2022-01-05T18:01:28.185Z"
   },
   {
    "duration": 332,
    "start_time": "2022-01-05T18:03:59.062Z"
   },
   {
    "duration": 281,
    "start_time": "2022-01-05T18:04:45.527Z"
   },
   {
    "duration": 13,
    "start_time": "2022-01-05T18:05:11.890Z"
   },
   {
    "duration": 101,
    "start_time": "2022-01-05T18:05:31.107Z"
   },
   {
    "duration": 14,
    "start_time": "2022-01-05T18:05:40.586Z"
   },
   {
    "duration": 88,
    "start_time": "2022-01-05T18:05:47.327Z"
   },
   {
    "duration": 15,
    "start_time": "2022-01-05T18:05:57.885Z"
   },
   {
    "duration": 302,
    "start_time": "2022-01-05T18:08:07.039Z"
   },
   {
    "duration": 21,
    "start_time": "2022-01-05T18:08:35.045Z"
   },
   {
    "duration": 31,
    "start_time": "2022-01-05T18:08:49.458Z"
   },
   {
    "duration": 25,
    "start_time": "2022-01-05T18:08:55.680Z"
   },
   {
    "duration": 318,
    "start_time": "2022-01-05T18:09:19.751Z"
   },
   {
    "duration": 20,
    "start_time": "2022-01-05T18:09:28.600Z"
   },
   {
    "duration": 297,
    "start_time": "2022-01-05T18:09:44.971Z"
   },
   {
    "duration": 16,
    "start_time": "2022-01-05T18:09:52.822Z"
   },
   {
    "duration": 22,
    "start_time": "2022-01-05T18:10:02.766Z"
   },
   {
    "duration": 338,
    "start_time": "2022-01-05T18:10:05.148Z"
   },
   {
    "duration": 318,
    "start_time": "2022-01-05T18:10:18.116Z"
   },
   {
    "duration": 7208,
    "start_time": "2022-01-05T18:10:35.279Z"
   },
   {
    "duration": 300,
    "start_time": "2022-01-05T18:11:10.988Z"
   },
   {
    "duration": 535,
    "start_time": "2022-01-05T18:11:28.591Z"
   },
   {
    "duration": 392,
    "start_time": "2022-01-05T18:11:41.471Z"
   },
   {
    "duration": 291,
    "start_time": "2022-01-05T18:11:56.387Z"
   },
   {
    "duration": 287,
    "start_time": "2022-01-05T18:13:05.310Z"
   },
   {
    "duration": 353,
    "start_time": "2022-01-05T18:13:17.396Z"
   },
   {
    "duration": 206,
    "start_time": "2022-01-05T18:13:28.005Z"
   },
   {
    "duration": 272,
    "start_time": "2022-01-05T18:15:52.337Z"
   },
   {
    "duration": 291,
    "start_time": "2022-01-05T18:16:04.983Z"
   },
   {
    "duration": 397,
    "start_time": "2022-01-05T18:16:08.519Z"
   },
   {
    "duration": 303,
    "start_time": "2022-01-05T18:16:48.375Z"
   },
   {
    "duration": 297,
    "start_time": "2022-01-05T18:17:02.302Z"
   },
   {
    "duration": 306,
    "start_time": "2022-01-05T18:17:10.108Z"
   },
   {
    "duration": 308,
    "start_time": "2022-01-05T18:17:16.192Z"
   },
   {
    "duration": 311,
    "start_time": "2022-01-05T18:17:29.961Z"
   },
   {
    "duration": 323,
    "start_time": "2022-01-05T18:17:38.566Z"
   },
   {
    "duration": 1175,
    "start_time": "2022-01-06T12:15:42.952Z"
   },
   {
    "duration": 57,
    "start_time": "2022-01-06T12:15:44.129Z"
   },
   {
    "duration": 9,
    "start_time": "2022-01-06T12:15:44.188Z"
   },
   {
    "duration": 18,
    "start_time": "2022-01-06T12:15:44.199Z"
   },
   {
    "duration": 20,
    "start_time": "2022-01-06T12:15:44.219Z"
   },
   {
    "duration": 29,
    "start_time": "2022-01-06T12:15:44.240Z"
   },
   {
    "duration": 17,
    "start_time": "2022-01-06T12:15:44.271Z"
   },
   {
    "duration": 22,
    "start_time": "2022-01-06T12:15:44.290Z"
   },
   {
    "duration": 12,
    "start_time": "2022-01-06T12:15:44.314Z"
   },
   {
    "duration": 225,
    "start_time": "2022-01-06T12:15:44.328Z"
   },
   {
    "duration": 199,
    "start_time": "2022-01-06T12:15:54.874Z"
   },
   {
    "duration": 204,
    "start_time": "2022-01-06T12:16:08.891Z"
   },
   {
    "duration": 188,
    "start_time": "2022-01-06T12:16:43.558Z"
   },
   {
    "duration": 191,
    "start_time": "2022-01-06T12:16:50.322Z"
   },
   {
    "duration": 207,
    "start_time": "2022-01-06T12:17:14.435Z"
   },
   {
    "duration": 208,
    "start_time": "2022-01-06T12:17:22.859Z"
   },
   {
    "duration": 607,
    "start_time": "2022-01-06T12:18:05.838Z"
   },
   {
    "duration": 3,
    "start_time": "2022-01-06T12:19:02.683Z"
   },
   {
    "duration": 551,
    "start_time": "2022-01-06T12:19:08.006Z"
   },
   {
    "duration": 538,
    "start_time": "2022-01-06T12:19:15.580Z"
   },
   {
    "duration": 563,
    "start_time": "2022-01-06T12:19:36.624Z"
   },
   {
    "duration": 3979,
    "start_time": "2022-01-06T12:20:53.074Z"
   },
   {
    "duration": 694,
    "start_time": "2022-01-06T12:21:05.104Z"
   },
   {
    "duration": 418,
    "start_time": "2022-01-06T12:21:14.090Z"
   },
   {
    "duration": 373,
    "start_time": "2022-01-06T12:21:21.241Z"
   },
   {
    "duration": 437,
    "start_time": "2022-01-06T12:21:30.796Z"
   },
   {
    "duration": 365,
    "start_time": "2022-01-06T12:21:38.984Z"
   },
   {
    "duration": 389,
    "start_time": "2022-01-06T12:21:45.197Z"
   },
   {
    "duration": 508,
    "start_time": "2022-01-06T12:21:52.161Z"
   },
   {
    "duration": 384,
    "start_time": "2022-01-06T12:22:06.708Z"
   },
   {
    "duration": 229,
    "start_time": "2022-01-06T12:22:14.281Z"
   },
   {
    "duration": 252,
    "start_time": "2022-01-06T12:22:21.283Z"
   },
   {
    "duration": 372,
    "start_time": "2022-01-06T12:24:09.771Z"
   },
   {
    "duration": 243,
    "start_time": "2022-01-06T12:24:24.475Z"
   },
   {
    "duration": 254,
    "start_time": "2022-01-06T12:25:38.346Z"
   },
   {
    "duration": 248,
    "start_time": "2022-01-06T12:25:43.197Z"
   },
   {
    "duration": 338,
    "start_time": "2022-01-06T12:25:51.527Z"
   },
   {
    "duration": 187,
    "start_time": "2022-01-06T12:27:46.774Z"
   },
   {
    "duration": 183,
    "start_time": "2022-01-06T12:27:59.288Z"
   },
   {
    "duration": 657,
    "start_time": "2022-01-06T12:29:13.432Z"
   },
   {
    "duration": 202,
    "start_time": "2022-01-06T12:29:36.189Z"
   },
   {
    "duration": 492,
    "start_time": "2022-01-06T12:30:00.701Z"
   },
   {
    "duration": 302,
    "start_time": "2022-01-06T12:30:07.287Z"
   },
   {
    "duration": 219,
    "start_time": "2022-01-06T12:30:34.943Z"
   },
   {
    "duration": 212,
    "start_time": "2022-01-06T12:31:11.448Z"
   },
   {
    "duration": 86,
    "start_time": "2022-01-06T12:32:01.087Z"
   },
   {
    "duration": 104,
    "start_time": "2022-01-06T12:32:22.305Z"
   },
   {
    "duration": 184,
    "start_time": "2022-01-06T12:32:47.688Z"
   },
   {
    "duration": 14,
    "start_time": "2022-01-06T12:33:52.680Z"
   },
   {
    "duration": 131,
    "start_time": "2022-01-06T12:34:25.071Z"
   },
   {
    "duration": 129,
    "start_time": "2022-01-06T12:34:47.868Z"
   },
   {
    "duration": 132,
    "start_time": "2022-01-06T12:35:10.994Z"
   },
   {
    "duration": 135,
    "start_time": "2022-01-06T12:35:16.109Z"
   },
   {
    "duration": 202,
    "start_time": "2022-01-06T12:36:23.332Z"
   },
   {
    "duration": 30,
    "start_time": "2022-01-06T12:37:58.820Z"
   },
   {
    "duration": 193,
    "start_time": "2022-01-06T12:39:02.413Z"
   },
   {
    "duration": 193,
    "start_time": "2022-01-06T12:39:11.381Z"
   },
   {
    "duration": 192,
    "start_time": "2022-01-06T12:39:19.432Z"
   },
   {
    "duration": 190,
    "start_time": "2022-01-06T12:39:22.705Z"
   },
   {
    "duration": 20,
    "start_time": "2022-01-06T12:42:18.044Z"
   },
   {
    "duration": 209,
    "start_time": "2022-01-06T12:44:32.897Z"
   },
   {
    "duration": 205,
    "start_time": "2022-01-06T12:44:44.705Z"
   },
   {
    "duration": 412,
    "start_time": "2022-01-06T12:45:19.384Z"
   },
   {
    "duration": 250,
    "start_time": "2022-01-06T12:45:24.799Z"
   },
   {
    "duration": 227,
    "start_time": "2022-01-06T12:45:32.481Z"
   },
   {
    "duration": 238,
    "start_time": "2022-01-06T12:45:50.504Z"
   },
   {
    "duration": 254,
    "start_time": "2022-01-06T12:45:57.161Z"
   },
   {
    "duration": 15,
    "start_time": "2022-01-06T12:49:19.312Z"
   },
   {
    "duration": 13,
    "start_time": "2022-01-06T12:49:23.654Z"
   },
   {
    "duration": 266,
    "start_time": "2022-01-06T12:50:01.076Z"
   },
   {
    "duration": 289,
    "start_time": "2022-01-06T12:50:06.598Z"
   },
   {
    "duration": 279,
    "start_time": "2022-01-06T12:50:11.217Z"
   },
   {
    "duration": 263,
    "start_time": "2022-01-06T12:50:36.025Z"
   },
   {
    "duration": 13,
    "start_time": "2022-01-06T12:50:40.284Z"
   },
   {
    "duration": 19,
    "start_time": "2022-01-06T12:51:18.380Z"
   },
   {
    "duration": 15,
    "start_time": "2022-01-06T12:51:22.613Z"
   },
   {
    "duration": 290,
    "start_time": "2022-01-06T12:51:32.036Z"
   },
   {
    "duration": 16,
    "start_time": "2022-01-06T12:51:38.780Z"
   },
   {
    "duration": 245,
    "start_time": "2022-01-06T12:51:57.762Z"
   },
   {
    "duration": 15,
    "start_time": "2022-01-06T12:52:06.183Z"
   },
   {
    "duration": 243,
    "start_time": "2022-01-06T12:52:14.051Z"
   },
   {
    "duration": 6,
    "start_time": "2022-01-06T12:54:00.863Z"
   },
   {
    "duration": 8,
    "start_time": "2022-01-06T12:54:09.123Z"
   },
   {
    "duration": 17,
    "start_time": "2022-01-06T12:54:18.324Z"
   },
   {
    "duration": 17,
    "start_time": "2022-01-06T12:55:50.539Z"
   },
   {
    "duration": 18,
    "start_time": "2022-01-06T12:55:55.893Z"
   },
   {
    "duration": 17,
    "start_time": "2022-01-06T12:56:04.324Z"
   },
   {
    "duration": 135,
    "start_time": "2022-01-06T12:56:08.921Z"
   },
   {
    "duration": 15,
    "start_time": "2022-01-06T12:56:38.172Z"
   },
   {
    "duration": 14,
    "start_time": "2022-01-06T12:56:40.799Z"
   },
   {
    "duration": 13,
    "start_time": "2022-01-06T12:56:54.607Z"
   },
   {
    "duration": 19,
    "start_time": "2022-01-06T12:57:10.257Z"
   },
   {
    "duration": 19,
    "start_time": "2022-01-06T12:57:17.451Z"
   },
   {
    "duration": 278,
    "start_time": "2022-01-06T12:59:26.531Z"
   },
   {
    "duration": 15,
    "start_time": "2022-01-06T12:59:35.734Z"
   },
   {
    "duration": 14,
    "start_time": "2022-01-06T12:59:44.817Z"
   },
   {
    "duration": 11,
    "start_time": "2022-01-06T13:00:47.871Z"
   },
   {
    "duration": 15,
    "start_time": "2022-01-06T13:00:52.677Z"
   },
   {
    "duration": 19,
    "start_time": "2022-01-06T13:01:25.259Z"
   },
   {
    "duration": 251,
    "start_time": "2022-01-06T13:01:30.075Z"
   },
   {
    "duration": 219,
    "start_time": "2022-01-06T13:02:40.236Z"
   },
   {
    "duration": 211,
    "start_time": "2022-01-06T13:02:54.258Z"
   },
   {
    "duration": 16,
    "start_time": "2022-01-06T13:03:41.575Z"
   },
   {
    "duration": 216,
    "start_time": "2022-01-06T13:03:47.177Z"
   },
   {
    "duration": 5,
    "start_time": "2022-01-06T13:05:14.314Z"
   },
   {
    "duration": 274,
    "start_time": "2022-01-06T13:05:32.435Z"
   },
   {
    "duration": 254,
    "start_time": "2022-01-06T13:05:38.748Z"
   },
   {
    "duration": 335,
    "start_time": "2022-01-06T13:05:46.707Z"
   },
   {
    "duration": 7,
    "start_time": "2022-01-06T13:06:13.155Z"
   },
   {
    "duration": 7,
    "start_time": "2022-01-06T13:06:15.976Z"
   },
   {
    "duration": 7,
    "start_time": "2022-01-06T13:06:53.737Z"
   },
   {
    "duration": 248,
    "start_time": "2022-01-06T13:07:31.406Z"
   },
   {
    "duration": 6,
    "start_time": "2022-01-06T13:07:59.469Z"
   },
   {
    "duration": 299,
    "start_time": "2022-01-06T13:08:08.686Z"
   },
   {
    "duration": 6,
    "start_time": "2022-01-06T13:08:13.777Z"
   },
   {
    "duration": 6,
    "start_time": "2022-01-06T13:08:34.100Z"
   },
   {
    "duration": 4,
    "start_time": "2022-01-06T13:08:38.708Z"
   },
   {
    "duration": 4,
    "start_time": "2022-01-06T13:08:44.030Z"
   },
   {
    "duration": 7,
    "start_time": "2022-01-06T13:08:49.326Z"
   },
   {
    "duration": 4,
    "start_time": "2022-01-06T13:09:58.677Z"
   },
   {
    "duration": 5,
    "start_time": "2022-01-06T13:10:04.840Z"
   },
   {
    "duration": 8,
    "start_time": "2022-01-06T13:10:12.374Z"
   },
   {
    "duration": 6,
    "start_time": "2022-01-06T13:11:44.468Z"
   },
   {
    "duration": 5,
    "start_time": "2022-01-06T13:11:50.521Z"
   },
   {
    "duration": 4,
    "start_time": "2022-01-06T13:11:54.701Z"
   },
   {
    "duration": 3,
    "start_time": "2022-01-06T13:12:01.468Z"
   },
   {
    "duration": 62,
    "start_time": "2022-01-06T13:12:01.473Z"
   },
   {
    "duration": 8,
    "start_time": "2022-01-06T13:12:01.537Z"
   },
   {
    "duration": 17,
    "start_time": "2022-01-06T13:12:01.547Z"
   },
   {
    "duration": 19,
    "start_time": "2022-01-06T13:12:01.566Z"
   },
   {
    "duration": 14,
    "start_time": "2022-01-06T13:12:01.586Z"
   },
   {
    "duration": 34,
    "start_time": "2022-01-06T13:12:01.603Z"
   },
   {
    "duration": 45,
    "start_time": "2022-01-06T13:12:01.640Z"
   },
   {
    "duration": 15,
    "start_time": "2022-01-06T13:12:01.687Z"
   },
   {
    "duration": 228,
    "start_time": "2022-01-06T13:12:01.704Z"
   },
   {
    "duration": 27,
    "start_time": "2022-01-06T13:12:01.934Z"
   },
   {
    "duration": 161,
    "start_time": "2022-01-06T13:12:01.964Z"
   },
   {
    "duration": 17,
    "start_time": "2022-01-06T13:12:02.127Z"
   },
   {
    "duration": 208,
    "start_time": "2022-01-06T13:12:02.146Z"
   },
   {
    "duration": 21,
    "start_time": "2022-01-06T13:12:02.356Z"
   },
   {
    "duration": 284,
    "start_time": "2022-01-06T13:12:02.379Z"
   },
   {
    "duration": 15,
    "start_time": "2022-01-06T13:12:02.664Z"
   },
   {
    "duration": 233,
    "start_time": "2022-01-06T13:12:02.681Z"
   },
   {
    "duration": 5,
    "start_time": "2022-01-06T13:12:02.916Z"
   },
   {
    "duration": 8,
    "start_time": "2022-01-06T13:12:06.362Z"
   },
   {
    "duration": 4,
    "start_time": "2022-01-06T13:12:27.316Z"
   },
   {
    "duration": 247,
    "start_time": "2022-01-06T13:12:48.771Z"
   },
   {
    "duration": 6,
    "start_time": "2022-01-06T13:12:53.300Z"
   },
   {
    "duration": 5,
    "start_time": "2022-01-06T13:13:12.571Z"
   },
   {
    "duration": 6,
    "start_time": "2022-01-06T13:15:50.869Z"
   },
   {
    "duration": 466,
    "start_time": "2022-01-06T13:18:38.712Z"
   },
   {
    "duration": 366,
    "start_time": "2022-01-06T13:19:01.036Z"
   },
   {
    "duration": 300,
    "start_time": "2022-01-06T13:20:03.585Z"
   },
   {
    "duration": 250,
    "start_time": "2022-01-06T13:20:11.472Z"
   },
   {
    "duration": 426,
    "start_time": "2022-01-06T13:20:29.709Z"
   },
   {
    "duration": 255,
    "start_time": "2022-01-06T13:20:39.963Z"
   },
   {
    "duration": 312,
    "start_time": "2022-01-06T13:20:59.056Z"
   },
   {
    "duration": 5,
    "start_time": "2022-01-06T13:21:30.582Z"
   },
   {
    "duration": 4,
    "start_time": "2022-01-06T13:21:33.680Z"
   },
   {
    "duration": 279,
    "start_time": "2022-01-06T13:21:40.716Z"
   },
   {
    "duration": 272,
    "start_time": "2022-01-06T13:21:58.115Z"
   },
   {
    "duration": 26,
    "start_time": "2022-01-06T13:22:22.730Z"
   },
   {
    "duration": 270,
    "start_time": "2022-01-06T13:23:01.616Z"
   },
   {
    "duration": 3,
    "start_time": "2022-01-06T13:23:11.051Z"
   },
   {
    "duration": 77,
    "start_time": "2022-01-06T13:23:11.056Z"
   },
   {
    "duration": 10,
    "start_time": "2022-01-06T13:23:11.135Z"
   },
   {
    "duration": 15,
    "start_time": "2022-01-06T13:23:11.147Z"
   },
   {
    "duration": 30,
    "start_time": "2022-01-06T13:23:11.163Z"
   },
   {
    "duration": 14,
    "start_time": "2022-01-06T13:23:11.194Z"
   },
   {
    "duration": 17,
    "start_time": "2022-01-06T13:23:11.211Z"
   },
   {
    "duration": 35,
    "start_time": "2022-01-06T13:23:11.230Z"
   },
   {
    "duration": 14,
    "start_time": "2022-01-06T13:23:11.266Z"
   },
   {
    "duration": 306,
    "start_time": "2022-01-06T13:23:11.281Z"
   },
   {
    "duration": 24,
    "start_time": "2022-01-06T13:23:11.590Z"
   },
   {
    "duration": 299,
    "start_time": "2022-01-06T13:23:11.616Z"
   },
   {
    "duration": 20,
    "start_time": "2022-01-06T13:23:11.917Z"
   },
   {
    "duration": 405,
    "start_time": "2022-01-06T13:23:11.939Z"
   },
   {
    "duration": 31,
    "start_time": "2022-01-06T13:23:12.345Z"
   },
   {
    "duration": 259,
    "start_time": "2022-01-06T13:23:12.378Z"
   },
   {
    "duration": 23,
    "start_time": "2022-01-06T13:23:12.639Z"
   },
   {
    "duration": 222,
    "start_time": "2022-01-06T13:23:12.664Z"
   },
   {
    "duration": 25,
    "start_time": "2022-01-06T13:23:12.889Z"
   },
   {
    "duration": 78,
    "start_time": "2022-01-06T13:24:03.892Z"
   },
   {
    "duration": 101,
    "start_time": "2022-01-06T13:24:24.113Z"
   },
   {
    "duration": 120,
    "start_time": "2022-01-06T13:25:10.191Z"
   },
   {
    "duration": 94,
    "start_time": "2022-01-06T13:25:54.493Z"
   },
   {
    "duration": 1948,
    "start_time": "2022-01-06T13:26:15.700Z"
   },
   {
    "duration": 2384,
    "start_time": "2022-01-06T13:27:12.526Z"
   },
   {
    "duration": 2045,
    "start_time": "2022-01-06T13:27:25.140Z"
   },
   {
    "duration": 2124,
    "start_time": "2022-01-06T13:27:44.093Z"
   },
   {
    "duration": 450,
    "start_time": "2022-01-06T13:32:34.295Z"
   },
   {
    "duration": 440,
    "start_time": "2022-01-06T13:32:44.735Z"
   },
   {
    "duration": 450,
    "start_time": "2022-01-06T13:32:53.746Z"
   },
   {
    "duration": 471,
    "start_time": "2022-01-06T13:33:00.358Z"
   },
   {
    "duration": 499,
    "start_time": "2022-01-06T13:33:04.810Z"
   },
   {
    "duration": 924,
    "start_time": "2022-01-06T13:33:29.933Z"
   },
   {
    "duration": 1999,
    "start_time": "2022-01-06T13:33:43.045Z"
   },
   {
    "duration": 471,
    "start_time": "2022-01-06T13:34:00.831Z"
   },
   {
    "duration": 470,
    "start_time": "2022-01-06T13:37:58.681Z"
   },
   {
    "duration": 2061,
    "start_time": "2022-01-06T13:38:09.816Z"
   },
   {
    "duration": 1867,
    "start_time": "2022-01-06T13:38:44.756Z"
   },
   {
    "duration": 2355,
    "start_time": "2022-01-06T13:39:15.483Z"
   },
   {
    "duration": 297,
    "start_time": "2022-01-06T13:39:29.017Z"
   },
   {
    "duration": 2190,
    "start_time": "2022-01-06T13:39:46.489Z"
   },
   {
    "duration": 455,
    "start_time": "2022-01-06T13:40:14.126Z"
   },
   {
    "duration": 1982,
    "start_time": "2022-01-06T13:40:29.424Z"
   },
   {
    "duration": 12,
    "start_time": "2022-01-06T13:42:04.438Z"
   },
   {
    "duration": 3,
    "start_time": "2022-01-06T13:42:56.322Z"
   },
   {
    "duration": 304,
    "start_time": "2022-01-06T13:46:16.813Z"
   },
   {
    "duration": 12,
    "start_time": "2022-01-06T13:46:34.364Z"
   },
   {
    "duration": 270,
    "start_time": "2022-01-06T13:47:15.160Z"
   },
   {
    "duration": 4,
    "start_time": "2022-01-06T13:47:30.150Z"
   },
   {
    "duration": 3,
    "start_time": "2022-01-06T13:47:47.712Z"
   },
   {
    "duration": 4,
    "start_time": "2022-01-06T13:47:55.444Z"
   },
   {
    "duration": 3,
    "start_time": "2022-01-06T13:48:20.162Z"
   },
   {
    "duration": 3,
    "start_time": "2022-01-06T13:48:46.048Z"
   },
   {
    "duration": 4,
    "start_time": "2022-01-06T13:49:09.041Z"
   },
   {
    "duration": 4,
    "start_time": "2022-01-06T13:51:35.548Z"
   },
   {
    "duration": 3,
    "start_time": "2022-01-06T13:51:44.731Z"
   },
   {
    "duration": 4,
    "start_time": "2022-01-06T13:51:56.184Z"
   },
   {
    "duration": 3,
    "start_time": "2022-01-06T13:52:37.904Z"
   },
   {
    "duration": 199,
    "start_time": "2022-01-06T13:52:56.837Z"
   },
   {
    "duration": 3,
    "start_time": "2022-01-06T13:54:26.982Z"
   },
   {
    "duration": 4,
    "start_time": "2022-01-06T13:55:12.757Z"
   },
   {
    "duration": 3,
    "start_time": "2022-01-06T13:55:22.527Z"
   },
   {
    "duration": 3,
    "start_time": "2022-01-06T13:55:43.069Z"
   },
   {
    "duration": 251,
    "start_time": "2022-01-06T13:56:03.153Z"
   },
   {
    "duration": 257,
    "start_time": "2022-01-06T13:56:19.604Z"
   },
   {
    "duration": 4,
    "start_time": "2022-01-06T13:57:35.161Z"
   },
   {
    "duration": 257,
    "start_time": "2022-01-06T13:57:43.831Z"
   },
   {
    "duration": 4,
    "start_time": "2022-01-06T13:57:49.541Z"
   },
   {
    "duration": 251,
    "start_time": "2022-01-06T13:58:05.586Z"
   },
   {
    "duration": 4,
    "start_time": "2022-01-06T13:58:33.816Z"
   },
   {
    "duration": 367,
    "start_time": "2022-01-06T13:58:50.169Z"
   },
   {
    "duration": 4,
    "start_time": "2022-01-06T14:03:06.001Z"
   },
   {
    "duration": 13,
    "start_time": "2022-01-06T14:03:50.625Z"
   },
   {
    "duration": 285,
    "start_time": "2022-01-06T14:11:20.326Z"
   },
   {
    "duration": 3,
    "start_time": "2022-01-06T14:12:03.745Z"
   },
   {
    "duration": 4,
    "start_time": "2022-01-06T14:12:43.759Z"
   },
   {
    "duration": 7522,
    "start_time": "2022-01-06T14:12:57.432Z"
   },
   {
    "duration": 8008,
    "start_time": "2022-01-06T14:13:16.856Z"
   },
   {
    "duration": 305,
    "start_time": "2022-01-06T14:17:11.670Z"
   },
   {
    "duration": 8,
    "start_time": "2022-01-06T14:17:29.396Z"
   },
   {
    "duration": 7,
    "start_time": "2022-01-06T14:17:48.549Z"
   },
   {
    "duration": 13,
    "start_time": "2022-01-06T14:17:58.530Z"
   },
   {
    "duration": 6,
    "start_time": "2022-01-06T14:18:08.560Z"
   },
   {
    "duration": 11,
    "start_time": "2022-01-06T14:18:30.048Z"
   },
   {
    "duration": 580,
    "start_time": "2022-01-06T14:20:35.614Z"
   },
   {
    "duration": 1831,
    "start_time": "2022-01-06T14:23:29.260Z"
   },
   {
    "duration": 51,
    "start_time": "2022-01-06T14:23:45.924Z"
   },
   {
    "duration": 1148,
    "start_time": "2022-01-06T14:24:20.223Z"
   },
   {
    "duration": 49,
    "start_time": "2022-01-06T14:24:28.922Z"
   },
   {
    "duration": 1293,
    "start_time": "2022-01-06T14:24:48.715Z"
   },
   {
    "duration": 86,
    "start_time": "2022-01-06T14:24:55.408Z"
   },
   {
    "duration": 48,
    "start_time": "2022-01-06T14:25:11.539Z"
   },
   {
    "duration": 41,
    "start_time": "2022-01-06T14:25:19.098Z"
   },
   {
    "duration": 44,
    "start_time": "2022-01-06T14:25:26.282Z"
   },
   {
    "duration": 42,
    "start_time": "2022-01-06T14:25:48.002Z"
   },
   {
    "duration": 67,
    "start_time": "2022-01-06T14:25:52.161Z"
   },
   {
    "duration": 40,
    "start_time": "2022-01-06T14:25:56.663Z"
   },
   {
    "duration": 51,
    "start_time": "2022-01-06T14:26:02.859Z"
   },
   {
    "duration": 1287,
    "start_time": "2022-01-06T14:26:07.679Z"
   },
   {
    "duration": 54,
    "start_time": "2022-01-06T14:26:16.517Z"
   },
   {
    "duration": 51,
    "start_time": "2022-01-06T14:26:37.660Z"
   },
   {
    "duration": 44,
    "start_time": "2022-01-06T14:26:44.322Z"
   },
   {
    "duration": 51,
    "start_time": "2022-01-06T14:27:14.324Z"
   },
   {
    "duration": 51,
    "start_time": "2022-01-06T14:28:09.110Z"
   },
   {
    "duration": 115,
    "start_time": "2022-01-06T14:28:51.100Z"
   },
   {
    "duration": 54,
    "start_time": "2022-01-06T14:28:58.759Z"
   },
   {
    "duration": 50,
    "start_time": "2022-01-06T14:29:34.096Z"
   },
   {
    "duration": 51,
    "start_time": "2022-01-06T14:30:16.705Z"
   },
   {
    "duration": 52,
    "start_time": "2022-01-06T14:30:42.495Z"
   },
   {
    "duration": 50,
    "start_time": "2022-01-06T14:31:03.356Z"
   },
   {
    "duration": 50,
    "start_time": "2022-01-06T14:31:09.531Z"
   },
   {
    "duration": 1147,
    "start_time": "2022-01-06T14:31:40.558Z"
   },
   {
    "duration": 63,
    "start_time": "2022-01-06T14:31:51.803Z"
   },
   {
    "duration": 79,
    "start_time": "2022-01-06T14:32:34.884Z"
   },
   {
    "duration": 6,
    "start_time": "2022-01-06T14:35:29.935Z"
   },
   {
    "duration": 50,
    "start_time": "2022-01-06T14:35:33.477Z"
   },
   {
    "duration": 84,
    "start_time": "2022-01-06T14:35:51.984Z"
   },
   {
    "duration": 1260,
    "start_time": "2022-01-06T14:42:13.876Z"
   },
   {
    "duration": 60,
    "start_time": "2022-01-06T14:42:15.138Z"
   },
   {
    "duration": 10,
    "start_time": "2022-01-06T14:42:15.200Z"
   },
   {
    "duration": 12,
    "start_time": "2022-01-06T14:42:15.212Z"
   },
   {
    "duration": 37,
    "start_time": "2022-01-06T14:42:15.225Z"
   },
   {
    "duration": 14,
    "start_time": "2022-01-06T14:42:15.263Z"
   },
   {
    "duration": 19,
    "start_time": "2022-01-06T14:42:15.279Z"
   },
   {
    "duration": 59,
    "start_time": "2022-01-06T14:42:15.301Z"
   },
   {
    "duration": 13,
    "start_time": "2022-01-06T14:42:15.363Z"
   },
   {
    "duration": 220,
    "start_time": "2022-01-06T14:42:15.378Z"
   },
   {
    "duration": 19,
    "start_time": "2022-01-06T14:42:15.600Z"
   },
   {
    "duration": 172,
    "start_time": "2022-01-06T14:42:15.621Z"
   },
   {
    "duration": 17,
    "start_time": "2022-01-06T14:42:15.794Z"
   },
   {
    "duration": 194,
    "start_time": "2022-01-06T14:42:15.813Z"
   },
   {
    "duration": 20,
    "start_time": "2022-01-06T14:42:16.009Z"
   },
   {
    "duration": 275,
    "start_time": "2022-01-06T14:42:16.030Z"
   },
   {
    "duration": 16,
    "start_time": "2022-01-06T14:42:16.306Z"
   },
   {
    "duration": 256,
    "start_time": "2022-01-06T14:42:16.324Z"
   },
   {
    "duration": 2195,
    "start_time": "2022-01-06T14:42:16.582Z"
   },
   {
    "duration": 2,
    "start_time": "2022-01-06T14:42:18.778Z"
   },
   {
    "duration": 56,
    "start_time": "2022-01-06T14:42:18.782Z"
   },
   {
    "duration": 9,
    "start_time": "2022-01-06T14:47:15.714Z"
   },
   {
    "duration": 51,
    "start_time": "2022-01-06T14:47:19.484Z"
   },
   {
    "duration": 51,
    "start_time": "2022-01-06T14:49:30.446Z"
   },
   {
    "duration": 51,
    "start_time": "2022-01-06T14:49:40.737Z"
   },
   {
    "duration": 50,
    "start_time": "2022-01-06T14:53:14.137Z"
   },
   {
    "duration": 52,
    "start_time": "2022-01-06T14:54:23.494Z"
   },
   {
    "duration": 47,
    "start_time": "2022-01-06T14:55:29.038Z"
   },
   {
    "duration": 53,
    "start_time": "2022-01-06T14:55:34.115Z"
   },
   {
    "duration": 1260,
    "start_time": "2022-01-06T14:55:41.696Z"
   },
   {
    "duration": 53,
    "start_time": "2022-01-06T14:55:57.606Z"
   },
   {
    "duration": 81,
    "start_time": "2022-01-06T14:58:53.074Z"
   },
   {
    "duration": 86,
    "start_time": "2022-01-06T14:59:07.239Z"
   },
   {
    "duration": 81,
    "start_time": "2022-01-06T14:59:28.113Z"
   },
   {
    "duration": 84,
    "start_time": "2022-01-06T14:59:37.042Z"
   },
   {
    "duration": 82,
    "start_time": "2022-01-06T14:59:44.079Z"
   },
   {
    "duration": 173,
    "start_time": "2022-01-06T14:59:51.296Z"
   },
   {
    "duration": 89,
    "start_time": "2022-01-06T15:00:43.030Z"
   },
   {
    "duration": 81,
    "start_time": "2022-01-06T15:01:06.813Z"
   },
   {
    "duration": 84,
    "start_time": "2022-01-06T15:01:41.195Z"
   },
   {
    "duration": 500,
    "start_time": "2022-01-06T15:02:05.588Z"
   },
   {
    "duration": 100,
    "start_time": "2022-01-06T15:02:22.376Z"
   },
   {
    "duration": 80,
    "start_time": "2022-01-06T15:02:36.110Z"
   },
   {
    "duration": 79,
    "start_time": "2022-01-06T15:03:29.584Z"
   },
   {
    "duration": 1176,
    "start_time": "2022-01-06T15:04:30.006Z"
   },
   {
    "duration": 1247,
    "start_time": "2022-01-06T15:04:48.935Z"
   },
   {
    "duration": 81,
    "start_time": "2022-01-06T15:05:05.285Z"
   },
   {
    "duration": 145,
    "start_time": "2022-01-06T15:05:38.936Z"
   },
   {
    "duration": 89,
    "start_time": "2022-01-06T15:05:52.047Z"
   },
   {
    "duration": 19,
    "start_time": "2022-01-06T15:14:00.772Z"
   },
   {
    "duration": 18,
    "start_time": "2022-01-06T15:14:23.015Z"
   },
   {
    "duration": 88,
    "start_time": "2022-01-06T15:14:46.603Z"
   },
   {
    "duration": 23,
    "start_time": "2022-01-06T15:14:55.279Z"
   },
   {
    "duration": 201,
    "start_time": "2022-01-06T15:16:08.381Z"
   },
   {
    "duration": 311,
    "start_time": "2022-01-06T15:30:42.993Z"
   },
   {
    "duration": 77,
    "start_time": "2022-01-06T15:30:48.860Z"
   },
   {
    "duration": 301,
    "start_time": "2022-01-06T15:30:54.051Z"
   },
   {
    "duration": 261,
    "start_time": "2022-01-06T15:31:02.017Z"
   },
   {
    "duration": 22,
    "start_time": "2022-01-06T15:31:14.442Z"
   },
   {
    "duration": 22,
    "start_time": "2022-01-06T15:31:17.407Z"
   },
   {
    "duration": 6227,
    "start_time": "2022-01-06T15:31:31.134Z"
   },
   {
    "duration": 6796,
    "start_time": "2022-01-06T15:31:38.935Z"
   },
   {
    "duration": 7269,
    "start_time": "2022-01-06T15:32:09.045Z"
   },
   {
    "duration": 328,
    "start_time": "2022-01-06T15:32:44.142Z"
   },
   {
    "duration": 315,
    "start_time": "2022-01-06T16:17:36.873Z"
   },
   {
    "duration": 304,
    "start_time": "2022-01-06T16:17:43.601Z"
   },
   {
    "duration": 23,
    "start_time": "2022-01-06T16:17:59.772Z"
   },
   {
    "duration": 1270,
    "start_time": "2022-01-08T14:36:44.310Z"
   },
   {
    "duration": 56,
    "start_time": "2022-01-08T14:36:45.581Z"
   },
   {
    "duration": 12,
    "start_time": "2022-01-08T14:36:45.639Z"
   },
   {
    "duration": 14,
    "start_time": "2022-01-08T14:36:45.653Z"
   },
   {
    "duration": 19,
    "start_time": "2022-01-08T14:36:45.669Z"
   },
   {
    "duration": 38,
    "start_time": "2022-01-08T14:36:45.690Z"
   },
   {
    "duration": 24,
    "start_time": "2022-01-08T14:36:45.731Z"
   },
   {
    "duration": 29,
    "start_time": "2022-01-08T14:36:45.758Z"
   },
   {
    "duration": 39,
    "start_time": "2022-01-08T14:36:45.790Z"
   },
   {
    "duration": 198,
    "start_time": "2022-01-08T14:36:45.831Z"
   },
   {
    "duration": 23,
    "start_time": "2022-01-08T14:36:46.031Z"
   },
   {
    "duration": 152,
    "start_time": "2022-01-08T14:36:46.056Z"
   },
   {
    "duration": 19,
    "start_time": "2022-01-08T14:36:46.209Z"
   },
   {
    "duration": 211,
    "start_time": "2022-01-08T14:36:46.230Z"
   },
   {
    "duration": 26,
    "start_time": "2022-01-08T14:36:46.443Z"
   },
   {
    "duration": 311,
    "start_time": "2022-01-08T14:36:46.471Z"
   },
   {
    "duration": 16,
    "start_time": "2022-01-08T14:36:46.783Z"
   },
   {
    "duration": 245,
    "start_time": "2022-01-08T14:36:46.800Z"
   },
   {
    "duration": 2284,
    "start_time": "2022-01-08T14:36:47.047Z"
   },
   {
    "duration": 9,
    "start_time": "2022-01-08T14:36:49.333Z"
   },
   {
    "duration": 102,
    "start_time": "2022-01-08T14:36:49.345Z"
   },
   {
    "duration": 30,
    "start_time": "2022-01-08T14:36:49.449Z"
   },
   {
    "duration": 233,
    "start_time": "2022-01-08T14:36:49.483Z"
   },
   {
    "duration": 8,
    "start_time": "2022-01-08T14:38:05.372Z"
   },
   {
    "duration": 25,
    "start_time": "2022-01-08T14:40:51.836Z"
   },
   {
    "duration": 23,
    "start_time": "2022-01-08T14:41:27.627Z"
   },
   {
    "duration": 68,
    "start_time": "2022-01-08T15:44:07.969Z"
   },
   {
    "duration": 97,
    "start_time": "2022-01-08T15:51:25.184Z"
   },
   {
    "duration": 100,
    "start_time": "2022-01-08T15:53:12.552Z"
   },
   {
    "duration": 1620,
    "start_time": "2022-01-08T15:53:53.533Z"
   },
   {
    "duration": 3,
    "start_time": "2022-01-08T15:54:16.010Z"
   },
   {
    "duration": 54,
    "start_time": "2022-01-08T15:54:16.016Z"
   },
   {
    "duration": 6,
    "start_time": "2022-01-08T15:54:16.072Z"
   },
   {
    "duration": 9,
    "start_time": "2022-01-08T15:54:16.080Z"
   },
   {
    "duration": 14,
    "start_time": "2022-01-08T15:54:16.091Z"
   },
   {
    "duration": 5,
    "start_time": "2022-01-08T15:54:16.106Z"
   },
   {
    "duration": 25,
    "start_time": "2022-01-08T15:54:16.119Z"
   },
   {
    "duration": 117,
    "start_time": "2022-01-08T15:54:16.145Z"
   },
   {
    "duration": -59,
    "start_time": "2022-01-08T15:54:16.323Z"
   },
   {
    "duration": -61,
    "start_time": "2022-01-08T15:54:16.327Z"
   },
   {
    "duration": -62,
    "start_time": "2022-01-08T15:54:16.329Z"
   },
   {
    "duration": -63,
    "start_time": "2022-01-08T15:54:16.331Z"
   },
   {
    "duration": -64,
    "start_time": "2022-01-08T15:54:16.333Z"
   },
   {
    "duration": -66,
    "start_time": "2022-01-08T15:54:16.337Z"
   },
   {
    "duration": -67,
    "start_time": "2022-01-08T15:54:16.339Z"
   },
   {
    "duration": -68,
    "start_time": "2022-01-08T15:54:16.341Z"
   },
   {
    "duration": -69,
    "start_time": "2022-01-08T15:54:16.344Z"
   },
   {
    "duration": -70,
    "start_time": "2022-01-08T15:54:16.346Z"
   },
   {
    "duration": -74,
    "start_time": "2022-01-08T15:54:16.351Z"
   },
   {
    "duration": -77,
    "start_time": "2022-01-08T15:54:16.356Z"
   },
   {
    "duration": -79,
    "start_time": "2022-01-08T15:54:16.359Z"
   },
   {
    "duration": -80,
    "start_time": "2022-01-08T15:54:16.361Z"
   },
   {
    "duration": -80,
    "start_time": "2022-01-08T15:54:16.363Z"
   },
   {
    "duration": -81,
    "start_time": "2022-01-08T15:54:16.365Z"
   },
   {
    "duration": 3,
    "start_time": "2022-01-08T15:54:34.396Z"
   },
   {
    "duration": 48,
    "start_time": "2022-01-08T15:54:34.403Z"
   },
   {
    "duration": 9,
    "start_time": "2022-01-08T15:54:34.453Z"
   },
   {
    "duration": 7,
    "start_time": "2022-01-08T15:54:34.464Z"
   },
   {
    "duration": 13,
    "start_time": "2022-01-08T15:54:34.473Z"
   },
   {
    "duration": 6,
    "start_time": "2022-01-08T15:54:34.488Z"
   },
   {
    "duration": 21,
    "start_time": "2022-01-08T15:54:34.527Z"
   },
   {
    "duration": 21,
    "start_time": "2022-01-08T15:54:34.549Z"
   },
   {
    "duration": 10,
    "start_time": "2022-01-08T15:54:34.573Z"
   },
   {
    "duration": 187,
    "start_time": "2022-01-08T15:54:34.585Z"
   },
   {
    "duration": 15,
    "start_time": "2022-01-08T15:54:34.773Z"
   },
   {
    "duration": 128,
    "start_time": "2022-01-08T15:54:34.790Z"
   },
   {
    "duration": 19,
    "start_time": "2022-01-08T15:54:34.919Z"
   },
   {
    "duration": 173,
    "start_time": "2022-01-08T15:54:34.939Z"
   },
   {
    "duration": 21,
    "start_time": "2022-01-08T15:54:35.113Z"
   },
   {
    "duration": 243,
    "start_time": "2022-01-08T15:54:35.136Z"
   },
   {
    "duration": 12,
    "start_time": "2022-01-08T15:54:35.381Z"
   },
   {
    "duration": 203,
    "start_time": "2022-01-08T15:54:35.395Z"
   },
   {
    "duration": 1757,
    "start_time": "2022-01-08T15:54:35.599Z"
   },
   {
    "duration": 9,
    "start_time": "2022-01-08T15:54:37.358Z"
   },
   {
    "duration": 100,
    "start_time": "2022-01-08T15:54:37.368Z"
   },
   {
    "duration": 21,
    "start_time": "2022-01-08T15:54:37.470Z"
   },
   {
    "duration": 182,
    "start_time": "2022-01-08T15:54:37.494Z"
   },
   {
    "duration": 82,
    "start_time": "2022-01-08T15:54:58.559Z"
   },
   {
    "duration": 79,
    "start_time": "2022-01-08T15:55:23.293Z"
   },
   {
    "duration": 80,
    "start_time": "2022-01-08T15:55:44.214Z"
   },
   {
    "duration": 89,
    "start_time": "2022-01-08T15:56:01.653Z"
   },
   {
    "duration": 1658,
    "start_time": "2022-01-08T15:56:12.587Z"
   },
   {
    "duration": 85,
    "start_time": "2022-01-08T15:56:24.575Z"
   },
   {
    "duration": 85,
    "start_time": "2022-01-08T15:56:59.112Z"
   },
   {
    "duration": 98,
    "start_time": "2022-01-08T15:57:22.446Z"
   },
   {
    "duration": 113,
    "start_time": "2022-01-08T15:57:38.360Z"
   },
   {
    "duration": 113,
    "start_time": "2022-01-08T15:57:46.615Z"
   },
   {
    "duration": 113,
    "start_time": "2022-01-08T16:00:01.371Z"
   },
   {
    "duration": 112,
    "start_time": "2022-01-08T16:00:51.244Z"
   },
   {
    "duration": 105,
    "start_time": "2022-01-08T16:01:20.952Z"
   },
   {
    "duration": 106,
    "start_time": "2022-01-08T16:04:25.801Z"
   },
   {
    "duration": 114,
    "start_time": "2022-01-08T16:04:39.683Z"
   },
   {
    "duration": 21,
    "start_time": "2022-01-08T16:06:34.970Z"
   },
   {
    "duration": 16,
    "start_time": "2022-01-08T16:07:10.335Z"
   },
   {
    "duration": 18,
    "start_time": "2022-01-08T16:07:18.702Z"
   },
   {
    "duration": 8579,
    "start_time": "2022-01-08T16:07:30.465Z"
   },
   {
    "duration": 21,
    "start_time": "2022-01-08T16:11:45.695Z"
   },
   {
    "duration": 21,
    "start_time": "2022-01-08T16:11:58.264Z"
   },
   {
    "duration": 19,
    "start_time": "2022-01-08T16:12:12.053Z"
   },
   {
    "duration": 23,
    "start_time": "2022-01-08T16:13:45.039Z"
   },
   {
    "duration": 73,
    "start_time": "2022-01-08T16:16:18.084Z"
   },
   {
    "duration": 354,
    "start_time": "2022-01-08T16:16:29.696Z"
   },
   {
    "duration": 73,
    "start_time": "2022-01-08T16:16:37.147Z"
   },
   {
    "duration": 43,
    "start_time": "2022-01-08T16:18:05.574Z"
   },
   {
    "duration": 41,
    "start_time": "2022-01-08T16:18:09.886Z"
   },
   {
    "duration": 20,
    "start_time": "2022-01-08T16:18:14.864Z"
   },
   {
    "duration": 43,
    "start_time": "2022-01-08T16:18:19.449Z"
   },
   {
    "duration": 29,
    "start_time": "2022-01-08T16:24:10.369Z"
   },
   {
    "duration": 23,
    "start_time": "2022-01-08T16:24:24.221Z"
   },
   {
    "duration": 20,
    "start_time": "2022-01-08T16:24:37.148Z"
   },
   {
    "duration": 31,
    "start_time": "2022-01-08T16:24:41.544Z"
   },
   {
    "duration": 26,
    "start_time": "2022-01-08T16:25:26.951Z"
   },
   {
    "duration": 22,
    "start_time": "2022-01-08T16:25:53.497Z"
   },
   {
    "duration": 23,
    "start_time": "2022-01-08T16:26:06.721Z"
   },
   {
    "duration": 29,
    "start_time": "2022-01-08T16:26:12.529Z"
   },
   {
    "duration": 148,
    "start_time": "2022-01-08T16:26:29.204Z"
   },
   {
    "duration": 75,
    "start_time": "2022-01-08T16:27:50.732Z"
   },
   {
    "duration": 2,
    "start_time": "2022-01-08T16:30:21.474Z"
   },
   {
    "duration": 20,
    "start_time": "2022-01-08T16:34:03.582Z"
   },
   {
    "duration": 25,
    "start_time": "2022-01-08T16:34:09.731Z"
   },
   {
    "duration": 30,
    "start_time": "2022-01-08T16:34:41.381Z"
   },
   {
    "duration": 226,
    "start_time": "2022-01-08T16:40:03.349Z"
   },
   {
    "duration": 577,
    "start_time": "2022-01-08T16:43:36.437Z"
   },
   {
    "duration": 250,
    "start_time": "2022-01-08T16:44:02.548Z"
   },
   {
    "duration": 154,
    "start_time": "2022-01-08T16:45:59.181Z"
   },
   {
    "duration": 223,
    "start_time": "2022-01-08T16:47:09.332Z"
   },
   {
    "duration": 278,
    "start_time": "2022-01-08T16:56:32.654Z"
   },
   {
    "duration": 404,
    "start_time": "2022-01-08T16:57:08.617Z"
   },
   {
    "duration": 312,
    "start_time": "2022-01-08T17:02:01.305Z"
   },
   {
    "duration": 555,
    "start_time": "2022-01-08T17:03:41.243Z"
   },
   {
    "duration": 401,
    "start_time": "2022-01-08T17:03:49.721Z"
   },
   {
    "duration": 294,
    "start_time": "2022-01-08T17:04:18.845Z"
   },
   {
    "duration": 236,
    "start_time": "2022-01-08T17:04:43.385Z"
   },
   {
    "duration": 246,
    "start_time": "2022-01-08T17:06:20.724Z"
   },
   {
    "duration": 247,
    "start_time": "2022-01-08T17:07:18.548Z"
   },
   {
    "duration": 695,
    "start_time": "2022-01-08T17:09:09.496Z"
   },
   {
    "duration": 270,
    "start_time": "2022-01-08T17:09:21.142Z"
   },
   {
    "duration": 344,
    "start_time": "2022-01-08T17:10:32.581Z"
   },
   {
    "duration": 267,
    "start_time": "2022-01-08T17:10:51.078Z"
   },
   {
    "duration": 389,
    "start_time": "2022-01-08T17:11:22.074Z"
   },
   {
    "duration": 31,
    "start_time": "2022-01-08T17:20:50.049Z"
   },
   {
    "duration": 408,
    "start_time": "2022-01-08T17:34:28.478Z"
   },
   {
    "duration": 22,
    "start_time": "2022-01-08T17:34:44.178Z"
   },
   {
    "duration": 27,
    "start_time": "2022-01-08T17:34:59.068Z"
   },
   {
    "duration": 3112,
    "start_time": "2022-01-08T17:35:30.705Z"
   },
   {
    "duration": 700,
    "start_time": "2022-01-08T17:36:36.826Z"
   },
   {
    "duration": 253,
    "start_time": "2022-01-08T17:36:54.894Z"
   },
   {
    "duration": 603,
    "start_time": "2022-01-08T17:44:02.788Z"
   },
   {
    "duration": 235,
    "start_time": "2022-01-08T17:44:47.716Z"
   },
   {
    "duration": 270,
    "start_time": "2022-01-08T17:45:14.192Z"
   },
   {
    "duration": 3055,
    "start_time": "2022-01-08T17:46:53.217Z"
   },
   {
    "duration": 27,
    "start_time": "2022-01-08T17:48:00.645Z"
   },
   {
    "duration": 3264,
    "start_time": "2022-01-08T17:48:13.112Z"
   },
   {
    "duration": 26,
    "start_time": "2022-01-08T18:49:50.489Z"
   },
   {
    "duration": 18,
    "start_time": "2022-01-08T18:53:28.983Z"
   },
   {
    "duration": 21,
    "start_time": "2022-01-08T18:54:43.222Z"
   },
   {
    "duration": 19,
    "start_time": "2022-01-08T18:56:45.013Z"
   },
   {
    "duration": 15,
    "start_time": "2022-01-08T18:56:58.571Z"
   },
   {
    "duration": 18,
    "start_time": "2022-01-08T18:57:20.714Z"
   },
   {
    "duration": 18,
    "start_time": "2022-01-08T18:59:21.603Z"
   },
   {
    "duration": 16,
    "start_time": "2022-01-08T18:59:41.448Z"
   },
   {
    "duration": 348,
    "start_time": "2022-01-08T19:01:09.884Z"
   },
   {
    "duration": 7993,
    "start_time": "2022-01-08T19:01:30.981Z"
   },
   {
    "duration": 35,
    "start_time": "2022-01-08T19:02:09.294Z"
   },
   {
    "duration": 43,
    "start_time": "2022-01-08T19:02:33.011Z"
   },
   {
    "duration": 36,
    "start_time": "2022-01-08T19:04:52.492Z"
   },
   {
    "duration": 385,
    "start_time": "2022-01-08T19:06:40.963Z"
   },
   {
    "duration": 672,
    "start_time": "2022-01-08T19:06:49.928Z"
   },
   {
    "duration": 318,
    "start_time": "2022-01-08T19:07:40.101Z"
   },
   {
    "duration": 304,
    "start_time": "2022-01-08T19:07:48.800Z"
   },
   {
    "duration": 3,
    "start_time": "2022-01-08T19:08:09.478Z"
   },
   {
    "duration": 52,
    "start_time": "2022-01-08T19:08:12.110Z"
   },
   {
    "duration": 8,
    "start_time": "2022-01-08T19:08:16.755Z"
   },
   {
    "duration": 30,
    "start_time": "2022-01-08T19:08:21.688Z"
   },
   {
    "duration": 27,
    "start_time": "2022-01-08T19:08:26.763Z"
   },
   {
    "duration": 31,
    "start_time": "2022-01-08T19:08:33.119Z"
   },
   {
    "duration": 8,
    "start_time": "2022-01-08T19:08:43.203Z"
   },
   {
    "duration": 8,
    "start_time": "2022-01-08T19:08:47.460Z"
   },
   {
    "duration": 14,
    "start_time": "2022-01-08T19:08:50.675Z"
   },
   {
    "duration": 14,
    "start_time": "2022-01-08T19:08:54.777Z"
   },
   {
    "duration": 21,
    "start_time": "2022-01-08T19:09:14.800Z"
   },
   {
    "duration": 23,
    "start_time": "2022-01-08T19:09:22.199Z"
   },
   {
    "duration": 21,
    "start_time": "2022-01-08T19:09:27.118Z"
   },
   {
    "duration": 9,
    "start_time": "2022-01-08T19:09:31.723Z"
   },
   {
    "duration": 10,
    "start_time": "2022-01-08T19:09:36.002Z"
   },
   {
    "duration": 10,
    "start_time": "2022-01-08T19:09:39.160Z"
   },
   {
    "duration": 15,
    "start_time": "2022-01-08T19:09:45.404Z"
   },
   {
    "duration": 390,
    "start_time": "2022-01-08T19:09:48.137Z"
   },
   {
    "duration": 3,
    "start_time": "2022-01-08T19:10:13.662Z"
   },
   {
    "duration": 49,
    "start_time": "2022-01-08T19:10:15.502Z"
   },
   {
    "duration": 37,
    "start_time": "2022-01-08T19:10:22.258Z"
   },
   {
    "duration": 20,
    "start_time": "2022-01-08T19:10:24.915Z"
   },
   {
    "duration": 377,
    "start_time": "2022-01-08T19:10:27.490Z"
   },
   {
    "duration": 3,
    "start_time": "2022-01-08T19:10:44.496Z"
   },
   {
    "duration": 2,
    "start_time": "2022-01-08T19:10:48.798Z"
   },
   {
    "duration": 16,
    "start_time": "2022-01-08T19:10:51.300Z"
   },
   {
    "duration": 17,
    "start_time": "2022-01-08T19:10:55.039Z"
   },
   {
    "duration": 16,
    "start_time": "2022-01-08T19:11:11.430Z"
   },
   {
    "duration": 3,
    "start_time": "2022-01-08T19:11:16.876Z"
   },
   {
    "duration": 62,
    "start_time": "2022-01-08T19:11:19.714Z"
   },
   {
    "duration": 23,
    "start_time": "2022-01-08T19:11:24.378Z"
   },
   {
    "duration": 21,
    "start_time": "2022-01-08T19:11:26.590Z"
   },
   {
    "duration": 16,
    "start_time": "2022-01-08T19:11:29.132Z"
   },
   {
    "duration": 6,
    "start_time": "2022-01-08T19:11:50.754Z"
   },
   {
    "duration": 8,
    "start_time": "2022-01-08T19:12:02.678Z"
   },
   {
    "duration": 10,
    "start_time": "2022-01-08T19:12:07.212Z"
   },
   {
    "duration": 10,
    "start_time": "2022-01-08T19:12:16.369Z"
   },
   {
    "duration": 3,
    "start_time": "2022-01-08T19:12:26.146Z"
   },
   {
    "duration": 67,
    "start_time": "2022-01-08T19:12:28.331Z"
   },
   {
    "duration": 34,
    "start_time": "2022-01-08T19:12:34.388Z"
   },
   {
    "duration": 31,
    "start_time": "2022-01-08T19:12:36.960Z"
   },
   {
    "duration": 34,
    "start_time": "2022-01-08T19:12:39.283Z"
   },
   {
    "duration": 329,
    "start_time": "2022-01-08T19:13:23.410Z"
   },
   {
    "duration": 20,
    "start_time": "2022-01-08T19:13:28.084Z"
   },
   {
    "duration": 12,
    "start_time": "2022-01-08T19:13:30.468Z"
   },
   {
    "duration": 27,
    "start_time": "2022-01-08T19:16:55.822Z"
   },
   {
    "duration": 10,
    "start_time": "2022-01-08T19:17:00.459Z"
   },
   {
    "duration": 9,
    "start_time": "2022-01-08T19:17:06.555Z"
   },
   {
    "duration": 9,
    "start_time": "2022-01-08T19:17:13.867Z"
   },
   {
    "duration": 47,
    "start_time": "2022-01-08T19:17:54.831Z"
   },
   {
    "duration": 23,
    "start_time": "2022-01-08T19:17:59.734Z"
   },
   {
    "duration": 21,
    "start_time": "2022-01-08T19:18:02.070Z"
   },
   {
    "duration": 26,
    "start_time": "2022-01-08T19:18:04.808Z"
   },
   {
    "duration": 23,
    "start_time": "2022-01-08T19:18:09.388Z"
   },
   {
    "duration": 18,
    "start_time": "2022-01-08T19:18:41.098Z"
   },
   {
    "duration": 19,
    "start_time": "2022-01-08T19:18:47.309Z"
   },
   {
    "duration": 24,
    "start_time": "2022-01-08T19:18:57.175Z"
   },
   {
    "duration": 19,
    "start_time": "2022-01-08T19:19:00.656Z"
   },
   {
    "duration": 12,
    "start_time": "2022-01-08T19:19:10.334Z"
   },
   {
    "duration": 159,
    "start_time": "2022-01-08T19:19:13.087Z"
   },
   {
    "duration": 17,
    "start_time": "2022-01-08T19:19:15.768Z"
   },
   {
    "duration": 202,
    "start_time": "2022-01-08T19:19:18.218Z"
   },
   {
    "duration": 15,
    "start_time": "2022-01-08T19:19:20.828Z"
   },
   {
    "duration": 161,
    "start_time": "2022-01-08T19:19:24.067Z"
   },
   {
    "duration": 18,
    "start_time": "2022-01-08T19:19:26.800Z"
   },
   {
    "duration": 225,
    "start_time": "2022-01-08T19:19:29.368Z"
   },
   {
    "duration": 14,
    "start_time": "2022-01-08T19:19:32.310Z"
   },
   {
    "duration": 192,
    "start_time": "2022-01-08T19:19:35.871Z"
   },
   {
    "duration": 1665,
    "start_time": "2022-01-08T19:19:38.647Z"
   },
   {
    "duration": 10,
    "start_time": "2022-01-08T19:19:49.373Z"
   },
   {
    "duration": 68,
    "start_time": "2022-01-08T19:20:38.322Z"
   },
   {
    "duration": 32,
    "start_time": "2022-01-08T19:20:45.675Z"
   },
   {
    "duration": 144,
    "start_time": "2022-01-08T19:20:56.962Z"
   },
   {
    "duration": 8378,
    "start_time": "2022-01-08T19:21:44.412Z"
   },
   {
    "duration": 386,
    "start_time": "2022-01-08T19:22:00.027Z"
   },
   {
    "duration": 267,
    "start_time": "2022-01-08T19:22:15.413Z"
   },
   {
    "duration": 16,
    "start_time": "2022-01-08T19:22:34.550Z"
   },
   {
    "duration": 21,
    "start_time": "2022-01-08T19:22:48.660Z"
   },
   {
    "duration": 14,
    "start_time": "2022-01-08T19:22:54.857Z"
   },
   {
    "duration": 4,
    "start_time": "2022-01-08T19:24:18.277Z"
   },
   {
    "duration": 15,
    "start_time": "2022-01-08T19:24:43.689Z"
   },
   {
    "duration": 2,
    "start_time": "2022-01-08T19:25:19.452Z"
   },
   {
    "duration": 9,
    "start_time": "2022-01-08T19:25:30.163Z"
   },
   {
    "duration": 3,
    "start_time": "2022-01-08T19:28:21.380Z"
   },
   {
    "duration": 5,
    "start_time": "2022-01-08T19:32:31.849Z"
   },
   {
    "duration": 346,
    "start_time": "2022-01-08T19:34:51.391Z"
   },
   {
    "duration": 3595,
    "start_time": "2022-01-08T19:35:08.183Z"
   },
   {
    "duration": 347,
    "start_time": "2022-01-08T19:36:29.739Z"
   },
   {
    "duration": 183,
    "start_time": "2022-01-08T19:39:03.621Z"
   },
   {
    "duration": 354,
    "start_time": "2022-01-08T19:39:49.714Z"
   },
   {
    "duration": 443,
    "start_time": "2022-01-08T19:39:56.580Z"
   },
   {
    "duration": 371,
    "start_time": "2022-01-08T19:40:57.391Z"
   },
   {
    "duration": 324,
    "start_time": "2022-01-08T19:41:22.320Z"
   },
   {
    "duration": 1851,
    "start_time": "2022-01-08T19:50:35.782Z"
   },
   {
    "duration": 1533,
    "start_time": "2022-01-11T02:01:49.536Z"
   },
   {
    "duration": 312,
    "start_time": "2022-01-11T02:01:51.071Z"
   },
   {
    "duration": 15,
    "start_time": "2022-01-11T02:01:51.387Z"
   },
   {
    "duration": 22,
    "start_time": "2022-01-11T02:01:51.405Z"
   },
   {
    "duration": 25,
    "start_time": "2022-01-11T02:01:51.429Z"
   },
   {
    "duration": 14,
    "start_time": "2022-01-11T02:01:51.456Z"
   },
   {
    "duration": 67,
    "start_time": "2022-01-11T02:01:51.472Z"
   },
   {
    "duration": 34,
    "start_time": "2022-01-11T02:01:51.542Z"
   },
   {
    "duration": 61,
    "start_time": "2022-01-11T02:01:51.579Z"
   },
   {
    "duration": 4,
    "start_time": "2022-01-11T02:01:51.643Z"
   },
   {
    "duration": 24,
    "start_time": "2022-01-11T02:01:51.649Z"
   },
   {
    "duration": 390,
    "start_time": "2022-01-11T02:01:51.675Z"
   },
   {
    "duration": 257,
    "start_time": "2022-01-11T02:01:52.067Z"
   },
   {
    "duration": 24,
    "start_time": "2022-01-11T02:01:52.326Z"
   },
   {
    "duration": 237,
    "start_time": "2022-01-11T02:01:52.352Z"
   },
   {
    "duration": 35,
    "start_time": "2022-01-11T02:01:52.592Z"
   },
   {
    "duration": 396,
    "start_time": "2022-01-11T02:01:52.629Z"
   },
   {
    "duration": 336,
    "start_time": "2022-01-11T02:01:53.028Z"
   },
   {
    "duration": 23,
    "start_time": "2022-01-11T02:01:53.367Z"
   },
   {
    "duration": 541,
    "start_time": "2022-01-11T02:01:53.393Z"
   },
   {
    "duration": 22,
    "start_time": "2022-01-11T02:01:53.936Z"
   },
   {
    "duration": 517,
    "start_time": "2022-01-11T02:01:53.960Z"
   },
   {
    "duration": 14,
    "start_time": "2022-01-11T02:01:54.481Z"
   },
   {
    "duration": 127,
    "start_time": "2022-01-11T02:01:54.498Z"
   },
   {
    "duration": 12,
    "start_time": "2022-01-11T02:01:54.627Z"
   },
   {
    "duration": 34,
    "start_time": "2022-01-11T02:01:54.641Z"
   },
   {
    "duration": 404,
    "start_time": "2022-01-11T02:01:54.677Z"
   },
   {
    "duration": 40,
    "start_time": "2022-01-11T02:01:55.083Z"
   },
   {
    "duration": 7,
    "start_time": "2022-01-11T02:01:55.125Z"
   },
   {
    "duration": 8,
    "start_time": "2022-01-11T02:01:55.135Z"
   },
   {
    "duration": 2827,
    "start_time": "2022-01-11T02:01:55.145Z"
   },
   {
    "duration": -94,
    "start_time": "2022-01-11T02:01:58.069Z"
   },
   {
    "duration": -98,
    "start_time": "2022-01-11T02:01:58.074Z"
   },
   {
    "duration": -100,
    "start_time": "2022-01-11T02:01:58.077Z"
   },
   {
    "duration": -101,
    "start_time": "2022-01-11T02:01:58.080Z"
   },
   {
    "duration": -103,
    "start_time": "2022-01-11T02:01:58.083Z"
   },
   {
    "duration": -106,
    "start_time": "2022-01-11T02:01:58.087Z"
   },
   {
    "duration": -108,
    "start_time": "2022-01-11T02:01:58.090Z"
   },
   {
    "duration": -110,
    "start_time": "2022-01-11T02:01:58.094Z"
   },
   {
    "duration": 130,
    "start_time": "2022-01-11T02:17:03.878Z"
   },
   {
    "duration": 64,
    "start_time": "2022-01-11T12:26:12.839Z"
   },
   {
    "duration": 431,
    "start_time": "2022-01-11T12:26:22.664Z"
   },
   {
    "duration": 1125,
    "start_time": "2022-01-11T12:26:31.882Z"
   },
   {
    "duration": 106,
    "start_time": "2022-01-11T12:26:56.708Z"
   },
   {
    "duration": 102,
    "start_time": "2022-01-11T12:33:35.859Z"
   },
   {
    "duration": 141,
    "start_time": "2022-01-11T12:36:18.121Z"
   },
   {
    "duration": 109,
    "start_time": "2022-01-11T12:38:09.060Z"
   },
   {
    "duration": 1123,
    "start_time": "2022-01-11T22:11:13.861Z"
   },
   {
    "duration": 1126,
    "start_time": "2022-01-11T22:12:22.714Z"
   },
   {
    "duration": 1954,
    "start_time": "2022-01-11T22:12:23.842Z"
   },
   {
    "duration": -398,
    "start_time": "2022-01-11T22:12:26.198Z"
   },
   {
    "duration": -414,
    "start_time": "2022-01-11T22:12:26.215Z"
   },
   {
    "duration": -423,
    "start_time": "2022-01-11T22:12:26.225Z"
   },
   {
    "duration": -437,
    "start_time": "2022-01-11T22:12:26.241Z"
   },
   {
    "duration": -448,
    "start_time": "2022-01-11T22:12:26.253Z"
   },
   {
    "duration": -451,
    "start_time": "2022-01-11T22:12:26.258Z"
   },
   {
    "duration": -466,
    "start_time": "2022-01-11T22:12:26.274Z"
   },
   {
    "duration": -468,
    "start_time": "2022-01-11T22:12:26.278Z"
   },
   {
    "duration": -481,
    "start_time": "2022-01-11T22:12:26.292Z"
   },
   {
    "duration": -489,
    "start_time": "2022-01-11T22:12:26.302Z"
   },
   {
    "duration": -493,
    "start_time": "2022-01-11T22:12:26.307Z"
   },
   {
    "duration": -494,
    "start_time": "2022-01-11T22:12:26.310Z"
   },
   {
    "duration": -505,
    "start_time": "2022-01-11T22:12:26.322Z"
   },
   {
    "duration": -508,
    "start_time": "2022-01-11T22:12:26.326Z"
   },
   {
    "duration": -512,
    "start_time": "2022-01-11T22:12:26.331Z"
   },
   {
    "duration": -516,
    "start_time": "2022-01-11T22:12:26.337Z"
   },
   {
    "duration": -519,
    "start_time": "2022-01-11T22:12:26.341Z"
   },
   {
    "duration": -521,
    "start_time": "2022-01-11T22:12:26.344Z"
   },
   {
    "duration": -526,
    "start_time": "2022-01-11T22:12:26.350Z"
   },
   {
    "duration": -530,
    "start_time": "2022-01-11T22:12:26.355Z"
   },
   {
    "duration": -534,
    "start_time": "2022-01-11T22:12:26.360Z"
   },
   {
    "duration": -538,
    "start_time": "2022-01-11T22:12:26.365Z"
   },
   {
    "duration": -540,
    "start_time": "2022-01-11T22:12:26.369Z"
   },
   {
    "duration": -543,
    "start_time": "2022-01-11T22:12:26.373Z"
   },
   {
    "duration": -546,
    "start_time": "2022-01-11T22:12:26.377Z"
   },
   {
    "duration": -550,
    "start_time": "2022-01-11T22:12:26.382Z"
   },
   {
    "duration": -552,
    "start_time": "2022-01-11T22:12:26.385Z"
   },
   {
    "duration": -554,
    "start_time": "2022-01-11T22:12:26.388Z"
   },
   {
    "duration": -556,
    "start_time": "2022-01-11T22:12:26.392Z"
   },
   {
    "duration": -567,
    "start_time": "2022-01-11T22:12:26.404Z"
   },
   {
    "duration": -516,
    "start_time": "2022-01-11T22:12:26.407Z"
   },
   {
    "duration": -517,
    "start_time": "2022-01-11T22:12:26.410Z"
   },
   {
    "duration": -521,
    "start_time": "2022-01-11T22:12:26.415Z"
   },
   {
    "duration": -523,
    "start_time": "2022-01-11T22:12:26.418Z"
   },
   {
    "duration": -535,
    "start_time": "2022-01-11T22:12:26.431Z"
   },
   {
    "duration": -536,
    "start_time": "2022-01-11T22:12:26.434Z"
   },
   {
    "duration": -540,
    "start_time": "2022-01-11T22:12:26.439Z"
   },
   {
    "duration": 4,
    "start_time": "2022-01-11T22:13:42.176Z"
   },
   {
    "duration": 59,
    "start_time": "2022-01-11T22:13:42.182Z"
   },
   {
    "duration": 10,
    "start_time": "2022-01-11T22:13:42.243Z"
   },
   {
    "duration": 9,
    "start_time": "2022-01-11T22:13:42.254Z"
   },
   {
    "duration": 35,
    "start_time": "2022-01-11T22:13:42.265Z"
   },
   {
    "duration": 9,
    "start_time": "2022-01-11T22:13:42.302Z"
   },
   {
    "duration": 25,
    "start_time": "2022-01-11T22:13:42.313Z"
   },
   {
    "duration": 52,
    "start_time": "2022-01-11T22:13:42.340Z"
   },
   {
    "duration": 31,
    "start_time": "2022-01-11T22:13:42.394Z"
   },
   {
    "duration": 3,
    "start_time": "2022-01-11T22:13:42.426Z"
   },
   {
    "duration": 16,
    "start_time": "2022-01-11T22:13:42.431Z"
   },
   {
    "duration": 289,
    "start_time": "2022-01-11T22:13:42.449Z"
   },
   {
    "duration": 181,
    "start_time": "2022-01-11T22:13:42.739Z"
   },
   {
    "duration": 20,
    "start_time": "2022-01-11T22:13:42.921Z"
   },
   {
    "duration": 172,
    "start_time": "2022-01-11T22:13:42.942Z"
   },
   {
    "duration": 16,
    "start_time": "2022-01-11T22:13:43.116Z"
   },
   {
    "duration": 271,
    "start_time": "2022-01-11T22:13:43.134Z"
   },
   {
    "duration": 247,
    "start_time": "2022-01-11T22:13:43.407Z"
   },
   {
    "duration": 15,
    "start_time": "2022-01-11T22:13:43.657Z"
   },
   {
    "duration": 422,
    "start_time": "2022-01-11T22:13:43.674Z"
   },
   {
    "duration": 14,
    "start_time": "2022-01-11T22:13:44.098Z"
   },
   {
    "duration": 280,
    "start_time": "2022-01-11T22:13:44.113Z"
   },
   {
    "duration": 9,
    "start_time": "2022-01-11T22:13:44.395Z"
   },
   {
    "duration": 85,
    "start_time": "2022-01-11T22:13:44.406Z"
   },
   {
    "duration": 8,
    "start_time": "2022-01-11T22:13:44.493Z"
   },
   {
    "duration": 24,
    "start_time": "2022-01-11T22:13:44.503Z"
   },
   {
    "duration": 298,
    "start_time": "2022-01-11T22:13:44.529Z"
   },
   {
    "duration": 19,
    "start_time": "2022-01-11T22:13:44.829Z"
   },
   {
    "duration": 6,
    "start_time": "2022-01-11T22:13:44.850Z"
   },
   {
    "duration": 6,
    "start_time": "2022-01-11T22:13:44.858Z"
   },
   {
    "duration": 956,
    "start_time": "2022-01-11T22:13:44.866Z"
   },
   {
    "duration": 293,
    "start_time": "2022-01-11T22:13:45.824Z"
   },
   {
    "duration": 19,
    "start_time": "2022-01-11T22:13:46.119Z"
   },
   {
    "duration": 17,
    "start_time": "2022-01-11T22:13:46.140Z"
   },
   {
    "duration": 3,
    "start_time": "2022-01-11T22:13:46.158Z"
   },
   {
    "duration": 1012,
    "start_time": "2022-01-11T22:13:46.163Z"
   },
   {
    "duration": 278,
    "start_time": "2022-01-11T22:13:47.177Z"
   },
   {
    "duration": 16,
    "start_time": "2022-01-11T22:13:47.457Z"
   },
   {
    "duration": 297,
    "start_time": "2022-01-11T22:13:47.475Z"
   },
   {
    "duration": 17,
    "start_time": "2022-01-11T22:15:51.823Z"
   },
   {
    "duration": 3,
    "start_time": "2022-01-11T22:19:28.518Z"
   },
   {
    "duration": 58,
    "start_time": "2022-01-11T22:19:28.524Z"
   },
   {
    "duration": 8,
    "start_time": "2022-01-11T22:19:28.584Z"
   },
   {
    "duration": 9,
    "start_time": "2022-01-11T22:19:28.594Z"
   },
   {
    "duration": 15,
    "start_time": "2022-01-11T22:19:28.605Z"
   },
   {
    "duration": 7,
    "start_time": "2022-01-11T22:19:28.622Z"
   },
   {
    "duration": 60,
    "start_time": "2022-01-11T22:19:28.632Z"
   },
   {
    "duration": 25,
    "start_time": "2022-01-11T22:19:28.695Z"
   },
   {
    "duration": 30,
    "start_time": "2022-01-11T22:19:28.722Z"
   },
   {
    "duration": 3,
    "start_time": "2022-01-11T22:19:28.753Z"
   },
   {
    "duration": 44,
    "start_time": "2022-01-11T22:19:28.757Z"
   },
   {
    "duration": 270,
    "start_time": "2022-01-11T22:19:28.803Z"
   },
   {
    "duration": 181,
    "start_time": "2022-01-11T22:19:29.075Z"
   },
   {
    "duration": 19,
    "start_time": "2022-01-11T22:19:29.258Z"
   },
   {
    "duration": 172,
    "start_time": "2022-01-11T22:19:29.279Z"
   },
   {
    "duration": 17,
    "start_time": "2022-01-11T22:19:29.453Z"
   },
   {
    "duration": 284,
    "start_time": "2022-01-11T22:19:29.471Z"
   },
   {
    "duration": 267,
    "start_time": "2022-01-11T22:19:29.757Z"
   },
   {
    "duration": 16,
    "start_time": "2022-01-11T22:19:30.027Z"
   },
   {
    "duration": 452,
    "start_time": "2022-01-11T22:19:30.045Z"
   },
   {
    "duration": 14,
    "start_time": "2022-01-11T22:19:30.499Z"
   },
   {
    "duration": 280,
    "start_time": "2022-01-11T22:19:30.514Z"
   },
   {
    "duration": 9,
    "start_time": "2022-01-11T22:19:30.796Z"
   },
   {
    "duration": 91,
    "start_time": "2022-01-11T22:19:30.807Z"
   },
   {
    "duration": 8,
    "start_time": "2022-01-11T22:19:30.900Z"
   },
   {
    "duration": 24,
    "start_time": "2022-01-11T22:19:30.910Z"
   },
   {
    "duration": 312,
    "start_time": "2022-01-11T22:19:30.936Z"
   },
   {
    "duration": 20,
    "start_time": "2022-01-11T22:19:31.250Z"
   },
   {
    "duration": 20,
    "start_time": "2022-01-11T22:19:31.271Z"
   },
   {
    "duration": 11,
    "start_time": "2022-01-11T22:19:31.293Z"
   },
   {
    "duration": 1019,
    "start_time": "2022-01-11T22:19:31.306Z"
   },
   {
    "duration": 294,
    "start_time": "2022-01-11T22:19:32.328Z"
   },
   {
    "duration": 21,
    "start_time": "2022-01-11T22:19:32.624Z"
   },
   {
    "duration": 18,
    "start_time": "2022-01-11T22:19:32.647Z"
   },
   {
    "duration": 2,
    "start_time": "2022-01-11T22:19:32.667Z"
   },
   {
    "duration": 787,
    "start_time": "2022-01-11T22:19:32.692Z"
   },
   {
    "duration": 285,
    "start_time": "2022-01-11T22:19:33.481Z"
   },
   {
    "duration": 24,
    "start_time": "2022-01-11T22:19:33.767Z"
   },
   {
    "duration": 287,
    "start_time": "2022-01-11T22:19:33.793Z"
   },
   {
    "duration": 1577,
    "start_time": "2022-01-12T01:38:15.791Z"
   },
   {
    "duration": 84,
    "start_time": "2022-01-12T01:38:17.371Z"
   },
   {
    "duration": 23,
    "start_time": "2022-01-12T01:38:17.459Z"
   },
   {
    "duration": 17,
    "start_time": "2022-01-12T01:38:17.485Z"
   },
   {
    "duration": 23,
    "start_time": "2022-01-12T01:38:17.505Z"
   },
   {
    "duration": 43,
    "start_time": "2022-01-12T01:38:17.531Z"
   },
   {
    "duration": 41,
    "start_time": "2022-01-12T01:38:17.577Z"
   },
   {
    "duration": 76,
    "start_time": "2022-01-12T01:38:17.622Z"
   },
   {
    "duration": 45,
    "start_time": "2022-01-12T01:38:17.701Z"
   },
   {
    "duration": 22,
    "start_time": "2022-01-12T01:38:17.749Z"
   },
   {
    "duration": 23,
    "start_time": "2022-01-12T01:38:17.775Z"
   },
   {
    "duration": 455,
    "start_time": "2022-01-12T01:38:17.801Z"
   },
   {
    "duration": 281,
    "start_time": "2022-01-12T01:38:18.263Z"
   },
   {
    "duration": 48,
    "start_time": "2022-01-12T01:38:18.547Z"
   },
   {
    "duration": 258,
    "start_time": "2022-01-12T01:38:18.598Z"
   },
   {
    "duration": 29,
    "start_time": "2022-01-12T01:38:18.858Z"
   },
   {
    "duration": 460,
    "start_time": "2022-01-12T01:38:18.890Z"
   },
   {
    "duration": 382,
    "start_time": "2022-01-12T01:38:19.352Z"
   },
   {
    "duration": 44,
    "start_time": "2022-01-12T01:38:19.736Z"
   },
   {
    "duration": 532,
    "start_time": "2022-01-12T01:38:19.782Z"
   },
   {
    "duration": 21,
    "start_time": "2022-01-12T01:38:20.316Z"
   },
   {
    "duration": 450,
    "start_time": "2022-01-12T01:38:20.340Z"
   },
   {
    "duration": 16,
    "start_time": "2022-01-12T01:38:20.795Z"
   },
   {
    "duration": 137,
    "start_time": "2022-01-12T01:38:20.814Z"
   },
   {
    "duration": 21,
    "start_time": "2022-01-12T01:38:20.953Z"
   },
   {
    "duration": 36,
    "start_time": "2022-01-12T01:38:20.976Z"
   },
   {
    "duration": 480,
    "start_time": "2022-01-12T01:38:21.015Z"
   },
   {
    "duration": 28,
    "start_time": "2022-01-12T01:38:21.498Z"
   },
   {
    "duration": 8,
    "start_time": "2022-01-12T01:38:21.528Z"
   },
   {
    "duration": 26,
    "start_time": "2022-01-12T01:38:21.538Z"
   },
   {
    "duration": 1433,
    "start_time": "2022-01-12T01:38:21.567Z"
   },
   {
    "duration": 484,
    "start_time": "2022-01-12T01:38:23.003Z"
   },
   {
    "duration": 30,
    "start_time": "2022-01-12T01:38:23.489Z"
   },
   {
    "duration": 59,
    "start_time": "2022-01-12T01:38:23.521Z"
   },
   {
    "duration": 3,
    "start_time": "2022-01-12T01:38:23.583Z"
   },
   {
    "duration": 1168,
    "start_time": "2022-01-12T01:38:23.589Z"
   },
   {
    "duration": 446,
    "start_time": "2022-01-12T01:38:24.759Z"
   },
   {
    "duration": 21,
    "start_time": "2022-01-12T01:38:25.208Z"
   },
   {
    "duration": 477,
    "start_time": "2022-01-12T01:38:25.232Z"
   },
   {
    "duration": 95,
    "start_time": "2022-01-12T01:43:56.400Z"
   }
  ],
  "kernelspec": {
   "display_name": "Python 3 (ipykernel)",
   "language": "python",
   "name": "python3"
  },
  "language_info": {
   "codemirror_mode": {
    "name": "ipython",
    "version": 3
   },
   "file_extension": ".py",
   "mimetype": "text/x-python",
   "name": "python",
   "nbconvert_exporter": "python",
   "pygments_lexer": "ipython3",
   "version": "3.9.7"
  },
  "toc": {
   "base_numbering": 1,
   "nav_menu": {},
   "number_sections": true,
   "sideBar": true,
   "skip_h1_title": true,
   "title_cell": "Table of Contents",
   "title_sidebar": "Contents",
   "toc_cell": false,
   "toc_position": {},
   "toc_section_display": true,
   "toc_window_display": true
  }
 },
 "nbformat": 4,
 "nbformat_minor": 2
}
